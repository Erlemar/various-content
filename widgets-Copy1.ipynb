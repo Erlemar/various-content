{
 "cells": [
  {
   "cell_type": "markdown",
   "metadata": {},
   "source": [
    "# Использование ipywidgets в jupyter notebook\n",
    "\n",
    "Виджеты в jupyter notebook - это по сути добавление к интерфейсу тетрадок. Они привносят интерактив, могут использоваться для хранения и передачи информации. С их помощью можно превратить тетрадку в нечто понятное простому пользователю и использовать как dashboard или простой аналитический инструмент.\n",
    "\n",
    "Вот что вы увидите:\n",
    "\n",
    "* как установить нужные библиотеки;\n",
    "* как использовать виджеты;\n",
    "* основные виды виджетов;\n",
    "* как можно объединять виджеты и для чего они могут использоваться;\n",
    "* пример того, как можно сделать виджеты, позволяющие простому человеку с помощью элементов интерейса проанализировать данные, построить визуализацию и попробовать машинное обучение;\n",
    "* небольшой бонус с рассказом о расширенных возможностях tqdm;"
   ]
  },
  {
   "cell_type": "markdown",
   "metadata": {},
   "source": [
    "## Установка\n",
    "\n",
    "Установка сама по себе не является сложной: это можно сделать через pip:\n",
    "\n",
    "```python\n",
    "pip install ipywidgets\n",
    "jupyter nbextension enable --py widgetsnbextension\n",
    "```\n",
    "\n",
    "Или через Anaconda:\n",
    "\n",
    "```python\n",
    "conda install -c conda-forge ipywidgets\n",
    "```\n",
    "\n",
    "Стоит также установить widgetsnbextension.\n",
    "\n",
    "Проблема бывает с тем, что виджеты перестают работать. Обычно помогает установка последних версий. Причём обновление через Anacona Navigator может не помочь, поскольку при установке мог использоваться канал, в котором нет последней версии. Так что при возникновении проблем стоит сразу проверить это."
   ]
  },
  {
   "cell_type": "code",
   "execution_count": 3,
   "metadata": {
    "collapsed": true
   },
   "outputs": [],
   "source": [
    "#Импорт библиотек\n",
    "from ipywidgets import interact, interactive, fixed, interact_manual\n",
    "import ipywidgets as widgets\n",
    "\n",
    "import time\n",
    "import numpy as np\n",
    "import pandas as pd\n",
    "import seaborn as sns\n",
    "import matplotlib.pyplot as plt\n",
    "\n",
    "%matplotlib inline\n",
    "\n",
    "from IPython.display import display\n",
    "from IPython.display import clear_output"
   ]
  },
  {
   "cell_type": "markdown",
   "metadata": {},
   "source": [
    "## Основные способы использования виджетов"
   ]
  },
  {
   "cell_type": "markdown",
   "metadata": {},
   "source": [
    "Во-первых, можно просто отобразить виджет сам по себе."
   ]
  },
  {
   "cell_type": "code",
   "execution_count": 4,
   "metadata": {},
   "outputs": [
    {
     "data": {
      "application/vnd.jupyter.widget-view+json": {
       "model_id": "c8e0832f51eb40f79365c40f58c32b3b"
      }
     },
     "metadata": {},
     "output_type": "display_data"
    }
   ],
   "source": [
    "widgets.IntSlider()"
   ]
  },
  {
   "cell_type": "markdown",
   "metadata": {},
   "source": [
    "Но это просто создаёт слайдер, с которым можно поиграться, а пользы от него нет. Следующим шагом является создание переменной с виджетом"
   ]
  },
  {
   "cell_type": "code",
   "execution_count": 5,
   "metadata": {
    "scrolled": true
   },
   "outputs": [
    {
     "data": {
      "application/vnd.jupyter.widget-view+json": {
       "model_id": "8d6f732532ab4977a9cdbda81f12bf92"
      }
     },
     "metadata": {},
     "output_type": "display_data"
    }
   ],
   "source": [
    "w = widgets.IntSlider()\n",
    "w"
   ]
  },
  {
   "cell_type": "markdown",
   "metadata": {},
   "source": [
    "И теперь мы можем получить значение виджета и использовать для чего-нибудь."
   ]
  },
  {
   "cell_type": "code",
   "execution_count": 6,
   "metadata": {},
   "outputs": [
    {
     "name": "stdout",
     "output_type": "stream",
     "text": [
      "0 0\n"
     ]
    }
   ],
   "source": [
    "print(w.value, w.value ** 2)"
   ]
  },
  {
   "cell_type": "markdown",
   "metadata": {},
   "source": [
    "Другой вариант - отображение виджета с помощью функции IPython display, но это работает точно также как и сам вызов переменной."
   ]
  },
  {
   "cell_type": "code",
   "execution_count": 7,
   "metadata": {},
   "outputs": [
    {
     "data": {
      "application/vnd.jupyter.widget-view+json": {
       "model_id": "8d6f732532ab4977a9cdbda81f12bf92"
      }
     },
     "metadata": {},
     "output_type": "display_data"
    }
   ],
   "source": [
    "display(w)"
   ]
  },
  {
   "cell_type": "markdown",
   "metadata": {},
   "source": [
    "Вы передвигали слайдер в прошлой ячейке? Если нет - попробуйте. Можно заметить, что слайдер двигается в обеих ячейках, где была использована переменная w. Это нормальное поведение - у нас есть лишь один объект на back-end, так что получаются синхронизированные объекты на front-end.\n",
    "\n",
    "После того как в виджете было установлено некое значение, виджет можно закрыть командой `w.close()`."
   ]
  },
  {
   "cell_type": "markdown",
   "metadata": {},
   "source": [
    "Пока мы видели простые виджеты, значения которых можно было использовать в дальнейшем. Если же хочется, чтобы с выбранным значением что-то произошло сразу, стоит использовать `interact`. `interact` позволяет вызывать функцию, в которую передаётся значение виджета. При изменении значения виджета функция будет динамически показывать обновлённый результат."
   ]
  },
  {
   "cell_type": "code",
   "execution_count": 8,
   "metadata": {
    "collapsed": true
   },
   "outputs": [],
   "source": [
    "def f(x):\n",
    "    return x, str(x) * 2"
   ]
  },
  {
   "cell_type": "code",
   "execution_count": 9,
   "metadata": {
    "scrolled": true
   },
   "outputs": [
    {
     "data": {
      "application/vnd.jupyter.widget-view+json": {
       "model_id": "9caddc2c043040c9b4f85ab6d43d117e"
      }
     },
     "metadata": {},
     "output_type": "display_data"
    }
   ],
   "source": [
    "interact(f, x=10);"
   ]
  },
  {
   "cell_type": "markdown",
   "metadata": {},
   "source": [
    "Замечу, что в `interact` обязательно передавать начальное значение, поскольку это напрямую определяет тип виджета. Если передать int или float, то будет слайдер с соответствующими данными.\n",
    "\n",
    "Кроме того можно передать:\n",
    "\n",
    "* текст для получения поля ввода текста;\n",
    "* список/словарь значений для выпадающего списка;\n",
    "* булевое значение для чекбокса"
   ]
  },
  {
   "cell_type": "code",
   "execution_count": 10,
   "metadata": {},
   "outputs": [
    {
     "data": {
      "application/vnd.jupyter.widget-view+json": {
       "model_id": "72044de4eb6c40028971be9c55310e43"
      }
     },
     "metadata": {},
     "output_type": "display_data"
    },
    {
     "data": {
      "application/vnd.jupyter.widget-view+json": {
       "model_id": "fe040b459b4948678513a0c3d46af7fc"
      }
     },
     "metadata": {},
     "output_type": "display_data"
    },
    {
     "data": {
      "application/vnd.jupyter.widget-view+json": {
       "model_id": "b4a196322eae40d3adad9a2c5878cf7a"
      }
     },
     "metadata": {},
     "output_type": "display_data"
    }
   ],
   "source": [
    "interact(f, x='Текст');\n",
    "interact(f, x=['лопата', 'солнце']);\n",
    "interact(f, x=True);"
   ]
  },
  {
   "cell_type": "markdown",
   "metadata": {},
   "source": [
    "Кому-то может быть интересна возможность использовать `interact` в качестве декоратора. В таком случае функцию можно не передавать в `interact`."
   ]
  },
  {
   "cell_type": "code",
   "execution_count": 11,
   "metadata": {},
   "outputs": [
    {
     "data": {
      "application/vnd.jupyter.widget-view+json": {
       "model_id": "38b8fcf8b80147b89d5a474c1fe40a7a"
      }
     },
     "metadata": {},
     "output_type": "display_data"
    }
   ],
   "source": [
    "@interact(x=1.0)\n",
    "def g(x):\n",
    "    return x"
   ]
  },
  {
   "cell_type": "markdown",
   "metadata": {},
   "source": [
    "Наконец, есть такая интересная штука как `interactive`. По сути это является комбинацией двух предыдущих спообов: мы задаем функцию, а потом можем использовать как сами результаты, так и значения отдельных виджетов.\n",
    "\n",
    "По умолчанию `interactive` показывает только сами виджеты, но не результат функции. Чтобы увидеть результат, надо явно его отображать.\n",
    "\n",
    "Замечу, что можно использовать больше одной переменной и получить больше одного виджета."
   ]
  },
  {
   "cell_type": "code",
   "execution_count": 12,
   "metadata": {
    "collapsed": true
   },
   "outputs": [],
   "source": [
    "def f(x, y, z):\n",
    "    if z == 'Сумма':\n",
    "        display(x + y)\n",
    "        return x + y\n",
    "    else:\n",
    "        display(x * y)\n",
    "        return x * y"
   ]
  },
  {
   "cell_type": "code",
   "execution_count": 13,
   "metadata": {
    "collapsed": true
   },
   "outputs": [],
   "source": [
    "w = interactive(f, x=1, y=2.5, z=['Сумма', 'Произведение'])"
   ]
  },
  {
   "cell_type": "code",
   "execution_count": 14,
   "metadata": {},
   "outputs": [
    {
     "data": {
      "application/vnd.jupyter.widget-view+json": {
       "model_id": "4a19863a9c69471ab6cc4533bbc175ed"
      }
     },
     "metadata": {},
     "output_type": "display_data"
    }
   ],
   "source": [
    "w"
   ]
  },
  {
   "cell_type": "code",
   "execution_count": 15,
   "metadata": {},
   "outputs": [
    {
     "name": "stdout",
     "output_type": "stream",
     "text": [
      "{'x': 1, 'y': 2.5, 'z': 'Сумма'}\n",
      "3.5\n"
     ]
    }
   ],
   "source": [
    "print(w.kwargs)\n",
    "print(w.result)"
   ]
  },
  {
   "cell_type": "markdown",
   "metadata": {},
   "source": [
    "## Применение виджетов\n",
    "\n",
    "До сих пор я показывал отдельные виджеты и простые примеры их использования, но с ними можно делать много интересных вещей. Просто перечислять их - довольно нудно, поэтому я буду приводить примеры и на их основе объяснять возможности виджетов."
   ]
  },
  {
   "cell_type": "markdown",
   "metadata": {},
   "source": [
    "### Динамически изменяющиеся графики\n",
    "\n",
    "Мы уже видели, что в `interact` можно передавать функцию, результат которой будет обновляться при изменении параметров. Интереснее посмотреть это на примере построения графиков. Я хочу сделать график, который будет зависеть от задаваемого параметра, а также предложить возможность выбирать цвет графика."
   ]
  },
  {
   "cell_type": "markdown",
   "metadata": {},
   "source": [
    "Для начала нужно создать виджет для выбора цвета. Вообще говоря виджет можно передавать в функцию как значение параметра, но это громоздко, поэтому удобнее создать виджет, а потом передавать его в виде переменной.\n",
    "\n",
    "Виджет имеет следующие параметры:\n",
    "* concise - не показывает название выбранного цвета, если True;\n",
    "* description - описание, этот параметр есть у всех виджетов;\n",
    "* value - значение по умолчанию, опять же есть почти у всех виджетов;\n",
    "* disabled - возможность изменения значения виджета;"
   ]
  },
  {
   "cell_type": "code",
   "execution_count": 16,
   "metadata": {
    "collapsed": true
   },
   "outputs": [],
   "source": [
    "pick_color = widgets.ColorPicker(\n",
    "    concise=False,\n",
    "    description='Цвет линии:',\n",
    "    value='teal',\n",
    "    disabled=False\n",
    ")"
   ]
  },
  {
   "cell_type": "markdown",
   "metadata": {},
   "source": [
    "Теперь сам интерактивный виджет. Функция для построения графика будет иметь 2 параметра:\n",
    "* n - просто некий параметр, который будет изменять функцию;\n",
    "* c - цвет линии;\n",
    "\n",
    "Далее использую `interact`:\n",
    "* для n я передаю список значений, которые можно выбрать. В функции значение по умолчанию 3, именно оно будет выбрано по умолчанию;\n",
    "* для цвета значением будет переменная с виджетом для выбора цвета. Цвет можно выбирать через диалоговое окошко или напрямую вводить название или код в поле. Стоит заметить, что значением по умолчанию является не orange, а teal, поскольку значение в виджете имеет более высокий приоритет;"
   ]
  },
  {
   "cell_type": "code",
   "execution_count": 17,
   "metadata": {},
   "outputs": [
    {
     "data": {
      "application/vnd.jupyter.widget-view+json": {
       "model_id": "27c37d519e92495ba79dc7add0c6fdb5"
      }
     },
     "metadata": {},
     "output_type": "display_data"
    }
   ],
   "source": [
    "def h(n=3, c='orange'):\n",
    "    x = np.linspace(0, 5, 10)\n",
    "    plt.plot(x, x ** (n / (x + 1)) + x ** (x / n) / (n ** 2) + (n - x) ** 2 - x * np.log(n) + n * np.exp(x / n),  color=c)\n",
    "    plt.show()\n",
    "\n",
    "interact(h, n=[i for i in range(2, 6)], c=pick_color);"
   ]
  },
  {
   "cell_type": "markdown",
   "metadata": {},
   "source": [
    "### Действие при нажатии на кнопку\n",
    "\n",
    "Виджеты позволяют делать вызов функции после определённых событий:\n",
    "\n",
    "* При нажатии на кнопку;\n",
    "* При завершении ввода текста;\n",
    "* По мере изменения значения (обычно используется для слайдеров);\n",
    "\n",
    "Кроме того можно связать виджеты - чтобы при изменении значения одного виджета изменялось значение другого виджета.\n",
    "\n",
    "Рассмотрим пример: пользователь задаёт длины сторон прямоугольника и хочет узнать его площадь. Для начала я задаю 2 виджета с соответсвующими названиями. Далее ограничения значений можно задать минимальное и максимальное значение, а также шаг, с которым будут изменяться значения."
   ]
  },
  {
   "cell_type": "code",
   "execution_count": 18,
   "metadata": {
    "collapsed": true
   },
   "outputs": [],
   "source": [
    "x = widgets.IntSlider(min=2, max=40.0, step=2, description='Высота')\n",
    "y = widgets.FloatSlider(min=2, max=80.0, step=0.5, description='Ширина', value=5.0)"
   ]
  },
  {
   "cell_type": "markdown",
   "metadata": {},
   "source": [
    "Добавим ограничение - высота прямоугольника не может быть больше его ширины. Для этого используется `observe` - при каждом изменении объекта мгновенно вызывается функция. А в функции мы будет приравнивать максимальное значение виджета x к текущему значению виджета y."
   ]
  },
  {
   "cell_type": "code",
   "execution_count": 19,
   "metadata": {
    "collapsed": true
   },
   "outputs": [],
   "source": [
    "def update_x_range(*args):\n",
    "    x.max = y.value\n",
    "    \n",
    "y.observe(update_x_range, 'value')"
   ]
  },
  {
   "cell_type": "markdown",
   "metadata": {},
   "source": [
    "Теперь добавим кнопку, при нажатии на которую будет происходить вычисление. Для этого создаём соответствующий объект с подходящим названием. И здесь в первый раз используется настройка внешнего вида виджетов. layout позволяет настраивать css объектов. Большинство параметров взять из самого CSS, но есть и различия, почитать подробнее можно [тут](#http://ipywidgets.readthedocs.io/en/stable/examples/Widget%20Styling.html). В данном случае я просто задаю ширину кнопки.\n",
    "\n",
    "При нажатии на кнопку будет показана площадь прямоугольника, кнопка и слайдеры станут неактивными."
   ]
  },
  {
   "cell_type": "code",
   "execution_count": 20,
   "metadata": {
    "collapsed": true
   },
   "outputs": [],
   "source": [
    "button1 = widgets.Button(description=\"Нажмите, чтобы посчитать площадь прямоугольника!\", layout=widgets.Layout(width='40%'))\n",
    "\n",
    "def on_button_clicked(b):\n",
    "    print('Площадь прямоугольника: {}.'.format(x.value * y.value))\n",
    "    button1.disabled = True\n",
    "    x.disabled = True\n",
    "    y.disabled = True"
   ]
  },
  {
   "cell_type": "code",
   "execution_count": 21,
   "metadata": {},
   "outputs": [
    {
     "data": {
      "application/vnd.jupyter.widget-view+json": {
       "model_id": "75caa930348340448efc139fb44f1eed"
      }
     },
     "metadata": {},
     "output_type": "display_data"
    },
    {
     "data": {
      "application/vnd.jupyter.widget-view+json": {
       "model_id": "50b6d7a5fabf4cf0b0d3f00f73cf6c8a"
      }
     },
     "metadata": {},
     "output_type": "display_data"
    }
   ],
   "source": [
    "def stat(x, y):\n",
    "    print('Высота: {0}. Ширина: {1}.'.format(x, y))\n",
    "    \n",
    "interact(stat, x=x, y=y);\n",
    "display(button1)\n",
    "button1.on_click(on_button_clicked)"
   ]
  },
  {
   "cell_type": "markdown",
   "metadata": {},
   "source": [
    "Для полноты картины добавлю ещё одну кнопку, которая откроет данные для ввода, чтобы можно было ещё раз посчитать площать прямоугольника."
   ]
  },
  {
   "cell_type": "code",
   "execution_count": 22,
   "metadata": {},
   "outputs": [
    {
     "data": {
      "application/vnd.jupyter.widget-view+json": {
       "model_id": "3d4af9c4d34e4b9bac34136236bfe513"
      }
     },
     "metadata": {},
     "output_type": "display_data"
    }
   ],
   "source": [
    "button2 = widgets.Button(description=\"Использовать другие данные\", layout=widgets.Layout(width='40%'))\n",
    "\n",
    "def on_button_clicked2(b):\n",
    "    button1.disabled = False\n",
    "    x.disabled = False\n",
    "    y.disabled = False\n",
    "    \n",
    "display(button2)\n",
    "button2.on_click(on_button_clicked2)"
   ]
  },
  {
   "cell_type": "markdown",
   "metadata": {},
   "source": [
    "### Имитация оформления заказа на товар\n",
    "\n",
    "На основе игрушечного примера о заказе компьютера я продемонстрирую большое количество разнообразных виджетов и то, как они могут быть использованы."
   ]
  },
  {
   "cell_type": "markdown",
   "metadata": {},
   "source": [
    "Для начала мы предлагаем пользователю выбрать интересующий его товар. Этот виджет позволяет выбрать одно значение из списка."
   ]
  },
  {
   "cell_type": "code",
   "execution_count": 23,
   "metadata": {},
   "outputs": [
    {
     "name": "stdout",
     "output_type": "stream",
     "text": [
      "Выбор товара:\n"
     ]
    },
    {
     "data": {
      "application/vnd.jupyter.widget-view+json": {
       "model_id": "6118b3f8d7ac411bb7bba23b4fe42dfe"
      }
     },
     "metadata": {},
     "output_type": "display_data"
    }
   ],
   "source": [
    "print('Выбор товара:')\n",
    "pc_type = widgets.Select(\n",
    "    options=['Компьютер', 'Планшет', 'Ноутбук'],\n",
    "    value='Компьютер',\n",
    "    description='Товар:'\n",
    ")\n",
    "pc_type"
   ]
  },
  {
   "cell_type": "markdown",
   "metadata": {},
   "source": [
    "Теперь предложим указать количество товара. `jslink` позволяет связать 2 виджета, для этого у них либо должны быть сравнимые значения (например числа), либо должно быть задано соответствие (например, при положительных значениях получается один текст, при неотрицательных - другой).\n",
    "\n",
    "Также здесь используется новый виджет - BoundedIntText. Это поле для ввода integer, для которого можно задать минимальные и максимальные значения."
   ]
  },
  {
   "cell_type": "code",
   "execution_count": 24,
   "metadata": {},
   "outputs": [
    {
     "name": "stdout",
     "output_type": "stream",
     "text": [
      "Укажите количество - введите число или выберите нужное значение\n"
     ]
    },
    {
     "data": {
      "application/vnd.jupyter.widget-view+json": {
       "model_id": "0784c350e9ec48789f8e3ab6264ecb08"
      }
     },
     "metadata": {},
     "output_type": "display_data"
    },
    {
     "data": {
      "application/vnd.jupyter.widget-view+json": {
       "model_id": "44fa9840ead04323b9af6084887fb04f"
      }
     },
     "metadata": {},
     "output_type": "display_data"
    }
   ],
   "source": [
    "a = widgets.BoundedIntText(min=1, max=5)\n",
    "b = widgets.IntSlider(min=1, max=5)\n",
    "print('Укажите количество - введите число или выберите нужное значение')\n",
    "display(a, b)\n",
    "mylink = widgets.jslink((a, 'value'), (b, 'value'))"
   ]
  },
  {
   "cell_type": "markdown",
   "metadata": {},
   "source": [
    "В качестве шутки предложим выбрать мощность покупаемой техники. Для этого используется виджет-слайдер для которого можно добавить ранжированный список текстовых значений."
   ]
  },
  {
   "cell_type": "code",
   "execution_count": 25,
   "metadata": {},
   "outputs": [
    {
     "data": {
      "application/vnd.jupyter.widget-view+json": {
       "model_id": "24655af33c0241fbb4e741367019064e"
      }
     },
     "metadata": {},
     "output_type": "display_data"
    }
   ],
   "source": [
    "power = widgets.SelectionSlider(\n",
    "    options=['слабый', 'хороший', 'мощный', 'deep learning'],\n",
    "    value='хороший',\n",
    "    description='Мощность:',\n",
    "    disabled=False,\n",
    "    continuous_update=False,\n",
    "    orientation='horizontal',\n",
    "    readout=True, layout=widgets.Layout(width='40%')\n",
    ")\n",
    "power"
   ]
  },
  {
   "cell_type": "markdown",
   "metadata": {},
   "source": [
    "А теперь подарим клиенту бонус. Это виджет для множественного выбора с помощью клавиш Ctrl/Shift."
   ]
  },
  {
   "cell_type": "code",
   "execution_count": 26,
   "metadata": {},
   "outputs": [
    {
     "data": {
      "application/vnd.jupyter.widget-view+json": {
       "model_id": "e08d55c3965e40a19a1d44cbd3977b67"
      }
     },
     "metadata": {},
     "output_type": "display_data"
    }
   ],
   "source": [
    "sel_mult = widgets.SelectMultiple(\n",
    "    options=['Ручка', 'Стикер', 'Скидка'],\n",
    "    value=['Стикер'],\n",
    "    #rows=10,\n",
    "    description='Бонусы',\n",
    "    disabled=False\n",
    ")\n",
    "sel_mult"
   ]
  },
  {
   "cell_type": "markdown",
   "metadata": {},
   "source": [
    "Заказ укомплектован, теперь пора обговорить условия доставки. Первое - как будет доставлен товар. RadioButtons как и Select дают возможность выбора одной опции.\n",
    "\n",
    "А теперь познакомимся с такой удобной штукой как HBox. Он позволяет делать более гибкую настройку отображения виджетов и их описания. Например, ширина описания виджетов ограничена, использовать Box изменения ширины довольно удобно. HBox и VBox являются соответственно горизонтальными и вертикальными контейнерами для виджетов или их описаний."
   ]
  },
  {
   "cell_type": "code",
   "execution_count": 27,
   "metadata": {},
   "outputs": [
    {
     "data": {
      "application/vnd.jupyter.widget-view+json": {
       "model_id": "241ccbcfe17f4d2caa6cf56e0474a2eb"
      }
     },
     "metadata": {},
     "output_type": "display_data"
    }
   ],
   "source": [
    "delivery = widgets.RadioButtons(\n",
    "    options=['Доставка', 'Самовывоз'],\n",
    "    disabled=False\n",
    ")\n",
    "widgets.HBox([widgets.Label(value=\"Способ доставки:\"), delivery])"
   ]
  },
  {
   "cell_type": "markdown",
   "metadata": {},
   "source": [
    "Настала пора выбрать способ оплаты. ToggleButtons выводит кнопки, одна из которых может быть нажата. Виджет позволяет настроить названия кнопок, всплывающие тултипы и даже иконки (для задания иконок используются названия иконок для Font Awesome).\n",
    "\n",
    "Также здесь используется задание параметров виджета используя style. Это дополнительный способ (по отношению к layout), но это уже не css, а внутренние свойства виджетов. Есть ряд свойств, которые относятся только к определённым виджетам."
   ]
  },
  {
   "cell_type": "code",
   "execution_count": 29,
   "metadata": {},
   "outputs": [
    {
     "data": {
      "application/vnd.jupyter.widget-view+json": {
       "model_id": "57f06471f2a84473941a2597346bf362"
      }
     },
     "metadata": {},
     "output_type": "display_data"
    }
   ],
   "source": [
    "pay_method = widgets.ToggleButtons(\n",
    "    options=['Карта', 'Наличные'],\n",
    "    description='Способ оплаты:',\n",
    "    disabled=False,\n",
    "    button_style='success',\n",
    "    tooltips=['Карта', 'Наличные'],\n",
    "     icons=['credit-card', 'money']\n",
    ")\n",
    "#pay_method.style.description_width='200px'\n",
    "pay_method"
   ]
  },
  {
   "cell_type": "markdown",
   "metadata": {},
   "source": [
    "Ещё есть виджет для выбора даты доставки."
   ]
  },
  {
   "cell_type": "code",
   "execution_count": 30,
   "metadata": {},
   "outputs": [
    {
     "data": {
      "application/vnd.jupyter.widget-view+json": {
       "model_id": "05a303399f3b46c1b141aa1fce1528e5"
      }
     },
     "metadata": {},
     "output_type": "display_data"
    }
   ],
   "source": [
    "date = widgets.DatePicker(\n",
    "    description='',\n",
    "    disabled=False\n",
    ")\n",
    "date\n",
    "\n",
    "widgets.VBox([widgets.Label(value=\"Дата доставки:\"), date])"
   ]
  },
  {
   "cell_type": "markdown",
   "metadata": {},
   "source": [
    "Дата вполне может быть выбрана неверно. Допустим мы позволяет выбрать дату в промежутке от 2 до 7 дней от текущего. Сделаем проверку."
   ]
  },
  {
   "cell_type": "code",
   "execution_count": 31,
   "metadata": {},
   "outputs": [
    {
     "data": {
      "application/vnd.jupyter.widget-view+json": {
       "model_id": "c6c4ffb55d9c434b98165a35d501a520"
      }
     },
     "metadata": {},
     "output_type": "display_data"
    }
   ],
   "source": [
    "button3 = widgets.Button(description=\"Проверить дату\", layout=widgets.Layout(width='40%'))\n",
    "\n",
    "def on_button_clicked3(d):\n",
    "    valid = widgets.Valid(\n",
    "        value=False,\n",
    "        description='Корректная дата!',\n",
    "        )\n",
    "    valid.style.description_width='200px'\n",
    "    \n",
    "    if date.value == None:\n",
    "        valid.description='Некорректная дата!'\n",
    "        display(valid)\n",
    "        print('Дата доставки не указана.')\n",
    "        \n",
    "    elif (date.value - datetime.datetime.today().date()).days in range(2,8):\n",
    "        valid.value = True\n",
    "        display(valid)\n",
    "    else:\n",
    "        valid.description='Некорректная дата!'\n",
    "        display(valid)\n",
    "        print('Дата доставки должна быть в периоде 2-7 дней от текущей даты.')\n",
    "    \n",
    "display(button3)\n",
    "button3.on_click(on_button_clicked3)"
   ]
  },
  {
   "cell_type": "markdown",
   "metadata": {},
   "source": [
    "Теперь можно выбрать доставки. IntRangeSlider позволяет указать интервал."
   ]
  },
  {
   "cell_type": "code",
   "execution_count": 32,
   "metadata": {},
   "outputs": [
    {
     "data": {
      "application/vnd.jupyter.widget-view+json": {
       "model_id": "416c8e605c3d4146a526ec023ec3f352"
      }
     },
     "metadata": {},
     "output_type": "display_data"
    }
   ],
   "source": [
    "period = widgets.IntRangeSlider(\n",
    "    value=[9, 18],\n",
    "    min=7,\n",
    "    max=22,\n",
    "    step=1,\n",
    "    description='Время:',\n",
    "    disabled=False,\n",
    "    continuous_update=False,\n",
    "    orientation='vertical',\n",
    "    readout=True,\n",
    "    readout_format='',\n",
    ")\n",
    "period"
   ]
  },
  {
   "cell_type": "markdown",
   "metadata": {},
   "source": [
    "И, конечно, есть виджет для ввода текста. Для ввода короткого текста можно использовать Text, для текста побольше - Textarea.\n",
    "\n",
    "И здесь мы видим событие on_submit при вводе текста - оно происходит после ввода текста и нажатия Enter."
   ]
  },
  {
   "cell_type": "code",
   "execution_count": 34,
   "metadata": {},
   "outputs": [
    {
     "data": {
      "application/vnd.jupyter.widget-view+json": {
       "model_id": "00ae2ec192a74dec96b47de017aaa814"
      }
     },
     "metadata": {},
     "output_type": "display_data"
    }
   ],
   "source": [
    "text_comment = widgets.Text(\n",
    "    value=' ',\n",
    "    description='Комментарий к доставке:',\n",
    "    disabled=False\n",
    ")\n",
    "text_comment\n",
    "\n",
    "def text_submit(t=text_comment):\n",
    "    print(\"Комментарий '{0}' зафиксирован.\".format(text_comment.value.strip()))\n",
    "    \n",
    "#text_comment.style.description_width='200px'\n",
    "display(text_comment)\n",
    "text_comment.on_submit(text_submit)"
   ]
  },
  {
   "cell_type": "markdown",
   "metadata": {},
   "source": [
    "Заказ оформлен, теперь надо бы показать клиенту все, что он указывал раньше, для подтверждения и предложить ввести адрес доставки. Первый вариант этого - сделать вложенные VBox и HBox, второй вариант - использовать Accordion и Tab.\n",
    "\n",
    "Предварительно я \"поворачиваю\" слайдер для выбора временного периода доставки в горизонтальное положение, а также создаю новый виджет для ввода адреса доставки.\n",
    "\n",
    "Теперь создам виджет Tab, который будет содержать Accordion. Accordion, в свою очередь, содержит в себе обычные виджеты, каждый из которых хранится на отдельной мини-вкладке. Это осуществляется перез параметр `children`. Названия этих мини-вкладок задаются для соответствующих индексов через `set_title`. Подобным образом Accordion вкладывается в Tab."
   ]
  },
  {
   "cell_type": "code",
   "execution_count": 35,
   "metadata": {},
   "outputs": [
    {
     "data": {
      "application/vnd.jupyter.widget-view+json": {
       "model_id": "fc025734e37945e79cf3b7a26e7d0e5c"
      }
     },
     "metadata": {},
     "output_type": "display_data"
    }
   ],
   "source": [
    "period.orientation='horizontal'\n",
    "address = widgets.Textarea(\n",
    "    value='Адрес',\n",
    "    placeholder='Не дом и не улица',\n",
    "    description='Адрес:',\n",
    "    disabled=False\n",
    ")\n",
    "\n",
    "tab_nest = widgets.Tab()\n",
    "accordion1 = widgets.Accordion(children=[pc_type, b, power, sel_mult])\n",
    "accordion1.set_title(0, 'Товар:')\n",
    "accordion1.set_title(1, 'Количество:')\n",
    "accordion1.set_title(2, 'Мощность:')\n",
    "accordion1.set_title(3, 'Бонус:')\n",
    "\n",
    "\n",
    "accordion2 = widgets.Accordion(children=[widgets.HBox([widgets.Label(value=\"Способ доставки:\"), delivery]),\n",
    "                                        pay_method,\n",
    "                                        widgets.VBox([widgets.Label(value=\"Дата доставки:\"), date]),\n",
    "                                        period,\n",
    "                                        text_comment, address])\n",
    "accordion2.set_title(0, 'Способ доставки:')\n",
    "accordion2.set_title(1, 'Способ оплаты:')\n",
    "accordion2.set_title(2, 'Дата доставки:')\n",
    "accordion2.set_title(3, 'Время доставки:')\n",
    "accordion2.set_title(4, 'Комментарий:')\n",
    "accordion2.set_title(5, 'Адрес доставки:')\n",
    "\n",
    "\n",
    "tab_nest.children = [accordion1, accordion2]\n",
    "tab_nest.set_title(0, 'Заказ:')\n",
    "tab_nest.set_title(1, 'Доставка:')\n",
    "tab_nest"
   ]
  },
  {
   "cell_type": "markdown",
   "metadata": {},
   "source": [
    "На завершающем этапе видит итоговую информацию о заказе.\n",
    "Во-первых, используется виджет для отображения прогресса. Самый удобный способ обновлять его значение - увеличивать его `value` при определенном событии."
   ]
  },
  {
   "cell_type": "code",
   "execution_count": 36,
   "metadata": {
    "collapsed": true
   },
   "outputs": [],
   "source": [
    "progress = widgets.IntProgress(\n",
    "    value=0,\n",
    "    min=0,\n",
    "    max=10,\n",
    "    step=1,\n",
    "    description='',\n",
    "    bar_style='success',\n",
    "    orientation='horizontal'\n",
    ")"
   ]
  },
  {
   "cell_type": "markdown",
   "metadata": {},
   "source": [
    "Ещё один интересный виджет - `Out`. Он отображает то, что передаётся в него: это может быть просто печать данных через `print`, rich text, media и другие вещи."
   ]
  },
  {
   "cell_type": "code",
   "execution_count": 37,
   "metadata": {},
   "outputs": [
    {
     "data": {
      "application/vnd.jupyter.widget-view+json": {
       "model_id": "a9f9f2b444f340e0acaf3c6c7a687d1b"
      }
     },
     "metadata": {},
     "output_type": "display_data"
    }
   ],
   "source": [
    "out = widgets.Output()\n",
    "out"
   ]
  },
  {
   "cell_type": "code",
   "execution_count": 38,
   "metadata": {
    "collapsed": true
   },
   "outputs": [],
   "source": [
    "with out:\n",
    "    display(widgets.VBox([widgets.Label(value=\"Проверка информации  заказе:\"), progress]))\n",
    "    print('Информация о заказе:')\n",
    "    for i in range(len(accordion1.children)):\n",
    "        if type(accordion1.children[i].value) != tuple:\n",
    "            print(accordion1.get_title(i), accordion1.children[i].value)\n",
    "            progress.value +=1\n",
    "            time.sleep(0.5) \n",
    "        else:\n",
    "            print(accordion1.get_title(i), ' '.join([j for j in accordion1.children[i].value]))\n",
    "            progress.value +=1\n",
    "            time.sleep(0.5) \n",
    "            #print(accordion1.get_title(i)), [print(j) for j in accordion1.children[i].value]\n",
    "    for i, e in enumerate([delivery, pay_method, date, period, text_comment, address]):\n",
    "        print(accordion2.get_title(i), e.value)\n",
    "        progress.value +=1\n",
    "        time.sleep(0.5) "
   ]
  },
  {
   "cell_type": "markdown",
   "metadata": {
    "collapsed": true
   },
   "source": [
    "Естественно, стоит добавлять проверки на адекватность значений и на пустые значения, но гайд не об этом, а о возможностях виджетов."
   ]
  },
  {
   "cell_type": "markdown",
   "metadata": {},
   "source": [
    "Я описал почти все возможности и способы применения ipywidgets. Есть ещё некоторые, но они являются более глубокими и будут реже использоваться."
   ]
  },
  {
   "cell_type": "code",
   "execution_count": null,
   "metadata": {
    "collapsed": true
   },
   "outputs": [],
   "source": []
  },
  {
   "cell_type": "code",
   "execution_count": 39,
   "metadata": {},
   "outputs": [
    {
     "data": {
      "application/javascript": [
       "IPython.notebook.execute_cell()"
      ],
      "text/plain": [
       "<IPython.core.display.Javascript object>"
      ]
     },
     "metadata": {},
     "output_type": "display_data"
    }
   ],
   "source": [
    "from IPython.display import Javascript, display\n",
    "display(Javascript('IPython.notebook.execute_cell()'))"
   ]
  },
  {
   "cell_type": "code",
   "execution_count": null,
   "metadata": {
    "collapsed": true
   },
   "outputs": [],
   "source": []
  },
  {
   "cell_type": "code",
   "execution_count": null,
   "metadata": {
    "collapsed": true
   },
   "outputs": [],
   "source": []
  },
  {
   "cell_type": "code",
   "execution_count": 40,
   "metadata": {},
   "outputs": [
    {
     "data": {
      "application/vnd.jupyter.widget-view+json": {
       "model_id": "75d6a6d8f90e4648be555e06bb76d766"
      }
     },
     "metadata": {},
     "output_type": "display_data"
    }
   ],
   "source": [
    "widgets.Checkbox(\n",
    "    value=False,\n",
    "    description='Check me',\n",
    "    disabled=False\n",
    ")"
   ]
  },
  {
   "cell_type": "code",
   "execution_count": 41,
   "metadata": {},
   "outputs": [
    {
     "data": {
      "application/vnd.jupyter.widget-view+json": {
       "model_id": "3a8049320bda4e4b8afa4e3d277dead4"
      }
     },
     "metadata": {},
     "output_type": "display_data"
    }
   ],
   "source": [
    "b1 = widgets.Button(description='Custom color')\n",
    "b1.style.button_color = 'lightgreen'\n",
    "b1"
   ]
  },
  {
   "cell_type": "code",
   "execution_count": 42,
   "metadata": {},
   "outputs": [
    {
     "data": {
      "application/vnd.jupyter.widget-view+json": {
       "model_id": "20df9d4001514b5ab1dcdbd490c12829"
      }
     },
     "metadata": {},
     "output_type": "display_data"
    }
   ],
   "source": [
    "s1 = widgets.IntSlider(description='Blue handle')\n",
    "s1.style.handle_color = 'lightblue'\n",
    "s1"
   ]
  },
  {
   "cell_type": "code",
   "execution_count": null,
   "metadata": {
    "collapsed": true
   },
   "outputs": [],
   "source": []
  },
  {
   "cell_type": "code",
   "execution_count": 44,
   "metadata": {
    "collapsed": true
   },
   "outputs": [],
   "source": [
    "from sklearn.datasets import load_iris"
   ]
  },
  {
   "cell_type": "code",
   "execution_count": 45,
   "metadata": {
    "collapsed": true
   },
   "outputs": [],
   "source": [
    "iris = load_iris()\n",
    "X = iris.data\n",
    "y = iris.target"
   ]
  },
  {
   "cell_type": "code",
   "execution_count": 46,
   "metadata": {},
   "outputs": [
    {
     "data": {
      "text/plain": [
       "['sepal length (cm)',\n",
       " 'sepal width (cm)',\n",
       " 'petal length (cm)',\n",
       " 'petal width (cm)']"
      ]
     },
     "execution_count": 46,
     "metadata": {},
     "output_type": "execute_result"
    }
   ],
   "source": [
    "iris.feature_names"
   ]
  },
  {
   "cell_type": "code",
   "execution_count": 47,
   "metadata": {},
   "outputs": [
    {
     "data": {
      "application/vnd.jupyter.widget-view+json": {
       "model_id": "9e9a94b5d20e4ba3bb0bce6d922ac093"
      }
     },
     "metadata": {},
     "output_type": "display_data"
    }
   ],
   "source": [
    "def f(x):\n",
    "    return x\n",
    "interact(f, x=iris.feature_names);"
   ]
  },
  {
   "cell_type": "markdown",
   "metadata": {},
   "source": [
    "* https://machinelearningmastery.com/machine-learning-in-python-step-by-step/\n",
    "* http://scikit-learn.org/stable/tutorial/statistical_inference/supervised_learning.html\n",
    "* https://stackoverflow.com/questions/37013489/how-to-alight-and-place-ipywidgets"
   ]
  },
  {
   "cell_type": "code",
   "execution_count": null,
   "metadata": {
    "collapsed": true
   },
   "outputs": [],
   "source": []
  }
 ],
 "metadata": {
  "kernelspec": {
   "display_name": "Python [default]",
   "language": "python",
   "name": "python3"
  },
  "language_info": {
   "codemirror_mode": {
    "name": "ipython",
    "version": 3
   },
   "file_extension": ".py",
   "mimetype": "text/x-python",
   "name": "python",
   "nbconvert_exporter": "python",
   "pygments_lexer": "ipython3",
   "version": "3.6.2"
  },
  "widgets": {
   "application/vnd.jupyter.widget-state+json": {
    "state": {
     "00ae2ec192a74dec96b47de017aaa814": {
      "model_module": "jupyter-js-widgets",
      "model_module_version": "~2.1.4",
      "model_name": "TextModel",
      "state": {
       "_model_module_version": "~2.1.4",
       "_view_module_version": "~2.1.4",
       "description": "Комментарий к доставке:",
       "layout": "IPY_MODEL_77ead1479ef7407f9c5a2ff622cab08f",
       "value": " "
      }
     },
     "0139340d6e274a0daff6a81fd9ead95b": {
      "model_module": "jupyter-js-widgets",
      "model_module_version": "~2.1.4",
      "model_name": "LayoutModel",
      "state": {
       "_model_module_version": "~2.1.4",
       "_view_module_version": "~2.1.4"
      }
     },
     "02983dce542544efaef173d2adf087ae": {
      "model_module": "jupyter-js-widgets",
      "model_module_version": "~2.1.4",
      "model_name": "DropdownModel",
      "state": {
       "_model_module_version": "~2.1.4",
       "_options_labels": [
        "лопата",
        "солнце"
       ],
       "_view_module_version": "~2.1.4",
       "description": "x",
       "layout": "IPY_MODEL_3e9445e6c2004a6f83589199f52d70fc",
       "value": "лопата"
      }
     },
     "03f32c3d39a8498d80c8cb6ad2ba19fc": {
      "model_module": "jupyter-js-widgets",
      "model_module_version": "~2.1.4",
      "model_name": "OutputModel",
      "state": {
       "_dom_classes": [],
       "_model_module": "jupyter-js-widgets",
       "_model_module_version": "~2.1.4",
       "_view_module": "jupyter-js-widgets",
       "_view_module_version": "~2.1.4",
       "layout": "IPY_MODEL_e19a43206be749c2a727b0f0f4f92b1e",
       "msg_throttle": 1
      }
     },
     "04b7b27aaa2f4f329622f915a6eed099": {
      "model_module": "jupyter-js-widgets",
      "model_module_version": "~2.1.4",
      "model_name": "OutputModel",
      "state": {
       "_dom_classes": [],
       "_model_module": "jupyter-js-widgets",
       "_model_module_version": "~2.1.4",
       "_view_module": "jupyter-js-widgets",
       "_view_module_version": "~2.1.4",
       "layout": "IPY_MODEL_1d7a5690b6674b7fa7e50aa936ebec87",
       "msg_throttle": 1
      }
     },
     "05a303399f3b46c1b141aa1fce1528e5": {
      "model_module": "jupyter-js-widgets",
      "model_module_version": "~2.1.4",
      "model_name": "VBoxModel",
      "state": {
       "_model_module_version": "~2.1.4",
       "_view_module_version": "~2.1.4",
       "children": [
        "IPY_MODEL_405ec1c5a479402c9e57b466b77c13b1",
        "IPY_MODEL_fd438fbe123045aeaaf4cf176456bfd2"
       ],
       "layout": "IPY_MODEL_3da23060a1a64f3f8044e168ac0e1c75"
      }
     },
     "0784c350e9ec48789f8e3ab6264ecb08": {
      "model_module": "jupyter-js-widgets",
      "model_module_version": "~2.1.4",
      "model_name": "IntTextModel",
      "state": {
       "_model_module_version": "~2.1.4",
       "_view_module_version": "~2.1.4",
       "layout": "IPY_MODEL_51c6cda8ea7d4c93be87b760fc713215",
       "max": 5,
       "min": 1,
       "step": 1,
       "value": 1
      }
     },
     "08672228a8424277a58e2a4088185d17": {
      "model_module": "jupyter-js-widgets",
      "model_module_version": "~2.1.4",
      "model_name": "AccordionModel",
      "state": {
       "_model_module_version": "~2.1.4",
       "_titles": {
        "0": "Товар:",
        "1": "Количество:",
        "2": "Мощность:",
        "3": "Бонус:"
       },
       "_view_module_version": "~2.1.4",
       "children": [
        "IPY_MODEL_6118b3f8d7ac411bb7bba23b4fe42dfe",
        "IPY_MODEL_44fa9840ead04323b9af6084887fb04f",
        "IPY_MODEL_24655af33c0241fbb4e741367019064e",
        "IPY_MODEL_e08d55c3965e40a19a1d44cbd3977b67"
       ],
       "layout": "IPY_MODEL_5218bcb0c92d49d08dfbb7bbdd745234"
      }
     },
     "08eebe3dfd8b449fb259bc2d42560a66": {
      "model_module": "jupyter-js-widgets",
      "model_module_version": "~2.1.4",
      "model_name": "OutputModel",
      "state": {
       "_dom_classes": [],
       "_model_module": "jupyter-js-widgets",
       "_model_module_version": "~2.1.4",
       "_view_module": "jupyter-js-widgets",
       "_view_module_version": "~2.1.4",
       "layout": "IPY_MODEL_10d4a744c50544109833bf8668d5f5a2",
       "msg_throttle": 1
      }
     },
     "0cd30510f51d4a439324b1162f887736": {
      "model_module": "jupyter-js-widgets",
      "model_module_version": "~2.1.4",
      "model_name": "LayoutModel",
      "state": {
       "_model_module_version": "~2.1.4",
       "_view_module_version": "~2.1.4"
      }
     },
     "0ececf41ee30479f9dc8839265d92305": {
      "model_module": "jupyter-js-widgets",
      "model_module_version": "~2.1.4",
      "model_name": "FloatSliderModel",
      "state": {
       "_model_module_version": "~2.1.4",
       "_view_module_version": "~2.1.4",
       "description": "y",
       "layout": "IPY_MODEL_745ac84f09a543199c3037dbbf09e24a",
       "max": 7.5,
       "min": -2.5,
       "step": 0.1,
       "value": 2.5
      }
     },
     "10d4a744c50544109833bf8668d5f5a2": {
      "model_module": "jupyter-js-widgets",
      "model_module_version": "~2.1.4",
      "model_name": "LayoutModel",
      "state": {
       "_model_module_version": "~2.1.4",
       "_view_module_version": "~2.1.4"
      }
     },
     "12f01bdedfd94fb1851fa6d050dc872d": {
      "model_module": "jupyter-js-widgets",
      "model_module_version": "~2.1.4",
      "model_name": "ButtonStyleModel",
      "state": {
       "_model_module_version": "~2.1.4",
       "_view_module_version": "~2.1.4",
       "button_color": "lightgreen"
      }
     },
     "185813840ba749c3b71befd32af4eb91": {
      "model_module": "jupyter-js-widgets",
      "model_module_version": "~2.1.4",
      "model_name": "LayoutModel",
      "state": {
       "_model_module_version": "~2.1.4",
       "_view_module_version": "~2.1.4"
      }
     },
     "1a14cb98870b4dbdb7ff9b929713ee8c": {
      "model_module": "jupyter-js-widgets",
      "model_module_version": "~2.1.4",
      "model_name": "LayoutModel",
      "state": {
       "_model_module_version": "~2.1.4",
       "_view_module_version": "~2.1.4"
      }
     },
     "1c99d6d599144973b55f7900a4fa7e15": {
      "model_module": "jupyter-js-widgets",
      "model_module_version": "~2.1.4",
      "model_name": "LayoutModel",
      "state": {
       "_model_module_version": "~2.1.4",
       "_view_module_version": "~2.1.4"
      }
     },
     "1cd76533057d4e18b7d28ed0bfd87626": {
      "model_module": "jupyter-js-widgets",
      "model_module_version": "~2.1.4",
      "model_name": "IntSliderModel",
      "state": {
       "_model_module_version": "~2.1.4",
       "_view_module_version": "~2.1.4",
       "layout": "IPY_MODEL_7c72697f9f254cd68d1a652c8b38851f",
       "style": "IPY_MODEL_621c16dc65e5463e95993377075f6971",
       "value": 27
      }
     },
     "1d7a5690b6674b7fa7e50aa936ebec87": {
      "model_module": "jupyter-js-widgets",
      "model_module_version": "~2.1.4",
      "model_name": "LayoutModel",
      "state": {
       "_model_module_version": "~2.1.4",
       "_view_module_version": "~2.1.4"
      }
     },
     "20df9d4001514b5ab1dcdbd490c12829": {
      "model_module": "jupyter-js-widgets",
      "model_module_version": "~2.1.4",
      "model_name": "IntSliderModel",
      "state": {
       "_model_module_version": "~2.1.4",
       "_view_module_version": "~2.1.4",
       "description": "Blue handle",
       "layout": "IPY_MODEL_36ec390c13ef4f2b8f5897e05d4c0759",
       "style": "IPY_MODEL_5f2779ab7a6c45f4b544d35ec08f3249"
      }
     },
     "228f6b70c6a0402bac2a006b31e09ef5": {
      "model_module": "jupyter-js-widgets",
      "model_module_version": "~2.1.4",
      "model_name": "LayoutModel",
      "state": {
       "_model_module_version": "~2.1.4",
       "_view_module_version": "~2.1.4"
      }
     },
     "241ccbcfe17f4d2caa6cf56e0474a2eb": {
      "model_module": "jupyter-js-widgets",
      "model_module_version": "~2.1.4",
      "model_name": "HBoxModel",
      "state": {
       "_model_module_version": "~2.1.4",
       "_view_module_version": "~2.1.4",
       "children": [
        "IPY_MODEL_a2645c00b5e84ad4915e6962720da693",
        "IPY_MODEL_38dceb00774a430db835f0b2da931da0"
       ],
       "layout": "IPY_MODEL_7b77ee9596ae4eeabfdf81a4ca65c2b7"
      }
     },
     "24655af33c0241fbb4e741367019064e": {
      "model_module": "jupyter-js-widgets",
      "model_module_version": "~2.1.4",
      "model_name": "SelectionSliderModel",
      "state": {
       "_model_module_version": "~2.1.4",
       "_options_labels": [
        "слабый",
        "хороший",
        "мощный",
        "deep learning"
       ],
       "_view_module_version": "~2.1.4",
       "continuous_update": false,
       "description": "Мощность:",
       "layout": "IPY_MODEL_481a51f46ec04f45a9b8d5dbe8c6c59f",
       "value": "хороший"
      }
     },
     "24ad0798ff4548c2a68befce1810cb05": {
      "model_module": "jupyter-js-widgets",
      "model_module_version": "~2.1.4",
      "model_name": "LabelModel",
      "state": {
       "_model_module_version": "~2.1.4",
       "_view_module_version": "~2.1.4",
       "layout": "IPY_MODEL_2fc9665aed8e4cc6b37eb95349d3701f",
       "value": "Способ доставки:"
      }
     },
     "26a0a5fe21ba4b06862f75d5a2270bf0": {
      "model_module": "jupyter-js-widgets",
      "model_module_version": "~2.1.4",
      "model_name": "OutputModel",
      "state": {
       "_dom_classes": [],
       "_model_module": "jupyter-js-widgets",
       "_model_module_version": "~2.1.4",
       "_view_module": "jupyter-js-widgets",
       "_view_module_version": "~2.1.4",
       "layout": "IPY_MODEL_8cef63d7257e4dc2b75a738adb3cbb5c",
       "msg_throttle": 1
      }
     },
     "27c37d519e92495ba79dc7add0c6fdb5": {
      "model_module": "jupyter-js-widgets",
      "model_module_version": "~2.1.4",
      "model_name": "VBoxModel",
      "state": {
       "_dom_classes": [
        "widget-interact"
       ],
       "_model_module_version": "~2.1.4",
       "_view_module_version": "~2.1.4",
       "children": [
        "IPY_MODEL_9200ee3826b648df9358da4f53550e5a",
        "IPY_MODEL_68a9a780fe1b47c587582b599a75076f",
        "IPY_MODEL_d6bc1cc46bfb402a808fa16535077fc1"
       ],
       "layout": "IPY_MODEL_d8cfe2f720114e9f975261b5d986def9"
      }
     },
     "29d10fbd6ec546b086f8696490bffab6": {
      "model_module": "jupyter-js-widgets",
      "model_module_version": "~2.1.4",
      "model_name": "LayoutModel",
      "state": {
       "_model_module_version": "~2.1.4",
       "_view_module_version": "~2.1.4"
      }
     },
     "2cd09a448e884960916250ef64ecdfcc": {
      "model_module": "jupyter-js-widgets",
      "model_module_version": "~2.1.4",
      "model_name": "LayoutModel",
      "state": {
       "_model_module_version": "~2.1.4",
       "_view_module_version": "~2.1.4",
       "width": "40%"
      }
     },
     "2d0d1daeb87a48a0a2d6f24665566511": {
      "model_module": "jupyter-js-widgets",
      "model_module_version": "~2.1.4",
      "model_name": "LayoutModel",
      "state": {
       "_model_module_version": "~2.1.4",
       "_view_module_version": "~2.1.4"
      }
     },
     "2d8e2ce1b2034ea2af641a7fc81043f3": {
      "model_module": "jupyter-js-widgets",
      "model_module_version": "~2.1.4",
      "model_name": "ProgressModel",
      "state": {
       "_model_module_version": "~2.1.4",
       "_view_module_version": "~2.1.4",
       "bar_style": "success",
       "layout": "IPY_MODEL_79c3b1e9251c4fffa77e51f341d56c85",
       "max": 10,
       "style": "IPY_MODEL_4ff1f55b7f0e4338bb9a1ea723278e90",
       "value": 10
      }
     },
     "2fc9665aed8e4cc6b37eb95349d3701f": {
      "model_module": "jupyter-js-widgets",
      "model_module_version": "~2.1.4",
      "model_name": "LayoutModel",
      "state": {
       "_model_module_version": "~2.1.4",
       "_view_module_version": "~2.1.4"
      }
     },
     "341ef4605d5a428d86e0e421894a079d": {
      "model_module": "jupyter-js-widgets",
      "model_module_version": "~2.1.4",
      "model_name": "LayoutModel",
      "state": {
       "_model_module_version": "~2.1.4",
       "_view_module_version": "~2.1.4"
      }
     },
     "3487ba5d450f43fb8cab952b175588ca": {
      "model_module": "jupyter-js-widgets",
      "model_module_version": "~2.1.4",
      "model_name": "LayoutModel",
      "state": {
       "_model_module_version": "~2.1.4",
       "_view_module_version": "~2.1.4"
      }
     },
     "354e2e7212e54d0d94f60b7ab72b052a": {
      "model_module": "jupyter-js-widgets",
      "model_module_version": "~2.1.4",
      "model_name": "OutputModel",
      "state": {
       "_dom_classes": [],
       "_model_module": "jupyter-js-widgets",
       "_model_module_version": "~2.1.4",
       "_view_module": "jupyter-js-widgets",
       "_view_module_version": "~2.1.4",
       "layout": "IPY_MODEL_0139340d6e274a0daff6a81fd9ead95b",
       "msg_throttle": 1
      }
     },
     "362f6211bb88462388b588c42505fb22": {
      "model_module": "jupyter-js-widgets",
      "model_module_version": "~2.1.4",
      "model_name": "LayoutModel",
      "state": {
       "_model_module_version": "~2.1.4",
       "_view_module_version": "~2.1.4"
      }
     },
     "36ec390c13ef4f2b8f5897e05d4c0759": {
      "model_module": "jupyter-js-widgets",
      "model_module_version": "~2.1.4",
      "model_name": "LayoutModel",
      "state": {
       "_model_module_version": "~2.1.4",
       "_view_module_version": "~2.1.4"
      }
     },
     "387fac4dc489430c82363b66b1e55c81": {
      "model_module": "jupyter-js-widgets",
      "model_module_version": "~2.1.4",
      "model_name": "LabelModel",
      "state": {
       "_model_module_version": "~2.1.4",
       "_view_module_version": "~2.1.4",
       "layout": "IPY_MODEL_4635d7e1adc04a07b3885495c38c13f5",
       "value": "Проверка информации  заказе:"
      }
     },
     "38b8fcf8b80147b89d5a474c1fe40a7a": {
      "model_module": "jupyter-js-widgets",
      "model_module_version": "~2.1.4",
      "model_name": "VBoxModel",
      "state": {
       "_dom_classes": [
        "widget-interact"
       ],
       "_model_module_version": "~2.1.4",
       "_view_module_version": "~2.1.4",
       "children": [
        "IPY_MODEL_bf35db84a9d04d5dac18eb1a1f33f6b5",
        "IPY_MODEL_26a0a5fe21ba4b06862f75d5a2270bf0"
       ],
       "layout": "IPY_MODEL_c01aa8fd2e9447b9b51efa5f11b6f9c7"
      }
     },
     "38dceb00774a430db835f0b2da931da0": {
      "model_module": "jupyter-js-widgets",
      "model_module_version": "~2.1.4",
      "model_name": "RadioButtonsModel",
      "state": {
       "_model_module_version": "~2.1.4",
       "_options_labels": [
        "Доставка",
        "Самовывоз"
       ],
       "_view_module_version": "~2.1.4",
       "layout": "IPY_MODEL_228f6b70c6a0402bac2a006b31e09ef5",
       "value": "Доставка"
      }
     },
     "3a8049320bda4e4b8afa4e3d277dead4": {
      "model_module": "jupyter-js-widgets",
      "model_module_version": "~2.1.4",
      "model_name": "ButtonModel",
      "state": {
       "_model_module_version": "~2.1.4",
       "_view_module_version": "~2.1.4",
       "description": "Custom color",
       "layout": "IPY_MODEL_0cd30510f51d4a439324b1162f887736",
       "style": "IPY_MODEL_12f01bdedfd94fb1851fa6d050dc872d"
      }
     },
     "3b0a7b5b8771487fa594b86b538130c8": {
      "model_module": "jupyter-js-widgets",
      "model_module_version": "~2.1.4",
      "model_name": "LayoutModel",
      "state": {
       "_model_module_version": "~2.1.4",
       "_view_module_version": "~2.1.4"
      }
     },
     "3d4af9c4d34e4b9bac34136236bfe513": {
      "model_module": "jupyter-js-widgets",
      "model_module_version": "~2.1.4",
      "model_name": "ButtonModel",
      "state": {
       "_model_module_version": "~2.1.4",
       "_view_module_version": "~2.1.4",
       "description": "Использовать другие данные",
       "layout": "IPY_MODEL_f8633f5d19b049ef8025de47ab1c2a92",
       "style": "IPY_MODEL_b88ca3385fb7482dbb9b75a2ff35aeb2"
      }
     },
     "3da23060a1a64f3f8044e168ac0e1c75": {
      "model_module": "jupyter-js-widgets",
      "model_module_version": "~2.1.4",
      "model_name": "LayoutModel",
      "state": {
       "_model_module_version": "~2.1.4",
       "_view_module_version": "~2.1.4"
      }
     },
     "3e9445e6c2004a6f83589199f52d70fc": {
      "model_module": "jupyter-js-widgets",
      "model_module_version": "~2.1.4",
      "model_name": "LayoutModel",
      "state": {
       "_model_module_version": "~2.1.4",
       "_view_module_version": "~2.1.4"
      }
     },
     "3f7ca31784ba4e478335e9a70c0f0b68": {
      "model_module": "jupyter-js-widgets",
      "model_module_version": "~2.1.4",
      "model_name": "LayoutModel",
      "state": {
       "_model_module_version": "~2.1.4",
       "_view_module_version": "~2.1.4"
      }
     },
     "405ec1c5a479402c9e57b466b77c13b1": {
      "model_module": "jupyter-js-widgets",
      "model_module_version": "~2.1.4",
      "model_name": "LabelModel",
      "state": {
       "_model_module_version": "~2.1.4",
       "_view_module_version": "~2.1.4",
       "layout": "IPY_MODEL_d5e4a6babdff485d8bcd98ca4e8dae20",
       "value": "Дата доставки:"
      }
     },
     "416c8e605c3d4146a526ec023ec3f352": {
      "model_module": "jupyter-js-widgets",
      "model_module_version": "~2.1.4",
      "model_name": "IntSliderModel",
      "state": {
       "_model_module_version": "~2.1.4",
       "_range": true,
       "_view_module_version": "~2.1.4",
       "continuous_update": false,
       "description": "Время:",
       "layout": "IPY_MODEL_b21c3cc79dbc47cf88edaf9f7dc965f7",
       "max": 22,
       "min": 7,
       "slider_color": null,
       "value": [
        9,
        18
       ]
      }
     },
     "44fa9840ead04323b9af6084887fb04f": {
      "model_module": "jupyter-js-widgets",
      "model_module_version": "~2.1.4",
      "model_name": "IntSliderModel",
      "state": {
       "_model_module_version": "~2.1.4",
       "_view_module_version": "~2.1.4",
       "layout": "IPY_MODEL_54bb7812ed2a4d63941bd9530116c2d0",
       "max": 5,
       "min": 1,
       "style": "IPY_MODEL_94a8f8d7a6a34c199e011ab57b6372f3",
       "value": 1
      }
     },
     "4635d7e1adc04a07b3885495c38c13f5": {
      "model_module": "jupyter-js-widgets",
      "model_module_version": "~2.1.4",
      "model_name": "LayoutModel",
      "state": {
       "_model_module_version": "~2.1.4",
       "_view_module_version": "~2.1.4"
      }
     },
     "46c00abaf681431a95876cd7a27b55e9": {
      "model_module": "jupyter-js-widgets",
      "model_module_version": "~2.1.4",
      "model_name": "LayoutModel",
      "state": {
       "_model_module_version": "~2.1.4",
       "_view_module_version": "~2.1.4"
      }
     },
     "481a51f46ec04f45a9b8d5dbe8c6c59f": {
      "model_module": "jupyter-js-widgets",
      "model_module_version": "~2.1.4",
      "model_name": "LayoutModel",
      "state": {
       "_model_module_version": "~2.1.4",
       "_view_module_version": "~2.1.4",
       "width": "40%"
      }
     },
     "49daadf20cbd48c2a97f0f1641aa9c21": {
      "model_module": "jupyter-js-widgets",
      "model_module_version": "~2.1.4",
      "model_name": "SliderStyleModel",
      "state": {
       "_model_module_version": "~2.1.4",
       "_view_module_version": "~2.1.4"
      }
     },
     "49dd50bd2fd14b4986daf757f23c4b21": {
      "model_module": "jupyter-js-widgets",
      "model_module_version": "~2.1.4",
      "model_name": "VBoxModel",
      "state": {
       "_model_module_version": "~2.1.4",
       "_view_module_version": "~2.1.4",
       "children": [
        "IPY_MODEL_c8b5b24437044ea8974dc8fbc291a7d6",
        "IPY_MODEL_fd438fbe123045aeaaf4cf176456bfd2"
       ],
       "layout": "IPY_MODEL_4ea5bc53495747ca8528a168427495a7"
      }
     },
     "4a19863a9c69471ab6cc4533bbc175ed": {
      "model_module": "jupyter-js-widgets",
      "model_module_version": "~2.1.4",
      "model_name": "VBoxModel",
      "state": {
       "_dom_classes": [
        "widget-interact"
       ],
       "_model_module_version": "~2.1.4",
       "_view_module_version": "~2.1.4",
       "children": [
        "IPY_MODEL_527ca21b36d94021a077e75192fdf4ba",
        "IPY_MODEL_0ececf41ee30479f9dc8839265d92305",
        "IPY_MODEL_fb5063eb5f124f98b96a82e81b18082b",
        "IPY_MODEL_354e2e7212e54d0d94f60b7ab72b052a"
       ],
       "layout": "IPY_MODEL_f3e89fdb44f847ad9d2c69990d6ade12"
      }
     },
     "4ea5bc53495747ca8528a168427495a7": {
      "model_module": "jupyter-js-widgets",
      "model_module_version": "~2.1.4",
      "model_name": "LayoutModel",
      "state": {
       "_model_module_version": "~2.1.4",
       "_view_module_version": "~2.1.4"
      }
     },
     "4ff1f55b7f0e4338bb9a1ea723278e90": {
      "model_module": "jupyter-js-widgets",
      "model_module_version": "~2.1.4",
      "model_name": "ProgressStyleModel",
      "state": {
       "_model_module_version": "~2.1.4",
       "_view_module_version": "~2.1.4"
      }
     },
     "50b6d7a5fabf4cf0b0d3f00f73cf6c8a": {
      "model_module": "jupyter-js-widgets",
      "model_module_version": "~2.1.4",
      "model_name": "ButtonModel",
      "state": {
       "_model_module_version": "~2.1.4",
       "_view_module_version": "~2.1.4",
       "description": "Нажмите, чтобы посчитать площадь прямоугольника!",
       "layout": "IPY_MODEL_e967f51474b0422aa9b33ac7535d76c0",
       "style": "IPY_MODEL_9f3177577e104bf987cfefbbac06188c"
      }
     },
     "51c6cda8ea7d4c93be87b760fc713215": {
      "model_module": "jupyter-js-widgets",
      "model_module_version": "~2.1.4",
      "model_name": "LayoutModel",
      "state": {
       "_model_module_version": "~2.1.4",
       "_view_module_version": "~2.1.4"
      }
     },
     "5218bcb0c92d49d08dfbb7bbdd745234": {
      "model_module": "jupyter-js-widgets",
      "model_module_version": "~2.1.4",
      "model_name": "LayoutModel",
      "state": {
       "_model_module_version": "~2.1.4",
       "_view_module_version": "~2.1.4"
      }
     },
     "527ca21b36d94021a077e75192fdf4ba": {
      "model_module": "jupyter-js-widgets",
      "model_module_version": "~2.1.4",
      "model_name": "IntSliderModel",
      "state": {
       "_model_module_version": "~2.1.4",
       "_view_module_version": "~2.1.4",
       "description": "x",
       "layout": "IPY_MODEL_e02043b91abc4265bd4b49413f78569e",
       "max": 3,
       "min": -1,
       "style": "IPY_MODEL_95406bd2ef3c4653ab4d6fd2720e6332",
       "value": 1
      }
     },
     "529fe2ce457e413da8e82f965d6a67f8": {
      "model_module": "jupyter-js-widgets",
      "model_module_version": "~2.1.4",
      "model_name": "SliderStyleModel",
      "state": {
       "_model_module_version": "~2.1.4",
       "_view_module_version": "~2.1.4"
      }
     },
     "545a9aea8a79480eaae2a43662ab07eb": {
      "model_module": "jupyter-js-widgets",
      "model_module_version": "~2.1.4",
      "model_name": "CheckboxModel",
      "state": {
       "_model_module_version": "~2.1.4",
       "_view_module_version": "~2.1.4",
       "description": "x",
       "disabled": false,
       "layout": "IPY_MODEL_bad2e6b128444c8d94e4db83a0a580a6",
       "value": true
      }
     },
     "54bb7812ed2a4d63941bd9530116c2d0": {
      "model_module": "jupyter-js-widgets",
      "model_module_version": "~2.1.4",
      "model_name": "LayoutModel",
      "state": {
       "_model_module_version": "~2.1.4",
       "_view_module_version": "~2.1.4"
      }
     },
     "57f06471f2a84473941a2597346bf362": {
      "model_module": "jupyter-js-widgets",
      "model_module_version": "~2.1.4",
      "model_name": "ToggleButtonsModel",
      "state": {
       "_model_module_version": "~2.1.4",
       "_options_labels": [
        "Карта",
        "Наличные"
       ],
       "_view_module_version": "~2.1.4",
       "button_style": "success",
       "description": "Способ оплаты:",
       "icons": [
        "credit-card",
        "money"
       ],
       "layout": "IPY_MODEL_cd755092b932430cbfc5ae0afba181db",
       "tooltips": [
        "Карта",
        "Наличные"
       ],
       "value": "Карта"
      }
     },
     "58d325a9c8c24a12b14e9a7c7c6c28d7": {
      "model_module": "jupyter-js-widgets",
      "model_module_version": "~2.1.4",
      "model_name": "HBoxModel",
      "state": {
       "_model_module_version": "~2.1.4",
       "_view_module_version": "~2.1.4",
       "children": [
        "IPY_MODEL_24ad0798ff4548c2a68befce1810cb05",
        "IPY_MODEL_38dceb00774a430db835f0b2da931da0"
       ],
       "layout": "IPY_MODEL_1a14cb98870b4dbdb7ff9b929713ee8c"
      }
     },
     "5c2f7fdbd6eb4f13bedee7cdd8853a9c": {
      "model_module": "jupyter-js-widgets",
      "model_module_version": "~2.1.4",
      "model_name": "LayoutModel",
      "state": {
       "_model_module_version": "~2.1.4",
       "_view_module_version": "~2.1.4"
      }
     },
     "5f2779ab7a6c45f4b544d35ec08f3249": {
      "model_module": "jupyter-js-widgets",
      "model_module_version": "~2.1.4",
      "model_name": "SliderStyleModel",
      "state": {
       "_model_module_version": "~2.1.4",
       "_view_module_version": "~2.1.4",
       "handle_color": "lightblue"
      }
     },
     "607ca09cb8ea4b4bb7f6add131e30b8f": {
      "model_module": "jupyter-js-widgets",
      "model_module_version": "~2.1.4",
      "model_name": "LayoutModel",
      "state": {
       "_model_module_version": "~2.1.4",
       "_view_module_version": "~2.1.4"
      }
     },
     "6118b3f8d7ac411bb7bba23b4fe42dfe": {
      "model_module": "jupyter-js-widgets",
      "model_module_version": "~2.1.4",
      "model_name": "SelectModel",
      "state": {
       "_model_module_version": "~2.1.4",
       "_options_labels": [
        "Компьютер",
        "Планшет",
        "Ноутбук"
       ],
       "_view_module_version": "~2.1.4",
       "description": "Товар:",
       "layout": "IPY_MODEL_e7ddae182b0f4308949a580c6e8e324d",
       "value": "Компьютер"
      }
     },
     "61ebfd2d61f641e18d9a6e8f53889bf7": {
      "model_module": "jupyter-js-widgets",
      "model_module_version": "~2.1.4",
      "model_name": "LayoutModel",
      "state": {
       "_model_module_version": "~2.1.4",
       "_view_module_version": "~2.1.4"
      }
     },
     "621c16dc65e5463e95993377075f6971": {
      "model_module": "jupyter-js-widgets",
      "model_module_version": "~2.1.4",
      "model_name": "SliderStyleModel",
      "state": {
       "_model_module_version": "~2.1.4",
       "_view_module_version": "~2.1.4"
      }
     },
     "63dafa336c654c35a1e2d4c908e9a8fe": {
      "model_module": "jupyter-js-widgets",
      "model_module_version": "~2.1.4",
      "model_name": "LayoutModel",
      "state": {
       "_model_module_version": "~2.1.4",
       "_view_module_version": "~2.1.4"
      }
     },
     "68a9a780fe1b47c587582b599a75076f": {
      "model_module": "jupyter-js-widgets",
      "model_module_version": "~2.1.4",
      "model_name": "ColorPickerModel",
      "state": {
       "_model_module_version": "~2.1.4",
       "_view_module_version": "~2.1.4",
       "description": "Цвет линии:",
       "layout": "IPY_MODEL_6a060b25b84a4b3d97269307b67d7cc1",
       "value": "teal"
      }
     },
     "6a060b25b84a4b3d97269307b67d7cc1": {
      "model_module": "jupyter-js-widgets",
      "model_module_version": "~2.1.4",
      "model_name": "LayoutModel",
      "state": {
       "_model_module_version": "~2.1.4",
       "_view_module_version": "~2.1.4"
      }
     },
     "6b0fa7a0e2734d58b10d8b68ee514b1e": {
      "model_module": "jupyter-js-widgets",
      "model_module_version": "~2.1.4",
      "model_name": "ToggleButtonsModel",
      "state": {
       "_model_module_version": "~2.1.4",
       "_options_labels": [
        "Карта",
        "Наличные"
       ],
       "_view_module_version": "~2.1.4",
       "button_style": "success",
       "description": "Способ оплаты:",
       "icons": [
        "credit-card",
        "money"
       ],
       "layout": "IPY_MODEL_3f7ca31784ba4e478335e9a70c0f0b68",
       "tooltips": [
        "Карта",
        "Наличные"
       ],
       "value": "Карта"
      }
     },
     "6fc9b13f163b47f2ae0033ab685b655e": {
      "model_module": "jupyter-js-widgets",
      "model_module_version": "~2.1.4",
      "model_name": "LayoutModel",
      "state": {
       "_model_module_version": "~2.1.4",
       "_view_module_version": "~2.1.4"
      }
     },
     "72044de4eb6c40028971be9c55310e43": {
      "model_module": "jupyter-js-widgets",
      "model_module_version": "~2.1.4",
      "model_name": "VBoxModel",
      "state": {
       "_dom_classes": [
        "widget-interact"
       ],
       "_model_module_version": "~2.1.4",
       "_view_module_version": "~2.1.4",
       "children": [
        "IPY_MODEL_84df6044c3914cd99bbd2c9f74a6436d",
        "IPY_MODEL_08eebe3dfd8b449fb259bc2d42560a66"
       ],
       "layout": "IPY_MODEL_f4cb5f2353cd4a5b97fa68bf70a35353"
      }
     },
     "745ac84f09a543199c3037dbbf09e24a": {
      "model_module": "jupyter-js-widgets",
      "model_module_version": "~2.1.4",
      "model_name": "LayoutModel",
      "state": {
       "_model_module_version": "~2.1.4",
       "_view_module_version": "~2.1.4"
      }
     },
     "75caa930348340448efc139fb44f1eed": {
      "model_module": "jupyter-js-widgets",
      "model_module_version": "~2.1.4",
      "model_name": "VBoxModel",
      "state": {
       "_dom_classes": [
        "widget-interact"
       ],
       "_model_module_version": "~2.1.4",
       "_view_module_version": "~2.1.4",
       "children": [
        "IPY_MODEL_c04098ceb0ce437eb5b3b815003ac637",
        "IPY_MODEL_f4d10f141a1347f9bfd125808a9f80a9",
        "IPY_MODEL_b7a3d6dc6c1546e1a8a920767bc930f0"
       ],
       "layout": "IPY_MODEL_63dafa336c654c35a1e2d4c908e9a8fe"
      }
     },
     "75d6a6d8f90e4648be555e06bb76d766": {
      "model_module": "jupyter-js-widgets",
      "model_module_version": "~2.1.4",
      "model_name": "CheckboxModel",
      "state": {
       "_model_module_version": "~2.1.4",
       "_view_module_version": "~2.1.4",
       "description": "Check me",
       "disabled": false,
       "layout": "IPY_MODEL_94ec49c40370498da32fd2922d1ef1b6",
       "value": false
      }
     },
     "77ead1479ef7407f9c5a2ff622cab08f": {
      "model_module": "jupyter-js-widgets",
      "model_module_version": "~2.1.4",
      "model_name": "LayoutModel",
      "state": {
       "_model_module_version": "~2.1.4",
       "_view_module_version": "~2.1.4"
      }
     },
     "79c3b1e9251c4fffa77e51f341d56c85": {
      "model_module": "jupyter-js-widgets",
      "model_module_version": "~2.1.4",
      "model_name": "LayoutModel",
      "state": {
       "_model_module_version": "~2.1.4",
       "_view_module_version": "~2.1.4"
      }
     },
     "79e4afaa8de54563b0006ae3f6ab57bb": {
      "model_module": "jupyter-js-widgets",
      "model_module_version": "~2.1.4",
      "model_name": "LayoutModel",
      "state": {
       "_model_module_version": "~2.1.4",
       "_view_module_version": "~2.1.4"
      }
     },
     "7b77ee9596ae4eeabfdf81a4ca65c2b7": {
      "model_module": "jupyter-js-widgets",
      "model_module_version": "~2.1.4",
      "model_name": "LayoutModel",
      "state": {
       "_model_module_version": "~2.1.4",
       "_view_module_version": "~2.1.4"
      }
     },
     "7bc616f773b847b78a064cd032cbe67c": {
      "model_module": "jupyter-js-widgets",
      "model_module_version": "~2.1.4",
      "model_name": "LayoutModel",
      "state": {
       "_model_module_version": "~2.1.4",
       "_view_module_version": "~2.1.4"
      }
     },
     "7c72697f9f254cd68d1a652c8b38851f": {
      "model_module": "jupyter-js-widgets",
      "model_module_version": "~2.1.4",
      "model_name": "LayoutModel",
      "state": {
       "_model_module_version": "~2.1.4",
       "_view_module_version": "~2.1.4"
      }
     },
     "7ec2551f2ea9481f9eb2c0f5b2f65ec5": {
      "model_module": "jupyter-js-widgets",
      "model_module_version": "~2.1.4",
      "model_name": "DropdownModel",
      "state": {
       "_model_module_version": "~2.1.4",
       "_options_labels": [
        "sepal length (cm)",
        "sepal width (cm)",
        "petal length (cm)",
        "petal width (cm)"
       ],
       "_view_module_version": "~2.1.4",
       "description": "x",
       "layout": "IPY_MODEL_89f72d05390e4247817d4e0799e559ab",
       "value": "sepal length (cm)"
      }
     },
     "82ddc0b044be4ca2a56fa5ac258247f0": {
      "model_module": "jupyter-js-widgets",
      "model_module_version": "~2.1.4",
      "model_name": "LayoutModel",
      "state": {
       "_model_module_version": "~2.1.4",
       "_view_module_version": "~2.1.4"
      }
     },
     "82e2dea6edca4a3a90f65e7869967061": {
      "model_module": "jupyter-js-widgets",
      "model_module_version": "~2.1.4",
      "model_name": "LayoutModel",
      "state": {
       "_model_module_version": "~2.1.4",
       "_view_module_version": "~2.1.4"
      }
     },
     "84df6044c3914cd99bbd2c9f74a6436d": {
      "model_module": "jupyter-js-widgets",
      "model_module_version": "~2.1.4",
      "model_name": "TextModel",
      "state": {
       "_model_module_version": "~2.1.4",
       "_view_module_version": "~2.1.4",
       "description": "x",
       "layout": "IPY_MODEL_61ebfd2d61f641e18d9a6e8f53889bf7",
       "value": "Текст"
      }
     },
     "89392a7999ee4f178a0e8cfa60e29e6f": {
      "model_module": "jupyter-js-widgets",
      "model_module_version": "~2.1.4",
      "model_name": "LayoutModel",
      "state": {
       "_model_module_version": "~2.1.4",
       "_view_module_version": "~2.1.4"
      }
     },
     "89f72d05390e4247817d4e0799e559ab": {
      "model_module": "jupyter-js-widgets",
      "model_module_version": "~2.1.4",
      "model_name": "LayoutModel",
      "state": {
       "_model_module_version": "~2.1.4",
       "_view_module_version": "~2.1.4"
      }
     },
     "8cef63d7257e4dc2b75a738adb3cbb5c": {
      "model_module": "jupyter-js-widgets",
      "model_module_version": "~2.1.4",
      "model_name": "LayoutModel",
      "state": {
       "_model_module_version": "~2.1.4",
       "_view_module_version": "~2.1.4"
      }
     },
     "8d6f732532ab4977a9cdbda81f12bf92": {
      "model_module": "jupyter-js-widgets",
      "model_module_version": "~2.1.4",
      "model_name": "IntSliderModel",
      "state": {
       "_model_module_version": "~2.1.4",
       "_view_module_version": "~2.1.4",
       "layout": "IPY_MODEL_6fc9b13f163b47f2ae0033ab685b655e",
       "style": "IPY_MODEL_e549d02b8d844e8b9e1bdee6060774c5"
      }
     },
     "8ef22582443b4c26b012b89372a471e1": {
      "model_module": "jupyter-js-widgets",
      "model_module_version": "~2.1.4",
      "model_name": "LayoutModel",
      "state": {
       "_model_module_version": "~2.1.4",
       "_view_module_version": "~2.1.4"
      }
     },
     "9200ee3826b648df9358da4f53550e5a": {
      "model_module": "jupyter-js-widgets",
      "model_module_version": "~2.1.4",
      "model_name": "DropdownModel",
      "state": {
       "_model_module_version": "~2.1.4",
       "_options_labels": [
        "2",
        "3",
        "4",
        "5"
       ],
       "_view_module_version": "~2.1.4",
       "description": "n",
       "layout": "IPY_MODEL_362f6211bb88462388b588c42505fb22",
       "value": "3"
      }
     },
     "94a8f8d7a6a34c199e011ab57b6372f3": {
      "model_module": "jupyter-js-widgets",
      "model_module_version": "~2.1.4",
      "model_name": "SliderStyleModel",
      "state": {
       "_model_module_version": "~2.1.4",
       "_view_module_version": "~2.1.4"
      }
     },
     "94ec49c40370498da32fd2922d1ef1b6": {
      "model_module": "jupyter-js-widgets",
      "model_module_version": "~2.1.4",
      "model_name": "LayoutModel",
      "state": {
       "_model_module_version": "~2.1.4",
       "_view_module_version": "~2.1.4"
      }
     },
     "95406bd2ef3c4653ab4d6fd2720e6332": {
      "model_module": "jupyter-js-widgets",
      "model_module_version": "~2.1.4",
      "model_name": "SliderStyleModel",
      "state": {
       "_model_module_version": "~2.1.4",
       "_view_module_version": "~2.1.4"
      }
     },
     "98d7cd0b3e414a44ac3dc80782f44711": {
      "model_module": "jupyter-js-widgets",
      "model_module_version": "~2.1.4",
      "model_name": "IntSliderModel",
      "state": {
       "_model_module_version": "~2.1.4",
       "_view_module_version": "~2.1.4",
       "description": "x",
       "layout": "IPY_MODEL_341ef4605d5a428d86e0e421894a079d",
       "max": 30,
       "min": -10,
       "style": "IPY_MODEL_49daadf20cbd48c2a97f0f1641aa9c21",
       "value": 10
      }
     },
     "99d705efeabf4397a45cc617f48161fb": {
      "model_module": "jupyter-js-widgets",
      "model_module_version": "~2.1.4",
      "model_name": "OutputModel",
      "state": {
       "_dom_classes": [],
       "_model_module": "jupyter-js-widgets",
       "_model_module_version": "~2.1.4",
       "_view_module": "jupyter-js-widgets",
       "_view_module_version": "~2.1.4",
       "layout": "IPY_MODEL_7bc616f773b847b78a064cd032cbe67c",
       "msg_throttle": 1
      }
     },
     "9caddc2c043040c9b4f85ab6d43d117e": {
      "model_module": "jupyter-js-widgets",
      "model_module_version": "~2.1.4",
      "model_name": "VBoxModel",
      "state": {
       "_dom_classes": [
        "widget-interact"
       ],
       "_model_module_version": "~2.1.4",
       "_view_module_version": "~2.1.4",
       "children": [
        "IPY_MODEL_98d7cd0b3e414a44ac3dc80782f44711",
        "IPY_MODEL_03f32c3d39a8498d80c8cb6ad2ba19fc"
       ],
       "layout": "IPY_MODEL_8ef22582443b4c26b012b89372a471e1"
      }
     },
     "9e9a94b5d20e4ba3bb0bce6d922ac093": {
      "model_module": "jupyter-js-widgets",
      "model_module_version": "~2.1.4",
      "model_name": "VBoxModel",
      "state": {
       "_dom_classes": [
        "widget-interact"
       ],
       "_model_module_version": "~2.1.4",
       "_view_module_version": "~2.1.4",
       "children": [
        "IPY_MODEL_7ec2551f2ea9481f9eb2c0f5b2f65ec5",
        "IPY_MODEL_b4ad0a139fc7448192d82488ba6276ec"
       ],
       "layout": "IPY_MODEL_e542c64525c84a99a8f9cb1ecea0948f"
      }
     },
     "9f3177577e104bf987cfefbbac06188c": {
      "model_module": "jupyter-js-widgets",
      "model_module_version": "~2.1.4",
      "model_name": "ButtonStyleModel",
      "state": {
       "_model_module_version": "~2.1.4",
       "_view_module_version": "~2.1.4"
      }
     },
     "a068179716184c5d96a5a28be54c3a24": {
      "model_module": "jupyter-js-widgets",
      "model_module_version": "~2.1.4",
      "model_name": "TextareaModel",
      "state": {
       "_model_module_version": "~2.1.4",
       "_view_module_version": "~2.1.4",
       "description": "Адрес:",
       "layout": "IPY_MODEL_46c00abaf681431a95876cd7a27b55e9",
       "placeholder": "Не дом и не улица",
       "value": "Адрес"
      }
     },
     "a2645c00b5e84ad4915e6962720da693": {
      "model_module": "jupyter-js-widgets",
      "model_module_version": "~2.1.4",
      "model_name": "LabelModel",
      "state": {
       "_model_module_version": "~2.1.4",
       "_view_module_version": "~2.1.4",
       "layout": "IPY_MODEL_1c99d6d599144973b55f7900a4fa7e15",
       "value": "Способ доставки:"
      }
     },
     "a9f9f2b444f340e0acaf3c6c7a687d1b": {
      "model_module": "jupyter-js-widgets",
      "model_module_version": "~2.1.4",
      "model_name": "OutputModel",
      "state": {
       "_dom_classes": [],
       "_model_module": "jupyter-js-widgets",
       "_model_module_version": "~2.1.4",
       "_view_module": "jupyter-js-widgets",
       "_view_module_version": "~2.1.4",
       "layout": "IPY_MODEL_3487ba5d450f43fb8cab952b175588ca",
       "msg_throttle": 1
      }
     },
     "af6d704cf5ab4839aee800ecf100ef53": {
      "model_module": "jupyter-js-widgets",
      "model_module_version": "~2.1.4",
      "model_name": "LayoutModel",
      "state": {
       "_model_module_version": "~2.1.4",
       "_view_module_version": "~2.1.4"
      }
     },
     "b12a1ffb56f845e5b3b6e244e5692aa7": {
      "model_module": "jupyter-js-widgets",
      "model_module_version": "~2.1.4",
      "model_name": "AccordionModel",
      "state": {
       "_model_module_version": "~2.1.4",
       "_titles": {
        "0": "Способ доставки:",
        "1": "Способ оплаты:",
        "2": "Дата доставки:",
        "3": "Время доставки:",
        "4": "Комментарий:",
        "5": "Адрес доставки:"
       },
       "_view_module_version": "~2.1.4",
       "children": [
        "IPY_MODEL_58d325a9c8c24a12b14e9a7c7c6c28d7",
        "IPY_MODEL_57f06471f2a84473941a2597346bf362",
        "IPY_MODEL_49dd50bd2fd14b4986daf757f23c4b21",
        "IPY_MODEL_416c8e605c3d4146a526ec023ec3f352",
        "IPY_MODEL_00ae2ec192a74dec96b47de017aaa814",
        "IPY_MODEL_a068179716184c5d96a5a28be54c3a24"
       ],
       "layout": "IPY_MODEL_b7dfea74af8c4c3d9553e24290c75c7d"
      }
     },
     "b21c3cc79dbc47cf88edaf9f7dc965f7": {
      "model_module": "jupyter-js-widgets",
      "model_module_version": "~2.1.4",
      "model_name": "LayoutModel",
      "state": {
       "_model_module_version": "~2.1.4",
       "_view_module_version": "~2.1.4"
      }
     },
     "b4a196322eae40d3adad9a2c5878cf7a": {
      "model_module": "jupyter-js-widgets",
      "model_module_version": "~2.1.4",
      "model_name": "VBoxModel",
      "state": {
       "_dom_classes": [
        "widget-interact"
       ],
       "_model_module_version": "~2.1.4",
       "_view_module_version": "~2.1.4",
       "children": [
        "IPY_MODEL_545a9aea8a79480eaae2a43662ab07eb",
        "IPY_MODEL_04b7b27aaa2f4f329622f915a6eed099"
       ],
       "layout": "IPY_MODEL_3b0a7b5b8771487fa594b86b538130c8"
      }
     },
     "b4ad0a139fc7448192d82488ba6276ec": {
      "model_module": "jupyter-js-widgets",
      "model_module_version": "~2.1.4",
      "model_name": "OutputModel",
      "state": {
       "_dom_classes": [],
       "_model_module": "jupyter-js-widgets",
       "_model_module_version": "~2.1.4",
       "_view_module": "jupyter-js-widgets",
       "_view_module_version": "~2.1.4",
       "layout": "IPY_MODEL_89392a7999ee4f178a0e8cfa60e29e6f",
       "msg_throttle": 1
      }
     },
     "b761b50ba78642fe88ba7233ff4629d7": {
      "model_module": "jupyter-js-widgets",
      "model_module_version": "~2.1.4",
      "model_name": "LayoutModel",
      "state": {
       "_model_module_version": "~2.1.4",
       "_view_module_version": "~2.1.4"
      }
     },
     "b7a3d6dc6c1546e1a8a920767bc930f0": {
      "model_module": "jupyter-js-widgets",
      "model_module_version": "~2.1.4",
      "model_name": "OutputModel",
      "state": {
       "_dom_classes": [],
       "_model_module": "jupyter-js-widgets",
       "_model_module_version": "~2.1.4",
       "_view_module": "jupyter-js-widgets",
       "_view_module_version": "~2.1.4",
       "layout": "IPY_MODEL_82ddc0b044be4ca2a56fa5ac258247f0",
       "msg_throttle": 1
      }
     },
     "b7dfea74af8c4c3d9553e24290c75c7d": {
      "model_module": "jupyter-js-widgets",
      "model_module_version": "~2.1.4",
      "model_name": "LayoutModel",
      "state": {
       "_model_module_version": "~2.1.4",
       "_view_module_version": "~2.1.4"
      }
     },
     "b88ca3385fb7482dbb9b75a2ff35aeb2": {
      "model_module": "jupyter-js-widgets",
      "model_module_version": "~2.1.4",
      "model_name": "ButtonStyleModel",
      "state": {
       "_model_module_version": "~2.1.4",
       "_view_module_version": "~2.1.4"
      }
     },
     "bad2e6b128444c8d94e4db83a0a580a6": {
      "model_module": "jupyter-js-widgets",
      "model_module_version": "~2.1.4",
      "model_name": "LayoutModel",
      "state": {
       "_model_module_version": "~2.1.4",
       "_view_module_version": "~2.1.4"
      }
     },
     "bae5855bae314025b025a3ffdb86afec": {
      "model_module": "jupyter-js-widgets",
      "model_module_version": "~2.1.4",
      "model_name": "ButtonStyleModel",
      "state": {
       "_model_module_version": "~2.1.4",
       "_view_module_version": "~2.1.4"
      }
     },
     "bf35db84a9d04d5dac18eb1a1f33f6b5": {
      "model_module": "jupyter-js-widgets",
      "model_module_version": "~2.1.4",
      "model_name": "FloatSliderModel",
      "state": {
       "_model_module_version": "~2.1.4",
       "_view_module_version": "~2.1.4",
       "description": "x",
       "layout": "IPY_MODEL_e2831bc7d0e34a2a9dd699cbc3ddf96a",
       "max": 3,
       "min": -1,
       "step": 0.1,
       "value": 1
      }
     },
     "c01aa8fd2e9447b9b51efa5f11b6f9c7": {
      "model_module": "jupyter-js-widgets",
      "model_module_version": "~2.1.4",
      "model_name": "LayoutModel",
      "state": {
       "_model_module_version": "~2.1.4",
       "_view_module_version": "~2.1.4"
      }
     },
     "c04098ceb0ce437eb5b3b815003ac637": {
      "model_module": "jupyter-js-widgets",
      "model_module_version": "~2.1.4",
      "model_name": "IntSliderModel",
      "state": {
       "_model_module_version": "~2.1.4",
       "_view_module_version": "~2.1.4",
       "description": "Высота",
       "layout": "IPY_MODEL_b761b50ba78642fe88ba7233ff4629d7",
       "max": 40,
       "min": 2,
       "step": 2,
       "style": "IPY_MODEL_e3b1be8eff5c4b61b6c155260df01820",
       "value": 2
      }
     },
     "c6c4ffb55d9c434b98165a35d501a520": {
      "model_module": "jupyter-js-widgets",
      "model_module_version": "~2.1.4",
      "model_name": "ButtonModel",
      "state": {
       "_model_module_version": "~2.1.4",
       "_view_module_version": "~2.1.4",
       "description": "Проверить дату",
       "layout": "IPY_MODEL_2cd09a448e884960916250ef64ecdfcc",
       "style": "IPY_MODEL_bae5855bae314025b025a3ffdb86afec"
      }
     },
     "c8b5b24437044ea8974dc8fbc291a7d6": {
      "model_module": "jupyter-js-widgets",
      "model_module_version": "~2.1.4",
      "model_name": "LabelModel",
      "state": {
       "_model_module_version": "~2.1.4",
       "_view_module_version": "~2.1.4",
       "layout": "IPY_MODEL_f2be1740943b4948bf3f0e05a238e025",
       "value": "Дата доставки:"
      }
     },
     "c8e0832f51eb40f79365c40f58c32b3b": {
      "model_module": "jupyter-js-widgets",
      "model_module_version": "~2.1.4",
      "model_name": "IntSliderModel",
      "state": {
       "_model_module_version": "~2.1.4",
       "_view_module_version": "~2.1.4",
       "layout": "IPY_MODEL_ffd3880d40074e3bb2746da03532f4e6",
       "style": "IPY_MODEL_529fe2ce457e413da8e82f965d6a67f8"
      }
     },
     "ca73746bb1374f65b29203b82bfc2124": {
      "model_module": "jupyter-js-widgets",
      "model_module_version": "~2.1.4",
      "model_name": "LinkModel",
      "state": {
       "_model_module_version": "~2.1.4",
       "_view_module_version": "~2.1.4",
       "source": [
        "IPY_MODEL_0784c350e9ec48789f8e3ab6264ecb08",
        "value"
       ],
       "target": [
        "IPY_MODEL_44fa9840ead04323b9af6084887fb04f",
        "value"
       ]
      }
     },
     "cd755092b932430cbfc5ae0afba181db": {
      "model_module": "jupyter-js-widgets",
      "model_module_version": "~2.1.4",
      "model_name": "LayoutModel",
      "state": {
       "_model_module_version": "~2.1.4",
       "_view_module_version": "~2.1.4"
      }
     },
     "d5e4a6babdff485d8bcd98ca4e8dae20": {
      "model_module": "jupyter-js-widgets",
      "model_module_version": "~2.1.4",
      "model_name": "LayoutModel",
      "state": {
       "_model_module_version": "~2.1.4",
       "_view_module_version": "~2.1.4"
      }
     },
     "d6bc1cc46bfb402a808fa16535077fc1": {
      "model_module": "jupyter-js-widgets",
      "model_module_version": "~2.1.4",
      "model_name": "OutputModel",
      "state": {
       "_dom_classes": [],
       "_model_module": "jupyter-js-widgets",
       "_model_module_version": "~2.1.4",
       "_view_module": "jupyter-js-widgets",
       "_view_module_version": "~2.1.4",
       "layout": "IPY_MODEL_607ca09cb8ea4b4bb7f6add131e30b8f",
       "msg_throttle": 1
      }
     },
     "d8cfe2f720114e9f975261b5d986def9": {
      "model_module": "jupyter-js-widgets",
      "model_module_version": "~2.1.4",
      "model_name": "LayoutModel",
      "state": {
       "_model_module_version": "~2.1.4",
       "_view_module_version": "~2.1.4"
      }
     },
     "e02043b91abc4265bd4b49413f78569e": {
      "model_module": "jupyter-js-widgets",
      "model_module_version": "~2.1.4",
      "model_name": "LayoutModel",
      "state": {
       "_model_module_version": "~2.1.4",
       "_view_module_version": "~2.1.4"
      }
     },
     "e08d55c3965e40a19a1d44cbd3977b67": {
      "model_module": "jupyter-js-widgets",
      "model_module_version": "~2.1.4",
      "model_name": "SelectMultipleModel",
      "state": {
       "_model_module_version": "~2.1.4",
       "_options_labels": [
        "Ручка",
        "Стикер",
        "Скидка"
       ],
       "_view_module_version": "~2.1.4",
       "description": "Бонусы",
       "layout": "IPY_MODEL_5c2f7fdbd6eb4f13bedee7cdd8853a9c",
       "value": [
        "Стикер"
       ]
      }
     },
     "e19a43206be749c2a727b0f0f4f92b1e": {
      "model_module": "jupyter-js-widgets",
      "model_module_version": "~2.1.4",
      "model_name": "LayoutModel",
      "state": {
       "_model_module_version": "~2.1.4",
       "_view_module_version": "~2.1.4"
      }
     },
     "e2831bc7d0e34a2a9dd699cbc3ddf96a": {
      "model_module": "jupyter-js-widgets",
      "model_module_version": "~2.1.4",
      "model_name": "LayoutModel",
      "state": {
       "_model_module_version": "~2.1.4",
       "_view_module_version": "~2.1.4"
      }
     },
     "e3b1be8eff5c4b61b6c155260df01820": {
      "model_module": "jupyter-js-widgets",
      "model_module_version": "~2.1.4",
      "model_name": "SliderStyleModel",
      "state": {
       "_model_module_version": "~2.1.4",
       "_view_module_version": "~2.1.4"
      }
     },
     "e542c64525c84a99a8f9cb1ecea0948f": {
      "model_module": "jupyter-js-widgets",
      "model_module_version": "~2.1.4",
      "model_name": "LayoutModel",
      "state": {
       "_model_module_version": "~2.1.4",
       "_view_module_version": "~2.1.4"
      }
     },
     "e549d02b8d844e8b9e1bdee6060774c5": {
      "model_module": "jupyter-js-widgets",
      "model_module_version": "~2.1.4",
      "model_name": "SliderStyleModel",
      "state": {
       "_model_module_version": "~2.1.4",
       "_view_module_version": "~2.1.4"
      }
     },
     "e7ddae182b0f4308949a580c6e8e324d": {
      "model_module": "jupyter-js-widgets",
      "model_module_version": "~2.1.4",
      "model_name": "LayoutModel",
      "state": {
       "_model_module_version": "~2.1.4",
       "_view_module_version": "~2.1.4"
      }
     },
     "e967f51474b0422aa9b33ac7535d76c0": {
      "model_module": "jupyter-js-widgets",
      "model_module_version": "~2.1.4",
      "model_name": "LayoutModel",
      "state": {
       "_model_module_version": "~2.1.4",
       "_view_module_version": "~2.1.4",
       "width": "40%"
      }
     },
     "ef8d3175bf0f44eabe3d45eaafdec361": {
      "model_module": "jupyter-js-widgets",
      "model_module_version": "~2.1.4",
      "model_name": "LayoutModel",
      "state": {
       "_model_module_version": "~2.1.4",
       "_view_module_version": "~2.1.4"
      }
     },
     "f05040de997744f2869f76f657fcfe0a": {
      "model_module": "jupyter-js-widgets",
      "model_module_version": "~2.1.4",
      "model_name": "VBoxModel",
      "state": {
       "_model_module_version": "~2.1.4",
       "_view_module_version": "~2.1.4",
       "children": [
        "IPY_MODEL_387fac4dc489430c82363b66b1e55c81",
        "IPY_MODEL_2d8e2ce1b2034ea2af641a7fc81043f3"
       ],
       "layout": "IPY_MODEL_185813840ba749c3b71befd32af4eb91"
      }
     },
     "f1aca80a65cf4423ba130ae69b871827": {
      "model_module": "jupyter-js-widgets",
      "model_module_version": "~2.1.4",
      "model_name": "TextModel",
      "state": {
       "_model_module_version": "~2.1.4",
       "_view_module_version": "~2.1.4",
       "description": "Комментарий к доставке:",
       "layout": "IPY_MODEL_af6d704cf5ab4839aee800ecf100ef53",
       "value": " "
      }
     },
     "f2be1740943b4948bf3f0e05a238e025": {
      "model_module": "jupyter-js-widgets",
      "model_module_version": "~2.1.4",
      "model_name": "LayoutModel",
      "state": {
       "_model_module_version": "~2.1.4",
       "_view_module_version": "~2.1.4"
      }
     },
     "f3e89fdb44f847ad9d2c69990d6ade12": {
      "model_module": "jupyter-js-widgets",
      "model_module_version": "~2.1.4",
      "model_name": "LayoutModel",
      "state": {
       "_model_module_version": "~2.1.4",
       "_view_module_version": "~2.1.4"
      }
     },
     "f4cb5f2353cd4a5b97fa68bf70a35353": {
      "model_module": "jupyter-js-widgets",
      "model_module_version": "~2.1.4",
      "model_name": "LayoutModel",
      "state": {
       "_model_module_version": "~2.1.4",
       "_view_module_version": "~2.1.4"
      }
     },
     "f4d10f141a1347f9bfd125808a9f80a9": {
      "model_module": "jupyter-js-widgets",
      "model_module_version": "~2.1.4",
      "model_name": "FloatSliderModel",
      "state": {
       "_model_module_version": "~2.1.4",
       "_view_module_version": "~2.1.4",
       "description": "Ширина",
       "layout": "IPY_MODEL_82e2dea6edca4a3a90f65e7869967061",
       "max": 80,
       "min": 2,
       "step": 0.5,
       "value": 5
      }
     },
     "f8633f5d19b049ef8025de47ab1c2a92": {
      "model_module": "jupyter-js-widgets",
      "model_module_version": "~2.1.4",
      "model_name": "LayoutModel",
      "state": {
       "_model_module_version": "~2.1.4",
       "_view_module_version": "~2.1.4",
       "width": "40%"
      }
     },
     "fb5063eb5f124f98b96a82e81b18082b": {
      "model_module": "jupyter-js-widgets",
      "model_module_version": "~2.1.4",
      "model_name": "DropdownModel",
      "state": {
       "_model_module_version": "~2.1.4",
       "_options_labels": [
        "Сумма",
        "Произведение"
       ],
       "_view_module_version": "~2.1.4",
       "description": "z",
       "layout": "IPY_MODEL_29d10fbd6ec546b086f8696490bffab6",
       "value": "Сумма"
      }
     },
     "fc025734e37945e79cf3b7a26e7d0e5c": {
      "model_module": "jupyter-js-widgets",
      "model_module_version": "~2.1.4",
      "model_name": "TabModel",
      "state": {
       "_model_module_version": "~2.1.4",
       "_titles": {
        "0": "Заказ:",
        "1": "Доставка:"
       },
       "_view_module_version": "~2.1.4",
       "children": [
        "IPY_MODEL_08672228a8424277a58e2a4088185d17",
        "IPY_MODEL_b12a1ffb56f845e5b3b6e244e5692aa7"
       ],
       "layout": "IPY_MODEL_79e4afaa8de54563b0006ae3f6ab57bb"
      }
     },
     "fd438fbe123045aeaaf4cf176456bfd2": {
      "model_module": "jupyter-js-widgets",
      "model_module_version": "~2.1.4",
      "model_name": "DatePickerModel",
      "state": {
       "_model_module_version": "~2.1.4",
       "_view_module_version": "~2.1.4",
       "layout": "IPY_MODEL_2d0d1daeb87a48a0a2d6f24665566511"
      }
     },
     "fe040b459b4948678513a0c3d46af7fc": {
      "model_module": "jupyter-js-widgets",
      "model_module_version": "~2.1.4",
      "model_name": "VBoxModel",
      "state": {
       "_dom_classes": [
        "widget-interact"
       ],
       "_model_module_version": "~2.1.4",
       "_view_module_version": "~2.1.4",
       "children": [
        "IPY_MODEL_02983dce542544efaef173d2adf087ae",
        "IPY_MODEL_99d705efeabf4397a45cc617f48161fb"
       ],
       "layout": "IPY_MODEL_ef8d3175bf0f44eabe3d45eaafdec361"
      }
     },
     "ffd3880d40074e3bb2746da03532f4e6": {
      "model_module": "jupyter-js-widgets",
      "model_module_version": "~2.1.4",
      "model_name": "LayoutModel",
      "state": {
       "_model_module_version": "~2.1.4",
       "_view_module_version": "~2.1.4"
      }
     }
    },
    "version_major": 1,
    "version_minor": 0
   }
  }
 },
 "nbformat": 4,
 "nbformat_minor": 2
}
