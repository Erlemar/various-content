{
 "cells": [
  {
   "cell_type": "markdown",
   "metadata": {},
   "source": [
    "# Использование ipywidgets в jupyter notebook\n",
    "\n",
    "Виджеты в jupyter notebook - это по сути добавление к интерфейсу тетрадок. Они привносят интерактив, могут использоваться для хранения и передачи информации. С их помощью можно превратить тетрадку в нечто понятное простому пользователю и использовать как dashboard или простой аналитический инструмент.\n",
    "\n",
    "Вот что вы увидите:\n",
    "\n",
    "* как установить нужные библиотеки;\n",
    "* как использовать виджеты;\n",
    "* основные виды виджетов;\n",
    "* как можно объединять виджеты и для чего они могут использоваться;\n",
    "* пример того, как можно сделать виджеты, позволяющие простому человеку с помощью элементов интерейса проанализировать данные, построить визуализацию и попробовать машинное обучение;\n",
    "* небольшой бонус с рассказом о расширенных возможностях tqdm;"
   ]
  },
  {
   "cell_type": "code",
   "execution_count": 3,
   "metadata": {},
   "outputs": [
    {
     "data": {
      "text/plain": [
       "1"
      ]
     },
     "execution_count": 3,
     "metadata": {},
     "output_type": "execute_result"
    }
   ],
   "source": [
    "1"
   ]
  },
  {
   "cell_type": "markdown",
   "metadata": {},
   "source": [
    "## Установка\n",
    "\n",
    "Установка сама по себе не является сложной: это можно сделать через pip:\n",
    "\n",
    "```python\n",
    "pip install ipywidgets\n",
    "jupyter nbextension enable --py widgetsnbextension\n",
    "```\n",
    "\n",
    "Или через Anaconda:\n",
    "\n",
    "```python\n",
    "conda install -c conda-forge ipywidgets\n",
    "```\n",
    "\n",
    "Стоит также установить widgetsnbextension.\n",
    "\n",
    "Проблема бывает с тем, что виджеты перестают работать. Обычно помогает установка последних версий. Причём обновление через Anacona Navigator может не помочь, поскольку при установке мог использоваться канал, в котором нет последней версии. Так что при возникновении проблем стоит сразу проверить это."
   ]
  },
  {
   "cell_type": "code",
   "execution_count": 4,
   "metadata": {
    "collapsed": true
   },
   "outputs": [],
   "source": [
    "#Импорт библиотек\n",
    "from ipywidgets import interact, interactive, fixed, interact_manual\n",
    "import ipywidgets as widgets\n",
    "\n",
    "import time\n",
    "import numpy as np\n",
    "import pandas as pd\n",
    "import seaborn as sns\n",
    "import matplotlib.pyplot as plt\n",
    "\n",
    "%matplotlib inline\n",
    "\n",
    "from IPython.display import display\n",
    "from IPython.display import clear_output"
   ]
  },
  {
   "cell_type": "markdown",
   "metadata": {},
   "source": [
    "## Основные способы использования виджетов"
   ]
  },
  {
   "cell_type": "markdown",
   "metadata": {},
   "source": [
    "Во-первых, можно просто отобразить виджет сам по себе."
   ]
  },
  {
   "cell_type": "code",
   "execution_count": 5,
   "metadata": {},
   "outputs": [
    {
     "data": {
      "application/vnd.jupyter.widget-view+json": {
       "model_id": "07f786fcd3d04d3b8aed7169a6b36f12",
       "version_major": 2,
       "version_minor": 0
      },
      "text/html": [
       "<p>Failed to display Jupyter Widget of type <code>IntSlider</code>.</p>\n",
       "<p>\n",
       "  If you're reading this message in Jupyter Notebook or JupyterLab, it may mean\n",
       "  that the widgets JavaScript is still loading. If this message persists, it\n",
       "  likely means that the widgets JavaScript library is either not installed or\n",
       "  not enabled. See the <a href=\"https://ipywidgets.readthedocs.io/en/stable/user_install.html\">Jupyter\n",
       "  Widgets Documentation</a> for setup instructions.\n",
       "</p>\n",
       "<p>\n",
       "  If you're reading this message in another notebook frontend (for example, a static\n",
       "  rendering on GitHub or <a href=\"https://nbviewer.jupyter.org/\">NBViewer</a>),\n",
       "  it may mean that your frontend doesn't currently support widgets.\n",
       "</p>\n"
      ],
      "text/plain": [
       "IntSlider(value=0)"
      ]
     },
     "metadata": {},
     "output_type": "display_data"
    }
   ],
   "source": [
    "widgets.IntSlider()"
   ]
  },
  {
   "cell_type": "markdown",
   "metadata": {},
   "source": [
    "Но это просто создаёт слайдер, с которым можно поиграться, а пользы от него нет. Следующим шагом является создание переменной с виджетом"
   ]
  },
  {
   "cell_type": "code",
   "execution_count": 6,
   "metadata": {
    "scrolled": true
   },
   "outputs": [
    {
     "data": {
      "application/vnd.jupyter.widget-view+json": {
       "model_id": "5233682d80ff49ef9bb9800280b1bf58",
       "version_major": 2,
       "version_minor": 0
      },
      "text/html": [
       "<p>Failed to display Jupyter Widget of type <code>IntSlider</code>.</p>\n",
       "<p>\n",
       "  If you're reading this message in Jupyter Notebook or JupyterLab, it may mean\n",
       "  that the widgets JavaScript is still loading. If this message persists, it\n",
       "  likely means that the widgets JavaScript library is either not installed or\n",
       "  not enabled. See the <a href=\"https://ipywidgets.readthedocs.io/en/stable/user_install.html\">Jupyter\n",
       "  Widgets Documentation</a> for setup instructions.\n",
       "</p>\n",
       "<p>\n",
       "  If you're reading this message in another notebook frontend (for example, a static\n",
       "  rendering on GitHub or <a href=\"https://nbviewer.jupyter.org/\">NBViewer</a>),\n",
       "  it may mean that your frontend doesn't currently support widgets.\n",
       "</p>\n"
      ],
      "text/plain": [
       "IntSlider(value=0)"
      ]
     },
     "metadata": {},
     "output_type": "display_data"
    }
   ],
   "source": [
    "w = widgets.IntSlider()\n",
    "w"
   ]
  },
  {
   "cell_type": "markdown",
   "metadata": {},
   "source": [
    "И теперь мы можем получить значение виджета и использовать для чего-нибудь."
   ]
  },
  {
   "cell_type": "code",
   "execution_count": 7,
   "metadata": {},
   "outputs": [
    {
     "name": "stdout",
     "output_type": "stream",
     "text": [
      "0 0\n"
     ]
    }
   ],
   "source": [
    "print(w.value, w.value ** 2)"
   ]
  },
  {
   "cell_type": "markdown",
   "metadata": {},
   "source": [
    "Другой вариант - отображение виджета с помощью функции IPython display, но это работает точно также как и сам вызов переменной."
   ]
  },
  {
   "cell_type": "code",
   "execution_count": 8,
   "metadata": {},
   "outputs": [
    {
     "data": {
      "application/vnd.jupyter.widget-view+json": {
       "model_id": "5233682d80ff49ef9bb9800280b1bf58",
       "version_major": 2,
       "version_minor": 0
      },
      "text/html": [
       "<p>Failed to display Jupyter Widget of type <code>IntSlider</code>.</p>\n",
       "<p>\n",
       "  If you're reading this message in Jupyter Notebook or JupyterLab, it may mean\n",
       "  that the widgets JavaScript is still loading. If this message persists, it\n",
       "  likely means that the widgets JavaScript library is either not installed or\n",
       "  not enabled. See the <a href=\"https://ipywidgets.readthedocs.io/en/stable/user_install.html\">Jupyter\n",
       "  Widgets Documentation</a> for setup instructions.\n",
       "</p>\n",
       "<p>\n",
       "  If you're reading this message in another notebook frontend (for example, a static\n",
       "  rendering on GitHub or <a href=\"https://nbviewer.jupyter.org/\">NBViewer</a>),\n",
       "  it may mean that your frontend doesn't currently support widgets.\n",
       "</p>\n"
      ],
      "text/plain": [
       "IntSlider(value=0)"
      ]
     },
     "metadata": {},
     "output_type": "display_data"
    }
   ],
   "source": [
    "display(w)"
   ]
  },
  {
   "cell_type": "markdown",
   "metadata": {},
   "source": [
    "Вы передвигали слайдер в прошлой ячейке? Если нет - попробуйте. Можно заметить, что слайдер двигается в обеих ячейках, где была использована переменная w. Это нормальное поведение - у нас есть лишь один объект на back-end, так что получаются синхронизированные объекты на front-end.\n",
    "\n",
    "После того как в виджете было установлено некое значение, виджет можно закрыть командой `w.close()`."
   ]
  },
  {
   "cell_type": "markdown",
   "metadata": {},
   "source": [
    "Пока мы видели простые виджеты, значения которых можно было использовать в дальнейшем. Если же хочется, чтобы с выбранным значением что-то произошло сразу, стоит использовать `interact`. `interact` позволяет вызывать функцию, в которую передаётся значение виджета. При изменении значения виджета функция будет динамически показывать обновлённый результат."
   ]
  },
  {
   "cell_type": "code",
   "execution_count": 9,
   "metadata": {
    "collapsed": true
   },
   "outputs": [],
   "source": [
    "def f(x):\n",
    "    return x, str(x) * 2"
   ]
  },
  {
   "cell_type": "code",
   "execution_count": 10,
   "metadata": {
    "scrolled": true
   },
   "outputs": [
    {
     "data": {
      "application/vnd.jupyter.widget-view+json": {
       "model_id": "55a35aae56cf4463af4594f1dda01aeb",
       "version_major": 2,
       "version_minor": 0
      },
      "text/html": [
       "<p>Failed to display Jupyter Widget of type <code>interactive</code>.</p>\n",
       "<p>\n",
       "  If you're reading this message in Jupyter Notebook or JupyterLab, it may mean\n",
       "  that the widgets JavaScript is still loading. If this message persists, it\n",
       "  likely means that the widgets JavaScript library is either not installed or\n",
       "  not enabled. See the <a href=\"https://ipywidgets.readthedocs.io/en/stable/user_install.html\">Jupyter\n",
       "  Widgets Documentation</a> for setup instructions.\n",
       "</p>\n",
       "<p>\n",
       "  If you're reading this message in another notebook frontend (for example, a static\n",
       "  rendering on GitHub or <a href=\"https://nbviewer.jupyter.org/\">NBViewer</a>),\n",
       "  it may mean that your frontend doesn't currently support widgets.\n",
       "</p>\n"
      ],
      "text/plain": [
       "interactive(children=(IntSlider(value=10, description='x', max=30, min=-10), Output()), _dom_classes=('widget-interact',))"
      ]
     },
     "metadata": {},
     "output_type": "display_data"
    }
   ],
   "source": [
    "interact(f, x=10);"
   ]
  },
  {
   "cell_type": "markdown",
   "metadata": {},
   "source": [
    "Замечу, что в `interact` обязательно передавать начальное значение, поскольку это напрямую определяет тип виджета. Если передать int или float, то будет слайдер с соответствующими данными.\n",
    "\n",
    "Кроме того можно передать:\n",
    "\n",
    "* текст для получения поля ввода текста;\n",
    "* список/словарь значений для выпадающего списка;\n",
    "* булевое значение для чекбокса"
   ]
  },
  {
   "cell_type": "code",
   "execution_count": 11,
   "metadata": {},
   "outputs": [
    {
     "data": {
      "application/vnd.jupyter.widget-view+json": {
       "model_id": "3c0b27e50b15409eb2684a2e638398dc",
       "version_major": 2,
       "version_minor": 0
      },
      "text/html": [
       "<p>Failed to display Jupyter Widget of type <code>interactive</code>.</p>\n",
       "<p>\n",
       "  If you're reading this message in Jupyter Notebook or JupyterLab, it may mean\n",
       "  that the widgets JavaScript is still loading. If this message persists, it\n",
       "  likely means that the widgets JavaScript library is either not installed or\n",
       "  not enabled. See the <a href=\"https://ipywidgets.readthedocs.io/en/stable/user_install.html\">Jupyter\n",
       "  Widgets Documentation</a> for setup instructions.\n",
       "</p>\n",
       "<p>\n",
       "  If you're reading this message in another notebook frontend (for example, a static\n",
       "  rendering on GitHub or <a href=\"https://nbviewer.jupyter.org/\">NBViewer</a>),\n",
       "  it may mean that your frontend doesn't currently support widgets.\n",
       "</p>\n"
      ],
      "text/plain": [
       "interactive(children=(Text(value='Текст', description='x'), Output()), _dom_classes=('widget-interact',))"
      ]
     },
     "metadata": {},
     "output_type": "display_data"
    },
    {
     "data": {
      "application/vnd.jupyter.widget-view+json": {
       "model_id": "19e4102371ad4026b9e0f6d013cf9396",
       "version_major": 2,
       "version_minor": 0
      },
      "text/html": [
       "<p>Failed to display Jupyter Widget of type <code>interactive</code>.</p>\n",
       "<p>\n",
       "  If you're reading this message in Jupyter Notebook or JupyterLab, it may mean\n",
       "  that the widgets JavaScript is still loading. If this message persists, it\n",
       "  likely means that the widgets JavaScript library is either not installed or\n",
       "  not enabled. See the <a href=\"https://ipywidgets.readthedocs.io/en/stable/user_install.html\">Jupyter\n",
       "  Widgets Documentation</a> for setup instructions.\n",
       "</p>\n",
       "<p>\n",
       "  If you're reading this message in another notebook frontend (for example, a static\n",
       "  rendering on GitHub or <a href=\"https://nbviewer.jupyter.org/\">NBViewer</a>),\n",
       "  it may mean that your frontend doesn't currently support widgets.\n",
       "</p>\n"
      ],
      "text/plain": [
       "interactive(children=(Dropdown(description='x', options=('лопата', 'солнце'), value='лопата'), Output()), _dom_classes=('widget-interact',))"
      ]
     },
     "metadata": {},
     "output_type": "display_data"
    },
    {
     "data": {
      "application/vnd.jupyter.widget-view+json": {
       "model_id": "2bdc15222a1d48e88f63bdb102828457",
       "version_major": 2,
       "version_minor": 0
      },
      "text/html": [
       "<p>Failed to display Jupyter Widget of type <code>interactive</code>.</p>\n",
       "<p>\n",
       "  If you're reading this message in Jupyter Notebook or JupyterLab, it may mean\n",
       "  that the widgets JavaScript is still loading. If this message persists, it\n",
       "  likely means that the widgets JavaScript library is either not installed or\n",
       "  not enabled. See the <a href=\"https://ipywidgets.readthedocs.io/en/stable/user_install.html\">Jupyter\n",
       "  Widgets Documentation</a> for setup instructions.\n",
       "</p>\n",
       "<p>\n",
       "  If you're reading this message in another notebook frontend (for example, a static\n",
       "  rendering on GitHub or <a href=\"https://nbviewer.jupyter.org/\">NBViewer</a>),\n",
       "  it may mean that your frontend doesn't currently support widgets.\n",
       "</p>\n"
      ],
      "text/plain": [
       "interactive(children=(Checkbox(value=True, description='x'), Output()), _dom_classes=('widget-interact',))"
      ]
     },
     "metadata": {},
     "output_type": "display_data"
    }
   ],
   "source": [
    "interact(f, x='Текст');\n",
    "interact(f, x=['лопата', 'солнце']);\n",
    "interact(f, x=True);"
   ]
  },
  {
   "cell_type": "markdown",
   "metadata": {},
   "source": [
    "Кому-то может быть интересна возможность использовать `interact` в качестве декоратора. В таком случае функцию можно не передавать в `interact`."
   ]
  },
  {
   "cell_type": "code",
   "execution_count": 12,
   "metadata": {},
   "outputs": [
    {
     "data": {
      "application/vnd.jupyter.widget-view+json": {
       "model_id": "04c55d7d34eb43ebb69cf13d285b730b",
       "version_major": 2,
       "version_minor": 0
      },
      "text/html": [
       "<p>Failed to display Jupyter Widget of type <code>interactive</code>.</p>\n",
       "<p>\n",
       "  If you're reading this message in Jupyter Notebook or JupyterLab, it may mean\n",
       "  that the widgets JavaScript is still loading. If this message persists, it\n",
       "  likely means that the widgets JavaScript library is either not installed or\n",
       "  not enabled. See the <a href=\"https://ipywidgets.readthedocs.io/en/stable/user_install.html\">Jupyter\n",
       "  Widgets Documentation</a> for setup instructions.\n",
       "</p>\n",
       "<p>\n",
       "  If you're reading this message in another notebook frontend (for example, a static\n",
       "  rendering on GitHub or <a href=\"https://nbviewer.jupyter.org/\">NBViewer</a>),\n",
       "  it may mean that your frontend doesn't currently support widgets.\n",
       "</p>\n"
      ],
      "text/plain": [
       "interactive(children=(FloatSlider(value=1.0, description='x', max=3.0, min=-1.0), Output()), _dom_classes=('widget-interact',))"
      ]
     },
     "metadata": {},
     "output_type": "display_data"
    }
   ],
   "source": [
    "@interact(x=1.0)\n",
    "def g(x):\n",
    "    return x"
   ]
  },
  {
   "cell_type": "markdown",
   "metadata": {},
   "source": [
    "Наконец, есть такая интересная штука как `interactive`. По сути это является комбинацией двух предыдущих спообов: мы задаем функцию, а потом можем использовать как сами результаты, так и значения отдельных виджетов.\n",
    "\n",
    "По умолчанию `interactive` показывает только сами виджеты, но не результат функции. Чтобы увидеть результат, надо явно его отображать.\n",
    "\n",
    "Замечу, что можно использовать больше одной переменной и получить больше одного виджета."
   ]
  },
  {
   "cell_type": "code",
   "execution_count": 13,
   "metadata": {
    "collapsed": true
   },
   "outputs": [],
   "source": [
    "def f(x, y, z):\n",
    "    if z == 'Сумма':\n",
    "        display(x + y)\n",
    "        return x + y\n",
    "    else:\n",
    "        display(x * y)\n",
    "        return x * y"
   ]
  },
  {
   "cell_type": "code",
   "execution_count": 14,
   "metadata": {
    "collapsed": true
   },
   "outputs": [],
   "source": [
    "w = interactive(f, x=1, y=2.5, z=['Сумма', 'Произведение'])"
   ]
  },
  {
   "cell_type": "code",
   "execution_count": 15,
   "metadata": {},
   "outputs": [
    {
     "data": {
      "application/vnd.jupyter.widget-view+json": {
       "model_id": "2ea3f588be1243c78c6b8d3e0e32b5b3",
       "version_major": 2,
       "version_minor": 0
      },
      "text/html": [
       "<p>Failed to display Jupyter Widget of type <code>interactive</code>.</p>\n",
       "<p>\n",
       "  If you're reading this message in Jupyter Notebook or JupyterLab, it may mean\n",
       "  that the widgets JavaScript is still loading. If this message persists, it\n",
       "  likely means that the widgets JavaScript library is either not installed or\n",
       "  not enabled. See the <a href=\"https://ipywidgets.readthedocs.io/en/stable/user_install.html\">Jupyter\n",
       "  Widgets Documentation</a> for setup instructions.\n",
       "</p>\n",
       "<p>\n",
       "  If you're reading this message in another notebook frontend (for example, a static\n",
       "  rendering on GitHub or <a href=\"https://nbviewer.jupyter.org/\">NBViewer</a>),\n",
       "  it may mean that your frontend doesn't currently support widgets.\n",
       "</p>\n"
      ],
      "text/plain": [
       "interactive(children=(IntSlider(value=1, description='x', max=3, min=-1), FloatSlider(value=2.5, description='y', max=7.5, min=-2.5), Dropdown(description='z', options=('Сумма', 'Произведение'), value='Сумма'), Output()), _dom_classes=('widget-interact',))"
      ]
     },
     "metadata": {},
     "output_type": "display_data"
    }
   ],
   "source": [
    "w"
   ]
  },
  {
   "cell_type": "code",
   "execution_count": 16,
   "metadata": {},
   "outputs": [
    {
     "name": "stdout",
     "output_type": "stream",
     "text": [
      "{'x': 1, 'y': 2.5, 'z': 'Сумма'}\n",
      "3.5\n"
     ]
    }
   ],
   "source": [
    "print(w.kwargs)\n",
    "print(w.result)"
   ]
  },
  {
   "cell_type": "markdown",
   "metadata": {},
   "source": [
    "## Применение виджетов\n",
    "\n",
    "До сих пор я показывал отдельные виджеты и простые примеры их использования, но с ними можно делать много интересных вещей. Просто перечислять их - довольно нудно, поэтому я буду приводить примеры и на их основе объяснять возможности виджетов."
   ]
  },
  {
   "cell_type": "markdown",
   "metadata": {},
   "source": [
    "### Динамически изменяющиеся графики\n",
    "\n",
    "Мы уже видели, что в `interact` можно передавать функцию, результат которой будет обновляться при изменении параметров. Интереснее посмотреть это на примере построения графиков. Я хочу сделать график, который будет зависеть от задаваемого параметра, а также предложить возможность выбирать цвет графика."
   ]
  },
  {
   "cell_type": "markdown",
   "metadata": {},
   "source": [
    "Для начала нужно создать виджет для выбора цвета. Вообще говоря виджет можно передавать в функцию как значение параметра, но это громоздко, поэтому удобнее создать виджет, а потом передавать его в виде переменной.\n",
    "\n",
    "Виджет имеет следующие параметры:\n",
    "* concise - не показывает название выбранного цвета, если True;\n",
    "* description - описание, этот параметр есть у всех виджетов;\n",
    "* value - значение по умолчанию, опять же есть почти у всех виджетов;\n",
    "* disabled - возможность изменения значения виджета;"
   ]
  },
  {
   "cell_type": "code",
   "execution_count": 17,
   "metadata": {
    "collapsed": true
   },
   "outputs": [],
   "source": [
    "pick_color = widgets.ColorPicker(\n",
    "    concise=False,\n",
    "    description='Цвет линии:',\n",
    "    value='teal',\n",
    "    disabled=False\n",
    ")"
   ]
  },
  {
   "cell_type": "markdown",
   "metadata": {},
   "source": [
    "Теперь сам интерактивный виджет. Функция для построения графика будет иметь 2 параметра:\n",
    "* n - просто некий параметр, который будет изменять функцию;\n",
    "* c - цвет линии;\n",
    "\n",
    "Далее использую `interact`:\n",
    "* для n я передаю список значений, которые можно выбрать. В функции значение по умолчанию 3, именно оно будет выбрано по умолчанию;\n",
    "* для цвета значением будет переменная с виджетом для выбора цвета. Цвет можно выбирать через диалоговое окошко или напрямую вводить название или код в поле. Стоит заметить, что значением по умолчанию является не orange, а teal, поскольку значение в виджете имеет более высокий приоритет;"
   ]
  },
  {
   "cell_type": "code",
   "execution_count": 18,
   "metadata": {},
   "outputs": [
    {
     "data": {
      "application/vnd.jupyter.widget-view+json": {
       "model_id": "a29093d460c545969ffeba5ecbf6931d",
       "version_major": 2,
       "version_minor": 0
      },
      "text/html": [
       "<p>Failed to display Jupyter Widget of type <code>interactive</code>.</p>\n",
       "<p>\n",
       "  If you're reading this message in Jupyter Notebook or JupyterLab, it may mean\n",
       "  that the widgets JavaScript is still loading. If this message persists, it\n",
       "  likely means that the widgets JavaScript library is either not installed or\n",
       "  not enabled. See the <a href=\"https://ipywidgets.readthedocs.io/en/stable/user_install.html\">Jupyter\n",
       "  Widgets Documentation</a> for setup instructions.\n",
       "</p>\n",
       "<p>\n",
       "  If you're reading this message in another notebook frontend (for example, a static\n",
       "  rendering on GitHub or <a href=\"https://nbviewer.jupyter.org/\">NBViewer</a>),\n",
       "  it may mean that your frontend doesn't currently support widgets.\n",
       "</p>\n"
      ],
      "text/plain": [
       "interactive(children=(Dropdown(description='n', index=1, options=(2, 3, 4, 5), value=3), ColorPicker(value='teal', description='Цвет линии:'), Output()), _dom_classes=('widget-interact',))"
      ]
     },
     "metadata": {},
     "output_type": "display_data"
    }
   ],
   "source": [
    "def h(n=3, c='orange'):\n",
    "    x = np.linspace(0, 5, 10)\n",
    "    plt.plot(x, x ** (n / (x + 1)) + x ** (x / n) / (n ** 2) + (n - x) ** 2 - x * np.log(n) + n * np.exp(x / n),  color=c)\n",
    "    plt.show()\n",
    "\n",
    "interact(h, n=[i for i in range(2, 6)], c=pick_color);"
   ]
  },
  {
   "cell_type": "markdown",
   "metadata": {},
   "source": [
    "### Действие при нажатии на кнопку\n",
    "\n",
    "Виджеты позволяют делать вызов функции после определённых событий:\n",
    "\n",
    "* При нажатии на кнопку;\n",
    "* При завершении ввода текста;\n",
    "* По мере изменения значения (обычно используется для слайдеров);\n",
    "\n",
    "Кроме того можно связать виджеты - чтобы при изменении значения одного виджета изменялось значение другого виджета.\n",
    "\n",
    "Рассмотрим пример: пользователь задаёт длины сторон прямоугольника и хочет узнать его площадь. Для начала я задаю 2 виджета с соответсвующими названиями. Далее ограничения значений можно задать минимальное и максимальное значение, а также шаг, с которым будут изменяться значения."
   ]
  },
  {
   "cell_type": "code",
   "execution_count": 19,
   "metadata": {
    "collapsed": true
   },
   "outputs": [],
   "source": [
    "x = widgets.IntSlider(min=2, max=40.0, step=2, description='Высота')\n",
    "y = widgets.FloatSlider(min=2, max=80.0, step=0.5, description='Ширина', value=5.0)"
   ]
  },
  {
   "cell_type": "markdown",
   "metadata": {},
   "source": [
    "Добавим ограничение - высота прямоугольника не может быть больше его ширины. Для этого используется `observe` - при каждом изменении объекта мгновенно вызывается функция. А в функции мы будет приравнивать максимальное значение виджета x к текущему значению виджета y."
   ]
  },
  {
   "cell_type": "code",
   "execution_count": 20,
   "metadata": {
    "collapsed": true
   },
   "outputs": [],
   "source": [
    "def update_x_range(*args):\n",
    "    x.max = y.value\n",
    "    \n",
    "y.observe(update_x_range, 'value')"
   ]
  },
  {
   "cell_type": "markdown",
   "metadata": {},
   "source": [
    "Теперь добавим кнопку, при нажатии на которую будет происходить вычисление. Для этого создаём соответствующий объект с подходящим названием. И здесь в первый раз используется настройка внешнего вида виджетов. layout позволяет настраивать css объектов. Большинство параметров взять из самого CSS, но есть и различия, почитать подробнее можно [тут](#http://ipywidgets.readthedocs.io/en/stable/examples/Widget%20Styling.html). В данном случае я просто задаю ширину кнопки.\n",
    "\n",
    "При нажатии на кнопку будет показана площадь прямоугольника, кнопка и слайдеры станут неактивными."
   ]
  },
  {
   "cell_type": "code",
   "execution_count": 21,
   "metadata": {
    "collapsed": true
   },
   "outputs": [],
   "source": [
    "button1 = widgets.Button(description=\"Нажмите, чтобы посчитать площадь прямоугольника!\", layout=widgets.Layout(width='40%'))\n",
    "\n",
    "def on_button_clicked(b):\n",
    "    print('Площадь прямоугольника: {}.'.format(x.value * y.value))\n",
    "    button1.disabled = True\n",
    "    x.disabled = True\n",
    "    y.disabled = True"
   ]
  },
  {
   "cell_type": "code",
   "execution_count": 22,
   "metadata": {},
   "outputs": [
    {
     "data": {
      "application/vnd.jupyter.widget-view+json": {
       "model_id": "6c51795e076946f09e1e582f2eb153ec",
       "version_major": 2,
       "version_minor": 0
      },
      "text/html": [
       "<p>Failed to display Jupyter Widget of type <code>interactive</code>.</p>\n",
       "<p>\n",
       "  If you're reading this message in Jupyter Notebook or JupyterLab, it may mean\n",
       "  that the widgets JavaScript is still loading. If this message persists, it\n",
       "  likely means that the widgets JavaScript library is either not installed or\n",
       "  not enabled. See the <a href=\"https://ipywidgets.readthedocs.io/en/stable/user_install.html\">Jupyter\n",
       "  Widgets Documentation</a> for setup instructions.\n",
       "</p>\n",
       "<p>\n",
       "  If you're reading this message in another notebook frontend (for example, a static\n",
       "  rendering on GitHub or <a href=\"https://nbviewer.jupyter.org/\">NBViewer</a>),\n",
       "  it may mean that your frontend doesn't currently support widgets.\n",
       "</p>\n"
      ],
      "text/plain": [
       "interactive(children=(IntSlider(value=2, description='Высота', max=40, min=2, step=2), FloatSlider(value=5.0, description='Ширина', max=80.0, min=2.0, step=0.5), Output()), _dom_classes=('widget-interact',))"
      ]
     },
     "metadata": {},
     "output_type": "display_data"
    },
    {
     "data": {
      "application/vnd.jupyter.widget-view+json": {
       "model_id": "f091dc99e74c4aedaa3b533344eadb5a",
       "version_major": 2,
       "version_minor": 0
      },
      "text/html": [
       "<p>Failed to display Jupyter Widget of type <code>Button</code>.</p>\n",
       "<p>\n",
       "  If you're reading this message in Jupyter Notebook or JupyterLab, it may mean\n",
       "  that the widgets JavaScript is still loading. If this message persists, it\n",
       "  likely means that the widgets JavaScript library is either not installed or\n",
       "  not enabled. See the <a href=\"https://ipywidgets.readthedocs.io/en/stable/user_install.html\">Jupyter\n",
       "  Widgets Documentation</a> for setup instructions.\n",
       "</p>\n",
       "<p>\n",
       "  If you're reading this message in another notebook frontend (for example, a static\n",
       "  rendering on GitHub or <a href=\"https://nbviewer.jupyter.org/\">NBViewer</a>),\n",
       "  it may mean that your frontend doesn't currently support widgets.\n",
       "</p>\n"
      ],
      "text/plain": [
       "Button(description='Нажмите, чтобы посчитать площадь прямоугольника!', layout=Layout(width='40%'), style=ButtonStyle())"
      ]
     },
     "metadata": {},
     "output_type": "display_data"
    }
   ],
   "source": [
    "def stat(x, y):\n",
    "    print('Высота: {0}. Ширина: {1}.'.format(x, y))\n",
    "    \n",
    "interact(stat, x=x, y=y);\n",
    "display(button1)\n",
    "button1.on_click(on_button_clicked)"
   ]
  },
  {
   "cell_type": "markdown",
   "metadata": {},
   "source": [
    "Для полноты картины добавлю ещё одну кнопку, которая откроет данные для ввода, чтобы можно было ещё раз посчитать площать прямоугольника."
   ]
  },
  {
   "cell_type": "code",
   "execution_count": 23,
   "metadata": {},
   "outputs": [
    {
     "data": {
      "application/vnd.jupyter.widget-view+json": {
       "model_id": "a2a2c80942bd455fb360c8f842c68d87",
       "version_major": 2,
       "version_minor": 0
      },
      "text/html": [
       "<p>Failed to display Jupyter Widget of type <code>Button</code>.</p>\n",
       "<p>\n",
       "  If you're reading this message in Jupyter Notebook or JupyterLab, it may mean\n",
       "  that the widgets JavaScript is still loading. If this message persists, it\n",
       "  likely means that the widgets JavaScript library is either not installed or\n",
       "  not enabled. See the <a href=\"https://ipywidgets.readthedocs.io/en/stable/user_install.html\">Jupyter\n",
       "  Widgets Documentation</a> for setup instructions.\n",
       "</p>\n",
       "<p>\n",
       "  If you're reading this message in another notebook frontend (for example, a static\n",
       "  rendering on GitHub or <a href=\"https://nbviewer.jupyter.org/\">NBViewer</a>),\n",
       "  it may mean that your frontend doesn't currently support widgets.\n",
       "</p>\n"
      ],
      "text/plain": [
       "Button(description='Использовать другие данные', layout=Layout(width='40%'), style=ButtonStyle())"
      ]
     },
     "metadata": {},
     "output_type": "display_data"
    }
   ],
   "source": [
    "button2 = widgets.Button(description=\"Использовать другие данные\", layout=widgets.Layout(width='40%'))\n",
    "\n",
    "def on_button_clicked2(b):\n",
    "    button1.disabled = False\n",
    "    x.disabled = False\n",
    "    y.disabled = False\n",
    "    \n",
    "display(button2)\n",
    "button2.on_click(on_button_clicked2)"
   ]
  },
  {
   "cell_type": "markdown",
   "metadata": {},
   "source": [
    "### Имитация оформления заказа на товар\n",
    "\n",
    "На основе игрушечного примера о заказе компьютера я продемонстрирую большое количество разнообразных виджетов и то, как они могут быть использованы."
   ]
  },
  {
   "cell_type": "markdown",
   "metadata": {},
   "source": [
    "Для начала мы предлагаем пользователю выбрать интересующий его товар. Этот виджет позволяет выбрать одно значение из списка."
   ]
  },
  {
   "cell_type": "code",
   "execution_count": 24,
   "metadata": {},
   "outputs": [
    {
     "name": "stdout",
     "output_type": "stream",
     "text": [
      "Выбор товара:\n"
     ]
    },
    {
     "data": {
      "application/vnd.jupyter.widget-view+json": {
       "model_id": "861d4d7756b4456fa4235fd550fa64cc",
       "version_major": 2,
       "version_minor": 0
      },
      "text/html": [
       "<p>Failed to display Jupyter Widget of type <code>Select</code>.</p>\n",
       "<p>\n",
       "  If you're reading this message in Jupyter Notebook or JupyterLab, it may mean\n",
       "  that the widgets JavaScript is still loading. If this message persists, it\n",
       "  likely means that the widgets JavaScript library is either not installed or\n",
       "  not enabled. See the <a href=\"https://ipywidgets.readthedocs.io/en/stable/user_install.html\">Jupyter\n",
       "  Widgets Documentation</a> for setup instructions.\n",
       "</p>\n",
       "<p>\n",
       "  If you're reading this message in another notebook frontend (for example, a static\n",
       "  rendering on GitHub or <a href=\"https://nbviewer.jupyter.org/\">NBViewer</a>),\n",
       "  it may mean that your frontend doesn't currently support widgets.\n",
       "</p>\n"
      ],
      "text/plain": [
       "Select(description='Товар:', options=('Компьютер', 'Планшет', 'Ноутбук'), value='Компьютер')"
      ]
     },
     "metadata": {},
     "output_type": "display_data"
    }
   ],
   "source": [
    "print('Выбор товара:')\n",
    "pc_type = widgets.Select(\n",
    "    options=['Компьютер', 'Планшет', 'Ноутбук'],\n",
    "    value='Компьютер',\n",
    "    description='Товар:'\n",
    ")\n",
    "pc_type"
   ]
  },
  {
   "cell_type": "markdown",
   "metadata": {},
   "source": [
    "Теперь предложим указать количество товара. `jslink` позволяет связать 2 виджета, для этого у них либо должны быть сравнимые значения (например числа), либо должно быть задано соответствие (например, при положительных значениях получается один текст, при неотрицательных - другой).\n",
    "\n",
    "Также здесь используется новый виджет - BoundedIntText. Это поле для ввода integer, для которого можно задать минимальные и максимальные значения."
   ]
  },
  {
   "cell_type": "code",
   "execution_count": 25,
   "metadata": {},
   "outputs": [
    {
     "name": "stdout",
     "output_type": "stream",
     "text": [
      "Укажите количество - введите число или выберите нужное значение\n"
     ]
    },
    {
     "data": {
      "application/vnd.jupyter.widget-view+json": {
       "model_id": "16e5931422e94981894eacca830805a8",
       "version_major": 2,
       "version_minor": 0
      },
      "text/html": [
       "<p>Failed to display Jupyter Widget of type <code>BoundedIntText</code>.</p>\n",
       "<p>\n",
       "  If you're reading this message in Jupyter Notebook or JupyterLab, it may mean\n",
       "  that the widgets JavaScript is still loading. If this message persists, it\n",
       "  likely means that the widgets JavaScript library is either not installed or\n",
       "  not enabled. See the <a href=\"https://ipywidgets.readthedocs.io/en/stable/user_install.html\">Jupyter\n",
       "  Widgets Documentation</a> for setup instructions.\n",
       "</p>\n",
       "<p>\n",
       "  If you're reading this message in another notebook frontend (for example, a static\n",
       "  rendering on GitHub or <a href=\"https://nbviewer.jupyter.org/\">NBViewer</a>),\n",
       "  it may mean that your frontend doesn't currently support widgets.\n",
       "</p>\n"
      ],
      "text/plain": [
       "BoundedIntText(value=1, max=5, min=1)"
      ]
     },
     "metadata": {},
     "output_type": "display_data"
    },
    {
     "data": {
      "application/vnd.jupyter.widget-view+json": {
       "model_id": "9eac01d896a5481ca5e95c927105da8c",
       "version_major": 2,
       "version_minor": 0
      },
      "text/html": [
       "<p>Failed to display Jupyter Widget of type <code>IntSlider</code>.</p>\n",
       "<p>\n",
       "  If you're reading this message in Jupyter Notebook or JupyterLab, it may mean\n",
       "  that the widgets JavaScript is still loading. If this message persists, it\n",
       "  likely means that the widgets JavaScript library is either not installed or\n",
       "  not enabled. See the <a href=\"https://ipywidgets.readthedocs.io/en/stable/user_install.html\">Jupyter\n",
       "  Widgets Documentation</a> for setup instructions.\n",
       "</p>\n",
       "<p>\n",
       "  If you're reading this message in another notebook frontend (for example, a static\n",
       "  rendering on GitHub or <a href=\"https://nbviewer.jupyter.org/\">NBViewer</a>),\n",
       "  it may mean that your frontend doesn't currently support widgets.\n",
       "</p>\n"
      ],
      "text/plain": [
       "IntSlider(value=1, max=5, min=1)"
      ]
     },
     "metadata": {},
     "output_type": "display_data"
    }
   ],
   "source": [
    "a = widgets.BoundedIntText(min=1, max=5)\n",
    "b = widgets.IntSlider(min=1, max=5)\n",
    "print('Укажите количество - введите число или выберите нужное значение')\n",
    "display(a, b)\n",
    "mylink = widgets.jslink((a, 'value'), (b, 'value'))"
   ]
  },
  {
   "cell_type": "markdown",
   "metadata": {},
   "source": [
    "В качестве шутки предложим выбрать мощность покупаемой техники. Для этого используется виджет-слайдер для которого можно добавить ранжированный список текстовых значений."
   ]
  },
  {
   "cell_type": "code",
   "execution_count": 26,
   "metadata": {},
   "outputs": [
    {
     "data": {
      "application/vnd.jupyter.widget-view+json": {
       "model_id": "3ad367c126fa4e8fb4edeaab1141a6c3",
       "version_major": 2,
       "version_minor": 0
      },
      "text/html": [
       "<p>Failed to display Jupyter Widget of type <code>SelectionSlider</code>.</p>\n",
       "<p>\n",
       "  If you're reading this message in Jupyter Notebook or JupyterLab, it may mean\n",
       "  that the widgets JavaScript is still loading. If this message persists, it\n",
       "  likely means that the widgets JavaScript library is either not installed or\n",
       "  not enabled. See the <a href=\"https://ipywidgets.readthedocs.io/en/stable/user_install.html\">Jupyter\n",
       "  Widgets Documentation</a> for setup instructions.\n",
       "</p>\n",
       "<p>\n",
       "  If you're reading this message in another notebook frontend (for example, a static\n",
       "  rendering on GitHub or <a href=\"https://nbviewer.jupyter.org/\">NBViewer</a>),\n",
       "  it may mean that your frontend doesn't currently support widgets.\n",
       "</p>\n"
      ],
      "text/plain": [
       "SelectionSlider(continuous_update=False, description='Мощность:', index=1, layout=Layout(width='40%'), options=('слабый', 'хороший', 'мощный', 'deep learning'), value='хороший')"
      ]
     },
     "metadata": {},
     "output_type": "display_data"
    }
   ],
   "source": [
    "power = widgets.SelectionSlider(\n",
    "    options=['слабый', 'хороший', 'мощный', 'deep learning'],\n",
    "    value='хороший',\n",
    "    description='Мощность:',\n",
    "    disabled=False,\n",
    "    continuous_update=False,\n",
    "    orientation='horizontal',\n",
    "    readout=True, layout=widgets.Layout(width='40%')\n",
    ")\n",
    "power"
   ]
  },
  {
   "cell_type": "markdown",
   "metadata": {},
   "source": [
    "А теперь подарим клиенту бонус. Это виджет для множественного выбора с помощью клавиш Ctrl/Shift."
   ]
  },
  {
   "cell_type": "code",
   "execution_count": 27,
   "metadata": {},
   "outputs": [
    {
     "data": {
      "application/vnd.jupyter.widget-view+json": {
       "model_id": "008667d6859246d5ad6201b397494919",
       "version_major": 2,
       "version_minor": 0
      },
      "text/html": [
       "<p>Failed to display Jupyter Widget of type <code>SelectMultiple</code>.</p>\n",
       "<p>\n",
       "  If you're reading this message in Jupyter Notebook or JupyterLab, it may mean\n",
       "  that the widgets JavaScript is still loading. If this message persists, it\n",
       "  likely means that the widgets JavaScript library is either not installed or\n",
       "  not enabled. See the <a href=\"https://ipywidgets.readthedocs.io/en/stable/user_install.html\">Jupyter\n",
       "  Widgets Documentation</a> for setup instructions.\n",
       "</p>\n",
       "<p>\n",
       "  If you're reading this message in another notebook frontend (for example, a static\n",
       "  rendering on GitHub or <a href=\"https://nbviewer.jupyter.org/\">NBViewer</a>),\n",
       "  it may mean that your frontend doesn't currently support widgets.\n",
       "</p>\n"
      ],
      "text/plain": [
       "SelectMultiple(description='Бонусы', index=(1,), options=('Ручка', 'Стикер', 'Скидка'), value=('Стикер',))"
      ]
     },
     "metadata": {},
     "output_type": "display_data"
    }
   ],
   "source": [
    "sel_mult = widgets.SelectMultiple(\n",
    "    options=['Ручка', 'Стикер', 'Скидка'],\n",
    "    value=['Стикер'],\n",
    "    #rows=10,\n",
    "    description='Бонусы',\n",
    "    disabled=False\n",
    ")\n",
    "sel_mult"
   ]
  },
  {
   "cell_type": "markdown",
   "metadata": {},
   "source": [
    "Заказ укомплектован, теперь пора обговорить условия доставки. Первое - как будет доставлен товар. RadioButtons как и Select дают возможность выбора одной опции.\n",
    "\n",
    "А теперь познакомимся с такой удобной штукой как HBox. Он позволяет делать более гибкую настройку отображения виджетов и их описания. Например, ширина описания виджетов ограничена, использовать Box изменения ширины довольно удобно. HBox и VBox являются соответственно горизонтальными и вертикальными контейнерами для виджетов или их описаний."
   ]
  },
  {
   "cell_type": "code",
   "execution_count": 28,
   "metadata": {},
   "outputs": [
    {
     "data": {
      "application/vnd.jupyter.widget-view+json": {
       "model_id": "d72598a7943842a19a8cfc17a458201b",
       "version_major": 2,
       "version_minor": 0
      },
      "text/html": [
       "<p>Failed to display Jupyter Widget of type <code>HBox</code>.</p>\n",
       "<p>\n",
       "  If you're reading this message in Jupyter Notebook or JupyterLab, it may mean\n",
       "  that the widgets JavaScript is still loading. If this message persists, it\n",
       "  likely means that the widgets JavaScript library is either not installed or\n",
       "  not enabled. See the <a href=\"https://ipywidgets.readthedocs.io/en/stable/user_install.html\">Jupyter\n",
       "  Widgets Documentation</a> for setup instructions.\n",
       "</p>\n",
       "<p>\n",
       "  If you're reading this message in another notebook frontend (for example, a static\n",
       "  rendering on GitHub or <a href=\"https://nbviewer.jupyter.org/\">NBViewer</a>),\n",
       "  it may mean that your frontend doesn't currently support widgets.\n",
       "</p>\n"
      ],
      "text/plain": [
       "HBox(children=(Label(value='Способ доставки:'), RadioButtons(options=('Доставка', 'Самовывоз'), value='Доставка')))"
      ]
     },
     "metadata": {},
     "output_type": "display_data"
    }
   ],
   "source": [
    "delivery = widgets.RadioButtons(\n",
    "    options=['Доставка', 'Самовывоз'],\n",
    "    disabled=False\n",
    ")\n",
    "widgets.HBox([widgets.Label(value=\"Способ доставки:\"), delivery])"
   ]
  },
  {
   "cell_type": "markdown",
   "metadata": {},
   "source": [
    "Настала пора выбрать способ оплаты. ToggleButtons выводит кнопки, одна из которых может быть нажата. Виджет позволяет настроить названия кнопок, всплывающие тултипы и даже иконки (для задания иконок используются названия иконок для Font Awesome).\n",
    "\n",
    "Также здесь используется задание параметров виджета используя style. Это дополнительный способ (по отношению к layout), но это уже не css, а внутренние свойства виджетов. Есть ряд свойств, которые относятся только к определённым виджетам."
   ]
  },
  {
   "cell_type": "code",
   "execution_count": 29,
   "metadata": {},
   "outputs": [
    {
     "data": {
      "application/vnd.jupyter.widget-view+json": {
       "model_id": "1ef10723453f4dde85f9702a155bc744",
       "version_major": 2,
       "version_minor": 0
      },
      "text/html": [
       "<p>Failed to display Jupyter Widget of type <code>ToggleButtons</code>.</p>\n",
       "<p>\n",
       "  If you're reading this message in Jupyter Notebook or JupyterLab, it may mean\n",
       "  that the widgets JavaScript is still loading. If this message persists, it\n",
       "  likely means that the widgets JavaScript library is either not installed or\n",
       "  not enabled. See the <a href=\"https://ipywidgets.readthedocs.io/en/stable/user_install.html\">Jupyter\n",
       "  Widgets Documentation</a> for setup instructions.\n",
       "</p>\n",
       "<p>\n",
       "  If you're reading this message in another notebook frontend (for example, a static\n",
       "  rendering on GitHub or <a href=\"https://nbviewer.jupyter.org/\">NBViewer</a>),\n",
       "  it may mean that your frontend doesn't currently support widgets.\n",
       "</p>\n"
      ],
      "text/plain": [
       "ToggleButtons(button_style='success', description='Способ оплаты:', icons=['credit-card', 'money'], options=('Карта', 'Наличные'), style=ToggleButtonsStyle(description_width='200px'), tooltips=['Карта', 'Наличные'], value='Карта')"
      ]
     },
     "metadata": {},
     "output_type": "display_data"
    }
   ],
   "source": [
    "pay_method = widgets.ToggleButtons(\n",
    "    options=['Карта', 'Наличные'],\n",
    "    description='Способ оплаты:',\n",
    "    disabled=False,\n",
    "    button_style='success',\n",
    "    tooltips=['Карта', 'Наличные'],\n",
    "     icons=['credit-card', 'money']\n",
    ")\n",
    "pay_method.style.description_width='200px'\n",
    "pay_method"
   ]
  },
  {
   "cell_type": "markdown",
   "metadata": {},
   "source": [
    "Ещё есть виджет для выбора даты доставки."
   ]
  },
  {
   "cell_type": "code",
   "execution_count": 30,
   "metadata": {},
   "outputs": [
    {
     "data": {
      "application/vnd.jupyter.widget-view+json": {
       "model_id": "fc057a0717f7407cb844146c429c1e9d",
       "version_major": 2,
       "version_minor": 0
      },
      "text/html": [
       "<p>Failed to display Jupyter Widget of type <code>VBox</code>.</p>\n",
       "<p>\n",
       "  If you're reading this message in Jupyter Notebook or JupyterLab, it may mean\n",
       "  that the widgets JavaScript is still loading. If this message persists, it\n",
       "  likely means that the widgets JavaScript library is either not installed or\n",
       "  not enabled. See the <a href=\"https://ipywidgets.readthedocs.io/en/stable/user_install.html\">Jupyter\n",
       "  Widgets Documentation</a> for setup instructions.\n",
       "</p>\n",
       "<p>\n",
       "  If you're reading this message in another notebook frontend (for example, a static\n",
       "  rendering on GitHub or <a href=\"https://nbviewer.jupyter.org/\">NBViewer</a>),\n",
       "  it may mean that your frontend doesn't currently support widgets.\n",
       "</p>\n"
      ],
      "text/plain": [
       "VBox(children=(Label(value='Дата доставки:'), DatePicker(value=None)))"
      ]
     },
     "metadata": {},
     "output_type": "display_data"
    }
   ],
   "source": [
    "date = widgets.DatePicker(\n",
    "    description='',\n",
    "    disabled=False\n",
    ")\n",
    "date\n",
    "\n",
    "widgets.VBox([widgets.Label(value=\"Дата доставки:\"), date])"
   ]
  },
  {
   "cell_type": "markdown",
   "metadata": {},
   "source": [
    "Дата вполне может быть выбрана неверно. Допустим мы позволяет выбрать дату в промежутке от 2 до 7 дней от текущего. Сделаем проверку."
   ]
  },
  {
   "cell_type": "code",
   "execution_count": 31,
   "metadata": {},
   "outputs": [
    {
     "data": {
      "application/vnd.jupyter.widget-view+json": {
       "model_id": "bde9625df0d942b8a0fecb1b1ff351cc",
       "version_major": 2,
       "version_minor": 0
      },
      "text/html": [
       "<p>Failed to display Jupyter Widget of type <code>Button</code>.</p>\n",
       "<p>\n",
       "  If you're reading this message in Jupyter Notebook or JupyterLab, it may mean\n",
       "  that the widgets JavaScript is still loading. If this message persists, it\n",
       "  likely means that the widgets JavaScript library is either not installed or\n",
       "  not enabled. See the <a href=\"https://ipywidgets.readthedocs.io/en/stable/user_install.html\">Jupyter\n",
       "  Widgets Documentation</a> for setup instructions.\n",
       "</p>\n",
       "<p>\n",
       "  If you're reading this message in another notebook frontend (for example, a static\n",
       "  rendering on GitHub or <a href=\"https://nbviewer.jupyter.org/\">NBViewer</a>),\n",
       "  it may mean that your frontend doesn't currently support widgets.\n",
       "</p>\n"
      ],
      "text/plain": [
       "Button(description='Проверить дату', layout=Layout(width='40%'), style=ButtonStyle())"
      ]
     },
     "metadata": {},
     "output_type": "display_data"
    }
   ],
   "source": [
    "button3 = widgets.Button(description=\"Проверить дату\", layout=widgets.Layout(width='40%'))\n",
    "\n",
    "def on_button_clicked3(d):\n",
    "    valid = widgets.Valid(\n",
    "        value=False,\n",
    "        description='Корректная дата!',\n",
    "        )\n",
    "    valid.style.description_width='200px'\n",
    "    \n",
    "    if date.value == None:\n",
    "        valid.description='Некорректная дата!'\n",
    "        display(valid)\n",
    "        print('Дата доставки не указана.')\n",
    "        \n",
    "    elif (date.value - datetime.datetime.today().date()).days in range(2,8):\n",
    "        valid.value = True\n",
    "        display(valid)\n",
    "    else:\n",
    "        valid.description='Некорректная дата!'\n",
    "        display(valid)\n",
    "        print('Дата доставки должна быть в периоде 2-7 дней от текущей даты.')\n",
    "    \n",
    "display(button3)\n",
    "button3.on_click(on_button_clicked3)"
   ]
  },
  {
   "cell_type": "markdown",
   "metadata": {},
   "source": [
    "Теперь можно выбрать доставки. IntRangeSlider позволяет указать интервал."
   ]
  },
  {
   "cell_type": "code",
   "execution_count": 32,
   "metadata": {},
   "outputs": [
    {
     "data": {
      "application/vnd.jupyter.widget-view+json": {
       "model_id": "8e8152a4a2c44097b54d6ba88428374a",
       "version_major": 2,
       "version_minor": 0
      },
      "text/html": [
       "<p>Failed to display Jupyter Widget of type <code>IntRangeSlider</code>.</p>\n",
       "<p>\n",
       "  If you're reading this message in Jupyter Notebook or JupyterLab, it may mean\n",
       "  that the widgets JavaScript is still loading. If this message persists, it\n",
       "  likely means that the widgets JavaScript library is either not installed or\n",
       "  not enabled. See the <a href=\"https://ipywidgets.readthedocs.io/en/stable/user_install.html\">Jupyter\n",
       "  Widgets Documentation</a> for setup instructions.\n",
       "</p>\n",
       "<p>\n",
       "  If you're reading this message in another notebook frontend (for example, a static\n",
       "  rendering on GitHub or <a href=\"https://nbviewer.jupyter.org/\">NBViewer</a>),\n",
       "  it may mean that your frontend doesn't currently support widgets.\n",
       "</p>\n"
      ],
      "text/plain": [
       "IntRangeSlider(value=(9, 18), continuous_update=False, description='Время:', max=22, min=7, orientation='vertical', readout_format='')"
      ]
     },
     "metadata": {},
     "output_type": "display_data"
    }
   ],
   "source": [
    "period = widgets.IntRangeSlider(\n",
    "    value=[9, 18],\n",
    "    min=7,\n",
    "    max=22,\n",
    "    step=1,\n",
    "    description='Время:',\n",
    "    disabled=False,\n",
    "    continuous_update=False,\n",
    "    orientation='vertical',\n",
    "    readout=True,\n",
    "    readout_format='',\n",
    ")\n",
    "period"
   ]
  },
  {
   "cell_type": "markdown",
   "metadata": {},
   "source": [
    "И, конечно, есть виджет для ввода текста. Для ввода короткого текста можно использовать Text, для текста побольше - Textarea.\n",
    "\n",
    "И здесь мы видим событие on_submit при вводе текста - оно происходит после ввода текста и нажатия Enter."
   ]
  },
  {
   "cell_type": "code",
   "execution_count": 33,
   "metadata": {},
   "outputs": [
    {
     "data": {
      "application/vnd.jupyter.widget-view+json": {
       "model_id": "bd1cdc6c9a534a5fa4fe44d1031c7407",
       "version_major": 2,
       "version_minor": 0
      },
      "text/html": [
       "<p>Failed to display Jupyter Widget of type <code>Text</code>.</p>\n",
       "<p>\n",
       "  If you're reading this message in Jupyter Notebook or JupyterLab, it may mean\n",
       "  that the widgets JavaScript is still loading. If this message persists, it\n",
       "  likely means that the widgets JavaScript library is either not installed or\n",
       "  not enabled. See the <a href=\"https://ipywidgets.readthedocs.io/en/stable/user_install.html\">Jupyter\n",
       "  Widgets Documentation</a> for setup instructions.\n",
       "</p>\n",
       "<p>\n",
       "  If you're reading this message in another notebook frontend (for example, a static\n",
       "  rendering on GitHub or <a href=\"https://nbviewer.jupyter.org/\">NBViewer</a>),\n",
       "  it may mean that your frontend doesn't currently support widgets.\n",
       "</p>\n"
      ],
      "text/plain": [
       "Text(value=' ', description='Комментарий к доставке:', style=DescriptionStyle(description_width='200px'))"
      ]
     },
     "metadata": {},
     "output_type": "display_data"
    }
   ],
   "source": [
    "text_comment = widgets.Text(\n",
    "    value=' ',\n",
    "    description='Комментарий к доставке:',\n",
    "    disabled=False\n",
    ")\n",
    "text_comment\n",
    "\n",
    "def text_submit(t=text_comment):\n",
    "    print(\"Комментарий '{0}' зафиксирован.\".format(text_comment.value.strip()))\n",
    "    \n",
    "text_comment.style.description_width='200px'\n",
    "display(text_comment)\n",
    "text_comment.on_submit(text_submit)"
   ]
  },
  {
   "cell_type": "markdown",
   "metadata": {},
   "source": [
    "Заказ оформлен, теперь надо бы показать клиенту все, что он указывал раньше, для подтверждения и предложить ввести адрес доставки. Первый вариант этого - сделать вложенные VBox и HBox, второй вариант - использовать Accordion и Tab.\n",
    "\n",
    "Предварительно я \"поворачиваю\" слайдер для выбора временного периода доставки в горизонтальное положение, а также создаю новый виджет для ввода адреса доставки.\n",
    "\n",
    "Теперь создам виджет Tab, который будет содержать Accordion. Accordion, в свою очередь, содержит в себе обычные виджеты, каждый из которых хранится на отдельной мини-вкладке. Это осуществляется перез параметр `children`. Названия этих мини-вкладок задаются для соответствующих индексов через `set_title`. Подобным образом Accordion вкладывается в Tab."
   ]
  },
  {
   "cell_type": "code",
   "execution_count": 34,
   "metadata": {},
   "outputs": [
    {
     "data": {
      "application/vnd.jupyter.widget-view+json": {
       "model_id": "ceb13bf82d624023b9087d1cdcdd692f",
       "version_major": 2,
       "version_minor": 0
      },
      "text/html": [
       "<p>Failed to display Jupyter Widget of type <code>Tab</code>.</p>\n",
       "<p>\n",
       "  If you're reading this message in Jupyter Notebook or JupyterLab, it may mean\n",
       "  that the widgets JavaScript is still loading. If this message persists, it\n",
       "  likely means that the widgets JavaScript library is either not installed or\n",
       "  not enabled. See the <a href=\"https://ipywidgets.readthedocs.io/en/stable/user_install.html\">Jupyter\n",
       "  Widgets Documentation</a> for setup instructions.\n",
       "</p>\n",
       "<p>\n",
       "  If you're reading this message in another notebook frontend (for example, a static\n",
       "  rendering on GitHub or <a href=\"https://nbviewer.jupyter.org/\">NBViewer</a>),\n",
       "  it may mean that your frontend doesn't currently support widgets.\n",
       "</p>\n"
      ],
      "text/plain": [
       "Tab(children=(Accordion(children=(Select(description='Товар:', options=('Компьютер', 'Планшет', 'Ноутбук'), value='Компьютер'), IntSlider(value=1, max=5, min=1), SelectionSlider(continuous_update=False, description='Мощность:', index=1, layout=Layout(width='40%'), options=('слабый', 'хороший', 'мощный', 'deep learning'), value='хороший'), SelectMultiple(description='Бонусы', index=(1,), options=('Ручка', 'Стикер', 'Скидка'), value=('Стикер',))), _titles={'0': 'Товар:', '1': 'Количество:', '2': 'Мощность:', '3': 'Бонус:'}), Accordion(children=(HBox(children=(Label(value='Способ доставки:'), RadioButtons(options=('Доставка', 'Самовывоз'), value='Доставка'))), ToggleButtons(button_style='success', description='Способ оплаты:', icons=['credit-card', 'money'], options=('Карта', 'Наличные'), style=ToggleButtonsStyle(description_width='200px'), tooltips=['Карта', 'Наличные'], value='Карта'), VBox(children=(Label(value='Дата доставки:'), DatePicker(value=None))), IntRangeSlider(value=(9, 18), continuous_update=False, description='Время:', max=22, min=7, readout_format=''), Text(value=' ', description='Комментарий к доставке:', style=DescriptionStyle(description_width='200px')), Textarea(value='Адрес', description='Адрес:', placeholder='Не дом и не улица')), _titles={'0': 'Способ доставки:', '1': 'Способ оплаты:', '2': 'Дата доставки:', '3': 'Время доставки:', '4': 'Комментарий:', '5': 'Адрес доставки:'})), _titles={'0': 'Заказ:', '1': 'Доставка:'})"
      ]
     },
     "metadata": {},
     "output_type": "display_data"
    }
   ],
   "source": [
    "period.orientation='horizontal'\n",
    "address = widgets.Textarea(\n",
    "    value='Адрес',\n",
    "    placeholder='Не дом и не улица',\n",
    "    description='Адрес:',\n",
    "    disabled=False\n",
    ")\n",
    "\n",
    "tab_nest = widgets.Tab()\n",
    "accordion1 = widgets.Accordion(children=[pc_type, b, power, sel_mult])\n",
    "accordion1.set_title(0, 'Товар:')\n",
    "accordion1.set_title(1, 'Количество:')\n",
    "accordion1.set_title(2, 'Мощность:')\n",
    "accordion1.set_title(3, 'Бонус:')\n",
    "\n",
    "\n",
    "accordion2 = widgets.Accordion(children=[widgets.HBox([widgets.Label(value=\"Способ доставки:\"), delivery]),\n",
    "                                        pay_method,\n",
    "                                        widgets.VBox([widgets.Label(value=\"Дата доставки:\"), date]),\n",
    "                                        period,\n",
    "                                        text_comment, address])\n",
    "accordion2.set_title(0, 'Способ доставки:')\n",
    "accordion2.set_title(1, 'Способ оплаты:')\n",
    "accordion2.set_title(2, 'Дата доставки:')\n",
    "accordion2.set_title(3, 'Время доставки:')\n",
    "accordion2.set_title(4, 'Комментарий:')\n",
    "accordion2.set_title(5, 'Адрес доставки:')\n",
    "\n",
    "\n",
    "tab_nest.children = [accordion1, accordion2]\n",
    "tab_nest.set_title(0, 'Заказ:')\n",
    "tab_nest.set_title(1, 'Доставка:')\n",
    "tab_nest"
   ]
  },
  {
   "cell_type": "markdown",
   "metadata": {},
   "source": [
    "На завершающем этапе видит итоговую информацию о заказе.\n",
    "Во-первых, используется виджет для отображения прогресса. Самый удобный способ обновлять его значение - увеличивать его `value` при определенном событии."
   ]
  },
  {
   "cell_type": "code",
   "execution_count": 35,
   "metadata": {
    "collapsed": true
   },
   "outputs": [],
   "source": [
    "progress = widgets.IntProgress(\n",
    "    value=0,\n",
    "    min=0,\n",
    "    max=10,\n",
    "    step=1,\n",
    "    description='',\n",
    "    bar_style='success',\n",
    "    orientation='horizontal'\n",
    ")"
   ]
  },
  {
   "cell_type": "markdown",
   "metadata": {},
   "source": [
    "Ещё один интересный виджет - `Out`. Он отображает то, что передаётся в него: это может быть просто печать данных через `print`, rich text, media и другие вещи."
   ]
  },
  {
   "cell_type": "code",
   "execution_count": 36,
   "metadata": {},
   "outputs": [
    {
     "data": {
      "application/vnd.jupyter.widget-view+json": {
       "model_id": "81733ab3b0e743ea90d687b6842f50fb",
       "version_major": 2,
       "version_minor": 0
      },
      "text/html": [
       "<p>Failed to display Jupyter Widget of type <code>Output</code>.</p>\n",
       "<p>\n",
       "  If you're reading this message in Jupyter Notebook or JupyterLab, it may mean\n",
       "  that the widgets JavaScript is still loading. If this message persists, it\n",
       "  likely means that the widgets JavaScript library is either not installed or\n",
       "  not enabled. See the <a href=\"https://ipywidgets.readthedocs.io/en/stable/user_install.html\">Jupyter\n",
       "  Widgets Documentation</a> for setup instructions.\n",
       "</p>\n",
       "<p>\n",
       "  If you're reading this message in another notebook frontend (for example, a static\n",
       "  rendering on GitHub or <a href=\"https://nbviewer.jupyter.org/\">NBViewer</a>),\n",
       "  it may mean that your frontend doesn't currently support widgets.\n",
       "</p>\n"
      ],
      "text/plain": [
       "Output()"
      ]
     },
     "metadata": {},
     "output_type": "display_data"
    }
   ],
   "source": [
    "out = widgets.Output()\n",
    "out"
   ]
  },
  {
   "cell_type": "code",
   "execution_count": 37,
   "metadata": {
    "collapsed": true
   },
   "outputs": [],
   "source": [
    "with out:\n",
    "    display(widgets.VBox([widgets.Label(value=\"Проверка информации  заказе:\"), progress]))\n",
    "    print('Информация о заказе:')\n",
    "    for i in range(len(accordion1.children)):\n",
    "        if type(accordion1.children[i].value) != tuple:\n",
    "            print(accordion1.get_title(i), accordion1.children[i].value)\n",
    "            progress.value +=1\n",
    "            time.sleep(0.5) \n",
    "        else:\n",
    "            print(accordion1.get_title(i), ' '.join([j for j in accordion1.children[i].value]))\n",
    "            progress.value +=1\n",
    "            time.sleep(0.5) \n",
    "            #print(accordion1.get_title(i)), [print(j) for j in accordion1.children[i].value]\n",
    "    for i, e in enumerate([delivery, pay_method, date, period, text_comment, address]):\n",
    "        print(accordion2.get_title(i), e.value)\n",
    "        progress.value +=1\n",
    "        time.sleep(0.5) "
   ]
  },
  {
   "cell_type": "markdown",
   "metadata": {
    "collapsed": true
   },
   "source": [
    "Естественно, стоит добавлять проверки на адекватность значений и на пустые значения, но гайд не об этом, а о возможностях виджетов."
   ]
  },
  {
   "cell_type": "markdown",
   "metadata": {},
   "source": [
    "Я описал почти все возможности и способы применения ipywidgets. Есть ещё некоторые, но они являются более глубокими и будут реже использоваться."
   ]
  },
  {
   "cell_type": "code",
   "execution_count": null,
   "metadata": {
    "collapsed": true
   },
   "outputs": [],
   "source": []
  },
  {
   "cell_type": "code",
   "execution_count": 38,
   "metadata": {},
   "outputs": [
    {
     "data": {
      "application/javascript": [
       "IPython.notebook.execute_cell()"
      ],
      "text/plain": [
       "<IPython.core.display.Javascript object>"
      ]
     },
     "metadata": {},
     "output_type": "display_data"
    }
   ],
   "source": [
    "from IPython.display import Javascript, display\n",
    "display(Javascript('IPython.notebook.execute_cell()'))"
   ]
  },
  {
   "cell_type": "code",
   "execution_count": null,
   "metadata": {
    "collapsed": true
   },
   "outputs": [],
   "source": []
  },
  {
   "cell_type": "code",
   "execution_count": null,
   "metadata": {
    "collapsed": true
   },
   "outputs": [],
   "source": []
  },
  {
   "cell_type": "code",
   "execution_count": 39,
   "metadata": {},
   "outputs": [
    {
     "data": {
      "application/vnd.jupyter.widget-view+json": {
       "model_id": "1e8ceb13b64148de94f5111377824e10",
       "version_major": 2,
       "version_minor": 0
      },
      "text/html": [
       "<p>Failed to display Jupyter Widget of type <code>Checkbox</code>.</p>\n",
       "<p>\n",
       "  If you're reading this message in Jupyter Notebook or JupyterLab, it may mean\n",
       "  that the widgets JavaScript is still loading. If this message persists, it\n",
       "  likely means that the widgets JavaScript library is either not installed or\n",
       "  not enabled. See the <a href=\"https://ipywidgets.readthedocs.io/en/stable/user_install.html\">Jupyter\n",
       "  Widgets Documentation</a> for setup instructions.\n",
       "</p>\n",
       "<p>\n",
       "  If you're reading this message in another notebook frontend (for example, a static\n",
       "  rendering on GitHub or <a href=\"https://nbviewer.jupyter.org/\">NBViewer</a>),\n",
       "  it may mean that your frontend doesn't currently support widgets.\n",
       "</p>\n"
      ],
      "text/plain": [
       "Checkbox(value=False, description='Check me')"
      ]
     },
     "metadata": {},
     "output_type": "display_data"
    }
   ],
   "source": [
    "widgets.Checkbox(\n",
    "    value=False,\n",
    "    description='Check me',\n",
    "    disabled=False\n",
    ")"
   ]
  },
  {
   "cell_type": "code",
   "execution_count": 40,
   "metadata": {},
   "outputs": [
    {
     "data": {
      "application/vnd.jupyter.widget-view+json": {
       "model_id": "2979d0af554d4b82867aadc1a7df7a44",
       "version_major": 2,
       "version_minor": 0
      },
      "text/html": [
       "<p>Failed to display Jupyter Widget of type <code>Button</code>.</p>\n",
       "<p>\n",
       "  If you're reading this message in Jupyter Notebook or JupyterLab, it may mean\n",
       "  that the widgets JavaScript is still loading. If this message persists, it\n",
       "  likely means that the widgets JavaScript library is either not installed or\n",
       "  not enabled. See the <a href=\"https://ipywidgets.readthedocs.io/en/stable/user_install.html\">Jupyter\n",
       "  Widgets Documentation</a> for setup instructions.\n",
       "</p>\n",
       "<p>\n",
       "  If you're reading this message in another notebook frontend (for example, a static\n",
       "  rendering on GitHub or <a href=\"https://nbviewer.jupyter.org/\">NBViewer</a>),\n",
       "  it may mean that your frontend doesn't currently support widgets.\n",
       "</p>\n"
      ],
      "text/plain": [
       "Button(description='Custom color', style=ButtonStyle(button_color='lightgreen'))"
      ]
     },
     "metadata": {},
     "output_type": "display_data"
    }
   ],
   "source": [
    "b1 = widgets.Button(description='Custom color')\n",
    "b1.style.button_color = 'lightgreen'\n",
    "b1"
   ]
  },
  {
   "cell_type": "code",
   "execution_count": 41,
   "metadata": {},
   "outputs": [
    {
     "data": {
      "application/vnd.jupyter.widget-view+json": {
       "model_id": "e7552236a9e54ba7aa5e5b810a522e7c",
       "version_major": 2,
       "version_minor": 0
      },
      "text/html": [
       "<p>Failed to display Jupyter Widget of type <code>IntSlider</code>.</p>\n",
       "<p>\n",
       "  If you're reading this message in Jupyter Notebook or JupyterLab, it may mean\n",
       "  that the widgets JavaScript is still loading. If this message persists, it\n",
       "  likely means that the widgets JavaScript library is either not installed or\n",
       "  not enabled. See the <a href=\"https://ipywidgets.readthedocs.io/en/stable/user_install.html\">Jupyter\n",
       "  Widgets Documentation</a> for setup instructions.\n",
       "</p>\n",
       "<p>\n",
       "  If you're reading this message in another notebook frontend (for example, a static\n",
       "  rendering on GitHub or <a href=\"https://nbviewer.jupyter.org/\">NBViewer</a>),\n",
       "  it may mean that your frontend doesn't currently support widgets.\n",
       "</p>\n"
      ],
      "text/plain": [
       "IntSlider(value=0, description='Blue handle', style=SliderStyle(handle_color='lightblue'))"
      ]
     },
     "metadata": {},
     "output_type": "display_data"
    }
   ],
   "source": [
    "s1 = widgets.IntSlider(description='Blue handle')\n",
    "s1.style.handle_color = 'lightblue'\n",
    "s1"
   ]
  },
  {
   "cell_type": "code",
   "execution_count": null,
   "metadata": {
    "collapsed": true
   },
   "outputs": [],
   "source": []
  },
  {
   "cell_type": "code",
   "execution_count": 48,
   "metadata": {},
   "outputs": [
    {
     "ename": "ImportError",
     "evalue": "cannot import name 'StaticInteract'",
     "output_type": "error",
     "traceback": [
      "\u001b[1;31m---------------------------------------------------------------------------\u001b[0m",
      "\u001b[1;31mImportError\u001b[0m                               Traceback (most recent call last)",
      "\u001b[1;32m<ipython-input-48-21ed00213b58>\u001b[0m in \u001b[0;36m<module>\u001b[1;34m()\u001b[0m\n\u001b[1;32m----> 1\u001b[1;33m \u001b[1;32mfrom\u001b[0m \u001b[0mipywidgets\u001b[0m \u001b[1;32mimport\u001b[0m \u001b[0mStaticInteract\u001b[0m\u001b[1;33m,\u001b[0m \u001b[0mRangeWidget\u001b[0m\u001b[1;33m,\u001b[0m \u001b[0mRadioWidget\u001b[0m\u001b[1;33m\u001b[0m\u001b[0m\n\u001b[0m\u001b[0;32m      2\u001b[0m \u001b[1;33m\u001b[0m\u001b[0m\n\u001b[0;32m      3\u001b[0m \u001b[1;32mdef\u001b[0m \u001b[0mmultiply\u001b[0m\u001b[1;33m(\u001b[0m\u001b[0ma\u001b[0m\u001b[1;33m,\u001b[0m \u001b[0mb\u001b[0m\u001b[1;33m)\u001b[0m\u001b[1;33m:\u001b[0m\u001b[1;33m\u001b[0m\u001b[0m\n\u001b[0;32m      4\u001b[0m     \u001b[1;32mreturn\u001b[0m \u001b[1;34m\"{0} * {1} = {2}\"\u001b[0m\u001b[1;33m.\u001b[0m\u001b[0mformat\u001b[0m\u001b[1;33m(\u001b[0m\u001b[0ma\u001b[0m\u001b[1;33m,\u001b[0m \u001b[0mb\u001b[0m\u001b[1;33m,\u001b[0m \u001b[0ma\u001b[0m \u001b[1;33m*\u001b[0m \u001b[0mb\u001b[0m\u001b[1;33m)\u001b[0m\u001b[1;33m\u001b[0m\u001b[0m\n\u001b[0;32m      5\u001b[0m \u001b[1;33m\u001b[0m\u001b[0m\n",
      "\u001b[1;31mImportError\u001b[0m: cannot import name 'StaticInteract'"
     ]
    }
   ],
   "source": [
    "from ipywidgets import StaticInteract, RangeWidget, RadioWidget\n",
    "\n",
    "def multiply(a, b):\n",
    "    return \"{0} * {1} = {2}\".format(a, b, a * b)\n",
    "\n",
    "StaticInteract(multiply,\n",
    "               a=RangeWidget(0, 10),\n",
    "               b=RangeWidget(0, 10),)"
   ]
  },
  {
   "cell_type": "code",
   "execution_count": null,
   "metadata": {
    "collapsed": true
   },
   "outputs": [],
   "source": []
  },
  {
   "cell_type": "code",
   "execution_count": 42,
   "metadata": {
    "collapsed": true
   },
   "outputs": [],
   "source": [
    "from sklearn.datasets import load_iris"
   ]
  },
  {
   "cell_type": "code",
   "execution_count": 43,
   "metadata": {
    "collapsed": true
   },
   "outputs": [],
   "source": [
    "iris = load_iris()\n",
    "X = iris.data\n",
    "y = iris.target"
   ]
  },
  {
   "cell_type": "code",
   "execution_count": 44,
   "metadata": {},
   "outputs": [
    {
     "data": {
      "text/plain": [
       "['sepal length (cm)',\n",
       " 'sepal width (cm)',\n",
       " 'petal length (cm)',\n",
       " 'petal width (cm)']"
      ]
     },
     "execution_count": 44,
     "metadata": {},
     "output_type": "execute_result"
    }
   ],
   "source": [
    "iris.feature_names"
   ]
  },
  {
   "cell_type": "code",
   "execution_count": 47,
   "metadata": {},
   "outputs": [
    {
     "data": {
      "application/vnd.jupyter.widget-view+json": {
       "model_id": "ce211acaf64e414ab5c95e5d9b89ca6d",
       "version_major": 2,
       "version_minor": 0
      },
      "text/html": [
       "<p>Failed to display Jupyter Widget of type <code>interactive</code>.</p>\n",
       "<p>\n",
       "  If you're reading this message in Jupyter Notebook or JupyterLab, it may mean\n",
       "  that the widgets JavaScript is still loading. If this message persists, it\n",
       "  likely means that the widgets JavaScript library is either not installed or\n",
       "  not enabled. See the <a href=\"https://ipywidgets.readthedocs.io/en/stable/user_install.html\">Jupyter\n",
       "  Widgets Documentation</a> for setup instructions.\n",
       "</p>\n",
       "<p>\n",
       "  If you're reading this message in another notebook frontend (for example, a static\n",
       "  rendering on GitHub or <a href=\"https://nbviewer.jupyter.org/\">NBViewer</a>),\n",
       "  it may mean that your frontend doesn't currently support widgets.\n",
       "</p>\n"
      ],
      "text/plain": [
       "interactive(children=(Dropdown(description='x', options=('sepal length (cm)', 'sepal width (cm)', 'petal length (cm)', 'petal width (cm)'), value='sepal length (cm)'), Output()), _dom_classes=('widget-interact',))"
      ]
     },
     "metadata": {},
     "output_type": "display_data"
    }
   ],
   "source": [
    "def f(x):\n",
    "    return x\n",
    "interact(f, x=iris.feature_names);"
   ]
  },
  {
   "cell_type": "markdown",
   "metadata": {},
   "source": [
    "* https://machinelearningmastery.com/machine-learning-in-python-step-by-step/\n",
    "* http://scikit-learn.org/stable/tutorial/statistical_inference/supervised_learning.html\n",
    "* https://stackoverflow.com/questions/37013489/how-to-alight-and-place-ipywidgets"
   ]
  },
  {
   "cell_type": "code",
   "execution_count": null,
   "metadata": {
    "collapsed": true
   },
   "outputs": [],
   "source": []
  }
 ],
 "metadata": {
  "kernelspec": {
   "display_name": "Python [default]",
   "language": "python",
   "name": "python3"
  },
  "language_info": {
   "codemirror_mode": {
    "name": "ipython",
    "version": 3
   },
   "file_extension": ".py",
   "mimetype": "text/x-python",
   "name": "python",
   "nbconvert_exporter": "python",
   "pygments_lexer": "ipython3",
   "version": "3.6.2"
  },
  "widgets": {
   "application/vnd.jupyter.widget-state+json": {
    "state": {
     "008667d6859246d5ad6201b397494919": {
      "model_module": "@jupyter-widgets/controls",
      "model_module_version": "1.0.0",
      "model_name": "SelectMultipleModel",
      "state": {
       "_options_labels": [
        "Ручка",
        "Стикер",
        "Скидка"
       ],
       "description": "Бонусы",
       "index": [
        1
       ],
       "layout": "IPY_MODEL_d7afefa4e08843908f255c6aa7c69e8b",
       "rows": 5,
       "style": "IPY_MODEL_bdfe425aa5b44f738ef24e4845d25188"
      }
     },
     "019b37404b3b4f8eac8226929cc659ff": {
      "model_module": "@jupyter-widgets/base",
      "model_module_version": "1.0.0",
      "model_name": "LayoutModel",
      "state": {}
     },
     "02824ca3231b43fa889f21042fd3aba7": {
      "model_module": "@jupyter-widgets/base",
      "model_module_version": "1.0.0",
      "model_name": "LayoutModel",
      "state": {}
     },
     "04c55d7d34eb43ebb69cf13d285b730b": {
      "model_module": "@jupyter-widgets/controls",
      "model_module_version": "1.0.0",
      "model_name": "VBoxModel",
      "state": {
       "_dom_classes": [
        "widget-interact"
       ],
       "children": [
        "IPY_MODEL_c782177c1fca4007a7bfb6b1476f873f",
        "IPY_MODEL_cd8b71a7857c4171bd8e5cfc4f33966d"
       ],
       "layout": "IPY_MODEL_afb82c788b764e5ebb1e816518f13a5b"
      }
     },
     "04e6349de23b4e2586f145c4633dd73b": {
      "model_module": "@jupyter-widgets/controls",
      "model_module_version": "1.0.0",
      "model_name": "DescriptionStyleModel",
      "state": {
       "description_width": ""
      }
     },
     "060ac41f07254cd0b68c11a8352260e3": {
      "model_module": "@jupyter-widgets/output",
      "model_module_version": "1.0.0",
      "model_name": "OutputModel",
      "state": {
       "layout": "IPY_MODEL_49b710ee9eb342649ac2aabd1bafb46d",
       "outputs": [
        {
         "name": "stdout",
         "output_type": "stream",
         "text": "Высота: 2. Ширина: 5.0.\n"
        }
       ]
      }
     },
     "06dd7d83605d4ef8b63356ff52cbcf53": {
      "model_module": "@jupyter-widgets/base",
      "model_module_version": "1.0.0",
      "model_name": "LayoutModel",
      "state": {}
     },
     "07f786fcd3d04d3b8aed7169a6b36f12": {
      "model_module": "@jupyter-widgets/controls",
      "model_module_version": "1.0.0",
      "model_name": "IntSliderModel",
      "state": {
       "layout": "IPY_MODEL_c7e62a725f94477eb5da20684e9dcf51",
       "style": "IPY_MODEL_29a4d5e473ea43ba82c92eae7e0b8c87",
       "value": 22
      }
     },
     "0996166763c44d278757f89fac131b8d": {
      "model_module": "@jupyter-widgets/controls",
      "model_module_version": "1.0.0",
      "model_name": "DescriptionStyleModel",
      "state": {
       "description_width": ""
      }
     },
     "099cedfb43a648f8b48ccb4e5399a97a": {
      "model_module": "@jupyter-widgets/controls",
      "model_module_version": "1.0.0",
      "model_name": "SliderStyleModel",
      "state": {
       "description_width": ""
      }
     },
     "0b1d004712e245e4a480112a76f80c0a": {
      "model_module": "@jupyter-widgets/base",
      "model_module_version": "1.0.0",
      "model_name": "LayoutModel",
      "state": {}
     },
     "0c83a76919ee4542867e1d678221f456": {
      "model_module": "@jupyter-widgets/base",
      "model_module_version": "1.0.0",
      "model_name": "LayoutModel",
      "state": {}
     },
     "116d3430cf934429b8badc8c2a0ed146": {
      "model_module": "@jupyter-widgets/controls",
      "model_module_version": "1.0.0",
      "model_name": "ButtonStyleModel",
      "state": {}
     },
     "12eba3cb710746f8a31ae22dd1932f4d": {
      "model_module": "@jupyter-widgets/controls",
      "model_module_version": "1.0.0",
      "model_name": "ColorPickerModel",
      "state": {
       "description": "Цвет линии:",
       "disabled": false,
       "layout": "IPY_MODEL_402ee38886b34f0fa7b2d52a2f462ae9",
       "style": "IPY_MODEL_cb0a40412124486d85e687e8164a7d01",
       "value": "teal"
      }
     },
     "133435893e6040a98ec92c30cfe4eec3": {
      "model_module": "@jupyter-widgets/controls",
      "model_module_version": "1.0.0",
      "model_name": "DescriptionStyleModel",
      "state": {
       "description_width": ""
      }
     },
     "1471a1c220004115a2266160367efac4": {
      "model_module": "@jupyter-widgets/base",
      "model_module_version": "1.0.0",
      "model_name": "LayoutModel",
      "state": {}
     },
     "15c9eae7a5934fd6b42864c7e64ac80d": {
      "model_module": "@jupyter-widgets/base",
      "model_module_version": "1.0.0",
      "model_name": "LayoutModel",
      "state": {
       "width": "40%"
      }
     },
     "16380a48aedf4a4da2242607c4d48ad8": {
      "model_module": "@jupyter-widgets/base",
      "model_module_version": "1.0.0",
      "model_name": "LayoutModel",
      "state": {}
     },
     "16e5931422e94981894eacca830805a8": {
      "model_module": "@jupyter-widgets/controls",
      "model_module_version": "1.0.0",
      "model_name": "BoundedIntTextModel",
      "state": {
       "layout": "IPY_MODEL_973c6c1749f544509258d819fcb3a883",
       "max": 5,
       "min": 1,
       "style": "IPY_MODEL_3217b73fa95b41d0b8198995e98cfeee",
       "value": 1
      }
     },
     "194347b450e24cbaa54126eef1e3440c": {
      "model_module": "@jupyter-widgets/controls",
      "model_module_version": "1.0.0",
      "model_name": "IntSliderModel",
      "state": {
       "description": "Высота",
       "layout": "IPY_MODEL_df7d2bda42f848e58dd85ec173c12f0e",
       "max": 40,
       "min": 2,
       "step": 2,
       "style": "IPY_MODEL_a8ce7ccc0ef9455e8632f45861031182",
       "value": 2
      }
     },
     "19ab213bb1e145a682330ed2a9f1e50e": {
      "model_module": "@jupyter-widgets/controls",
      "model_module_version": "1.0.0",
      "model_name": "HBoxModel",
      "state": {
       "children": [
        "IPY_MODEL_ae0f6ccb7d8e4c2b80ed6e8592724251",
        "IPY_MODEL_c5362cca7aef4968a23118f080ffcf07"
       ],
       "layout": "IPY_MODEL_c1da701c0c8046fb80ff30e5e38c03dc"
      }
     },
     "19e4102371ad4026b9e0f6d013cf9396": {
      "model_module": "@jupyter-widgets/controls",
      "model_module_version": "1.0.0",
      "model_name": "VBoxModel",
      "state": {
       "_dom_classes": [
        "widget-interact"
       ],
       "children": [
        "IPY_MODEL_8f2845f66f3e4c78a8ec8a23ab887e01",
        "IPY_MODEL_1de7f90001fe44b685917947b02ac6ae"
       ],
       "layout": "IPY_MODEL_7713c9f0a44147bb9e0baaf8a603caec"
      }
     },
     "1a2c6e943f144ca3ad07e81037b660c4": {
      "model_module": "@jupyter-widgets/base",
      "model_module_version": "1.0.0",
      "model_name": "LayoutModel",
      "state": {}
     },
     "1b577f18f9a944d8be6026259e4a6821": {
      "model_module": "@jupyter-widgets/controls",
      "model_module_version": "1.0.0",
      "model_name": "SliderStyleModel",
      "state": {
       "description_width": ""
      }
     },
     "1c1fda862be9409bb372085ee3a1a154": {
      "model_module": "@jupyter-widgets/controls",
      "model_module_version": "1.0.0",
      "model_name": "SliderStyleModel",
      "state": {
       "description_width": ""
      }
     },
     "1d23a8768d2f4cf3b75d0a0a57ec5536": {
      "model_module": "@jupyter-widgets/base",
      "model_module_version": "1.0.0",
      "model_name": "LayoutModel",
      "state": {}
     },
     "1de7f90001fe44b685917947b02ac6ae": {
      "model_module": "@jupyter-widgets/output",
      "model_module_version": "1.0.0",
      "model_name": "OutputModel",
      "state": {
       "layout": "IPY_MODEL_9d6064ea05d946aeb65f755ad9c976c4",
       "outputs": [
        {
         "data": {
          "text/plain": "('лопата', 'лопаталопата')"
         },
         "metadata": {},
         "output_type": "display_data"
        }
       ]
      }
     },
     "1e8ceb13b64148de94f5111377824e10": {
      "model_module": "@jupyter-widgets/controls",
      "model_module_version": "1.0.0",
      "model_name": "CheckboxModel",
      "state": {
       "description": "Check me",
       "disabled": false,
       "layout": "IPY_MODEL_fd79ccf40f7e4f50b2608444cc164817",
       "style": "IPY_MODEL_04e6349de23b4e2586f145c4633dd73b",
       "value": false
      }
     },
     "1ef10723453f4dde85f9702a155bc744": {
      "model_module": "@jupyter-widgets/controls",
      "model_module_version": "1.0.0",
      "model_name": "ToggleButtonsModel",
      "state": {
       "_options_labels": [
        "Карта",
        "Наличные"
       ],
       "button_style": "success",
       "description": "Способ оплаты:",
       "icons": [
        "credit-card",
        "money"
       ],
       "index": 0,
       "layout": "IPY_MODEL_ff27eb04ed3a44dab2bf52645ef3ffd1",
       "style": "IPY_MODEL_30b3c7d0b9fa451aa4522c855a60b7df",
       "tooltips": [
        "Карта",
        "Наличные"
       ]
      }
     },
     "21f4ababaea540d8b395fcb08e01cf97": {
      "model_module": "@jupyter-widgets/controls",
      "model_module_version": "1.0.0",
      "model_name": "CheckboxModel",
      "state": {
       "description": "x",
       "disabled": false,
       "layout": "IPY_MODEL_a3bbdd0a26014bbda05b27440a391c66",
       "style": "IPY_MODEL_611464cf7cc84bef87edaf6674eee0fb",
       "value": true
      }
     },
     "2341dcdfed9b4206a0b38dc139605b52": {
      "model_module": "@jupyter-widgets/controls",
      "model_module_version": "1.0.0",
      "model_name": "ButtonStyleModel",
      "state": {
       "button_color": "lightgreen"
      }
     },
     "25282f33c5244919835967fad7f9afd0": {
      "model_module": "@jupyter-widgets/base",
      "model_module_version": "1.0.0",
      "model_name": "LayoutModel",
      "state": {}
     },
     "25958f3514474f8aa663fb26cb9b121e": {
      "model_module": "@jupyter-widgets/base",
      "model_module_version": "1.0.0",
      "model_name": "LayoutModel",
      "state": {}
     },
     "26b5ba543ad2487dbcb4bf1c2784985e": {
      "model_module": "@jupyter-widgets/controls",
      "model_module_version": "1.0.0",
      "model_name": "SliderStyleModel",
      "state": {
       "description_width": "",
       "handle_color": "lightblue"
      }
     },
     "289b6cee0d514726a88a331b8987b74e": {
      "model_module": "@jupyter-widgets/controls",
      "model_module_version": "1.0.0",
      "model_name": "VBoxModel",
      "state": {
       "_dom_classes": [
        "widget-interact"
       ],
       "layout": "IPY_MODEL_93cdad78a84446d2a7432074e311df92"
      }
     },
     "2979d0af554d4b82867aadc1a7df7a44": {
      "model_module": "@jupyter-widgets/controls",
      "model_module_version": "1.0.0",
      "model_name": "ButtonModel",
      "state": {
       "description": "Custom color",
       "layout": "IPY_MODEL_c12effe349724a90ad8f2f1509421d37",
       "style": "IPY_MODEL_2341dcdfed9b4206a0b38dc139605b52"
      }
     },
     "29a4d5e473ea43ba82c92eae7e0b8c87": {
      "model_module": "@jupyter-widgets/controls",
      "model_module_version": "1.0.0",
      "model_name": "SliderStyleModel",
      "state": {
       "description_width": ""
      }
     },
     "2bdc15222a1d48e88f63bdb102828457": {
      "model_module": "@jupyter-widgets/controls",
      "model_module_version": "1.0.0",
      "model_name": "VBoxModel",
      "state": {
       "_dom_classes": [
        "widget-interact"
       ],
       "children": [
        "IPY_MODEL_21f4ababaea540d8b395fcb08e01cf97",
        "IPY_MODEL_c8200b903ebb4b168b5d2b2e145108a2"
       ],
       "layout": "IPY_MODEL_1a2c6e943f144ca3ad07e81037b660c4"
      }
     },
     "2e21cc3c8b0d40af9319518dd18f7dad": {
      "model_module": "@jupyter-widgets/output",
      "model_module_version": "1.0.0",
      "model_name": "OutputModel",
      "state": {
       "layout": "IPY_MODEL_1471a1c220004115a2266160367efac4",
       "outputs": [
        {
         "data": {
          "text/plain": "3.5"
         },
         "metadata": {},
         "output_type": "display_data"
        }
       ]
      }
     },
     "2ea3f588be1243c78c6b8d3e0e32b5b3": {
      "model_module": "@jupyter-widgets/controls",
      "model_module_version": "1.0.0",
      "model_name": "VBoxModel",
      "state": {
       "_dom_classes": [
        "widget-interact"
       ],
       "children": [
        "IPY_MODEL_46255164c8bf48ab8c02494bf71dc6e0",
        "IPY_MODEL_ba04fa5f7f7f4396adb02bf925aff30f",
        "IPY_MODEL_fb670981f817469490836d146f5fc569",
        "IPY_MODEL_2e21cc3c8b0d40af9319518dd18f7dad"
       ],
       "layout": "IPY_MODEL_eab35a0646444bb3b57c51dd58e3a5c4"
      }
     },
     "300873f2d8824e5d81bad297cbb43d87": {
      "model_module": "@jupyter-widgets/controls",
      "model_module_version": "1.0.0",
      "model_name": "IntProgressModel",
      "state": {
       "bar_style": "success",
       "layout": "IPY_MODEL_019b37404b3b4f8eac8226929cc659ff",
       "max": 10,
       "style": "IPY_MODEL_da7d44b46d46454984ed7b90cfab783a",
       "value": 10
      }
     },
     "305cdc3ad8a143e8a34084d2dd42d432": {
      "model_module": "@jupyter-widgets/controls",
      "model_module_version": "1.0.0",
      "model_name": "DescriptionStyleModel",
      "state": {
       "description_width": ""
      }
     },
     "30b3c7d0b9fa451aa4522c855a60b7df": {
      "model_module": "@jupyter-widgets/controls",
      "model_module_version": "1.0.0",
      "model_name": "ToggleButtonsStyleModel",
      "state": {
       "button_width": "",
       "description_width": "200px"
      }
     },
     "3217b73fa95b41d0b8198995e98cfeee": {
      "model_module": "@jupyter-widgets/controls",
      "model_module_version": "1.0.0",
      "model_name": "DescriptionStyleModel",
      "state": {
       "description_width": ""
      }
     },
     "34e312f94ad14569ae569c51b6e584d2": {
      "model_module": "@jupyter-widgets/controls",
      "model_module_version": "1.0.0",
      "model_name": "SliderStyleModel",
      "state": {
       "description_width": ""
      }
     },
     "39b74fa3e79e4d29a383bf887ad84f87": {
      "model_module": "@jupyter-widgets/base",
      "model_module_version": "1.0.0",
      "model_name": "LayoutModel",
      "state": {}
     },
     "3ad367c126fa4e8fb4edeaab1141a6c3": {
      "model_module": "@jupyter-widgets/controls",
      "model_module_version": "1.0.0",
      "model_name": "SelectionSliderModel",
      "state": {
       "_options_labels": [
        "слабый",
        "хороший",
        "мощный",
        "deep learning"
       ],
       "continuous_update": false,
       "description": "Мощность:",
       "index": 1,
       "layout": "IPY_MODEL_93fffa32648b47edb931a222e9075c06",
       "style": "IPY_MODEL_b3b6ab9875914710bce45a6362abb26b"
      }
     },
     "3b173251ba124fddb4f72a4774a77951": {
      "model_module": "@jupyter-widgets/base",
      "model_module_version": "1.0.0",
      "model_name": "LayoutModel",
      "state": {
       "width": "40%"
      }
     },
     "3c0b27e50b15409eb2684a2e638398dc": {
      "model_module": "@jupyter-widgets/controls",
      "model_module_version": "1.0.0",
      "model_name": "VBoxModel",
      "state": {
       "_dom_classes": [
        "widget-interact"
       ],
       "children": [
        "IPY_MODEL_e9abc8ccc7d940a0bdee2af2825119ce",
        "IPY_MODEL_6a49f74c3f5f4ce5ae6e32d6f8ee1565"
       ],
       "layout": "IPY_MODEL_d36b39d9ae0f4255b2cf935c2ddca7c8"
      }
     },
     "3d7c199e37ea44c894e082f2d56dafc5": {
      "model_module": "@jupyter-widgets/controls",
      "model_module_version": "1.0.0",
      "model_name": "DescriptionStyleModel",
      "state": {
       "description_width": ""
      }
     },
     "402ee38886b34f0fa7b2d52a2f462ae9": {
      "model_module": "@jupyter-widgets/base",
      "model_module_version": "1.0.0",
      "model_name": "LayoutModel",
      "state": {}
     },
     "409e65d9231a4c928b1968b07b249051": {
      "model_module": "@jupyter-widgets/base",
      "model_module_version": "1.0.0",
      "model_name": "LayoutModel",
      "state": {}
     },
     "46255164c8bf48ab8c02494bf71dc6e0": {
      "model_module": "@jupyter-widgets/controls",
      "model_module_version": "1.0.0",
      "model_name": "IntSliderModel",
      "state": {
       "description": "x",
       "layout": "IPY_MODEL_56331c88aaca48f793b84176be42239a",
       "max": 3,
       "min": -1,
       "style": "IPY_MODEL_ad5eb5b9aedc490fb2d91ed343cfbf0c",
       "value": 1
      }
     },
     "49b710ee9eb342649ac2aabd1bafb46d": {
      "model_module": "@jupyter-widgets/base",
      "model_module_version": "1.0.0",
      "model_name": "LayoutModel",
      "state": {}
     },
     "4a67951956024b278fccc5456876c7eb": {
      "model_module": "@jupyter-widgets/controls",
      "model_module_version": "1.0.0",
      "model_name": "LabelModel",
      "state": {
       "layout": "IPY_MODEL_94fb1419c5914b6589c75ea3f00bbde6",
       "style": "IPY_MODEL_3d7c199e37ea44c894e082f2d56dafc5",
       "value": "Проверка информации  заказе:"
      }
     },
     "4a679b4940f346deb7c40a082631a6e0": {
      "model_module": "@jupyter-widgets/base",
      "model_module_version": "1.0.0",
      "model_name": "LayoutModel",
      "state": {
       "width": "40%"
      }
     },
     "4e62d86afc894616a8712af4c87e9d1d": {
      "model_module": "@jupyter-widgets/base",
      "model_module_version": "1.0.0",
      "model_name": "LayoutModel",
      "state": {}
     },
     "506fa575fc7248098d499b9df37cbb14": {
      "model_module": "@jupyter-widgets/controls",
      "model_module_version": "1.0.0",
      "model_name": "DescriptionStyleModel",
      "state": {
       "description_width": ""
      }
     },
     "5233682d80ff49ef9bb9800280b1bf58": {
      "model_module": "@jupyter-widgets/controls",
      "model_module_version": "1.0.0",
      "model_name": "IntSliderModel",
      "state": {
       "layout": "IPY_MODEL_ce21fa93d08b4b7cb0f39d2a73a5f84a",
       "style": "IPY_MODEL_fbd585eca5274d41a8787899d60587c6"
      }
     },
     "529dbd1d82a74f3587b0d1fa2b856685": {
      "model_module": "@jupyter-widgets/controls",
      "model_module_version": "1.0.0",
      "model_name": "IntSliderModel",
      "state": {
       "description": "x",
       "layout": "IPY_MODEL_06dd7d83605d4ef8b63356ff52cbcf53",
       "max": 30,
       "min": -10,
       "style": "IPY_MODEL_1c1fda862be9409bb372085ee3a1a154",
       "value": 10
      }
     },
     "53e271ba43584a2ca3d6511c092a6cdc": {
      "model_module": "@jupyter-widgets/base",
      "model_module_version": "1.0.0",
      "model_name": "LayoutModel",
      "state": {}
     },
     "55a35aae56cf4463af4594f1dda01aeb": {
      "model_module": "@jupyter-widgets/controls",
      "model_module_version": "1.0.0",
      "model_name": "VBoxModel",
      "state": {
       "_dom_classes": [
        "widget-interact"
       ],
       "children": [
        "IPY_MODEL_529dbd1d82a74f3587b0d1fa2b856685",
        "IPY_MODEL_909132268f58462599c665bf2bfabdd1"
       ],
       "layout": "IPY_MODEL_acdcea9bd6b94b65a78a2bec3a82fd56"
      }
     },
     "56331c88aaca48f793b84176be42239a": {
      "model_module": "@jupyter-widgets/base",
      "model_module_version": "1.0.0",
      "model_name": "LayoutModel",
      "state": {}
     },
     "57e25dd5c41f4c9c92b6f1eba6fa8f10": {
      "model_module": "@jupyter-widgets/controls",
      "model_module_version": "1.0.0",
      "model_name": "DescriptionStyleModel",
      "state": {
       "description_width": ""
      }
     },
     "5b56be69ce8b48b6a9b931b2ea4feb1a": {
      "model_module": "@jupyter-widgets/base",
      "model_module_version": "1.0.0",
      "model_name": "LayoutModel",
      "state": {}
     },
     "5dec74c5f3ed479fbe7f4bf2af4381b6": {
      "model_module": "@jupyter-widgets/base",
      "model_module_version": "1.0.0",
      "model_name": "LayoutModel",
      "state": {}
     },
     "611464cf7cc84bef87edaf6674eee0fb": {
      "model_module": "@jupyter-widgets/controls",
      "model_module_version": "1.0.0",
      "model_name": "DescriptionStyleModel",
      "state": {
       "description_width": ""
      }
     },
     "6a49f74c3f5f4ce5ae6e32d6f8ee1565": {
      "model_module": "@jupyter-widgets/output",
      "model_module_version": "1.0.0",
      "model_name": "OutputModel",
      "state": {
       "layout": "IPY_MODEL_739f9f65bfd94370926f0a92a054a6f0",
       "outputs": [
        {
         "data": {
          "text/plain": "('Текст', 'ТекстТекст')"
         },
         "metadata": {},
         "output_type": "display_data"
        }
       ]
      }
     },
     "6c51795e076946f09e1e582f2eb153ec": {
      "model_module": "@jupyter-widgets/controls",
      "model_module_version": "1.0.0",
      "model_name": "VBoxModel",
      "state": {
       "_dom_classes": [
        "widget-interact"
       ],
       "children": [
        "IPY_MODEL_194347b450e24cbaa54126eef1e3440c",
        "IPY_MODEL_900ba461564c400dad9e6d6cb56bcd41",
        "IPY_MODEL_060ac41f07254cd0b68c11a8352260e3"
       ],
       "layout": "IPY_MODEL_dc3efbcce6404cb198338bb13c6c4b0c"
      }
     },
     "6c61b45b2e284592bde34398543a6331": {
      "model_module": "@jupyter-widgets/controls",
      "model_module_version": "1.0.0",
      "model_name": "LabelModel",
      "state": {
       "layout": "IPY_MODEL_f651c60bdf2f4ee6b3632a0b02b94b19",
       "style": "IPY_MODEL_57e25dd5c41f4c9c92b6f1eba6fa8f10",
       "value": "Способ доставки:"
      }
     },
     "6d4ce32c92564812bcfbecb6d8d2ddf9": {
      "model_module": "@jupyter-widgets/base",
      "model_module_version": "1.0.0",
      "model_name": "LayoutModel",
      "state": {}
     },
     "6e5d931e40db40a9a4afead5d6b7fbcf": {
      "model_module": "@jupyter-widgets/base",
      "model_module_version": "1.0.0",
      "model_name": "LayoutModel",
      "state": {}
     },
     "715873192a7543388b987bc54c445048": {
      "model_module": "@jupyter-widgets/controls",
      "model_module_version": "1.0.0",
      "model_name": "VBoxModel",
      "state": {
       "children": [
        "IPY_MODEL_aab8c036c182446fb604025ea90448cc",
        "IPY_MODEL_9ddaabc083584d13aaf4ba1c61b3d393"
       ],
       "layout": "IPY_MODEL_f693f9ee1efb40aa975083914972814b"
      }
     },
     "739f9f65bfd94370926f0a92a054a6f0": {
      "model_module": "@jupyter-widgets/base",
      "model_module_version": "1.0.0",
      "model_name": "LayoutModel",
      "state": {}
     },
     "7713c9f0a44147bb9e0baaf8a603caec": {
      "model_module": "@jupyter-widgets/base",
      "model_module_version": "1.0.0",
      "model_name": "LayoutModel",
      "state": {}
     },
     "781a2afaacb74d9ab9b96f9ddee77d57": {
      "model_module": "@jupyter-widgets/base",
      "model_module_version": "1.0.0",
      "model_name": "LayoutModel",
      "state": {}
     },
     "7c710c1e76594b06bb49622ed33fe758": {
      "model_module": "@jupyter-widgets/controls",
      "model_module_version": "1.0.0",
      "model_name": "SliderStyleModel",
      "state": {
       "description_width": ""
      }
     },
     "7e69926817844a2ebe2804efe5fa5f77": {
      "model_module": "@jupyter-widgets/base",
      "model_module_version": "1.0.0",
      "model_name": "LayoutModel",
      "state": {}
     },
     "81733ab3b0e743ea90d687b6842f50fb": {
      "model_module": "@jupyter-widgets/output",
      "model_module_version": "1.0.0",
      "model_name": "OutputModel",
      "state": {
       "layout": "IPY_MODEL_5b56be69ce8b48b6a9b931b2ea4feb1a",
       "outputs": [
        {
         "data": {
          "application/vnd.jupyter.widget-view+json": {
           "model_id": "d302b541dc7942ff8ef6c3c41ca9afe9",
           "version_major": 2,
           "version_minor": 0
          },
          "text/html": "<p>Failed to display Jupyter Widget of type <code>VBox</code>.</p>\n<p>\n  If you're reading this message in Jupyter Notebook or JupyterLab, it may mean\n  that the widgets JavaScript is still loading. If this message persists, it\n  likely means that the widgets JavaScript library is either not installed or\n  not enabled. See the <a href=\"https://ipywidgets.readthedocs.io/en/stable/user_install.html\">Jupyter\n  Widgets Documentation</a> for setup instructions.\n</p>\n<p>\n  If you're reading this message in another notebook frontend (for example, a static\n  rendering on GitHub or <a href=\"https://nbviewer.jupyter.org/\">NBViewer</a>),\n  it may mean that your frontend doesn't currently support widgets.\n</p>\n",
          "text/plain": "VBox(children=(Label(value='Проверка информации  заказе:'), IntProgress(value=0, bar_style='success', max=10)))"
         },
         "metadata": {},
         "output_type": "display_data"
        },
        {
         "name": "stdout",
         "output_type": "stream",
         "text": "Информация о заказе:\nТовар: Компьютер\nКоличество: 1\nМощность: хороший\nБонус: Стикер\nСпособ доставки: Доставка\nСпособ оплаты: Карта\nДата доставки: None\nВремя доставки: (9, 18)\nКомментарий:  \nАдрес доставки: Адрес\n"
        }
       ]
      }
     },
     "861d4d7756b4456fa4235fd550fa64cc": {
      "model_module": "@jupyter-widgets/controls",
      "model_module_version": "1.0.0",
      "model_name": "SelectModel",
      "state": {
       "_options_labels": [
        "Компьютер",
        "Планшет",
        "Ноутбук"
       ],
       "description": "Товар:",
       "index": 0,
       "layout": "IPY_MODEL_0c83a76919ee4542867e1d678221f456",
       "style": "IPY_MODEL_b945fc36dfc74d668677c1519457280a"
      }
     },
     "8de8286528834822906bb3da2f162007": {
      "model_module": "@jupyter-widgets/base",
      "model_module_version": "1.0.0",
      "model_name": "LayoutModel",
      "state": {}
     },
     "8e8152a4a2c44097b54d6ba88428374a": {
      "model_module": "@jupyter-widgets/controls",
      "model_module_version": "1.0.0",
      "model_name": "IntRangeSliderModel",
      "state": {
       "_model_name": "IntRangeSliderModel",
       "_view_name": "IntRangeSliderView",
       "continuous_update": false,
       "description": "Время:",
       "layout": "IPY_MODEL_4e62d86afc894616a8712af4c87e9d1d",
       "max": 22,
       "min": 7,
       "readout_format": "",
       "style": "IPY_MODEL_1b577f18f9a944d8be6026259e4a6821",
       "value": [
        9,
        18
       ]
      }
     },
     "8f2845f66f3e4c78a8ec8a23ab887e01": {
      "model_module": "@jupyter-widgets/controls",
      "model_module_version": "1.0.0",
      "model_name": "DropdownModel",
      "state": {
       "_options_labels": [
        "лопата",
        "солнце"
       ],
       "description": "x",
       "index": 0,
       "layout": "IPY_MODEL_16380a48aedf4a4da2242607c4d48ad8",
       "style": "IPY_MODEL_c4cb29aab86d450fadbdf5d1879e7dc8"
      }
     },
     "900ba461564c400dad9e6d6cb56bcd41": {
      "model_module": "@jupyter-widgets/controls",
      "model_module_version": "1.0.0",
      "model_name": "FloatSliderModel",
      "state": {
       "description": "Ширина",
       "layout": "IPY_MODEL_a62114b4ef5540c39161cb8d97a0a2b5",
       "max": 80,
       "min": 2,
       "step": 0.5,
       "style": "IPY_MODEL_34e312f94ad14569ae569c51b6e584d2",
       "value": 5
      }
     },
     "909132268f58462599c665bf2bfabdd1": {
      "model_module": "@jupyter-widgets/output",
      "model_module_version": "1.0.0",
      "model_name": "OutputModel",
      "state": {
       "layout": "IPY_MODEL_1d23a8768d2f4cf3b75d0a0a57ec5536",
       "outputs": [
        {
         "data": {
          "text/plain": "(10, '1010')"
         },
         "metadata": {},
         "output_type": "display_data"
        }
       ]
      }
     },
     "93cdad78a84446d2a7432074e311df92": {
      "model_module": "@jupyter-widgets/base",
      "model_module_version": "1.0.0",
      "model_name": "LayoutModel",
      "state": {}
     },
     "93fffa32648b47edb931a222e9075c06": {
      "model_module": "@jupyter-widgets/base",
      "model_module_version": "1.0.0",
      "model_name": "LayoutModel",
      "state": {
       "width": "40%"
      }
     },
     "94fb1419c5914b6589c75ea3f00bbde6": {
      "model_module": "@jupyter-widgets/base",
      "model_module_version": "1.0.0",
      "model_name": "LayoutModel",
      "state": {}
     },
     "9675aeb27d5b47cc9b21afdc65c437f4": {
      "model_module": "@jupyter-widgets/base",
      "model_module_version": "1.0.0",
      "model_name": "LayoutModel",
      "state": {}
     },
     "973c6c1749f544509258d819fcb3a883": {
      "model_module": "@jupyter-widgets/base",
      "model_module_version": "1.0.0",
      "model_name": "LayoutModel",
      "state": {}
     },
     "9d13a9b092e9490c88d6e1dbec436413": {
      "model_module": "@jupyter-widgets/base",
      "model_module_version": "1.0.0",
      "model_name": "LayoutModel",
      "state": {}
     },
     "9d6064ea05d946aeb65f755ad9c976c4": {
      "model_module": "@jupyter-widgets/base",
      "model_module_version": "1.0.0",
      "model_name": "LayoutModel",
      "state": {}
     },
     "9ddaabc083584d13aaf4ba1c61b3d393": {
      "model_module": "@jupyter-widgets/controls",
      "model_module_version": "1.0.0",
      "model_name": "DatePickerModel",
      "state": {
       "disabled": false,
       "layout": "IPY_MODEL_eebac8efff6d4c64842e1911dc31319f",
       "style": "IPY_MODEL_0996166763c44d278757f89fac131b8d"
      }
     },
     "9ea958d963f04b099280481aaa499cd8": {
      "model_module": "@jupyter-widgets/controls",
      "model_module_version": "1.0.0",
      "model_name": "DescriptionStyleModel",
      "state": {
       "description_width": "200px"
      }
     },
     "9eac01d896a5481ca5e95c927105da8c": {
      "model_module": "@jupyter-widgets/controls",
      "model_module_version": "1.0.0",
      "model_name": "IntSliderModel",
      "state": {
       "layout": "IPY_MODEL_5dec74c5f3ed479fbe7f4bf2af4381b6",
       "max": 5,
       "min": 1,
       "style": "IPY_MODEL_7c710c1e76594b06bb49622ed33fe758",
       "value": 1
      }
     },
     "a29093d460c545969ffeba5ecbf6931d": {
      "model_module": "@jupyter-widgets/controls",
      "model_module_version": "1.0.0",
      "model_name": "VBoxModel",
      "state": {
       "_dom_classes": [
        "widget-interact"
       ],
       "children": [
        "IPY_MODEL_d46ce6b3e07f4099a0a1b3df85d53aff",
        "IPY_MODEL_12eba3cb710746f8a31ae22dd1932f4d",
        "IPY_MODEL_d5e6d57c1717474f983558f753d483e2"
       ],
       "layout": "IPY_MODEL_6d4ce32c92564812bcfbecb6d8d2ddf9"
      }
     },
     "a2a2c80942bd455fb360c8f842c68d87": {
      "model_module": "@jupyter-widgets/controls",
      "model_module_version": "1.0.0",
      "model_name": "ButtonModel",
      "state": {
       "description": "Использовать другие данные",
       "layout": "IPY_MODEL_4a679b4940f346deb7c40a082631a6e0",
       "style": "IPY_MODEL_a2aeae36c1d4423babd0f6a0840b820e"
      }
     },
     "a2aeae36c1d4423babd0f6a0840b820e": {
      "model_module": "@jupyter-widgets/controls",
      "model_module_version": "1.0.0",
      "model_name": "ButtonStyleModel",
      "state": {}
     },
     "a3bbdd0a26014bbda05b27440a391c66": {
      "model_module": "@jupyter-widgets/base",
      "model_module_version": "1.0.0",
      "model_name": "LayoutModel",
      "state": {}
     },
     "a434d9c286dd4c66911c992a64e7c157": {
      "model_module": "@jupyter-widgets/base",
      "model_module_version": "1.0.0",
      "model_name": "LayoutModel",
      "state": {}
     },
     "a62114b4ef5540c39161cb8d97a0a2b5": {
      "model_module": "@jupyter-widgets/base",
      "model_module_version": "1.0.0",
      "model_name": "LayoutModel",
      "state": {}
     },
     "a8ce7ccc0ef9455e8632f45861031182": {
      "model_module": "@jupyter-widgets/controls",
      "model_module_version": "1.0.0",
      "model_name": "SliderStyleModel",
      "state": {
       "description_width": ""
      }
     },
     "aab8c036c182446fb604025ea90448cc": {
      "model_module": "@jupyter-widgets/controls",
      "model_module_version": "1.0.0",
      "model_name": "LabelModel",
      "state": {
       "layout": "IPY_MODEL_9675aeb27d5b47cc9b21afdc65c437f4",
       "style": "IPY_MODEL_d17e7107832c4c7db77c7a960754b0b5",
       "value": "Дата доставки:"
      }
     },
     "acdcea9bd6b94b65a78a2bec3a82fd56": {
      "model_module": "@jupyter-widgets/base",
      "model_module_version": "1.0.0",
      "model_name": "LayoutModel",
      "state": {}
     },
     "ad5eb5b9aedc490fb2d91ed343cfbf0c": {
      "model_module": "@jupyter-widgets/controls",
      "model_module_version": "1.0.0",
      "model_name": "SliderStyleModel",
      "state": {
       "description_width": ""
      }
     },
     "ad793f47fea445c3922af2ccd4151e45": {
      "model_module": "@jupyter-widgets/base",
      "model_module_version": "1.0.0",
      "model_name": "LayoutModel",
      "state": {}
     },
     "ae0f6ccb7d8e4c2b80ed6e8592724251": {
      "model_module": "@jupyter-widgets/controls",
      "model_module_version": "1.0.0",
      "model_name": "LabelModel",
      "state": {
       "layout": "IPY_MODEL_7e69926817844a2ebe2804efe5fa5f77",
       "style": "IPY_MODEL_c815824ebead4cd0abbc24893fd0cc22",
       "value": "Способ доставки:"
      }
     },
     "afb82c788b764e5ebb1e816518f13a5b": {
      "model_module": "@jupyter-widgets/base",
      "model_module_version": "1.0.0",
      "model_name": "LayoutModel",
      "state": {}
     },
     "b0b9526f32994aaf8077887ea84e10b3": {
      "model_module": "@jupyter-widgets/controls",
      "model_module_version": "1.0.0",
      "model_name": "AccordionModel",
      "state": {
       "_titles": {
        "0": "Способ доставки:",
        "1": "Способ оплаты:",
        "2": "Дата доставки:",
        "3": "Время доставки:",
        "4": "Комментарий:",
        "5": "Адрес доставки:"
       },
       "children": [
        "IPY_MODEL_19ab213bb1e145a682330ed2a9f1e50e",
        "IPY_MODEL_1ef10723453f4dde85f9702a155bc744",
        "IPY_MODEL_715873192a7543388b987bc54c445048",
        "IPY_MODEL_8e8152a4a2c44097b54d6ba88428374a",
        "IPY_MODEL_bd1cdc6c9a534a5fa4fe44d1031c7407",
        "IPY_MODEL_f534737a602f482b82708af29a4109de"
       ],
       "layout": "IPY_MODEL_a434d9c286dd4c66911c992a64e7c157"
      }
     },
     "b350fc6d2c334115a7271ad2ffa5294c": {
      "model_module": "@jupyter-widgets/output",
      "model_module_version": "1.0.0",
      "model_name": "OutputModel",
      "state": {
       "layout": "IPY_MODEL_e98c31282a214a02a4788a9802956704",
       "outputs": [
        {
         "data": {
          "text/plain": "'sepal length (cm)'"
         },
         "metadata": {},
         "output_type": "display_data"
        }
       ]
      }
     },
     "b3a354155c6140a2aa200f58fa430ae4": {
      "model_module": "@jupyter-widgets/controls",
      "model_module_version": "1.0.0",
      "model_name": "AccordionModel",
      "state": {
       "_titles": {
        "0": "Товар:",
        "1": "Количество:",
        "2": "Мощность:",
        "3": "Бонус:"
       },
       "children": [
        "IPY_MODEL_861d4d7756b4456fa4235fd550fa64cc",
        "IPY_MODEL_9eac01d896a5481ca5e95c927105da8c",
        "IPY_MODEL_3ad367c126fa4e8fb4edeaab1141a6c3",
        "IPY_MODEL_008667d6859246d5ad6201b397494919"
       ],
       "layout": "IPY_MODEL_cfb34b56dcec4fcbb4c16034ff2566e0"
      }
     },
     "b3b6ab9875914710bce45a6362abb26b": {
      "model_module": "@jupyter-widgets/controls",
      "model_module_version": "1.0.0",
      "model_name": "DescriptionStyleModel",
      "state": {
       "description_width": ""
      }
     },
     "b945fc36dfc74d668677c1519457280a": {
      "model_module": "@jupyter-widgets/controls",
      "model_module_version": "1.0.0",
      "model_name": "DescriptionStyleModel",
      "state": {
       "description_width": ""
      }
     },
     "ba04fa5f7f7f4396adb02bf925aff30f": {
      "model_module": "@jupyter-widgets/controls",
      "model_module_version": "1.0.0",
      "model_name": "FloatSliderModel",
      "state": {
       "description": "y",
       "layout": "IPY_MODEL_e414c5bc96254897ab7e4eb1ea877cef",
       "max": 7.5,
       "min": -2.5,
       "step": 0.1,
       "style": "IPY_MODEL_e5d7cc7174144218a4407a2f241e8a40",
       "value": 2.5
      }
     },
     "bd1cdc6c9a534a5fa4fe44d1031c7407": {
      "model_module": "@jupyter-widgets/controls",
      "model_module_version": "1.0.0",
      "model_name": "TextModel",
      "state": {
       "description": "Комментарий к доставке:",
       "layout": "IPY_MODEL_25282f33c5244919835967fad7f9afd0",
       "style": "IPY_MODEL_9ea958d963f04b099280481aaa499cd8",
       "value": " "
      }
     },
     "bde9625df0d942b8a0fecb1b1ff351cc": {
      "model_module": "@jupyter-widgets/controls",
      "model_module_version": "1.0.0",
      "model_name": "ButtonModel",
      "state": {
       "description": "Проверить дату",
       "layout": "IPY_MODEL_3b173251ba124fddb4f72a4774a77951",
       "style": "IPY_MODEL_cea361a80eb74706b1501d79dc82bdc0"
      }
     },
     "bdfe425aa5b44f738ef24e4845d25188": {
      "model_module": "@jupyter-widgets/controls",
      "model_module_version": "1.0.0",
      "model_name": "DescriptionStyleModel",
      "state": {
       "description_width": ""
      }
     },
     "c12effe349724a90ad8f2f1509421d37": {
      "model_module": "@jupyter-widgets/base",
      "model_module_version": "1.0.0",
      "model_name": "LayoutModel",
      "state": {}
     },
     "c1da701c0c8046fb80ff30e5e38c03dc": {
      "model_module": "@jupyter-widgets/base",
      "model_module_version": "1.0.0",
      "model_name": "LayoutModel",
      "state": {}
     },
     "c365c19108424c06b39f35b06eb8cbf6": {
      "model_module": "@jupyter-widgets/controls",
      "model_module_version": "1.0.0",
      "model_name": "DescriptionStyleModel",
      "state": {
       "description_width": ""
      }
     },
     "c4cb29aab86d450fadbdf5d1879e7dc8": {
      "model_module": "@jupyter-widgets/controls",
      "model_module_version": "1.0.0",
      "model_name": "DescriptionStyleModel",
      "state": {
       "description_width": ""
      }
     },
     "c5362cca7aef4968a23118f080ffcf07": {
      "model_module": "@jupyter-widgets/controls",
      "model_module_version": "1.0.0",
      "model_name": "RadioButtonsModel",
      "state": {
       "_options_labels": [
        "Доставка",
        "Самовывоз"
       ],
       "index": 0,
       "layout": "IPY_MODEL_6e5d931e40db40a9a4afead5d6b7fbcf",
       "style": "IPY_MODEL_c365c19108424c06b39f35b06eb8cbf6"
      }
     },
     "c54ac1740411476ea2ea05f238c50843": {
      "model_module": "@jupyter-widgets/controls",
      "model_module_version": "1.0.0",
      "model_name": "DropdownModel",
      "state": {
       "_options_labels": [
        "sepal length (cm)",
        "sepal width (cm)",
        "petal length (cm)",
        "petal width (cm)"
       ],
       "description": "x",
       "index": 0,
       "layout": "IPY_MODEL_ff1724c208234aef981e4b4b79cb5ffd",
       "style": "IPY_MODEL_506fa575fc7248098d499b9df37cbb14"
      }
     },
     "c782177c1fca4007a7bfb6b1476f873f": {
      "model_module": "@jupyter-widgets/controls",
      "model_module_version": "1.0.0",
      "model_name": "FloatSliderModel",
      "state": {
       "description": "x",
       "layout": "IPY_MODEL_781a2afaacb74d9ab9b96f9ddee77d57",
       "max": 3,
       "min": -1,
       "step": 0.1,
       "style": "IPY_MODEL_099cedfb43a648f8b48ccb4e5399a97a",
       "value": 1
      }
     },
     "c7e62a725f94477eb5da20684e9dcf51": {
      "model_module": "@jupyter-widgets/base",
      "model_module_version": "1.0.0",
      "model_name": "LayoutModel",
      "state": {}
     },
     "c815824ebead4cd0abbc24893fd0cc22": {
      "model_module": "@jupyter-widgets/controls",
      "model_module_version": "1.0.0",
      "model_name": "DescriptionStyleModel",
      "state": {
       "description_width": ""
      }
     },
     "c8200b903ebb4b168b5d2b2e145108a2": {
      "model_module": "@jupyter-widgets/output",
      "model_module_version": "1.0.0",
      "model_name": "OutputModel",
      "state": {
       "layout": "IPY_MODEL_25958f3514474f8aa663fb26cb9b121e",
       "outputs": [
        {
         "data": {
          "text/plain": "(True, 'TrueTrue')"
         },
         "metadata": {},
         "output_type": "display_data"
        }
       ]
      }
     },
     "cb0a40412124486d85e687e8164a7d01": {
      "model_module": "@jupyter-widgets/controls",
      "model_module_version": "1.0.0",
      "model_name": "DescriptionStyleModel",
      "state": {
       "description_width": ""
      }
     },
     "cd8b71a7857c4171bd8e5cfc4f33966d": {
      "model_module": "@jupyter-widgets/output",
      "model_module_version": "1.0.0",
      "model_name": "OutputModel",
      "state": {
       "layout": "IPY_MODEL_9d13a9b092e9490c88d6e1dbec436413",
       "outputs": [
        {
         "data": {
          "text/plain": "1.0"
         },
         "metadata": {},
         "output_type": "display_data"
        }
       ]
      }
     },
     "ce211acaf64e414ab5c95e5d9b89ca6d": {
      "model_module": "@jupyter-widgets/controls",
      "model_module_version": "1.0.0",
      "model_name": "VBoxModel",
      "state": {
       "_dom_classes": [
        "widget-interact"
       ],
       "children": [
        "IPY_MODEL_c54ac1740411476ea2ea05f238c50843",
        "IPY_MODEL_b350fc6d2c334115a7271ad2ffa5294c"
       ],
       "layout": "IPY_MODEL_f10a3a4bf56a4a74b6ba43451c1160e7"
      }
     },
     "ce21fa93d08b4b7cb0f39d2a73a5f84a": {
      "model_module": "@jupyter-widgets/base",
      "model_module_version": "1.0.0",
      "model_name": "LayoutModel",
      "state": {}
     },
     "cea361a80eb74706b1501d79dc82bdc0": {
      "model_module": "@jupyter-widgets/controls",
      "model_module_version": "1.0.0",
      "model_name": "ButtonStyleModel",
      "state": {}
     },
     "ceb13bf82d624023b9087d1cdcdd692f": {
      "model_module": "@jupyter-widgets/controls",
      "model_module_version": "1.0.0",
      "model_name": "TabModel",
      "state": {
       "_titles": {
        "0": "Заказ:",
        "1": "Доставка:"
       },
       "children": [
        "IPY_MODEL_b3a354155c6140a2aa200f58fa430ae4",
        "IPY_MODEL_b0b9526f32994aaf8077887ea84e10b3"
       ],
       "layout": "IPY_MODEL_53e271ba43584a2ca3d6511c092a6cdc"
      }
     },
     "cfabfc3cc1d549539987afed6096e102": {
      "model_module": "@jupyter-widgets/controls",
      "model_module_version": "1.0.0",
      "model_name": "LabelModel",
      "state": {
       "layout": "IPY_MODEL_f24eaf4ca4434975a4ba515426fa1953",
       "style": "IPY_MODEL_f4561656aca14ee88adf0281647f4cee",
       "value": "Дата доставки:"
      }
     },
     "cfb34b56dcec4fcbb4c16034ff2566e0": {
      "model_module": "@jupyter-widgets/base",
      "model_module_version": "1.0.0",
      "model_name": "LayoutModel",
      "state": {}
     },
     "d17e7107832c4c7db77c7a960754b0b5": {
      "model_module": "@jupyter-widgets/controls",
      "model_module_version": "1.0.0",
      "model_name": "DescriptionStyleModel",
      "state": {
       "description_width": ""
      }
     },
     "d233619528f84397aa12d636c9745b73": {
      "model_module": "@jupyter-widgets/controls",
      "model_module_version": "1.0.0",
      "model_name": "VBoxModel",
      "state": {
       "_dom_classes": [
        "widget-interact"
       ],
       "layout": "IPY_MODEL_fb3e112e6ad24d41950cad4053e95642"
      }
     },
     "d302b541dc7942ff8ef6c3c41ca9afe9": {
      "model_module": "@jupyter-widgets/controls",
      "model_module_version": "1.0.0",
      "model_name": "VBoxModel",
      "state": {
       "children": [
        "IPY_MODEL_4a67951956024b278fccc5456876c7eb",
        "IPY_MODEL_300873f2d8824e5d81bad297cbb43d87"
       ],
       "layout": "IPY_MODEL_02824ca3231b43fa889f21042fd3aba7"
      }
     },
     "d36b39d9ae0f4255b2cf935c2ddca7c8": {
      "model_module": "@jupyter-widgets/base",
      "model_module_version": "1.0.0",
      "model_name": "LayoutModel",
      "state": {}
     },
     "d46ce6b3e07f4099a0a1b3df85d53aff": {
      "model_module": "@jupyter-widgets/controls",
      "model_module_version": "1.0.0",
      "model_name": "DropdownModel",
      "state": {
       "_options_labels": [
        "2",
        "3",
        "4",
        "5"
       ],
       "description": "n",
       "index": 1,
       "layout": "IPY_MODEL_8de8286528834822906bb3da2f162007",
       "style": "IPY_MODEL_305cdc3ad8a143e8a34084d2dd42d432"
      }
     },
     "d5e6d57c1717474f983558f753d483e2": {
      "model_module": "@jupyter-widgets/output",
      "model_module_version": "1.0.0",
      "model_name": "OutputModel",
      "state": {
       "layout": "IPY_MODEL_e8847487b01343ee9c60348e6231152c",
       "outputs": [
        {
         "data": {
          "image/png": "iVBORw0KGgoAAAANSUhEUgAAAXQAAAD8CAYAAABn919SAAAABHNCSVQICAgIfAhkiAAAAAlwSFlz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\nqFrAtSxeGo0AAAAASUVORK5CYII=\n",
          "text/plain": "<matplotlib.figure.Figure at 0x2500020fe10>"
         },
         "metadata": {},
         "output_type": "display_data"
        }
       ]
      }
     },
     "d72598a7943842a19a8cfc17a458201b": {
      "model_module": "@jupyter-widgets/controls",
      "model_module_version": "1.0.0",
      "model_name": "HBoxModel",
      "state": {
       "children": [
        "IPY_MODEL_6c61b45b2e284592bde34398543a6331",
        "IPY_MODEL_c5362cca7aef4968a23118f080ffcf07"
       ],
       "layout": "IPY_MODEL_ee7b7faa438843ac93f947339e1055d3"
      }
     },
     "d7afefa4e08843908f255c6aa7c69e8b": {
      "model_module": "@jupyter-widgets/base",
      "model_module_version": "1.0.0",
      "model_name": "LayoutModel",
      "state": {}
     },
     "da7d44b46d46454984ed7b90cfab783a": {
      "model_module": "@jupyter-widgets/controls",
      "model_module_version": "1.0.0",
      "model_name": "ProgressStyleModel",
      "state": {
       "description_width": ""
      }
     },
     "dc3efbcce6404cb198338bb13c6c4b0c": {
      "model_module": "@jupyter-widgets/base",
      "model_module_version": "1.0.0",
      "model_name": "LayoutModel",
      "state": {}
     },
     "df7d2bda42f848e58dd85ec173c12f0e": {
      "model_module": "@jupyter-widgets/base",
      "model_module_version": "1.0.0",
      "model_name": "LayoutModel",
      "state": {}
     },
     "e073d6794cb440db9f9d4006dea1a3f0": {
      "model_module": "@jupyter-widgets/controls",
      "model_module_version": "1.0.0",
      "model_name": "DescriptionStyleModel",
      "state": {
       "description_width": ""
      }
     },
     "e414c5bc96254897ab7e4eb1ea877cef": {
      "model_module": "@jupyter-widgets/base",
      "model_module_version": "1.0.0",
      "model_name": "LayoutModel",
      "state": {}
     },
     "e5d7cc7174144218a4407a2f241e8a40": {
      "model_module": "@jupyter-widgets/controls",
      "model_module_version": "1.0.0",
      "model_name": "SliderStyleModel",
      "state": {
       "description_width": ""
      }
     },
     "e6144dda788f40caa0d12b0087052247": {
      "model_module": "@jupyter-widgets/controls",
      "model_module_version": "1.0.0",
      "model_name": "LinkModel",
      "state": {
       "source": [
        "IPY_MODEL_16e5931422e94981894eacca830805a8",
        "value"
       ],
       "target": [
        "IPY_MODEL_9eac01d896a5481ca5e95c927105da8c",
        "value"
       ]
      }
     },
     "e7552236a9e54ba7aa5e5b810a522e7c": {
      "model_module": "@jupyter-widgets/controls",
      "model_module_version": "1.0.0",
      "model_name": "IntSliderModel",
      "state": {
       "description": "Blue handle",
       "layout": "IPY_MODEL_ec9f093e05ec4325b01ffc5e9048c46f",
       "style": "IPY_MODEL_26b5ba543ad2487dbcb4bf1c2784985e"
      }
     },
     "e8847487b01343ee9c60348e6231152c": {
      "model_module": "@jupyter-widgets/base",
      "model_module_version": "1.0.0",
      "model_name": "LayoutModel",
      "state": {}
     },
     "e98c31282a214a02a4788a9802956704": {
      "model_module": "@jupyter-widgets/base",
      "model_module_version": "1.0.0",
      "model_name": "LayoutModel",
      "state": {}
     },
     "e9abc8ccc7d940a0bdee2af2825119ce": {
      "model_module": "@jupyter-widgets/controls",
      "model_module_version": "1.0.0",
      "model_name": "TextModel",
      "state": {
       "description": "x",
       "layout": "IPY_MODEL_409e65d9231a4c928b1968b07b249051",
       "style": "IPY_MODEL_e073d6794cb440db9f9d4006dea1a3f0",
       "value": "Текст"
      }
     },
     "eab35a0646444bb3b57c51dd58e3a5c4": {
      "model_module": "@jupyter-widgets/base",
      "model_module_version": "1.0.0",
      "model_name": "LayoutModel",
      "state": {}
     },
     "ec9f093e05ec4325b01ffc5e9048c46f": {
      "model_module": "@jupyter-widgets/base",
      "model_module_version": "1.0.0",
      "model_name": "LayoutModel",
      "state": {}
     },
     "ee7b7faa438843ac93f947339e1055d3": {
      "model_module": "@jupyter-widgets/base",
      "model_module_version": "1.0.0",
      "model_name": "LayoutModel",
      "state": {}
     },
     "eebac8efff6d4c64842e1911dc31319f": {
      "model_module": "@jupyter-widgets/base",
      "model_module_version": "1.0.0",
      "model_name": "LayoutModel",
      "state": {}
     },
     "f091dc99e74c4aedaa3b533344eadb5a": {
      "model_module": "@jupyter-widgets/controls",
      "model_module_version": "1.0.0",
      "model_name": "ButtonModel",
      "state": {
       "description": "Нажмите, чтобы посчитать площадь прямоугольника!",
       "layout": "IPY_MODEL_15c9eae7a5934fd6b42864c7e64ac80d",
       "style": "IPY_MODEL_116d3430cf934429b8badc8c2a0ed146"
      }
     },
     "f10a3a4bf56a4a74b6ba43451c1160e7": {
      "model_module": "@jupyter-widgets/base",
      "model_module_version": "1.0.0",
      "model_name": "LayoutModel",
      "state": {}
     },
     "f24eaf4ca4434975a4ba515426fa1953": {
      "model_module": "@jupyter-widgets/base",
      "model_module_version": "1.0.0",
      "model_name": "LayoutModel",
      "state": {}
     },
     "f4561656aca14ee88adf0281647f4cee": {
      "model_module": "@jupyter-widgets/controls",
      "model_module_version": "1.0.0",
      "model_name": "DescriptionStyleModel",
      "state": {
       "description_width": ""
      }
     },
     "f534737a602f482b82708af29a4109de": {
      "model_module": "@jupyter-widgets/controls",
      "model_module_version": "1.0.0",
      "model_name": "TextareaModel",
      "state": {
       "description": "Адрес:",
       "layout": "IPY_MODEL_0b1d004712e245e4a480112a76f80c0a",
       "placeholder": "Не дом и не улица",
       "style": "IPY_MODEL_133435893e6040a98ec92c30cfe4eec3",
       "value": "Адрес"
      }
     },
     "f651c60bdf2f4ee6b3632a0b02b94b19": {
      "model_module": "@jupyter-widgets/base",
      "model_module_version": "1.0.0",
      "model_name": "LayoutModel",
      "state": {}
     },
     "f693f9ee1efb40aa975083914972814b": {
      "model_module": "@jupyter-widgets/base",
      "model_module_version": "1.0.0",
      "model_name": "LayoutModel",
      "state": {}
     },
     "f94cb1a307574470b86e36eb53df17c3": {
      "model_module": "@jupyter-widgets/controls",
      "model_module_version": "1.0.0",
      "model_name": "DescriptionStyleModel",
      "state": {
       "description_width": ""
      }
     },
     "fb3e112e6ad24d41950cad4053e95642": {
      "model_module": "@jupyter-widgets/base",
      "model_module_version": "1.0.0",
      "model_name": "LayoutModel",
      "state": {}
     },
     "fb670981f817469490836d146f5fc569": {
      "model_module": "@jupyter-widgets/controls",
      "model_module_version": "1.0.0",
      "model_name": "DropdownModel",
      "state": {
       "_options_labels": [
        "Сумма",
        "Произведение"
       ],
       "description": "z",
       "index": 0,
       "layout": "IPY_MODEL_ad793f47fea445c3922af2ccd4151e45",
       "style": "IPY_MODEL_f94cb1a307574470b86e36eb53df17c3"
      }
     },
     "fbd585eca5274d41a8787899d60587c6": {
      "model_module": "@jupyter-widgets/controls",
      "model_module_version": "1.0.0",
      "model_name": "SliderStyleModel",
      "state": {
       "description_width": ""
      }
     },
     "fc057a0717f7407cb844146c429c1e9d": {
      "model_module": "@jupyter-widgets/controls",
      "model_module_version": "1.0.0",
      "model_name": "VBoxModel",
      "state": {
       "children": [
        "IPY_MODEL_cfabfc3cc1d549539987afed6096e102",
        "IPY_MODEL_9ddaabc083584d13aaf4ba1c61b3d393"
       ],
       "layout": "IPY_MODEL_39b74fa3e79e4d29a383bf887ad84f87"
      }
     },
     "fd79ccf40f7e4f50b2608444cc164817": {
      "model_module": "@jupyter-widgets/base",
      "model_module_version": "1.0.0",
      "model_name": "LayoutModel",
      "state": {}
     },
     "ff1724c208234aef981e4b4b79cb5ffd": {
      "model_module": "@jupyter-widgets/base",
      "model_module_version": "1.0.0",
      "model_name": "LayoutModel",
      "state": {}
     },
     "ff27eb04ed3a44dab2bf52645ef3ffd1": {
      "model_module": "@jupyter-widgets/base",
      "model_module_version": "1.0.0",
      "model_name": "LayoutModel",
      "state": {}
     }
    },
    "version_major": 2,
    "version_minor": 0
   }
  }
 },
 "nbformat": 4,
 "nbformat_minor": 2
}
