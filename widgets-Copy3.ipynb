{
 "cells": [
  {
   "cell_type": "markdown",
   "metadata": {},
   "source": [
    "# Использование ipywidgets в jupyter notebook\n",
    "\n",
    "Виджеты в jupyter notebook - это по сути добавление к интерфейсу тетрадок. Они привносят интерактив, могут использоваться для хранения и передачи информации. С их помощью можно превратить тетрадку в нечто понятное простому пользователю и использовать как dashboard или простой аналитический инструмент.\n",
    "\n",
    "Вот что вы увидите:\n",
    "\n",
    "* как установить нужные библиотеки;\n",
    "* как использовать виджеты;\n",
    "* основные виды виджетов;\n",
    "* как можно объединять виджеты и для чего они могут использоваться;\n",
    "* пример того, как можно сделать виджеты, позволяющие простому человеку с помощью элементов интерейса проанализировать данные, построить визуализацию и попробовать машинное обучение;\n",
    "* небольшой бонус с рассказом о расширенных возможностях tqdm;"
   ]
  },
  {
   "cell_type": "markdown",
   "metadata": {},
   "source": [
    "## Установка\n",
    "\n",
    "Установка сама по себе не является сложной: это можно сделать через pip:\n",
    "\n",
    "```python\n",
    "pip install ipywidgets\n",
    "jupyter nbextension enable --py widgetsnbextension\n",
    "```\n",
    "\n",
    "Или через Anaconda:\n",
    "\n",
    "```python\n",
    "conda install -c conda-forge ipywidgets\n",
    "```\n",
    "\n",
    "Стоит также установить widgetsnbextension.\n",
    "\n",
    "Проблема бывает с тем, что виджеты перестают работать. Обычно помогает установка последних версий. Причём обновление через Anacona Navigator может не помочь, поскольку при установке мог использоваться канал, в котором нет последней версии. Так что при возникновении проблем стоит сразу проверить это."
   ]
  },
  {
   "cell_type": "code",
   "execution_count": 2,
   "metadata": {
    "collapsed": true
   },
   "outputs": [],
   "source": [
    "#Импорт библиотек\n",
    "from ipywidgets import interact, interactive, fixed, interact_manual\n",
    "import ipywidgets as widgets\n",
    "\n",
    "import time\n",
    "import numpy as np\n",
    "import pandas as pd\n",
    "import seaborn as sns\n",
    "import matplotlib.pyplot as plt\n",
    "\n",
    "%matplotlib inline\n",
    "\n",
    "from IPython.display import display\n",
    "from IPython.display import clear_output"
   ]
  },
  {
   "cell_type": "markdown",
   "metadata": {},
   "source": [
    "## Основные способы использования виджетов"
   ]
  },
  {
   "cell_type": "markdown",
   "metadata": {},
   "source": [
    "Во-первых, можно просто отобразить виджет сам по себе."
   ]
  },
  {
   "cell_type": "code",
   "execution_count": 3,
   "metadata": {},
   "outputs": [
    {
     "data": {
      "application/vnd.jupyter.widget-view+json": {
       "model_id": "bb657623cdda48218b0758662966e32e",
       "version_major": 2,
       "version_minor": 0
      },
      "text/plain": [
       "A Jupyter Widget"
      ]
     },
     "metadata": {},
     "output_type": "display_data"
    }
   ],
   "source": [
    "widgets.IntSlider()"
   ]
  },
  {
   "cell_type": "markdown",
   "metadata": {},
   "source": [
    "Но это просто создаёт слайдер, с которым можно поиграться, а пользы от него нет. Следующим шагом является создание переменной с виджетом"
   ]
  },
  {
   "cell_type": "code",
   "execution_count": 4,
   "metadata": {
    "scrolled": true
   },
   "outputs": [
    {
     "data": {
      "application/vnd.jupyter.widget-view+json": {
       "model_id": "a9ff4efbe637445987a0921da957d73a",
       "version_major": 2,
       "version_minor": 0
      },
      "text/plain": [
       "A Jupyter Widget"
      ]
     },
     "metadata": {},
     "output_type": "display_data"
    }
   ],
   "source": [
    "w = widgets.IntSlider()\n",
    "w"
   ]
  },
  {
   "cell_type": "markdown",
   "metadata": {},
   "source": [
    "И теперь мы можем получить значение виджета и использовать для чего-нибудь."
   ]
  },
  {
   "cell_type": "code",
   "execution_count": 5,
   "metadata": {},
   "outputs": [
    {
     "name": "stdout",
     "output_type": "stream",
     "text": [
      "0 0\n"
     ]
    }
   ],
   "source": [
    "print(w.value, w.value ** 2)"
   ]
  },
  {
   "cell_type": "markdown",
   "metadata": {},
   "source": [
    "Другой вариант - отображение виджета с помощью функции IPython display, но это работает точно также как и сам вызов переменной."
   ]
  },
  {
   "cell_type": "code",
   "execution_count": 6,
   "metadata": {},
   "outputs": [
    {
     "data": {
      "application/vnd.jupyter.widget-view+json": {
       "model_id": "a9ff4efbe637445987a0921da957d73a",
       "version_major": 2,
       "version_minor": 0
      },
      "text/plain": [
       "A Jupyter Widget"
      ]
     },
     "metadata": {},
     "output_type": "display_data"
    }
   ],
   "source": [
    "display(w)"
   ]
  },
  {
   "cell_type": "markdown",
   "metadata": {},
   "source": [
    "Вы передвигали слайдер в прошлой ячейке? Если нет - попробуйте. Можно заметить, что слайдер двигается в обеих ячейках, где была использована переменная w. Это нормальное поведение - у нас есть лишь один объект на back-end, так что получаются синхронизированные объекты на front-end.\n",
    "\n",
    "После того как в виджете было установлено некое значение, виджет можно закрыть командой `w.close()`."
   ]
  },
  {
   "cell_type": "markdown",
   "metadata": {},
   "source": [
    "Пока мы видели простые виджеты, значения которых можно было использовать в дальнейшем. Если же хочется, чтобы с выбранным значением что-то произошло сразу, стоит использовать `interact`. `interact` позволяет вызывать функцию, в которую передаётся значение виджета. При изменении значения виджета функция будет динамически показывать обновлённый результат."
   ]
  },
  {
   "cell_type": "code",
   "execution_count": 107,
   "metadata": {
    "collapsed": true
   },
   "outputs": [],
   "source": [
    "def f(x):\n",
    "    return x, str(x) * 2"
   ]
  },
  {
   "cell_type": "code",
   "execution_count": 108,
   "metadata": {
    "scrolled": true
   },
   "outputs": [
    {
     "data": {
      "application/vnd.jupyter.widget-view+json": {
       "model_id": "427028264cae42bcb107d36b9c5165f7",
       "version_major": 2,
       "version_minor": 0
      },
      "text/plain": [
       "A Jupyter Widget"
      ]
     },
     "metadata": {},
     "output_type": "display_data"
    }
   ],
   "source": [
    "interact(f, x=10);"
   ]
  },
  {
   "cell_type": "markdown",
   "metadata": {},
   "source": [
    "Замечу, что в `interact` обязательно передавать начальное значение, поскольку это напрямую определяет тип виджета. Если передать int или float, то будет слайдер с соответствующими данными.\n",
    "\n",
    "Кроме того можно передать:\n",
    "\n",
    "* текст для получения поля ввода текста;\n",
    "* список/словарь значений для выпадающего списка;\n",
    "* булевое значение для чекбокса"
   ]
  },
  {
   "cell_type": "code",
   "execution_count": 109,
   "metadata": {},
   "outputs": [
    {
     "data": {
      "application/vnd.jupyter.widget-view+json": {
       "model_id": "d4a6d2d4fb814bb1aa0151f3e93d2f07",
       "version_major": 2,
       "version_minor": 0
      },
      "text/plain": [
       "A Jupyter Widget"
      ]
     },
     "metadata": {},
     "output_type": "display_data"
    },
    {
     "data": {
      "application/vnd.jupyter.widget-view+json": {
       "model_id": "b85797e83a784593a170bc8d2ec44070",
       "version_major": 2,
       "version_minor": 0
      },
      "text/plain": [
       "A Jupyter Widget"
      ]
     },
     "metadata": {},
     "output_type": "display_data"
    },
    {
     "data": {
      "application/vnd.jupyter.widget-view+json": {
       "model_id": "8f604d629c0f48eab67b85a7f761b538",
       "version_major": 2,
       "version_minor": 0
      },
      "text/plain": [
       "A Jupyter Widget"
      ]
     },
     "metadata": {},
     "output_type": "display_data"
    }
   ],
   "source": [
    "interact(f, x='Текст');\n",
    "interact(f, x=['лопата', 'солнце']);\n",
    "interact(f, x=True);"
   ]
  },
  {
   "cell_type": "markdown",
   "metadata": {},
   "source": [
    "Кому-то может быть интересна возможность использовать `interact` в качестве декоратора. В таком случае функцию можно не передавать в `interact`."
   ]
  },
  {
   "cell_type": "code",
   "execution_count": 10,
   "metadata": {},
   "outputs": [
    {
     "data": {
      "application/vnd.jupyter.widget-view+json": {
       "model_id": "1a466f5d28724baf92a960592d80628a",
       "version_major": 2,
       "version_minor": 0
      },
      "text/plain": [
       "A Jupyter Widget"
      ]
     },
     "metadata": {},
     "output_type": "display_data"
    }
   ],
   "source": [
    "@interact(x=1.0)\n",
    "def g(x):\n",
    "    return x"
   ]
  },
  {
   "cell_type": "markdown",
   "metadata": {},
   "source": [
    "Наконец, есть такая интересная штука как `interactive`. По сути это является комбинацией двух предыдущих спообов: мы задаем функцию, а потом можем использовать как сами результаты, так и значения отдельных виджетов.\n",
    "\n",
    "По умолчанию `interactive` показывает только сами виджеты, но не результат функции. Чтобы увидеть результат, надо явно его отображать.\n",
    "\n",
    "Замечу, что можно использовать больше одной переменной и получить больше одного виджета."
   ]
  },
  {
   "cell_type": "code",
   "execution_count": 11,
   "metadata": {
    "collapsed": true
   },
   "outputs": [],
   "source": [
    "def f(x, y, z):\n",
    "    if z == 'Сумма':\n",
    "        display(x + y)\n",
    "        return x + y\n",
    "    else:\n",
    "        display(x * y)\n",
    "        return x * y"
   ]
  },
  {
   "cell_type": "code",
   "execution_count": 12,
   "metadata": {
    "collapsed": true
   },
   "outputs": [],
   "source": [
    "w = interactive(f, x=1, y=2.5, z=['Сумма', 'Произведение'])"
   ]
  },
  {
   "cell_type": "code",
   "execution_count": 13,
   "metadata": {},
   "outputs": [
    {
     "data": {
      "application/vnd.jupyter.widget-view+json": {
       "model_id": "51a61e0a7d3a42fdabf621a259c6210e",
       "version_major": 2,
       "version_minor": 0
      },
      "text/plain": [
       "A Jupyter Widget"
      ]
     },
     "metadata": {},
     "output_type": "display_data"
    }
   ],
   "source": [
    "w"
   ]
  },
  {
   "cell_type": "code",
   "execution_count": 14,
   "metadata": {},
   "outputs": [
    {
     "name": "stdout",
     "output_type": "stream",
     "text": [
      "{'x': 1, 'y': 2.5, 'z': 'Сумма'}\n",
      "3.5\n"
     ]
    }
   ],
   "source": [
    "print(w.kwargs)\n",
    "print(w.result)"
   ]
  },
  {
   "cell_type": "markdown",
   "metadata": {},
   "source": [
    "## Применение виджетов\n",
    "\n",
    "До сих пор я показывал отдельные виджеты и простые примеры их использования, но с ними можно делать много интересных вещей. Просто перечислять их - довольно нудно, поэтому я буду приводить примеры и на их основе объяснять возможности виджетов."
   ]
  },
  {
   "cell_type": "markdown",
   "metadata": {},
   "source": [
    "### Динамически изменяющиеся графики\n",
    "\n",
    "Мы уже видели, что в `interact` можно передавать функцию, результат которой будет обновляться при изменении параметров. Интереснее посмотреть это на примере построения графиков. Я хочу сделать график, который будет зависеть от задаваемого параметра, а также предложить возможность выбирать цвет графика."
   ]
  },
  {
   "cell_type": "markdown",
   "metadata": {},
   "source": [
    "Для начала нужно создать виджет для выбора цвета. Вообще говоря виджет можно передавать в функцию как значение параметра, но это громоздко, поэтому удобнее создать виджет, а потом передавать его в виде переменной.\n",
    "\n",
    "Виджет имеет следующие параметры:\n",
    "* concise - не показывает название выбранного цвета, если True;\n",
    "* description - описание, этот параметр есть у всех виджетов;\n",
    "* value - значение по умолчанию, опять же есть почти у всех виджетов;\n",
    "* disabled - возможность изменения значения виджета;"
   ]
  },
  {
   "cell_type": "code",
   "execution_count": 15,
   "metadata": {
    "collapsed": true
   },
   "outputs": [],
   "source": [
    "pick_color = widgets.ColorPicker(\n",
    "    concise=False,\n",
    "    description='Цвет линии:',\n",
    "    value='teal',\n",
    "    disabled=False\n",
    ")"
   ]
  },
  {
   "cell_type": "markdown",
   "metadata": {},
   "source": [
    "Теперь сам интерактивный виджет. Функция для построения графика будет иметь 2 параметра:\n",
    "* n - просто некий параметр, который будет изменять функцию;\n",
    "* c - цвет линии;\n",
    "\n",
    "Далее использую `interact`:\n",
    "* для n я передаю список значений, которые можно выбрать. В функции значение по умолчанию 3, именно оно будет выбрано по умолчанию;\n",
    "* для цвета значением будет переменная с виджетом для выбора цвета. Цвет можно выбирать через диалоговое окошко или напрямую вводить название или код в поле. Стоит заметить, что значением по умолчанию является не orange, а teal, поскольку значение в виджете имеет более высокий приоритет;"
   ]
  },
  {
   "cell_type": "code",
   "execution_count": 16,
   "metadata": {},
   "outputs": [
    {
     "data": {
      "application/vnd.jupyter.widget-view+json": {
       "model_id": "ea55c271a7dd4bacbb8198ae64015602",
       "version_major": 2,
       "version_minor": 0
      },
      "text/plain": [
       "A Jupyter Widget"
      ]
     },
     "metadata": {},
     "output_type": "display_data"
    }
   ],
   "source": [
    "def h(n=3, c='orange'):\n",
    "    x = np.linspace(0, 5, 10)\n",
    "    plt.plot(x, x ** (n / (x + 1)) + x ** (x / n) / (n ** 2) + (n - x) ** 2 - x * np.log(n) + n * np.exp(x / n),  color=c)\n",
    "    plt.show()\n",
    "\n",
    "interact(h, n=[i for i in range(2, 6)], c=pick_color);"
   ]
  },
  {
   "cell_type": "markdown",
   "metadata": {},
   "source": [
    "### Действие при нажатии на кнопку\n",
    "\n",
    "Виджеты позволяют делать вызов функции после определённых событий:\n",
    "\n",
    "* При нажатии на кнопку;\n",
    "* При завершении ввода текста;\n",
    "* По мере изменения значения (обычно используется для слайдеров);\n",
    "\n",
    "Кроме того можно связать виджеты - чтобы при изменении значения одного виджета изменялось значение другого виджета.\n",
    "\n",
    "Рассмотрим пример: пользователь задаёт длины сторон прямоугольника и хочет узнать его площадь. Для начала я задаю 2 виджета с соответсвующими названиями. Далее ограничения значений можно задать минимальное и максимальное значение, а также шаг, с которым будут изменяться значения."
   ]
  },
  {
   "cell_type": "code",
   "execution_count": 17,
   "metadata": {
    "collapsed": true
   },
   "outputs": [],
   "source": [
    "x = widgets.IntSlider(min=2, max=40.0, step=2, description='Высота')\n",
    "y = widgets.FloatSlider(min=2, max=80.0, step=0.5, description='Ширина', value=5.0)"
   ]
  },
  {
   "cell_type": "markdown",
   "metadata": {},
   "source": [
    "Добавим ограничение - высота прямоугольника не может быть больше его ширины. Для этого используется `observe` - при каждом изменении объекта мгновенно вызывается функция. А в функции мы будет приравнивать максимальное значение виджета x к текущему значению виджета y."
   ]
  },
  {
   "cell_type": "code",
   "execution_count": 18,
   "metadata": {
    "collapsed": true
   },
   "outputs": [],
   "source": [
    "def update_x_range(*args):\n",
    "    x.max = y.value\n",
    "    \n",
    "y.observe(update_x_range, 'value')"
   ]
  },
  {
   "cell_type": "markdown",
   "metadata": {},
   "source": [
    "Теперь добавим кнопку, при нажатии на которую будет происходить вычисление. Для этого создаём соответствующий объект с подходящим названием. И здесь в первый раз используется настройка внешнего вида виджетов. layout позволяет настраивать css объектов. Большинство параметров взять из самого CSS, но есть и различия, почитать подробнее можно [тут](#http://ipywidgets.readthedocs.io/en/stable/examples/Widget%20Styling.html). В данном случае я просто задаю ширину кнопки.\n",
    "\n",
    "При нажатии на кнопку будет показана площадь прямоугольника, кнопка и слайдеры станут неактивными."
   ]
  },
  {
   "cell_type": "code",
   "execution_count": 19,
   "metadata": {
    "collapsed": true
   },
   "outputs": [],
   "source": [
    "button1 = widgets.Button(description=\"Нажмите, чтобы посчитать площадь прямоугольника!\", layout=widgets.Layout(width='40%'))\n",
    "\n",
    "def on_button_clicked(b):\n",
    "    print('Площадь прямоугольника: {}.'.format(x.value * y.value))\n",
    "    button1.disabled = True\n",
    "    x.disabled = True\n",
    "    y.disabled = True"
   ]
  },
  {
   "cell_type": "code",
   "execution_count": 20,
   "metadata": {},
   "outputs": [
    {
     "data": {
      "application/vnd.jupyter.widget-view+json": {
       "model_id": "2ef92ffa15d4486e82ffa9916ad8904f",
       "version_major": 2,
       "version_minor": 0
      },
      "text/plain": [
       "A Jupyter Widget"
      ]
     },
     "metadata": {},
     "output_type": "display_data"
    },
    {
     "data": {
      "application/vnd.jupyter.widget-view+json": {
       "model_id": "cc9432b5f816465a831c853d1e6280ae",
       "version_major": 2,
       "version_minor": 0
      },
      "text/plain": [
       "A Jupyter Widget"
      ]
     },
     "metadata": {},
     "output_type": "display_data"
    }
   ],
   "source": [
    "def stat(x, y):\n",
    "    print('Высота: {0}. Ширина: {1}.'.format(x, y))\n",
    "    \n",
    "interact(stat, x=x, y=y);\n",
    "display(button1)\n",
    "button1.on_click(on_button_clicked)"
   ]
  },
  {
   "cell_type": "markdown",
   "metadata": {},
   "source": [
    "Для полноты картины добавлю ещё одну кнопку, которая откроет данные для ввода, чтобы можно было ещё раз посчитать площать прямоугольника."
   ]
  },
  {
   "cell_type": "code",
   "execution_count": 21,
   "metadata": {},
   "outputs": [
    {
     "data": {
      "application/vnd.jupyter.widget-view+json": {
       "model_id": "3d48c4b3bbb446afb76d43416a75ad2b",
       "version_major": 2,
       "version_minor": 0
      },
      "text/plain": [
       "A Jupyter Widget"
      ]
     },
     "metadata": {},
     "output_type": "display_data"
    }
   ],
   "source": [
    "button2 = widgets.Button(description=\"Использовать другие данные\", layout=widgets.Layout(width='40%'))\n",
    "\n",
    "def on_button_clicked2(b):\n",
    "    button1.disabled = False\n",
    "    x.disabled = False\n",
    "    y.disabled = False\n",
    "    \n",
    "display(button2)\n",
    "button2.on_click(on_button_clicked2)"
   ]
  },
  {
   "cell_type": "markdown",
   "metadata": {},
   "source": [
    "### Имитация оформления заказа на товар\n",
    "\n",
    "На основе игрушечного примера о заказе компьютера я продемонстрирую большое количество разнообразных виджетов и то, как они могут быть использованы."
   ]
  },
  {
   "cell_type": "markdown",
   "metadata": {},
   "source": [
    "Для начала мы предлагаем пользователю выбрать интересующий его товар. Этот виджет позволяет выбрать одно значение из списка."
   ]
  },
  {
   "cell_type": "code",
   "execution_count": 22,
   "metadata": {},
   "outputs": [
    {
     "name": "stdout",
     "output_type": "stream",
     "text": [
      "Выбор товара:\n"
     ]
    },
    {
     "data": {
      "application/vnd.jupyter.widget-view+json": {
       "model_id": "51a2f891e07f4b1491dd11ae5a69d0d2",
       "version_major": 2,
       "version_minor": 0
      },
      "text/plain": [
       "A Jupyter Widget"
      ]
     },
     "metadata": {},
     "output_type": "display_data"
    }
   ],
   "source": [
    "print('Выбор товара:')\n",
    "pc_type = widgets.Select(\n",
    "    options=['Компьютер', 'Планшет', 'Ноутбук'],\n",
    "    value='Компьютер',\n",
    "    description='Товар:'\n",
    ")\n",
    "pc_type"
   ]
  },
  {
   "cell_type": "markdown",
   "metadata": {},
   "source": [
    "Теперь предложим указать количество товара. `jslink` позволяет связать 2 виджета, для этого у них либо должны быть сравнимые значения (например числа), либо должно быть задано соответствие (например, при положительных значениях получается один текст, при неотрицательных - другой).\n",
    "\n",
    "Также здесь используется новый виджет - BoundedIntText. Это поле для ввода integer, для которого можно задать минимальные и максимальные значения."
   ]
  },
  {
   "cell_type": "code",
   "execution_count": 23,
   "metadata": {},
   "outputs": [
    {
     "name": "stdout",
     "output_type": "stream",
     "text": [
      "Укажите количество - введите число или выберите нужное значение\n"
     ]
    },
    {
     "data": {
      "application/vnd.jupyter.widget-view+json": {
       "model_id": "19d13010a9344b8aad45925cbf2d6a6c",
       "version_major": 2,
       "version_minor": 0
      },
      "text/plain": [
       "A Jupyter Widget"
      ]
     },
     "metadata": {},
     "output_type": "display_data"
    },
    {
     "data": {
      "application/vnd.jupyter.widget-view+json": {
       "model_id": "05a0f6b47d254999b7eb9b0efaa58e44",
       "version_major": 2,
       "version_minor": 0
      },
      "text/plain": [
       "A Jupyter Widget"
      ]
     },
     "metadata": {},
     "output_type": "display_data"
    }
   ],
   "source": [
    "a = widgets.BoundedIntText(min=1, max=5)\n",
    "b = widgets.IntSlider(min=1, max=5)\n",
    "print('Укажите количество - введите число или выберите нужное значение')\n",
    "display(a, b)\n",
    "mylink = widgets.jslink((a, 'value'), (b, 'value'))"
   ]
  },
  {
   "cell_type": "markdown",
   "metadata": {},
   "source": [
    "В качестве шутки предложим выбрать мощность покупаемой техники. Для этого используется виджет-слайдер для которого можно добавить ранжированный список текстовых значений."
   ]
  },
  {
   "cell_type": "code",
   "execution_count": 24,
   "metadata": {},
   "outputs": [
    {
     "data": {
      "application/vnd.jupyter.widget-view+json": {
       "model_id": "07fd67c053df4a40ba170341b629a0ac",
       "version_major": 2,
       "version_minor": 0
      },
      "text/plain": [
       "A Jupyter Widget"
      ]
     },
     "metadata": {},
     "output_type": "display_data"
    }
   ],
   "source": [
    "power = widgets.SelectionSlider(\n",
    "    options=['слабый', 'хороший', 'мощный', 'deep learning'],\n",
    "    value='хороший',\n",
    "    description='Мощность:',\n",
    "    disabled=False,\n",
    "    continuous_update=False,\n",
    "    orientation='horizontal',\n",
    "    readout=True, layout=widgets.Layout(width='40%')\n",
    ")\n",
    "power"
   ]
  },
  {
   "cell_type": "markdown",
   "metadata": {},
   "source": [
    "А теперь подарим клиенту бонус. Это виджет для множественного выбора с помощью клавиш Ctrl/Shift."
   ]
  },
  {
   "cell_type": "code",
   "execution_count": 25,
   "metadata": {},
   "outputs": [
    {
     "data": {
      "application/vnd.jupyter.widget-view+json": {
       "model_id": "f647006475884da38741de8aeaf0d881",
       "version_major": 2,
       "version_minor": 0
      },
      "text/plain": [
       "A Jupyter Widget"
      ]
     },
     "metadata": {},
     "output_type": "display_data"
    }
   ],
   "source": [
    "sel_mult = widgets.SelectMultiple(\n",
    "    options=['Ручка', 'Стикер', 'Скидка'],\n",
    "    value=['Стикер'],\n",
    "    #rows=10,\n",
    "    description='Бонусы',\n",
    "    disabled=False\n",
    ")\n",
    "sel_mult"
   ]
  },
  {
   "cell_type": "markdown",
   "metadata": {},
   "source": [
    "Заказ укомплектован, теперь пора обговорить условия доставки. Первое - как будет доставлен товар. RadioButtons как и Select дают возможность выбора одной опции.\n",
    "\n",
    "А теперь познакомимся с такой удобной штукой как HBox. Он позволяет делать более гибкую настройку отображения виджетов и их описания. Например, ширина описания виджетов ограничена, использовать Box изменения ширины довольно удобно. HBox и VBox являются соответственно горизонтальными и вертикальными контейнерами для виджетов или их описаний."
   ]
  },
  {
   "cell_type": "code",
   "execution_count": 26,
   "metadata": {},
   "outputs": [
    {
     "data": {
      "application/vnd.jupyter.widget-view+json": {
       "model_id": "a0f2426a2cc140a4812eb55d05635d78",
       "version_major": 2,
       "version_minor": 0
      },
      "text/plain": [
       "A Jupyter Widget"
      ]
     },
     "metadata": {},
     "output_type": "display_data"
    }
   ],
   "source": [
    "delivery = widgets.RadioButtons(\n",
    "    options=['Доставка', 'Самовывоз'],\n",
    "    disabled=False\n",
    ")\n",
    "widgets.HBox([widgets.Label(value=\"Способ доставки:\"), delivery])"
   ]
  },
  {
   "cell_type": "markdown",
   "metadata": {},
   "source": [
    "Настала пора выбрать способ оплаты. ToggleButtons выводит кнопки, одна из которых может быть нажата. Виджет позволяет настроить названия кнопок, всплывающие тултипы и даже иконки (для задания иконок используются названия иконок для Font Awesome).\n",
    "\n",
    "Также здесь используется задание параметров виджета используя style. Это дополнительный способ (по отношению к layout), но это уже не css, а внутренние свойства виджетов. Есть ряд свойств, которые относятся только к определённым виджетам."
   ]
  },
  {
   "cell_type": "code",
   "execution_count": 27,
   "metadata": {},
   "outputs": [
    {
     "data": {
      "application/vnd.jupyter.widget-view+json": {
       "model_id": "3b85f44ad166465bb6e674685b039995",
       "version_major": 2,
       "version_minor": 0
      },
      "text/plain": [
       "A Jupyter Widget"
      ]
     },
     "metadata": {},
     "output_type": "display_data"
    }
   ],
   "source": [
    "pay_method = widgets.ToggleButtons(\n",
    "    options=['Карта', 'Наличные'],\n",
    "    description='Способ оплаты:',\n",
    "    disabled=False,\n",
    "    button_style='success',\n",
    "    tooltips=['Карта', 'Наличные'],\n",
    "     icons=['credit-card', 'money']\n",
    ")\n",
    "pay_method.style.description_width='200px'\n",
    "pay_method"
   ]
  },
  {
   "cell_type": "markdown",
   "metadata": {},
   "source": [
    "Ещё есть виджет для выбора даты доставки."
   ]
  },
  {
   "cell_type": "code",
   "execution_count": 28,
   "metadata": {},
   "outputs": [
    {
     "data": {
      "application/vnd.jupyter.widget-view+json": {
       "model_id": "27cf5be5c61c44f8b9cafa943ebc7b4f",
       "version_major": 2,
       "version_minor": 0
      },
      "text/plain": [
       "A Jupyter Widget"
      ]
     },
     "metadata": {},
     "output_type": "display_data"
    }
   ],
   "source": [
    "date = widgets.DatePicker(\n",
    "    description='',\n",
    "    disabled=False\n",
    ")\n",
    "date\n",
    "\n",
    "widgets.VBox([widgets.Label(value=\"Дата доставки:\"), date])"
   ]
  },
  {
   "cell_type": "markdown",
   "metadata": {},
   "source": [
    "Дата вполне может быть выбрана неверно. Допустим мы позволяет выбрать дату в промежутке от 2 до 7 дней от текущего. Сделаем проверку."
   ]
  },
  {
   "cell_type": "code",
   "execution_count": 29,
   "metadata": {},
   "outputs": [
    {
     "data": {
      "application/vnd.jupyter.widget-view+json": {
       "model_id": "91ad49f0f2004c70b1cca977df2c9736",
       "version_major": 2,
       "version_minor": 0
      },
      "text/plain": [
       "A Jupyter Widget"
      ]
     },
     "metadata": {},
     "output_type": "display_data"
    }
   ],
   "source": [
    "button3 = widgets.Button(description=\"Проверить дату\", layout=widgets.Layout(width='40%'))\n",
    "\n",
    "def on_button_clicked3(d):\n",
    "    valid = widgets.Valid(\n",
    "        value=False,\n",
    "        description='Корректная дата!',\n",
    "        )\n",
    "    valid.style.description_width='200px'\n",
    "    \n",
    "    if date.value == None:\n",
    "        valid.description='Некорректная дата!'\n",
    "        display(valid)\n",
    "        print('Дата доставки не указана.')\n",
    "        \n",
    "    elif (date.value - datetime.datetime.today().date()).days in range(2,8):\n",
    "        valid.value = True\n",
    "        display(valid)\n",
    "    else:\n",
    "        valid.description='Некорректная дата!'\n",
    "        display(valid)\n",
    "        print('Дата доставки должна быть в периоде 2-7 дней от текущей даты.')\n",
    "    \n",
    "display(button3)\n",
    "button3.on_click(on_button_clicked3)"
   ]
  },
  {
   "cell_type": "markdown",
   "metadata": {},
   "source": [
    "Теперь можно выбрать доставки. IntRangeSlider позволяет указать интервал."
   ]
  },
  {
   "cell_type": "code",
   "execution_count": 75,
   "metadata": {},
   "outputs": [
    {
     "data": {
      "application/vnd.jupyter.widget-view+json": {
       "model_id": "98e768c147614a649a896675d0035430",
       "version_major": 2,
       "version_minor": 0
      },
      "text/plain": [
       "A Jupyter Widget"
      ]
     },
     "metadata": {},
     "output_type": "display_data"
    }
   ],
   "source": [
    "period = widgets.IntRangeSlider(\n",
    "    value=[9, 18],\n",
    "    min=7,\n",
    "    max=22,\n",
    "    step=1,\n",
    "    description='Время:',\n",
    "    disabled=False,\n",
    "    continuous_update=False,\n",
    "    orientation='vertical',\n",
    "    readout=True,\n",
    "    readout_format='',\n",
    ")\n",
    "period"
   ]
  },
  {
   "cell_type": "markdown",
   "metadata": {},
   "source": [
    "И, конечно, есть виджет для ввода текста. Для ввода короткого текста можно использовать Text, для текста побольше - Textarea.\n",
    "\n",
    "И здесь мы видим событие on_submit при вводе текста - оно происходит после ввода текста и нажатия Enter."
   ]
  },
  {
   "cell_type": "code",
   "execution_count": 31,
   "metadata": {},
   "outputs": [
    {
     "data": {
      "application/vnd.jupyter.widget-view+json": {
       "model_id": "97faf941d1d44d578181995dce139e8a",
       "version_major": 2,
       "version_minor": 0
      },
      "text/plain": [
       "A Jupyter Widget"
      ]
     },
     "metadata": {},
     "output_type": "display_data"
    },
    {
     "name": "stdout",
     "output_type": "stream",
     "text": [
      "Комментарий 'а' зафиксирован.\n"
     ]
    }
   ],
   "source": [
    "text_comment = widgets.Text(\n",
    "    value=' ',\n",
    "    description='Комментарий к доставке:',\n",
    "    disabled=False\n",
    ")\n",
    "text_comment\n",
    "\n",
    "def text_submit(t=text_comment):\n",
    "    print(\"Комментарий '{0}' зафиксирован.\".format(text_comment.value.strip()))\n",
    "    \n",
    "text_comment.style.description_width='200px'\n",
    "display(text_comment)\n",
    "text_comment.on_submit(text_submit)"
   ]
  },
  {
   "cell_type": "markdown",
   "metadata": {},
   "source": [
    "Заказ оформлен, теперь надо бы показать клиенту все, что он указывал раньше, для подтверждения и предложить ввести адрес доставки. Первый вариант этого - сделать вложенные VBox и HBox, второй вариант - использовать Accordion и Tab.\n",
    "\n",
    "Предварительно я \"поворачиваю\" слайдер для выбора временного периода доставки в горизонтальное положение, а также создаю новый виджет для ввода адреса доставки.\n",
    "\n",
    "Теперь создам виджет Tab, который будет содержать Accordion. Accordion, в свою очередь, содержит в себе обычные виджеты, каждый из которых хранится на отдельной мини-вкладке. Это осуществляется перез параметр `children`. Названия этих мини-вкладок задаются для соответствующих индексов через `set_title`. Подобным образом Accordion вкладывается в Tab."
   ]
  },
  {
   "cell_type": "code",
   "execution_count": 79,
   "metadata": {},
   "outputs": [
    {
     "data": {
      "application/vnd.jupyter.widget-view+json": {
       "model_id": "29da87fc999e40bd91a1214866abeb22",
       "version_major": 2,
       "version_minor": 0
      },
      "text/plain": [
       "A Jupyter Widget"
      ]
     },
     "metadata": {},
     "output_type": "display_data"
    }
   ],
   "source": [
    "period.orientation='horizontal'\n",
    "address = widgets.Textarea(\n",
    "    value='Адрес',\n",
    "    placeholder='Не дом и не улица',\n",
    "    description='Адрес:',\n",
    "    disabled=False\n",
    ")\n",
    "\n",
    "tab_nest = widgets.Tab()\n",
    "accordion1 = widgets.Accordion(children=[pc_type, b, power, sel_mult])\n",
    "accordion1.set_title(0, 'Товар:')\n",
    "accordion1.set_title(1, 'Количество:')\n",
    "accordion1.set_title(2, 'Мощность:')\n",
    "accordion1.set_title(3, 'Бонус:')\n",
    "\n",
    "\n",
    "accordion2 = widgets.Accordion(children=[widgets.HBox([widgets.Label(value=\"Способ доставки:\"), delivery]),\n",
    "                                        pay_method,\n",
    "                                        widgets.VBox([widgets.Label(value=\"Дата доставки:\"), date]),\n",
    "                                        period,\n",
    "                                        text_comment, address])\n",
    "accordion2.set_title(0, 'Способ доставки:')\n",
    "accordion2.set_title(1, 'Способ оплаты:')\n",
    "accordion2.set_title(2, 'Дата доставки:')\n",
    "accordion2.set_title(3, 'Время доставки:')\n",
    "accordion2.set_title(4, 'Комментарий:')\n",
    "accordion2.set_title(5, 'Адрес доставки:')\n",
    "\n",
    "\n",
    "tab_nest.children = [accordion1, accordion2]\n",
    "tab_nest.set_title(0, 'Заказ:')\n",
    "tab_nest.set_title(1, 'Доставка:')\n",
    "tab_nest"
   ]
  },
  {
   "cell_type": "markdown",
   "metadata": {},
   "source": [
    "На завершающем этапе видит итоговую информацию о заказе.\n",
    "Во-первых, используется виджет для отображения прогресса. Самый удобный способ обновлять его значение - увеличивать его `value` при определенном событии."
   ]
  },
  {
   "cell_type": "code",
   "execution_count": 80,
   "metadata": {
    "collapsed": true
   },
   "outputs": [],
   "source": [
    "progress = widgets.IntProgress(\n",
    "    value=0,\n",
    "    min=0,\n",
    "    max=10,\n",
    "    step=1,\n",
    "    description='',\n",
    "    bar_style='success',\n",
    "    orientation='horizontal'\n",
    ")"
   ]
  },
  {
   "cell_type": "markdown",
   "metadata": {},
   "source": [
    "Ещё один интересный виджет - `Out`. Он отображает то, что передаётся в него: это может быть просто печать данных через `print`, rich text, media и другие вещи."
   ]
  },
  {
   "cell_type": "code",
   "execution_count": 81,
   "metadata": {},
   "outputs": [
    {
     "data": {
      "application/vnd.jupyter.widget-view+json": {
       "model_id": "ac1980778e2448658906c97c747d4970",
       "version_major": 2,
       "version_minor": 0
      },
      "text/plain": [
       "A Jupyter Widget"
      ]
     },
     "metadata": {},
     "output_type": "display_data"
    }
   ],
   "source": [
    "out = widgets.Output()\n",
    "out"
   ]
  },
  {
   "cell_type": "code",
   "execution_count": 82,
   "metadata": {
    "collapsed": true
   },
   "outputs": [],
   "source": [
    "with out:\n",
    "    display(widgets.VBox([widgets.Label(value=\"Проверка информации  заказе:\"), progress]))\n",
    "    print('Информация о заказе:')\n",
    "    for i in range(len(accordion1.children)):\n",
    "        if type(accordion1.children[i].value) != tuple:\n",
    "            print(accordion1.get_title(i), accordion1.children[i].value)\n",
    "            progress.value +=1\n",
    "            time.sleep(0.5) \n",
    "        else:\n",
    "            print(accordion1.get_title(i), ' '.join([j for j in accordion1.children[i].value]))\n",
    "            progress.value +=1\n",
    "            time.sleep(0.5) \n",
    "            #print(accordion1.get_title(i)), [print(j) for j in accordion1.children[i].value]\n",
    "    for i, e in enumerate([delivery, pay_method, date, period, text_comment, address]):\n",
    "        print(accordion2.get_title(i), e.value)\n",
    "        progress.value +=1\n",
    "        time.sleep(0.5) "
   ]
  },
  {
   "cell_type": "markdown",
   "metadata": {
    "collapsed": true
   },
   "source": [
    "Естественно, стоит добавлять проверки на адекватность значений и на пустые значения, но гайд не об этом, а о возможностях виджетов."
   ]
  },
  {
   "cell_type": "markdown",
   "metadata": {},
   "source": [
    "Я описал почти все возможности и способы применения ipywidgets. Есть ещё некоторые, но они являются более глубокими и будут реже использоваться."
   ]
  },
  {
   "cell_type": "code",
   "execution_count": null,
   "metadata": {
    "collapsed": true
   },
   "outputs": [],
   "source": []
  },
  {
   "cell_type": "code",
   "execution_count": 99,
   "metadata": {},
   "outputs": [
    {
     "data": {
      "application/javascript": [
       "IPython.notebook.execute_cell()"
      ],
      "text/plain": [
       "<IPython.core.display.Javascript object>"
      ]
     },
     "metadata": {},
     "output_type": "display_data"
    }
   ],
   "source": [
    "from IPython.display import Javascript, display\n",
    "display(Javascript('IPython.notebook.execute_cell()'))"
   ]
  },
  {
   "cell_type": "code",
   "execution_count": null,
   "metadata": {
    "collapsed": true
   },
   "outputs": [],
   "source": []
  },
  {
   "cell_type": "code",
   "execution_count": null,
   "metadata": {
    "collapsed": true
   },
   "outputs": [],
   "source": []
  },
  {
   "cell_type": "code",
   "execution_count": 93,
   "metadata": {},
   "outputs": [
    {
     "data": {
      "application/vnd.jupyter.widget-view+json": {
       "model_id": "7b0ee22c160d49eabb8ba462b4c10622",
       "version_major": 2,
       "version_minor": 0
      },
      "text/plain": [
       "A Jupyter Widget"
      ]
     },
     "metadata": {},
     "output_type": "display_data"
    }
   ],
   "source": [
    "widgets.Checkbox(\n",
    "    value=False,\n",
    "    description='Check me',\n",
    "    disabled=False\n",
    ")"
   ]
  },
  {
   "cell_type": "code",
   "execution_count": 94,
   "metadata": {},
   "outputs": [
    {
     "data": {
      "application/vnd.jupyter.widget-view+json": {
       "model_id": "0805c0438c254eefb688f06fcf3b7829",
       "version_major": 2,
       "version_minor": 0
      },
      "text/plain": [
       "A Jupyter Widget"
      ]
     },
     "metadata": {},
     "output_type": "display_data"
    }
   ],
   "source": [
    "b1 = Button(description='Custom color')\n",
    "b1.style.button_color = 'lightgreen'\n",
    "b1"
   ]
  },
  {
   "cell_type": "code",
   "execution_count": 95,
   "metadata": {},
   "outputs": [
    {
     "data": {
      "application/vnd.jupyter.widget-view+json": {
       "model_id": "4cc766067fd04902abd3489800723b32",
       "version_major": 2,
       "version_minor": 0
      },
      "text/plain": [
       "A Jupyter Widget"
      ]
     },
     "metadata": {},
     "output_type": "display_data"
    }
   ],
   "source": [
    "s1 = widgets.IntSlider(description='Blue handle')\n",
    "s1.style.handle_color = 'lightblue'\n",
    "s1"
   ]
  },
  {
   "cell_type": "code",
   "execution_count": null,
   "metadata": {
    "collapsed": true
   },
   "outputs": [],
   "source": []
  },
  {
   "cell_type": "code",
   "execution_count": null,
   "metadata": {
    "collapsed": true
   },
   "outputs": [],
   "source": []
  },
  {
   "cell_type": "code",
   "execution_count": null,
   "metadata": {
    "collapsed": true
   },
   "outputs": [],
   "source": []
  },
  {
   "cell_type": "code",
   "execution_count": 103,
   "metadata": {
    "collapsed": true
   },
   "outputs": [],
   "source": [
    "from sklearn.datasets import load_iris"
   ]
  },
  {
   "cell_type": "code",
   "execution_count": 104,
   "metadata": {
    "collapsed": true
   },
   "outputs": [],
   "source": [
    "iris = load_iris()\n",
    "X = iris.data\n",
    "y = iris.target"
   ]
  },
  {
   "cell_type": "code",
   "execution_count": 105,
   "metadata": {},
   "outputs": [
    {
     "data": {
      "text/plain": [
       "['sepal length (cm)',\n",
       " 'sepal width (cm)',\n",
       " 'petal length (cm)',\n",
       " 'petal width (cm)']"
      ]
     },
     "execution_count": 105,
     "metadata": {},
     "output_type": "execute_result"
    }
   ],
   "source": [
    "iris.feature_names"
   ]
  },
  {
   "cell_type": "code",
   "execution_count": 110,
   "metadata": {},
   "outputs": [
    {
     "data": {
      "application/vnd.jupyter.widget-view+json": {
       "model_id": "af91d4c017c84c4398d24b335d755b80",
       "version_major": 2,
       "version_minor": 0
      },
      "text/plain": [
       "A Jupyter Widget"
      ]
     },
     "metadata": {},
     "output_type": "display_data"
    }
   ],
   "source": [
    "interact(f, x=iris.feature_names);"
   ]
  },
  {
   "cell_type": "markdown",
   "metadata": {},
   "source": [
    "* https://machinelearningmastery.com/machine-learning-in-python-step-by-step/\n",
    "* http://scikit-learn.org/stable/tutorial/statistical_inference/supervised_learning.html\n",
    "* https://stackoverflow.com/questions/37013489/how-to-alight-and-place-ipywidgets"
   ]
  },
  {
   "cell_type": "code",
   "execution_count": null,
   "metadata": {
    "collapsed": true
   },
   "outputs": [],
   "source": []
  }
 ],
 "metadata": {
  "kernelspec": {
   "display_name": "Python 3",
   "language": "python",
   "name": "python3"
  },
  "language_info": {
   "codemirror_mode": {
    "name": "ipython",
    "version": 3
   },
   "file_extension": ".py",
   "mimetype": "text/x-python",
   "name": "python",
   "nbconvert_exporter": "python",
   "pygments_lexer": "ipython3",
   "version": "3.6.2"
  },
  "widgets": {
   "application/vnd.jupyter.widget-state+json": {
    "state": {
     "0055641df6e5451e94eb942dfdab2f71": {
      "model_module": "@jupyter-widgets/controls",
      "model_module_version": "1.0.0",
      "model_name": "SliderStyleModel",
      "state": {
       "description_width": ""
      }
     },
     "00ab934b6b77497a9cf8007ac0fcd529": {
      "model_module": "@jupyter-widgets/base",
      "model_module_version": "1.0.0",
      "model_name": "LayoutModel",
      "state": {}
     },
     "00d1921994d9440bbd64d16258536427": {
      "model_module": "@jupyter-widgets/controls",
      "model_module_version": "1.0.0",
      "model_name": "DescriptionStyleModel",
      "state": {
       "description_width": ""
      }
     },
     "0112cef825404e6eaf978901d95ff735": {
      "model_module": "@jupyter-widgets/base",
      "model_module_version": "1.0.0",
      "model_name": "LayoutModel",
      "state": {}
     },
     "0137e7043d8242e493579be3ca832cd5": {
      "model_module": "@jupyter-widgets/base",
      "model_module_version": "1.0.0",
      "model_name": "LayoutModel",
      "state": {}
     },
     "02a84f7e46c2491d98feca4d9e7b28ed": {
      "model_module": "@jupyter-widgets/base",
      "model_module_version": "1.0.0",
      "model_name": "LayoutModel",
      "state": {}
     },
     "02bb864cf13a4c67b92675321a002c62": {
      "model_module": "@jupyter-widgets/controls",
      "model_module_version": "1.0.0",
      "model_name": "IntSliderModel",
      "state": {
       "description": "b",
       "layout": "IPY_MODEL_820967e69fbb4f6eabacd5ee30e26578",
       "max": 60,
       "min": -20,
       "style": "IPY_MODEL_2d205935c76747af9064dc7af1fac978",
       "value": 20
      }
     },
     "0445326ccaa64047a13efdd096dc2462": {
      "model_module": "@jupyter-widgets/controls",
      "model_module_version": "1.0.0",
      "model_name": "ButtonStyleModel",
      "state": {}
     },
     "045bd80bbb22401bb9a4cb847eca88a6": {
      "model_module": "@jupyter-widgets/controls",
      "model_module_version": "1.0.0",
      "model_name": "VBoxModel",
      "state": {
       "_dom_classes": [
        "widget-interact"
       ],
       "children": [
        "IPY_MODEL_84f2e292eadc4d3881bc3cc55601947b",
        "IPY_MODEL_efb9d05be584450f9ef06727848d33b9"
       ],
       "layout": "IPY_MODEL_dc06e91732b34045a9a5324950619572"
      }
     },
     "04d448be457846cba0b90d9b5026da07": {
      "model_module": "@jupyter-widgets/controls",
      "model_module_version": "1.0.0",
      "model_name": "VBoxModel",
      "state": {
       "children": [
        "IPY_MODEL_f4b03a73e6cb4ae785efec877b42504a",
        "IPY_MODEL_1b2114ec275f4c16929131523748843d"
       ],
       "layout": "IPY_MODEL_e64d640cdc7a448a8a25d44a7fa70065"
      }
     },
     "053a15fca25e41dfa9bee8521254f256": {
      "model_module": "@jupyter-widgets/controls",
      "model_module_version": "1.0.0",
      "model_name": "LabelModel",
      "state": {
       "layout": "IPY_MODEL_95f3ca7a0c594c179b97f92bd40e6e45",
       "style": "IPY_MODEL_b4a6f451edaf40be87731a10501f5710",
       "value": "Проверка информации  заказе:"
      }
     },
     "05943c7988ce4954b2202eeba5659da2": {
      "model_module": "@jupyter-widgets/output",
      "model_module_version": "1.0.0",
      "model_name": "OutputModel",
      "state": {
       "layout": "IPY_MODEL_6c5d7129a4354a32813eda5fe0210493"
      }
     },
     "05a0f6b47d254999b7eb9b0efaa58e44": {
      "model_module": "@jupyter-widgets/controls",
      "model_module_version": "1.0.0",
      "model_name": "IntSliderModel",
      "state": {
       "layout": "IPY_MODEL_0112cef825404e6eaf978901d95ff735",
       "max": 5,
       "min": 1,
       "style": "IPY_MODEL_83be19866b354b368c17b38e1169eaad",
       "value": 1
      }
     },
     "065d941f92af45d382e4ac507ca1fd0f": {
      "model_module": "@jupyter-widgets/controls",
      "model_module_version": "1.0.0",
      "model_name": "IntSliderModel",
      "state": {
       "description": "Slider 1",
       "layout": "IPY_MODEL_3ecd61ef855443e492e23d3faa28241a",
       "style": "IPY_MODEL_16976fdfdbf9483d9990dfa8035ea5a1",
       "value": 95
      }
     },
     "06719a6a6fed49348f84ceaa4455d955": {
      "model_module": "@jupyter-widgets/controls",
      "model_module_version": "1.0.0",
      "model_name": "SliderStyleModel",
      "state": {
       "description_width": ""
      }
     },
     "0740c8e51ed5427f8a657c6532db8ef2": {
      "model_module": "@jupyter-widgets/base",
      "model_module_version": "1.0.0",
      "model_name": "LayoutModel",
      "state": {}
     },
     "07f478cc400542cb8a8396cad68865fc": {
      "model_module": "@jupyter-widgets/controls",
      "model_module_version": "1.0.0",
      "model_name": "DescriptionStyleModel",
      "state": {
       "description_width": ""
      }
     },
     "07fd67c053df4a40ba170341b629a0ac": {
      "model_module": "@jupyter-widgets/controls",
      "model_module_version": "1.0.0",
      "model_name": "SelectionSliderModel",
      "state": {
       "_options_labels": [
        "слабый",
        "хороший",
        "мощный",
        "deep learning"
       ],
       "continuous_update": false,
       "description": "Мощность:",
       "index": 1,
       "layout": "IPY_MODEL_1beebfeba71b4507901a0a758bfaad23",
       "style": "IPY_MODEL_5d2cc29a2140479ab6bf1ac39830567c"
      }
     },
     "0805c0438c254eefb688f06fcf3b7829": {
      "model_module": "@jupyter-widgets/controls",
      "model_module_version": "1.0.0",
      "model_name": "ButtonModel",
      "state": {
       "description": "Custom color",
       "layout": "IPY_MODEL_523e81931dbf4e399608e31df25fc80a",
       "style": "IPY_MODEL_4b15735623404c148f43b542d47a670d"
      }
     },
     "0926cb936aa74ee6958416c0e739635b": {
      "model_module": "@jupyter-widgets/base",
      "model_module_version": "1.0.0",
      "model_name": "LayoutModel",
      "state": {}
     },
     "098b9a906ded476584f8c0186f725a6c": {
      "model_module": "@jupyter-widgets/base",
      "model_module_version": "1.0.0",
      "model_name": "LayoutModel",
      "state": {}
     },
     "09b7e4f5592a4c4f9e1cdd4e347e038c": {
      "model_module": "@jupyter-widgets/controls",
      "model_module_version": "1.0.0",
      "model_name": "IntSliderModel",
      "state": {
       "layout": "IPY_MODEL_ba1952e1ae824f92bddb6198ef3e3165",
       "style": "IPY_MODEL_eabc90cd127e41278b3b96110d554947"
      }
     },
     "09de2b0f3a044563bd97a1d74794d205": {
      "model_module": "@jupyter-widgets/output",
      "model_module_version": "1.0.0",
      "model_name": "OutputModel",
      "state": {
       "layout": "IPY_MODEL_f1601002ee5544f798228295fc558876",
       "outputs": [
        {
         "data": {
          "application/vnd.jupyter.widget-view+json": {
           "model_id": "eefd0d573c8a4066b098b83d8e4ff94c",
           "version_major": 2,
           "version_minor": 0
          },
          "text/plain": "A Jupyter Widget"
         },
         "metadata": {},
         "output_type": "display_data"
        },
        {
         "name": "stdout",
         "output_type": "stream",
         "text": "Информация о заказе:\nТовар: Компьютер\nКоличество: 1\nМощность: хороший\nБонус: Стикер\nСпособ доставки: Доставка\nСпособ оплаты: Карта\nДата доставки: None\nВремя доставки: (9, 18)\nКомментарий:  \nАдрес доставки: Адрес\n"
        }
       ]
      }
     },
     "09e5db62bb374cccb2ef25f747d2ed69": {
      "model_module": "@jupyter-widgets/base",
      "model_module_version": "1.0.0",
      "model_name": "LayoutModel",
      "state": {}
     },
     "0a8dfd793ae84b579aa58f81ab60b4f7": {
      "model_module": "@jupyter-widgets/controls",
      "model_module_version": "1.0.0",
      "model_name": "DescriptionStyleModel",
      "state": {
       "description_width": ""
      }
     },
     "0aa6b3416e4b40a0a06f25ab73cf75ef": {
      "model_module": "@jupyter-widgets/controls",
      "model_module_version": "1.0.0",
      "model_name": "SliderStyleModel",
      "state": {
       "description_width": ""
      }
     },
     "0c16370174f146eea70fc16b8c3b29e6": {
      "model_module": "@jupyter-widgets/base",
      "model_module_version": "1.0.0",
      "model_name": "LayoutModel",
      "state": {}
     },
     "0ccd78c8336b4390a782d5885f04c7c9": {
      "model_module": "@jupyter-widgets/controls",
      "model_module_version": "1.0.0",
      "model_name": "LabelModel",
      "state": {
       "layout": "IPY_MODEL_60269dc21a304d93b30500ec095689d5",
       "style": "IPY_MODEL_6114b0588ad94a7d9fb7d9545e930ae1",
       "value": "Changes in source values are reflected in target1"
      }
     },
     "0d17010f11cf4d1ab589003e53cb4a97": {
      "model_module": "@jupyter-widgets/output",
      "model_module_version": "1.0.0",
      "model_name": "OutputModel",
      "state": {
       "layout": "IPY_MODEL_3b389d827ae5477cb4fd590eade2b80d",
       "outputs": [
        {
         "data": {
          "text/plain": "(True, 2.8)"
         },
         "metadata": {},
         "output_type": "display_data"
        }
       ]
      }
     },
     "0d7317bbc2204a2cb9db2d05ba428b76": {
      "model_module": "@jupyter-widgets/controls",
      "model_module_version": "1.0.0",
      "model_name": "IntSliderModel",
      "state": {
       "description": "Slider 2",
       "layout": "IPY_MODEL_9c1492994c6842c2b5c31674fad87515",
       "style": "IPY_MODEL_72e9745c83a242ff94e1d636dfca22e3",
       "value": 95
      }
     },
     "0d8c059c1b8a497db3526b2493617a62": {
      "model_module": "@jupyter-widgets/base",
      "model_module_version": "1.0.0",
      "model_name": "LayoutModel",
      "state": {}
     },
     "0d8fb0ed64fd4c1098088207a84afcef": {
      "model_module": "@jupyter-widgets/output",
      "model_module_version": "1.0.0",
      "model_name": "OutputModel",
      "state": {
       "layout": "IPY_MODEL_9819dffd7d39466a99a9f794a7b65cf6",
       "outputs": [
        {
         "data": {
          "text/plain": "1.0"
         },
         "metadata": {},
         "output_type": "display_data"
        }
       ]
      }
     },
     "0db7f30f6fdd4764b0739ef49e379fc8": {
      "model_module": "@jupyter-widgets/base",
      "model_module_version": "1.0.0",
      "model_name": "LayoutModel",
      "state": {}
     },
     "0dbb7ea79f364b3eaed6148b34d5d25c": {
      "model_module": "@jupyter-widgets/base",
      "model_module_version": "1.0.0",
      "model_name": "LayoutModel",
      "state": {}
     },
     "0f0eea5328d94287acc843aa9b657475": {
      "model_module": "@jupyter-widgets/controls",
      "model_module_version": "1.0.0",
      "model_name": "VBoxModel",
      "state": {
       "_dom_classes": [
        "widget-interact"
       ],
       "children": [
        "IPY_MODEL_4734f430970b4187a6608fcec0d06eb8",
        "IPY_MODEL_a5059ff4c1de4600bd2853cf5478af95"
       ],
       "layout": "IPY_MODEL_14dee24224b04a72bc8e65cea8088bca"
      }
     },
     "0f799c80f3f74b809b6391cd1b2cd2ab": {
      "model_module": "@jupyter-widgets/base",
      "model_module_version": "1.0.0",
      "model_name": "LayoutModel",
      "state": {}
     },
     "0fc5cb5c4cab4a239ee25714dbe7d6aa": {
      "model_module": "@jupyter-widgets/controls",
      "model_module_version": "1.0.0",
      "model_name": "DescriptionStyleModel",
      "state": {
       "description_width": ""
      }
     },
     "0fe7aaa625774b68b5de1f6f35526cbd": {
      "model_module": "@jupyter-widgets/base",
      "model_module_version": "1.0.0",
      "model_name": "LayoutModel",
      "state": {}
     },
     "10bd1e66c7834fea929ba428da1a5d26": {
      "model_module": "@jupyter-widgets/controls",
      "model_module_version": "1.0.0",
      "model_name": "SliderStyleModel",
      "state": {
       "description_width": ""
      }
     },
     "118b306b87e04d56af25d0b894b93a33": {
      "model_module": "@jupyter-widgets/controls",
      "model_module_version": "1.0.0",
      "model_name": "CheckboxModel",
      "state": {
       "description": "x",
       "disabled": false,
       "layout": "IPY_MODEL_6cfca2e55ed6408fa3e910a86cb8b13e",
       "style": "IPY_MODEL_1f63422b275044c4af86fdaa6900f6f7",
       "value": true
      }
     },
     "119f6a533e8d462aa9a5844cba0ecfdf": {
      "model_module": "@jupyter-widgets/base",
      "model_module_version": "1.0.0",
      "model_name": "LayoutModel",
      "state": {}
     },
     "12c0e9f18f544e84a1cda5460eca693b": {
      "model_module": "@jupyter-widgets/controls",
      "model_module_version": "1.0.0",
      "model_name": "FloatSliderModel",
      "state": {
       "description": "y",
       "layout": "IPY_MODEL_79134655d43246298fce0ababeead88b",
       "max": 7.5,
       "min": -2.5,
       "step": 0.1,
       "style": "IPY_MODEL_1f6640bafc534226975f4f2e6d57df96",
       "value": 2.5
      }
     },
     "13e2978bdbc6434b9126834fa6e86b5d": {
      "model_module": "@jupyter-widgets/base",
      "model_module_version": "1.0.0",
      "model_name": "LayoutModel",
      "state": {}
     },
     "14740748e890441d9d74a2eca4999f9e": {
      "model_module": "@jupyter-widgets/base",
      "model_module_version": "1.0.0",
      "model_name": "LayoutModel",
      "state": {}
     },
     "14dee24224b04a72bc8e65cea8088bca": {
      "model_module": "@jupyter-widgets/base",
      "model_module_version": "1.0.0",
      "model_name": "LayoutModel",
      "state": {}
     },
     "159a90685ab549aa9cdb8eb9bbb26bdc": {
      "model_module": "@jupyter-widgets/base",
      "model_module_version": "1.0.0",
      "model_name": "LayoutModel",
      "state": {}
     },
     "15ddc5cc83844dc4ae4e17e6a698ec7f": {
      "model_module": "@jupyter-widgets/base",
      "model_module_version": "1.0.0",
      "model_name": "LayoutModel",
      "state": {}
     },
     "15ea744343d14fd696b1083385edc023": {
      "model_module": "@jupyter-widgets/base",
      "model_module_version": "1.0.0",
      "model_name": "LayoutModel",
      "state": {}
     },
     "15f93ababa5942d58989a57bfde38037": {
      "model_module": "@jupyter-widgets/base",
      "model_module_version": "1.0.0",
      "model_name": "LayoutModel",
      "state": {}
     },
     "160d7aeb16814f41b434e7012e4578d4": {
      "model_module": "@jupyter-widgets/controls",
      "model_module_version": "1.0.0",
      "model_name": "DescriptionStyleModel",
      "state": {
       "description_width": ""
      }
     },
     "165328468a784cf1b992dc591550b9df": {
      "model_module": "@jupyter-widgets/base",
      "model_module_version": "1.0.0",
      "model_name": "LayoutModel",
      "state": {}
     },
     "16976fdfdbf9483d9990dfa8035ea5a1": {
      "model_module": "@jupyter-widgets/controls",
      "model_module_version": "1.0.0",
      "model_name": "SliderStyleModel",
      "state": {
       "description_width": ""
      }
     },
     "1755a32a47b04b7291c26c71607d1ac0": {
      "model_module": "@jupyter-widgets/base",
      "model_module_version": "1.0.0",
      "model_name": "LayoutModel",
      "state": {}
     },
     "183a03a8adfc49a586a19fba21046d25": {
      "model_module": "@jupyter-widgets/controls",
      "model_module_version": "1.0.0",
      "model_name": "VBoxModel",
      "state": {
       "_dom_classes": [
        "widget-interact"
       ],
       "children": [
        "IPY_MODEL_37bf08c1ad634d8aa5c56e3f12380ae8",
        "IPY_MODEL_02bb864cf13a4c67b92675321a002c62",
        "IPY_MODEL_c1c3ec64a7a54f63b6c17da096ab03d5"
       ],
       "layout": "IPY_MODEL_d3aa0c41b5b646c8afb4d09849ecd30a"
      }
     },
     "1841c138da604f728205308d9045ef2d": {
      "model_module": "@jupyter-widgets/base",
      "model_module_version": "1.0.0",
      "model_name": "LayoutModel",
      "state": {}
     },
     "19d13010a9344b8aad45925cbf2d6a6c": {
      "model_module": "@jupyter-widgets/controls",
      "model_module_version": "1.0.0",
      "model_name": "BoundedIntTextModel",
      "state": {
       "layout": "IPY_MODEL_406e94c71c3e46f2b09db388fb4607f6",
       "max": 5,
       "min": 1,
       "style": "IPY_MODEL_5fd4273c28d947e4ba260eb2c987fd47",
       "value": 1
      }
     },
     "1a466f5d28724baf92a960592d80628a": {
      "model_module": "@jupyter-widgets/controls",
      "model_module_version": "1.0.0",
      "model_name": "VBoxModel",
      "state": {
       "_dom_classes": [
        "widget-interact"
       ],
       "children": [
        "IPY_MODEL_a67e6b40d470415cb70485289f7a9d5a",
        "IPY_MODEL_0d8fb0ed64fd4c1098088207a84afcef"
       ],
       "layout": "IPY_MODEL_83ad608ca5fe44588c02727669182e90"
      }
     },
     "1acc60d595764ea8a9c624306c38e257": {
      "model_module": "@jupyter-widgets/controls",
      "model_module_version": "1.0.0",
      "model_name": "ButtonModel",
      "state": {
       "description": "Click Me!",
       "layout": "IPY_MODEL_159a90685ab549aa9cdb8eb9bbb26bdc",
       "style": "IPY_MODEL_f80ceeb8b3c042f7a1033a72e7ec675b"
      }
     },
     "1b2114ec275f4c16929131523748843d": {
      "model_module": "@jupyter-widgets/controls",
      "model_module_version": "1.0.0",
      "model_name": "DatePickerModel",
      "state": {
       "disabled": false,
       "layout": "IPY_MODEL_13e2978bdbc6434b9126834fa6e86b5d",
       "style": "IPY_MODEL_2ada3404b6f849c6b7f61bc4e3a2f163"
      }
     },
     "1b3599e0f2154d84bc41dd19b1627564": {
      "model_module": "@jupyter-widgets/controls",
      "model_module_version": "1.0.0",
      "model_name": "DescriptionStyleModel",
      "state": {
       "description_width": ""
      }
     },
     "1b9332f586594a4584c57f7fed76c6dc": {
      "model_module": "@jupyter-widgets/controls",
      "model_module_version": "1.0.0",
      "model_name": "IntProgressModel",
      "state": {
       "bar_style": "success",
       "layout": "IPY_MODEL_98007f811aca41bba5702b00438d811c",
       "max": 10,
       "style": "IPY_MODEL_e1bc77724f5b4ae09f2a23fce3d60c17",
       "value": 10
      }
     },
     "1beebfeba71b4507901a0a758bfaad23": {
      "model_module": "@jupyter-widgets/base",
      "model_module_version": "1.0.0",
      "model_name": "LayoutModel",
      "state": {
       "width": "40%"
      }
     },
     "1c183203b47e47699ae9eb5d340358ff": {
      "model_module": "@jupyter-widgets/controls",
      "model_module_version": "1.0.0",
      "model_name": "IntSliderModel",
      "state": {
       "description": "A too long description",
       "layout": "IPY_MODEL_bf9e69dc98ac4e24961df94200b066c2",
       "style": "IPY_MODEL_a7e337d9221c4e5db6c2387b4802a2b7"
      }
     },
     "1d3a1f77eb2643bdb205ffdbd782c188": {
      "model_module": "@jupyter-widgets/controls",
      "model_module_version": "1.0.0",
      "model_name": "ProgressStyleModel",
      "state": {
       "description_width": ""
      }
     },
     "1f63422b275044c4af86fdaa6900f6f7": {
      "model_module": "@jupyter-widgets/controls",
      "model_module_version": "1.0.0",
      "model_name": "DescriptionStyleModel",
      "state": {
       "description_width": ""
      }
     },
     "1f6640bafc534226975f4f2e6d57df96": {
      "model_module": "@jupyter-widgets/controls",
      "model_module_version": "1.0.0",
      "model_name": "SliderStyleModel",
      "state": {
       "description_width": ""
      }
     },
     "203f2e10ffa541559794af4a8f330e8d": {
      "model_module": "@jupyter-widgets/controls",
      "model_module_version": "1.0.0",
      "model_name": "LabelModel",
      "state": {
       "layout": "IPY_MODEL_66028b1e339844eb96ca5d48d85d7707",
       "style": "IPY_MODEL_c6ceeea8b64245dc84b63d01d7ef72a8",
       "value": "Дата доставки:"
      }
     },
     "2180455634f148a78dd8bc49fc5d6f5c": {
      "model_module": "@jupyter-widgets/base",
      "model_module_version": "1.0.0",
      "model_name": "LayoutModel",
      "state": {}
     },
     "21ec5a108e6841fc80a295b0a25edb0f": {
      "model_module": "@jupyter-widgets/controls",
      "model_module_version": "1.0.0",
      "model_name": "VBoxModel",
      "state": {
       "_dom_classes": [
        "widget-interact"
       ],
       "children": [
        "IPY_MODEL_118b306b87e04d56af25d0b894b93a33",
        "IPY_MODEL_52a287e418d04badb161ea1426484b98"
       ],
       "layout": "IPY_MODEL_81425c9caf2a4fa4b914da0af2db95e3"
      }
     },
     "21fdd6a687fe435a8493bb8dd6b45e4e": {
      "model_module": "@jupyter-widgets/base",
      "model_module_version": "1.0.0",
      "model_name": "LayoutModel",
      "state": {}
     },
     "2233b0bf9a9048478564e7b26170518d": {
      "model_module": "@jupyter-widgets/base",
      "model_module_version": "1.0.0",
      "model_name": "LayoutModel",
      "state": {}
     },
     "228fda6628a746dcb2b81cdbc8986451": {
      "model_module": "@jupyter-widgets/output",
      "model_module_version": "1.0.0",
      "model_name": "OutputModel",
      "state": {
       "layout": "IPY_MODEL_c86106f2c7804241905d8467dcca1b94",
       "outputs": [
        {
         "data": {
          "application/vnd.jupyter.widget-view+json": {
           "model_id": "a32456be52674164a058d079ac207b88",
           "version_major": 2,
           "version_minor": 0
          },
          "text/plain": "A Jupyter Widget"
         },
         "metadata": {},
         "output_type": "display_data"
        },
        {
         "name": "stdout",
         "output_type": "stream",
         "text": "Информация о заказе:\nТовар: Компьютер\nКоличество: 1\nМощность: хороший\nБонус: Стикер\nСпособ доставки: Доставка\nСпособ оплаты: Карта\nДата доставки: None\nВремя доставки: (9, 18)\nКомментарий:  \nАдрес доставки: Адрес\n"
        }
       ]
      }
     },
     "22c4c163c13f4550b5a8fca3a465d395": {
      "model_module": "@jupyter-widgets/base",
      "model_module_version": "1.0.0",
      "model_name": "LayoutModel",
      "state": {}
     },
     "237fcd745b844f1ca57e4a341aa28616": {
      "model_module": "@jupyter-widgets/base",
      "model_module_version": "1.0.0",
      "model_name": "LayoutModel",
      "state": {}
     },
     "241d4a285cae49aaa0c7ba77792e6ad7": {
      "model_module": "@jupyter-widgets/controls",
      "model_module_version": "1.0.0",
      "model_name": "IntSliderModel",
      "state": {
       "description": "a",
       "layout": "IPY_MODEL_7fdc4e19470741f3814560f4c622e37d",
       "max": 30,
       "min": -10,
       "style": "IPY_MODEL_765ac2896c9b4ff4830e2f178bd677aa",
       "value": 10
      }
     },
     "25be4e6b5c5645f780d6ccb615505430": {
      "model_module": "@jupyter-widgets/base",
      "model_module_version": "1.0.0",
      "model_name": "LayoutModel",
      "state": {}
     },
     "25c9543827f04c99a58697dc4af1b20b": {
      "model_module": "@jupyter-widgets/base",
      "model_module_version": "1.0.0",
      "model_name": "LayoutModel",
      "state": {}
     },
     "266153fb80644eecb6ca729afa58ff5c": {
      "model_module": "@jupyter-widgets/base",
      "model_module_version": "1.0.0",
      "model_name": "LayoutModel",
      "state": {}
     },
     "272552fcd1604aea93cf808b3c519bd2": {
      "model_module": "@jupyter-widgets/controls",
      "model_module_version": "1.0.0",
      "model_name": "DescriptionStyleModel",
      "state": {
       "description_width": ""
      }
     },
     "27556eea45bd4746a431cbe5ef3302d9": {
      "model_module": "@jupyter-widgets/base",
      "model_module_version": "1.0.0",
      "model_name": "LayoutModel",
      "state": {}
     },
     "27b9737d6b5d46129516f379f68538ee": {
      "model_module": "@jupyter-widgets/controls",
      "model_module_version": "1.0.0",
      "model_name": "ButtonStyleModel",
      "state": {}
     },
     "27cf5be5c61c44f8b9cafa943ebc7b4f": {
      "model_module": "@jupyter-widgets/controls",
      "model_module_version": "1.0.0",
      "model_name": "VBoxModel",
      "state": {
       "children": [
        "IPY_MODEL_203f2e10ffa541559794af4a8f330e8d",
        "IPY_MODEL_1b2114ec275f4c16929131523748843d"
       ],
       "layout": "IPY_MODEL_ef321fcfb6174ff0b36dd02b010726c8"
      }
     },
     "2955616332b244a496c93f1a17c41252": {
      "model_module": "@jupyter-widgets/base",
      "model_module_version": "1.0.0",
      "model_name": "LayoutModel",
      "state": {}
     },
     "29ad399ffbaa4b90bc68b236166df6ec": {
      "model_module": "@jupyter-widgets/controls",
      "model_module_version": "1.0.0",
      "model_name": "CheckboxModel",
      "state": {
       "description": "x",
       "disabled": false,
       "layout": "IPY_MODEL_0db7f30f6fdd4764b0739ef49e379fc8",
       "style": "IPY_MODEL_2b0e320c338a4424a0675059bff821d7",
       "value": true
      }
     },
     "29be2e1ff62c4fdfa75cfaf78d337ab3": {
      "model_module": "@jupyter-widgets/controls",
      "model_module_version": "1.0.0",
      "model_name": "CheckboxModel",
      "state": {
       "description": "Check me",
       "disabled": false,
       "layout": "IPY_MODEL_5d81529ab0b349bc90280063f6bd1de8",
       "style": "IPY_MODEL_8af1eed8a6e240c79c2ca377978b2114",
       "value": false
      }
     },
     "29da87fc999e40bd91a1214866abeb22": {
      "model_module": "@jupyter-widgets/controls",
      "model_module_version": "1.0.0",
      "model_name": "TabModel",
      "state": {
       "_titles": {
        "0": "Заказ:",
        "1": "Доставка:"
       },
       "children": [
        "IPY_MODEL_9264f440bcaf48ff96034f1524b97cde",
        "IPY_MODEL_fa15e826a9f843f9b3b60c325480a2fa"
       ],
       "layout": "IPY_MODEL_22c4c163c13f4550b5a8fca3a465d395",
       "selected_index": 1
      }
     },
     "2a2e396171a84c109ed87a649dba973c": {
      "model_module": "@jupyter-widgets/controls",
      "model_module_version": "1.0.0",
      "model_name": "VBoxModel",
      "state": {
       "_dom_classes": [
        "widget-interact"
       ],
       "children": [
        "IPY_MODEL_61b052d0bb5141ed889eb6fe3d074cd9",
        "IPY_MODEL_6ef4fbc3ff9a4ae083f30dbe4dcd9641"
       ],
       "layout": "IPY_MODEL_21fdd6a687fe435a8493bb8dd6b45e4e"
      }
     },
     "2a5aba8581c848b9a7e669f275c2b6d9": {
      "model_module": "@jupyter-widgets/base",
      "model_module_version": "1.0.0",
      "model_name": "LayoutModel",
      "state": {}
     },
     "2a94e048da8a4c91a7debd5fa182dbd6": {
      "model_module": "@jupyter-widgets/base",
      "model_module_version": "1.0.0",
      "model_name": "LayoutModel",
      "state": {}
     },
     "2ada3404b6f849c6b7f61bc4e3a2f163": {
      "model_module": "@jupyter-widgets/controls",
      "model_module_version": "1.0.0",
      "model_name": "DescriptionStyleModel",
      "state": {
       "description_width": ""
      }
     },
     "2b0e320c338a4424a0675059bff821d7": {
      "model_module": "@jupyter-widgets/controls",
      "model_module_version": "1.0.0",
      "model_name": "DescriptionStyleModel",
      "state": {
       "description_width": ""
      }
     },
     "2bda2198114848c2afe9f9e5a86f29cb": {
      "model_module": "@jupyter-widgets/controls",
      "model_module_version": "1.0.0",
      "model_name": "DescriptionStyleModel",
      "state": {
       "description_width": ""
      }
     },
     "2c6d27592ac64f7b8ece7fbc0523031b": {
      "model_module": "@jupyter-widgets/controls",
      "model_module_version": "1.0.0",
      "model_name": "SliderStyleModel",
      "state": {
       "description_width": ""
      }
     },
     "2d205935c76747af9064dc7af1fac978": {
      "model_module": "@jupyter-widgets/controls",
      "model_module_version": "1.0.0",
      "model_name": "SliderStyleModel",
      "state": {
       "description_width": ""
      }
     },
     "2d74ad6e864541bf8a071b672c735d5d": {
      "model_module": "@jupyter-widgets/base",
      "model_module_version": "1.0.0",
      "model_name": "LayoutModel",
      "state": {}
     },
     "2e6d54d881e340749e28beccc708cef1": {
      "model_module": "@jupyter-widgets/controls",
      "model_module_version": "1.0.0",
      "model_name": "ProgressStyleModel",
      "state": {
       "description_width": ""
      }
     },
     "2eb71b32d9f7473194d3db5de219f2b9": {
      "model_module": "@jupyter-widgets/controls",
      "model_module_version": "1.0.0",
      "model_name": "DescriptionStyleModel",
      "state": {
       "description_width": ""
      }
     },
     "2ef92ffa15d4486e82ffa9916ad8904f": {
      "model_module": "@jupyter-widgets/controls",
      "model_module_version": "1.0.0",
      "model_name": "VBoxModel",
      "state": {
       "_dom_classes": [
        "widget-interact"
       ],
       "children": [
        "IPY_MODEL_a140a9c30f8043f6a6115a246ffc8222",
        "IPY_MODEL_ecff00b8a5374f8dbadb8537299ba842",
        "IPY_MODEL_e86e723046f14653b8c4ccde019afe41"
       ],
       "layout": "IPY_MODEL_7248fd4d31d84522bcaa27186683e986"
      }
     },
     "2f7b48179ca84515bfbf38368219be5a": {
      "model_module": "@jupyter-widgets/controls",
      "model_module_version": "1.0.0",
      "model_name": "SliderStyleModel",
      "state": {
       "description_width": ""
      }
     },
     "30ccb20192fb40c5abedc91b24ab9bbe": {
      "model_module": "@jupyter-widgets/base",
      "model_module_version": "1.0.0",
      "model_name": "LayoutModel",
      "state": {}
     },
     "311f93afce434f9a83d4ac67d975c510": {
      "model_module": "@jupyter-widgets/controls",
      "model_module_version": "1.0.0",
      "model_name": "VBoxModel",
      "state": {
       "_dom_classes": [
        "widget-interact"
       ],
       "children": [
        "IPY_MODEL_b863e85059d64e5b87d27c917dd27289",
        "IPY_MODEL_dd698359051d493fbd1434d6d68a1d9f"
       ],
       "layout": "IPY_MODEL_3c5386cd790846768b8b9c86b02b9150"
      }
     },
     "322f7807919f4c31b33245e0f1a5abaf": {
      "model_module": "@jupyter-widgets/base",
      "model_module_version": "1.0.0",
      "model_name": "LayoutModel",
      "state": {}
     },
     "327a68e001944cc2b231099ed4f84be7": {
      "model_module": "@jupyter-widgets/controls",
      "model_module_version": "1.0.0",
      "model_name": "TextareaModel",
      "state": {
       "description": "Адрес:",
       "layout": "IPY_MODEL_2233b0bf9a9048478564e7b26170518d",
       "placeholder": "Не дом и не улица",
       "style": "IPY_MODEL_e67f03a64fe0449f83127adb44afde28",
       "value": "Адрес"
      }
     },
     "32e1e2b0227c49c9b56504b25983db3f": {
      "model_module": "@jupyter-widgets/base",
      "model_module_version": "1.0.0",
      "model_name": "LayoutModel",
      "state": {}
     },
     "3332b7576edb4695b3ee2aeef9b0be25": {
      "model_module": "@jupyter-widgets/base",
      "model_module_version": "1.0.0",
      "model_name": "LayoutModel",
      "state": {}
     },
     "33b5178d842d43a4b13295dc23141346": {
      "model_module": "@jupyter-widgets/controls",
      "model_module_version": "1.0.0",
      "model_name": "DescriptionStyleModel",
      "state": {
       "description_width": ""
      }
     },
     "3476c8d12ec943358f06bd6a0e77bef1": {
      "model_module": "@jupyter-widgets/controls",
      "model_module_version": "1.0.0",
      "model_name": "DescriptionStyleModel",
      "state": {
       "description_width": ""
      }
     },
     "34f49018b605498692b209c2de946436": {
      "model_module": "@jupyter-widgets/base",
      "model_module_version": "1.0.0",
      "model_name": "LayoutModel",
      "state": {}
     },
     "3596df6b5b5e4b28b73fde339577e458": {
      "model_module": "@jupyter-widgets/controls",
      "model_module_version": "1.0.0",
      "model_name": "IntTextModel",
      "state": {
       "description": "Delayed",
       "layout": "IPY_MODEL_27556eea45bd4746a431cbe5ef3302d9",
       "step": 1,
       "style": "IPY_MODEL_7d41838f1aae47a695ec99ad1d918c6e",
       "value": 50
      }
     },
     "368e89161b1244b2a72947133da3932f": {
      "model_module": "@jupyter-widgets/base",
      "model_module_version": "1.0.0",
      "model_name": "LayoutModel",
      "state": {}
     },
     "3774f1b8ce0b4612bad1258e2a297863": {
      "model_module": "@jupyter-widgets/controls",
      "model_module_version": "1.0.0",
      "model_name": "TextModel",
      "state": {
       "description": "P0",
       "layout": "IPY_MODEL_e34f515cec12429db50b12e8bcd4f436",
       "style": "IPY_MODEL_4e6aa958b759449e945555d6ba6283ad"
      }
     },
     "37bf08c1ad634d8aa5c56e3f12380ae8": {
      "model_module": "@jupyter-widgets/controls",
      "model_module_version": "1.0.0",
      "model_name": "IntSliderModel",
      "state": {
       "description": "a",
       "layout": "IPY_MODEL_e8dd53df63d04166bb7b39d3877c15aa",
       "max": 30,
       "min": -10,
       "style": "IPY_MODEL_c2d3e9d7594341a6a218cd1dc0a0879e",
       "value": 10
      }
     },
     "384e06ec64fd42daa665bab20af958af": {
      "model_module": "@jupyter-widgets/controls",
      "model_module_version": "1.0.0",
      "model_name": "HBoxModel",
      "state": {
       "children": [
        "IPY_MODEL_facb72a7f4a048d89a110b80345d5714",
        "IPY_MODEL_4ce9f4cdd06d4dc482ab0f2f670efe52"
       ],
       "layout": "IPY_MODEL_fc00d966e59a476eaf87a5a1ba44f47a"
      }
     },
     "392091beb5024deab14971b61842163e": {
      "model_module": "@jupyter-widgets/base",
      "model_module_version": "1.0.0",
      "model_name": "LayoutModel",
      "state": {}
     },
     "396dbe841a424952b183a248e3eb6e0a": {
      "model_module": "@jupyter-widgets/output",
      "model_module_version": "1.0.0",
      "model_name": "OutputModel",
      "state": {
       "layout": "IPY_MODEL_61d1512b7c6a4f3da75448c7cefd7856",
       "outputs": [
        {
         "name": "stdout",
         "output_type": "stream",
         "text": "0 Hello world!\n1 Hello world!\n2 Hello world!\n3 Hello world!\n4 Hello world!\n5 Hello world!\n6 Hello world!\n7 Hello world!\n8 Hello world!\n9 Hello world!\n"
        },
        {
         "data": {
          "image/jpeg": "/9j/4AAQSkZJRgABAQAAAQABAAD/2wCEABALDA4MChAODQ4SERATGCgaGBYWGDEjJR0oOjM9PDkz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\nAAAAAAAAAAAAAAAAB//Z\n",
          "text/html": "\n        <iframe\n            width=\"400\"\n            height=\"300\"\n            src=\"https://www.youtube.com/embed/eWzY2nGfkXk\"\n            frameborder=\"0\"\n            allowfullscreen\n        ></iframe>\n        ",
          "text/plain": "<IPython.lib.display.YouTubeVideo at 0x7fc534c28470>"
         },
         "metadata": {},
         "output_type": "display_data"
        }
       ]
      }
     },
     "39c3f385401847e69f716ecf83453835": {
      "model_module": "@jupyter-widgets/controls",
      "model_module_version": "1.0.0",
      "model_name": "VBoxModel",
      "state": {
       "_dom_classes": [
        "widget-interact"
       ],
       "children": [
        "IPY_MODEL_9812ee5573c8415b9369123505ffac85",
        "IPY_MODEL_d61c46222e124114bc3644463003a736"
       ],
       "layout": "IPY_MODEL_621c395847694b0a80a7e0d24c1c8a2c"
      }
     },
     "3a0bac39377e4a3e80594a7f0d1e2d3d": {
      "model_module": "@jupyter-widgets/base",
      "model_module_version": "1.0.0",
      "model_name": "LayoutModel",
      "state": {}
     },
     "3a16eb4ddb884b1898b11a8c07663c5c": {
      "model_module": "@jupyter-widgets/controls",
      "model_module_version": "1.0.0",
      "model_name": "TextModel",
      "state": {
       "description": "x",
       "layout": "IPY_MODEL_e847bd35573f4a72a6f90c44fd08e137",
       "style": "IPY_MODEL_ec9920d8894841e4851088247fd2459f",
       "value": "Текст"
      }
     },
     "3a3ff73b475e4bd690cd5768f8772cb4": {
      "model_module": "@jupyter-widgets/controls",
      "model_module_version": "1.0.0",
      "model_name": "SliderStyleModel",
      "state": {
       "description_width": ""
      }
     },
     "3a48822d77e84aa58f890211991b6d5c": {
      "model_module": "@jupyter-widgets/controls",
      "model_module_version": "1.0.0",
      "model_name": "DropdownModel",
      "state": {
       "_options_labels": [
        "0",
        "1",
        "2",
        "3",
        "4",
        "5"
       ],
       "description": "n",
       "index": 5,
       "layout": "IPY_MODEL_15ddc5cc83844dc4ae4e17e6a698ec7f",
       "style": "IPY_MODEL_6e79df7313894d2fad3fcdd88af08237"
      }
     },
     "3a4bdd7e6a5c4f789632a09c6051c523": {
      "model_module": "@jupyter-widgets/controls",
      "model_module_version": "1.0.0",
      "model_name": "TextModel",
      "state": {
       "description": "x",
       "layout": "IPY_MODEL_b65b4f870e714337829e97c4c3d7487e",
       "style": "IPY_MODEL_4604b646b3fb4838934c2d61a0535462",
       "value": "Hi there!вфыв"
      }
     },
     "3a961681ddf74af39aef88be57e98995": {
      "model_module": "@jupyter-widgets/controls",
      "model_module_version": "1.0.0",
      "model_name": "IntSliderModel",
      "state": {
       "continuous_update": false,
       "description": "Delayed",
       "layout": "IPY_MODEL_15f93ababa5942d58989a57bfde38037",
       "style": "IPY_MODEL_407469cb87b446fcac3d7023301715f2"
      }
     },
     "3a988dfff9ae48549fc3456d02a956ab": {
      "model_module": "@jupyter-widgets/controls",
      "model_module_version": "1.0.0",
      "model_name": "IntSliderModel",
      "state": {
       "description": "x",
       "layout": "IPY_MODEL_14740748e890441d9d74a2eca4999f9e",
       "max": 30,
       "min": -10,
       "style": "IPY_MODEL_d64a16b0e14c479ca2fe7af86fe9d002",
       "value": 10
      }
     },
     "3ac30584772f49bd8a91ae08f3df75a3": {
      "model_module": "@jupyter-widgets/controls",
      "model_module_version": "1.0.0",
      "model_name": "LabelModel",
      "state": {
       "layout": "IPY_MODEL_ff77a72c5756467387369428f86f9328",
       "style": "IPY_MODEL_0a8dfd793ae84b579aa58f81ab60b4f7",
       "value": "Способ доставки:"
      }
     },
     "3b389d827ae5477cb4fd590eade2b80d": {
      "model_module": "@jupyter-widgets/base",
      "model_module_version": "1.0.0",
      "model_name": "LayoutModel",
      "state": {}
     },
     "3b43188a50a04e85a54f6de6790952bd": {
      "model_module": "@jupyter-widgets/controls",
      "model_module_version": "1.0.0",
      "model_name": "IntSliderModel",
      "state": {
       "description": "b",
       "layout": "IPY_MODEL_d2cb3c92078c42e7aecdabbe0042c864",
       "max": 60,
       "min": -20,
       "style": "IPY_MODEL_2c6d27592ac64f7b8ece7fbc0523031b",
       "value": 38
      }
     },
     "3b480aee3fb54082b194438302f7b7fd": {
      "model_module": "@jupyter-widgets/base",
      "model_module_version": "1.0.0",
      "model_name": "LayoutModel",
      "state": {}
     },
     "3b85f44ad166465bb6e674685b039995": {
      "model_module": "@jupyter-widgets/controls",
      "model_module_version": "1.0.0",
      "model_name": "ToggleButtonsModel",
      "state": {
       "_options_labels": [
        "Карта",
        "Наличные"
       ],
       "button_style": "success",
       "description": "Способ оплаты:",
       "icons": [
        "credit-card",
        "money"
       ],
       "index": 0,
       "layout": "IPY_MODEL_3332b7576edb4695b3ee2aeef9b0be25",
       "style": "IPY_MODEL_44e6b3d1d54345a4992c3e46b4a7cb54",
       "tooltips": [
        "Карта",
        "Наличные"
       ]
      }
     },
     "3be770a1b3fb4997894c8cbf083d9a65": {
      "model_module": "@jupyter-widgets/controls",
      "model_module_version": "1.0.0",
      "model_name": "ColorPickerModel",
      "state": {
       "description": "Цвет линии:",
       "disabled": false,
       "layout": "IPY_MODEL_ecbbe0ac5d0943979d9006dad156266f",
       "style": "IPY_MODEL_f5721be567c34dd5815cd888c4abc0d1",
       "value": "teal"
      }
     },
     "3c5386cd790846768b8b9c86b02b9150": {
      "model_module": "@jupyter-widgets/base",
      "model_module_version": "1.0.0",
      "model_name": "LayoutModel",
      "state": {}
     },
     "3d48c4b3bbb446afb76d43416a75ad2b": {
      "model_module": "@jupyter-widgets/controls",
      "model_module_version": "1.0.0",
      "model_name": "ButtonModel",
      "state": {
       "description": "Использовать другие данные",
       "layout": "IPY_MODEL_e11119172e4b4dcdbe7e87ebb9972861",
       "style": "IPY_MODEL_6489bf16a9bf4d89921cf3263350dc99"
      }
     },
     "3dea2564ae4e495c9ebcc3821027d591": {
      "model_module": "@jupyter-widgets/controls",
      "model_module_version": "1.0.0",
      "model_name": "DescriptionStyleModel",
      "state": {
       "description_width": ""
      }
     },
     "3e74b8f26cb6439591fe9e225c5ef6c6": {
      "model_module": "@jupyter-widgets/base",
      "model_module_version": "1.0.0",
      "model_name": "LayoutModel",
      "state": {}
     },
     "3ecd61ef855443e492e23d3faa28241a": {
      "model_module": "@jupyter-widgets/base",
      "model_module_version": "1.0.0",
      "model_name": "LayoutModel",
      "state": {}
     },
     "3f9778867b2048a883b2f7455b9aa686": {
      "model_module": "@jupyter-widgets/controls",
      "model_module_version": "1.0.0",
      "model_name": "VBoxModel",
      "state": {
       "_dom_classes": [
        "widget-interact"
       ],
       "children": [
        "IPY_MODEL_e0d86ea67cfe41898512d10c6decb81c",
        "IPY_MODEL_bf189c80483145b5b4dde133669c1a5d"
       ],
       "layout": "IPY_MODEL_9b65f7f717ae454b8c07631b7f986a48"
      }
     },
     "404ee9d1415b4fd5bea6e271243d0e69": {
      "model_module": "@jupyter-widgets/controls",
      "model_module_version": "1.0.0",
      "model_name": "SliderStyleModel",
      "state": {
       "description_width": ""
      }
     },
     "406e94c71c3e46f2b09db388fb4607f6": {
      "model_module": "@jupyter-widgets/base",
      "model_module_version": "1.0.0",
      "model_name": "LayoutModel",
      "state": {}
     },
     "407469cb87b446fcac3d7023301715f2": {
      "model_module": "@jupyter-widgets/controls",
      "model_module_version": "1.0.0",
      "model_name": "SliderStyleModel",
      "state": {
       "description_width": ""
      }
     },
     "40db9e678c504fa4bd6e175fb3a0a72b": {
      "model_module": "@jupyter-widgets/base",
      "model_module_version": "1.0.0",
      "model_name": "LayoutModel",
      "state": {}
     },
     "41b83451a3cd421788a2a64ce8dcfa22": {
      "model_module": "@jupyter-widgets/base",
      "model_module_version": "1.0.0",
      "model_name": "LayoutModel",
      "state": {}
     },
     "41ed4a7eb0714875a290228eda511fad": {
      "model_module": "@jupyter-widgets/controls",
      "model_module_version": "1.0.0",
      "model_name": "SliderStyleModel",
      "state": {
       "description_width": ""
      }
     },
     "427028264cae42bcb107d36b9c5165f7": {
      "model_module": "@jupyter-widgets/controls",
      "model_module_version": "1.0.0",
      "model_name": "VBoxModel",
      "state": {
       "_dom_classes": [
        "widget-interact"
       ],
       "children": [
        "IPY_MODEL_bb7f65536f384b7980b3c913225dce0a",
        "IPY_MODEL_a102d544c31b460e810b2e03dcbab3cd"
       ],
       "layout": "IPY_MODEL_4a8b7ffb8185478a94bbe18713107363"
      }
     },
     "42a0bb7644314dcf8bfcaf14749bb5f1": {
      "model_module": "@jupyter-widgets/base",
      "model_module_version": "1.0.0",
      "model_name": "LayoutModel",
      "state": {}
     },
     "42f9eccc6db54fc89496e2c973e01639": {
      "model_module": "@jupyter-widgets/output",
      "model_module_version": "1.0.0",
      "model_name": "OutputModel",
      "state": {
       "layout": "IPY_MODEL_dbe91b156ba0471fba39710670e14198",
       "outputs": [
        {
         "data": {
          "text/plain": "110"
         },
         "metadata": {},
         "output_type": "display_data"
        }
       ]
      }
     },
     "4304723eaa3b49cbadab0c30f9ac2560": {
      "model_module": "@jupyter-widgets/base",
      "model_module_version": "1.0.0",
      "model_name": "LayoutModel",
      "state": {}
     },
     "4367b93580654a56abc82005ca43e96c": {
      "model_module": "@jupyter-widgets/controls",
      "model_module_version": "1.0.0",
      "model_name": "DescriptionStyleModel",
      "state": {
       "description_width": ""
      }
     },
     "44320d1629bb46b9a19bf5356382f1bd": {
      "model_module": "@jupyter-widgets/controls",
      "model_module_version": "1.0.0",
      "model_name": "VBoxModel",
      "state": {
       "_dom_classes": [
        "widget-interact"
       ],
       "children": [
        "IPY_MODEL_a18f77415d324d199d36bb7e0a5553f3",
        "IPY_MODEL_d6ed8f92b3754fc8bbecff4cf089fa92"
       ],
       "layout": "IPY_MODEL_8693b3edf70746b6816a3ebbcac6e3c5"
      }
     },
     "44e6b3d1d54345a4992c3e46b4a7cb54": {
      "model_module": "@jupyter-widgets/controls",
      "model_module_version": "1.0.0",
      "model_name": "ToggleButtonsStyleModel",
      "state": {
       "_model_module": "@jupyter-widgets/controls",
       "button_width": ""
      }
     },
     "453d63fefcf24db4af23ce639e7c15e0": {
      "model_module": "@jupyter-widgets/controls",
      "model_module_version": "1.0.0",
      "model_name": "IntSliderModel",
      "state": {
       "layout": "IPY_MODEL_46e361c3e12d46949f0f37198fb5406d",
       "max": 60,
       "style": "IPY_MODEL_10bd1e66c7834fea929ba428da1a5d26",
       "value": 37
      }
     },
     "4604b646b3fb4838934c2d61a0535462": {
      "model_module": "@jupyter-widgets/controls",
      "model_module_version": "1.0.0",
      "model_name": "DescriptionStyleModel",
      "state": {
       "description_width": ""
      }
     },
     "46515e7c19b04e30884c51ec54ebe489": {
      "model_module": "@jupyter-widgets/base",
      "model_module_version": "1.0.0",
      "model_name": "LayoutModel",
      "state": {}
     },
     "46a95b39c41c4919aa24ecf3af6d6957": {
      "model_module": "@jupyter-widgets/controls",
      "model_module_version": "1.0.0",
      "model_name": "TextModel",
      "state": {
       "layout": "IPY_MODEL_c522378fc07249fbad005f7e993db299",
       "style": "IPY_MODEL_db57438f5d6840a6b83f427218ca01e8"
      }
     },
     "46af46ccac4443e6ae4218d55b048fed": {
      "model_module": "@jupyter-widgets/controls",
      "model_module_version": "1.0.0",
      "model_name": "ButtonModel",
      "state": {
       "description": "correct",
       "layout": "IPY_MODEL_9cd2e73f574048b9ac3b2d4147567c34",
       "style": "IPY_MODEL_0445326ccaa64047a13efdd096dc2462"
      }
     },
     "46e361c3e12d46949f0f37198fb5406d": {
      "model_module": "@jupyter-widgets/base",
      "model_module_version": "1.0.0",
      "model_name": "LayoutModel",
      "state": {}
     },
     "46e3ccc6253846cc8c4db2d3ef7fa1a4": {
      "model_module": "@jupyter-widgets/base",
      "model_module_version": "1.0.0",
      "model_name": "LayoutModel",
      "state": {}
     },
     "470cb103447741ed9afaf0c182727941": {
      "model_module": "@jupyter-widgets/base",
      "model_module_version": "1.0.0",
      "model_name": "LayoutModel",
      "state": {}
     },
     "4734f430970b4187a6608fcec0d06eb8": {
      "model_module": "@jupyter-widgets/controls",
      "model_module_version": "1.0.0",
      "model_name": "IntSliderModel",
      "state": {
       "description": "x",
       "layout": "IPY_MODEL_1841c138da604f728205308d9045ef2d",
       "max": 30,
       "min": -10,
       "style": "IPY_MODEL_e8cb89175732457f95768cc4f596b942",
       "value": 4
      }
     },
     "475910b14f8d4aa2ba0c3f95f728267d": {
      "model_module": "@jupyter-widgets/controls",
      "model_module_version": "1.0.0",
      "model_name": "VBoxModel",
      "state": {
       "_dom_classes": [
        "widget-interact"
       ],
       "children": [
        "IPY_MODEL_4dd26bf1d7934aa38da4d26e93454286",
        "IPY_MODEL_492f5f715d7a4c53b582dc30ada2875f",
        "IPY_MODEL_0d17010f11cf4d1ab589003e53cb4a97"
       ],
       "layout": "IPY_MODEL_bb9e79a5c35d40da8398f7fb2464363b"
      }
     },
     "4800777b08c04929a2a2ad295875eb9c": {
      "model_module": "@jupyter-widgets/output",
      "model_module_version": "1.0.0",
      "model_name": "OutputModel",
      "state": {
       "layout": "IPY_MODEL_75a8d27014d74126ab36c0e238531c7a",
       "outputs": [
        {
         "data": {
          "text/plain": "('Текст', 'ТекстТекст')"
         },
         "metadata": {},
         "output_type": "display_data"
        }
       ]
      }
     },
     "4839f3b4813f4b6296dcc5c538ae2a62": {
      "model_module": "@jupyter-widgets/controls",
      "model_module_version": "1.0.0",
      "model_name": "DescriptionStyleModel",
      "state": {
       "description_width": ""
      }
     },
     "4871038a501b4f59bf7c3dcf028b8221": {
      "model_module": "@jupyter-widgets/controls",
      "model_module_version": "1.0.0",
      "model_name": "SliderStyleModel",
      "state": {
       "description_width": ""
      }
     },
     "48715afbc5e444a4a6f33d3fdd9289da": {
      "model_module": "@jupyter-widgets/base",
      "model_module_version": "1.0.0",
      "model_name": "LayoutModel",
      "state": {}
     },
     "48c9775f134b45238fe5216bbf79f469": {
      "model_module": "@jupyter-widgets/controls",
      "model_module_version": "1.0.0",
      "model_name": "VBoxModel",
      "state": {
       "children": [
        "IPY_MODEL_88f4b94a210c40e280878fbaaf563407",
        "IPY_MODEL_3596df6b5b5e4b28b73fde339577e458",
        "IPY_MODEL_f3252bc9d1cc4dc0bd7dd8e23c22f6e3",
        "IPY_MODEL_f5234e7941344aa0a3ba98a39f355e56"
       ],
       "layout": "IPY_MODEL_b6950fe3f94741d1b15afcdca2d73171"
      }
     },
     "492f5f715d7a4c53b582dc30ada2875f": {
      "model_module": "@jupyter-widgets/controls",
      "model_module_version": "1.0.0",
      "model_name": "FloatSliderModel",
      "state": {
       "description": "y",
       "layout": "IPY_MODEL_cd10bddab0e142078b644d373c91a513",
       "max": 3,
       "min": -1,
       "step": 0.1,
       "style": "IPY_MODEL_fd51a8cff1ae4c84a2350ae25ad348d3",
       "value": 2.8
      }
     },
     "4933f9be894e4427ba7c355ca22beb0a": {
      "model_module": "@jupyter-widgets/controls",
      "model_module_version": "1.0.0",
      "model_name": "ButtonModel",
      "state": {
       "description": "battery",
       "layout": "IPY_MODEL_368e89161b1244b2a72947133da3932f",
       "style": "IPY_MODEL_27b9737d6b5d46129516f379f68538ee"
      }
     },
     "49a481d460124f7fb1298f7949b7054a": {
      "model_module": "@jupyter-widgets/base",
      "model_module_version": "1.0.0",
      "model_name": "LayoutModel",
      "state": {}
     },
     "4a8b7ffb8185478a94bbe18713107363": {
      "model_module": "@jupyter-widgets/base",
      "model_module_version": "1.0.0",
      "model_name": "LayoutModel",
      "state": {}
     },
     "4aae43d905114764aac866b93e5905e0": {
      "model_module": "@jupyter-widgets/controls",
      "model_module_version": "1.0.0",
      "model_name": "TextModel",
      "state": {
       "description": "x",
       "layout": "IPY_MODEL_d3d8a3dcc46f4c77ab6f284db1eb0175",
       "style": "IPY_MODEL_4839f3b4813f4b6296dcc5c538ae2a62",
       "value": "Текст"
      }
     },
     "4b15735623404c148f43b542d47a670d": {
      "model_module": "@jupyter-widgets/controls",
      "model_module_version": "1.0.0",
      "model_name": "ButtonStyleModel",
      "state": {
       "button_color": "lightgreen"
      }
     },
     "4c0dffefddd745e78671437a11f91fb6": {
      "model_module": "@jupyter-widgets/controls",
      "model_module_version": "1.0.0",
      "model_name": "SliderStyleModel",
      "state": {
       "description_width": "",
       "handle_color": "lightblue"
      }
     },
     "4c23f4b16aca443b877d7e396dc66be5": {
      "model_module": "@jupyter-widgets/base",
      "model_module_version": "1.0.0",
      "model_name": "LayoutModel",
      "state": {}
     },
     "4c62de0582bf4400a812e752023a8e12": {
      "model_module": "@jupyter-widgets/controls",
      "model_module_version": "1.0.0",
      "model_name": "DescriptionStyleModel",
      "state": {
       "description_width": ""
      }
     },
     "4cc5b43686384c5b9138c225d56abb4b": {
      "model_module": "@jupyter-widgets/base",
      "model_module_version": "1.0.0",
      "model_name": "LayoutModel",
      "state": {}
     },
     "4cc766067fd04902abd3489800723b32": {
      "model_module": "@jupyter-widgets/controls",
      "model_module_version": "1.0.0",
      "model_name": "IntSliderModel",
      "state": {
       "description": "Blue handle",
       "layout": "IPY_MODEL_94154b8595814518be7a19ef10f65589",
       "style": "IPY_MODEL_4c0dffefddd745e78671437a11f91fb6"
      }
     },
     "4ce9f4cdd06d4dc482ab0f2f670efe52": {
      "model_module": "@jupyter-widgets/controls",
      "model_module_version": "1.0.0",
      "model_name": "RadioButtonsModel",
      "state": {
       "_options_labels": [
        "Доставка",
        "Самовывоз"
       ],
       "index": 1,
       "layout": "IPY_MODEL_3b480aee3fb54082b194438302f7b7fd",
       "style": "IPY_MODEL_8edad9f0803c4a7d8b2966835da96a81"
      }
     },
     "4dd26bf1d7934aa38da4d26e93454286": {
      "model_module": "@jupyter-widgets/controls",
      "model_module_version": "1.0.0",
      "model_name": "CheckboxModel",
      "state": {
       "description": "x",
       "disabled": false,
       "layout": "IPY_MODEL_e393a86a39ac4ebab85f5aaae5cc9a5c",
       "style": "IPY_MODEL_4e26189b375d4142ab4495be155c8dcb",
       "value": true
      }
     },
     "4e26189b375d4142ab4495be155c8dcb": {
      "model_module": "@jupyter-widgets/controls",
      "model_module_version": "1.0.0",
      "model_name": "DescriptionStyleModel",
      "state": {
       "description_width": ""
      }
     },
     "4e66cf2410bd48d6b08eb54b5491d2f0": {
      "model_module": "@jupyter-widgets/controls",
      "model_module_version": "1.0.0",
      "model_name": "TextModel",
      "state": {
       "layout": "IPY_MODEL_9c364a684dfa495c8916e8ab5dfd132d",
       "style": "IPY_MODEL_7af49cd2cb2a464fadd57339a54277d1"
      }
     },
     "4e6aa958b759449e945555d6ba6283ad": {
      "model_module": "@jupyter-widgets/controls",
      "model_module_version": "1.0.0",
      "model_name": "DescriptionStyleModel",
      "state": {
       "description_width": ""
      }
     },
     "4ea6826839244838a4bb643429c01fe7": {
      "model_module": "@jupyter-widgets/controls",
      "model_module_version": "1.0.0",
      "model_name": "LabelModel",
      "state": {
       "layout": "IPY_MODEL_80bc66c9564c47b0a03ea45a5962d3e1",
       "style": "IPY_MODEL_83ac57d677444969b08c75c547174a82",
       "value": "Способ доставки:"
      }
     },
     "4f8ca0197ec74deebf10b97ebc4f2681": {
      "model_module": "@jupyter-widgets/controls",
      "model_module_version": "1.0.0",
      "model_name": "HBoxModel",
      "state": {
       "children": [
        "IPY_MODEL_e3ceaa1f3ebd481893cedf2d75175f86",
        "IPY_MODEL_64f61f2c37664531b19aac2f89b1bafe"
       ],
       "layout": "IPY_MODEL_68296fc1337f4fadb116232490cedb7b"
      }
     },
     "503282a1b9ce463eba39a959dbfa11c1": {
      "model_module": "@jupyter-widgets/base",
      "model_module_version": "1.0.0",
      "model_name": "LayoutModel",
      "state": {}
     },
     "50f5c111acc741c2bf387aa8f6a49d17": {
      "model_module": "@jupyter-widgets/controls",
      "model_module_version": "1.0.0",
      "model_name": "VBoxModel",
      "state": {
       "children": [
        "IPY_MODEL_63890182b9a74a28a019a9cfafabc893",
        "IPY_MODEL_1b2114ec275f4c16929131523748843d"
       ],
       "layout": "IPY_MODEL_5e1b5c722db441b0adb0897f463a71f3"
      }
     },
     "51156fa447424cba950c78ab3bfbd420": {
      "model_module": "@jupyter-widgets/controls",
      "model_module_version": "1.0.0",
      "model_name": "SliderStyleModel",
      "state": {
       "description_width": ""
      }
     },
     "513b01011b764536be7d2e8647813f49": {
      "model_module": "@jupyter-widgets/base",
      "model_module_version": "1.0.0",
      "model_name": "LayoutModel",
      "state": {}
     },
     "51a2f891e07f4b1491dd11ae5a69d0d2": {
      "model_module": "@jupyter-widgets/controls",
      "model_module_version": "1.0.0",
      "model_name": "SelectModel",
      "state": {
       "_options_labels": [
        "Компьютер",
        "Планшет",
        "Ноутбук"
       ],
       "description": "Товар:",
       "index": 1,
       "layout": "IPY_MODEL_f29a70ffeffb4cefba8db6ce91de01ad",
       "style": "IPY_MODEL_a90807ce2a0245e7a1c20b8434f2604b"
      }
     },
     "51a61e0a7d3a42fdabf621a259c6210e": {
      "model_module": "@jupyter-widgets/controls",
      "model_module_version": "1.0.0",
      "model_name": "VBoxModel",
      "state": {
       "_dom_classes": [
        "widget-interact"
       ],
       "children": [
        "IPY_MODEL_cdcfe19684db4f08879dab5905118c5b",
        "IPY_MODEL_12c0e9f18f544e84a1cda5460eca693b",
        "IPY_MODEL_b592d15cb998442b830a790bd1e5e7b8",
        "IPY_MODEL_6815fc74e38c4b21a79d2c068f32f587"
       ],
       "layout": "IPY_MODEL_c1f4ad062f784cfc8c51471af8dae01f"
      }
     },
     "51e48a8b64a74e29a1b88c1cc516e994": {
      "model_module": "@jupyter-widgets/output",
      "model_module_version": "1.0.0",
      "model_name": "OutputModel",
      "state": {
       "layout": "IPY_MODEL_ed85d6f0c4804e75941e8fade934e4ee",
       "outputs": [
        {
         "data": {
          "application/vnd.jupyter.widget-view+json": {
           "model_id": "f4931a8660994e36955b761fcd7a10b4",
           "version_major": 2,
           "version_minor": 0
          },
          "text/plain": "A Jupyter Widget"
         },
         "metadata": {},
         "output_type": "display_data"
        },
        {
         "name": "stdout",
         "output_type": "stream",
         "text": "Информация о заказе:\nТовар: Компьютер\nКоличество: 1\nМощность: хороший\nБонус: Стикер\nСпособ доставки: Доставка\nСпособ оплаты: Карта\nДата доставки: None\nВремя доставки: (9, 18)\nКомментарий:  \nАдрес доставки: Адрес\n"
        }
       ]
      }
     },
     "523e81931dbf4e399608e31df25fc80a": {
      "model_module": "@jupyter-widgets/base",
      "model_module_version": "1.0.0",
      "model_name": "LayoutModel",
      "state": {}
     },
     "52a287e418d04badb161ea1426484b98": {
      "model_module": "@jupyter-widgets/output",
      "model_module_version": "1.0.0",
      "model_name": "OutputModel",
      "state": {
       "layout": "IPY_MODEL_ee37d851a5e04bf99b4935312a20531c",
       "outputs": [
        {
         "data": {
          "text/plain": "1"
         },
         "metadata": {},
         "output_type": "display_data"
        }
       ]
      }
     },
     "52c6d9ea85e2436bafa712e09f3e8323": {
      "model_module": "@jupyter-widgets/base",
      "model_module_version": "1.0.0",
      "model_name": "LayoutModel",
      "state": {}
     },
     "535917a9b5544b0086fd60927a58a90d": {
      "model_module": "@jupyter-widgets/output",
      "model_module_version": "1.0.0",
      "model_name": "OutputModel",
      "state": {
       "layout": "IPY_MODEL_74399538e7ad4ea8899594bb563e2ed8",
       "outputs": [
        {
         "data": {
          "image/png": "iVBORw0KGgoAAAANSUhEUgAAAZQAAAD8CAYAAABQFVIjAAAABHNCSVQICAgIfAhkiAAAAAlwSFlz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\nRUREckKBIiIiOfH/EdUu5zF2YIAAAAAASUVORK5CYII=\n",
          "text/plain": "<matplotlib.figure.Figure at 0x21b364d6e10>"
         },
         "metadata": {},
         "output_type": "display_data"
        }
       ]
      }
     },
     "53858ba6b34949798afca8f8f4f227a0": {
      "model_module": "@jupyter-widgets/base",
      "model_module_version": "1.0.0",
      "model_name": "LayoutModel",
      "state": {
       "width": "40%"
      }
     },
     "54b77928e1e3488493738d37fbe0aa5f": {
      "model_module": "@jupyter-widgets/controls",
      "model_module_version": "1.0.0",
      "model_name": "SliderStyleModel",
      "state": {
       "description_width": ""
      }
     },
     "560dc780abad44a3880319d043d6ec00": {
      "model_module": "@jupyter-widgets/controls",
      "model_module_version": "1.0.0",
      "model_name": "DescriptionStyleModel",
      "state": {
       "description_width": ""
      }
     },
     "56f2da83c6d2473e8844f54f54f9c3c1": {
      "model_module": "@jupyter-widgets/controls",
      "model_module_version": "1.0.0",
      "model_name": "HBoxModel",
      "state": {
       "children": [
        "IPY_MODEL_3ac30584772f49bd8a91ae08f3df75a3",
        "IPY_MODEL_4ce9f4cdd06d4dc482ab0f2f670efe52"
       ],
       "layout": "IPY_MODEL_dc7cfa728bdc425eb413d74dfe501fdf"
      }
     },
     "584f6f8057f44b9a89c6be9819bd92ec": {
      "model_module": "@jupyter-widgets/base",
      "model_module_version": "1.0.0",
      "model_name": "LayoutModel",
      "state": {}
     },
     "58772eef478d47f6865b33fa460e8c41": {
      "model_module": "@jupyter-widgets/controls",
      "model_module_version": "1.0.0",
      "model_name": "VBoxModel",
      "state": {
       "children": [
        "IPY_MODEL_eb9f22744ada418288fe9799a76062c0",
        "IPY_MODEL_1b2114ec275f4c16929131523748843d"
       ],
       "layout": "IPY_MODEL_9546c627422d476f8a696ddf7baf216e"
      }
     },
     "599929fe44dc496fa988c31b6a2d8cfa": {
      "model_module": "@jupyter-widgets/output",
      "model_module_version": "1.0.0",
      "model_name": "OutputModel",
      "state": {
       "layout": "IPY_MODEL_0f799c80f3f74b809b6391cd1b2cd2ab",
       "outputs": [
        {
         "data": {
          "text/plain": "'orange'"
         },
         "metadata": {},
         "output_type": "display_data"
        }
       ]
      }
     },
     "5a113809455a4934942387fa662c1bec": {
      "model_module": "@jupyter-widgets/base",
      "model_module_version": "1.0.0",
      "model_name": "LayoutModel",
      "state": {}
     },
     "5a179237dc1b4403b4aa0ee3e0b5be2d": {
      "model_module": "@jupyter-widgets/base",
      "model_module_version": "1.0.0",
      "model_name": "LayoutModel",
      "state": {}
     },
     "5adedd9842b143a498eefb3c2ba44d14": {
      "model_module": "@jupyter-widgets/base",
      "model_module_version": "1.0.0",
      "model_name": "LayoutModel",
      "state": {}
     },
     "5b433563822f48c8919f922974685730": {
      "model_module": "@jupyter-widgets/controls",
      "model_module_version": "1.0.0",
      "model_name": "SliderStyleModel",
      "state": {
       "description_width": ""
      }
     },
     "5b58e9a048204dddbe291482df634936": {
      "model_module": "@jupyter-widgets/controls",
      "model_module_version": "1.0.0",
      "model_name": "TabModel",
      "state": {
       "_titles": {
        "0": "Заказ:",
        "1": "Доставка:"
       },
       "children": [
        "IPY_MODEL_a0fb14a1ddad4e5e8be242a69f20b63a",
        "IPY_MODEL_7078859d5f2a446da4c4103d2e627ce5"
       ],
       "layout": "IPY_MODEL_c6d1d2d0cbb043cfb902e1347bd27c4f"
      }
     },
     "5c208ddb1af5415c8a07e7018373a2a0": {
      "model_module": "@jupyter-widgets/controls",
      "model_module_version": "1.0.0",
      "model_name": "SliderStyleModel",
      "state": {
       "description_width": ""
      }
     },
     "5d14338d8f3041469c66af4e16c6bf5c": {
      "model_module": "@jupyter-widgets/base",
      "model_module_version": "1.0.0",
      "model_name": "LayoutModel",
      "state": {}
     },
     "5d2cc29a2140479ab6bf1ac39830567c": {
      "model_module": "@jupyter-widgets/controls",
      "model_module_version": "1.0.0",
      "model_name": "DescriptionStyleModel",
      "state": {
       "description_width": ""
      }
     },
     "5d81529ab0b349bc90280063f6bd1de8": {
      "model_module": "@jupyter-widgets/base",
      "model_module_version": "1.0.0",
      "model_name": "LayoutModel",
      "state": {}
     },
     "5ddc1e4921a34d8f86c091ae8a68a1fd": {
      "model_module": "@jupyter-widgets/controls",
      "model_module_version": "1.0.0",
      "model_name": "SliderStyleModel",
      "state": {
       "description_width": "",
       "handle_color": "lightblue"
      }
     },
     "5dfdffc213424829a4ec205aa06a5805": {
      "model_module": "@jupyter-widgets/controls",
      "model_module_version": "1.0.0",
      "model_name": "ButtonStyleModel",
      "state": {}
     },
     "5e1b5c722db441b0adb0897f463a71f3": {
      "model_module": "@jupyter-widgets/base",
      "model_module_version": "1.0.0",
      "model_name": "LayoutModel",
      "state": {}
     },
     "5e28aab208fb479b9813542b2ba25eb7": {
      "model_module": "@jupyter-widgets/base",
      "model_module_version": "1.0.0",
      "model_name": "LayoutModel",
      "state": {}
     },
     "5f7ff6e4c1fc4bc792fe7c1d879f0a8b": {
      "model_module": "@jupyter-widgets/controls",
      "model_module_version": "1.0.0",
      "model_name": "LabelModel",
      "state": {
       "layout": "IPY_MODEL_c21cd2ee1ef44608b47d85c02d346d4d",
       "style": "IPY_MODEL_00d1921994d9440bbd64d16258536427",
       "value": "Способ доставки:"
      }
     },
     "5fd4273c28d947e4ba260eb2c987fd47": {
      "model_module": "@jupyter-widgets/controls",
      "model_module_version": "1.0.0",
      "model_name": "DescriptionStyleModel",
      "state": {
       "description_width": ""
      }
     },
     "5fe1ae9abe134e93aaf085227d23db35": {
      "model_module": "@jupyter-widgets/base",
      "model_module_version": "1.0.0",
      "model_name": "LayoutModel",
      "state": {}
     },
     "5ff88ce5713644e78b9eddac50da4c95": {
      "model_module": "@jupyter-widgets/output",
      "model_module_version": "1.0.0",
      "model_name": "OutputModel",
      "state": {
       "layout": "IPY_MODEL_9c310a1858834553a17e339bb39b192c"
      }
     },
     "60269dc21a304d93b30500ec095689d5": {
      "model_module": "@jupyter-widgets/base",
      "model_module_version": "1.0.0",
      "model_name": "LayoutModel",
      "state": {}
     },
     "60a0c741194b479188b0de76a3b9f774": {
      "model_module": "@jupyter-widgets/controls",
      "model_module_version": "1.0.0",
      "model_name": "VBoxModel",
      "state": {
       "_dom_classes": [
        "widget-interact"
       ],
       "children": [
        "IPY_MODEL_aad69ae83b574585b38d9ac2f1314db1",
        "IPY_MODEL_3b43188a50a04e85a54f6de6790952bd",
        "IPY_MODEL_05943c7988ce4954b2202eeba5659da2"
       ],
       "layout": "IPY_MODEL_f19a346b51224874b5b614be58c49d1e"
      }
     },
     "6114b0588ad94a7d9fb7d9545e930ae1": {
      "model_module": "@jupyter-widgets/controls",
      "model_module_version": "1.0.0",
      "model_name": "DescriptionStyleModel",
      "state": {
       "description_width": ""
      }
     },
     "612ad3e153e044d2b839c22657f7c07a": {
      "model_module": "@jupyter-widgets/base",
      "model_module_version": "1.0.0",
      "model_name": "LayoutModel",
      "state": {}
     },
     "61b052d0bb5141ed889eb6fe3d074cd9": {
      "model_module": "@jupyter-widgets/controls",
      "model_module_version": "1.0.0",
      "model_name": "DropdownModel",
      "state": {
       "_options_labels": [
        "0",
        "1",
        "2",
        "3",
        "4",
        "5"
       ],
       "description": "n",
       "index": 0,
       "layout": "IPY_MODEL_ce9657abbdf941b89fa8cd6882262ac6",
       "style": "IPY_MODEL_160d7aeb16814f41b434e7012e4578d4"
      }
     },
     "61d1512b7c6a4f3da75448c7cefd7856": {
      "model_module": "@jupyter-widgets/base",
      "model_module_version": "1.0.0",
      "model_name": "LayoutModel",
      "state": {}
     },
     "621c395847694b0a80a7e0d24c1c8a2c": {
      "model_module": "@jupyter-widgets/base",
      "model_module_version": "1.0.0",
      "model_name": "LayoutModel",
      "state": {}
     },
     "625792f7586d4c9f89082629c76bc8e7": {
      "model_module": "@jupyter-widgets/controls",
      "model_module_version": "1.0.0",
      "model_name": "TextModel",
      "state": {
       "description": "P2",
       "layout": "IPY_MODEL_6607ab6c477341688b89d5a3ab28f3c6",
       "style": "IPY_MODEL_6358a48b02f745118b78490ee89ffeb6"
      }
     },
     "625f2cd5aec9477fb79f55434b11b1ff": {
      "model_module": "@jupyter-widgets/base",
      "model_module_version": "1.0.0",
      "model_name": "LayoutModel",
      "state": {}
     },
     "62a82063aff547aa8f02030e1e4fa587": {
      "model_module": "@jupyter-widgets/controls",
      "model_module_version": "1.0.0",
      "model_name": "SliderStyleModel",
      "state": {
       "description_width": ""
      }
     },
     "62b835ad133146179d868b4c59b4b740": {
      "model_module": "@jupyter-widgets/base",
      "model_module_version": "1.0.0",
      "model_name": "LayoutModel",
      "state": {}
     },
     "6358a48b02f745118b78490ee89ffeb6": {
      "model_module": "@jupyter-widgets/controls",
      "model_module_version": "1.0.0",
      "model_name": "DescriptionStyleModel",
      "state": {
       "description_width": ""
      }
     },
     "63890182b9a74a28a019a9cfafabc893": {
      "model_module": "@jupyter-widgets/controls",
      "model_module_version": "1.0.0",
      "model_name": "LabelModel",
      "state": {
       "layout": "IPY_MODEL_f9b147d3970f4386b050e58b2987e5da",
       "style": "IPY_MODEL_810a7884ab2d44659a58162b37b4feba",
       "value": "Дата доставки:"
      }
     },
     "6430f433ed3246dabdfb0637a8edc57c": {
      "model_module": "@jupyter-widgets/controls",
      "model_module_version": "1.0.0",
      "model_name": "VBoxModel",
      "state": {
       "_dom_classes": [
        "widget-interact"
       ],
       "layout": "IPY_MODEL_f7321cc7c52b4aa19473330dcfe68c3c"
      }
     },
     "6489bf16a9bf4d89921cf3263350dc99": {
      "model_module": "@jupyter-widgets/controls",
      "model_module_version": "1.0.0",
      "model_name": "ButtonStyleModel",
      "state": {}
     },
     "64f61f2c37664531b19aac2f89b1bafe": {
      "model_module": "@jupyter-widgets/controls",
      "model_module_version": "1.0.0",
      "model_name": "VBoxModel",
      "state": {
       "children": [
        "IPY_MODEL_4933f9be894e4427ba7c355ca22beb0a",
        "IPY_MODEL_ac17d41431eb4d0bbf2600ff12614809"
       ],
       "layout": "IPY_MODEL_b27cf1f4fe6547e292402c7b5928873d"
      }
     },
     "652c08484ba34c119c0dbb3f50c03663": {
      "model_module": "@jupyter-widgets/controls",
      "model_module_version": "1.0.0",
      "model_name": "DescriptionStyleModel",
      "state": {
       "description_width": ""
      }
     },
     "657644943ca94dcfa317ec1fb2aeba2b": {
      "model_module": "@jupyter-widgets/base",
      "model_module_version": "1.0.0",
      "model_name": "LayoutModel",
      "state": {}
     },
     "65f0549f97bb423f94fc24ee4b9bf553": {
      "model_module": "@jupyter-widgets/base",
      "model_module_version": "1.0.0",
      "model_name": "LayoutModel",
      "state": {}
     },
     "66028b1e339844eb96ca5d48d85d7707": {
      "model_module": "@jupyter-widgets/base",
      "model_module_version": "1.0.0",
      "model_name": "LayoutModel",
      "state": {}
     },
     "6607ab6c477341688b89d5a3ab28f3c6": {
      "model_module": "@jupyter-widgets/base",
      "model_module_version": "1.0.0",
      "model_name": "LayoutModel",
      "state": {}
     },
     "66f171af698c4c8483875e7fb6d8316b": {
      "model_module": "@jupyter-widgets/controls",
      "model_module_version": "1.0.0",
      "model_name": "LabelModel",
      "state": {
       "layout": "IPY_MODEL_818be7f810944fe6a0277aeba00439c0",
       "style": "IPY_MODEL_0fc5cb5c4cab4a239ee25714dbe7d6aa",
       "value": "Angle 1 value is: 37"
      }
     },
     "6815fc74e38c4b21a79d2c068f32f587": {
      "model_module": "@jupyter-widgets/output",
      "model_module_version": "1.0.0",
      "model_name": "OutputModel",
      "state": {
       "layout": "IPY_MODEL_8d19a5bbdced462199d0ba1315121989",
       "outputs": [
        {
         "data": {
          "text/plain": "3.5"
         },
         "metadata": {},
         "output_type": "display_data"
        }
       ]
      }
     },
     "68296fc1337f4fadb116232490cedb7b": {
      "model_module": "@jupyter-widgets/base",
      "model_module_version": "1.0.0",
      "model_name": "LayoutModel",
      "state": {}
     },
     "693f929ce0fc4678a88b1187f33e99f1": {
      "model_module": "@jupyter-widgets/controls",
      "model_module_version": "1.0.0",
      "model_name": "TabModel",
      "state": {
       "_titles": {
        "0": "An accordion",
        "1": "Copy of the accordion"
       },
       "children": [
        "IPY_MODEL_8e143d813206476f89a05ea7073985e3",
        "IPY_MODEL_8e143d813206476f89a05ea7073985e3"
       ],
       "layout": "IPY_MODEL_3e74b8f26cb6439591fe9e225c5ef6c6"
      }
     },
     "6aa3a354fae74d5a801167367fa2da5c": {
      "model_module": "@jupyter-widgets/controls",
      "model_module_version": "1.0.0",
      "model_name": "VBoxModel",
      "state": {
       "children": [
        "IPY_MODEL_3a961681ddf74af39aef88be57e98995",
        "IPY_MODEL_b276014fdc2441c58a9192a57b7dfc87",
        "IPY_MODEL_7364cb8a095f4d07bcfdc4c286a848ab",
        "IPY_MODEL_76813e2eda7643acb38e167e815b814c"
       ],
       "layout": "IPY_MODEL_02a84f7e46c2491d98feca4d9e7b28ed"
      }
     },
     "6b0ef9345e944bf4bad53cd07724d77d": {
      "model_module": "@jupyter-widgets/controls",
      "model_module_version": "1.0.0",
      "model_name": "VBoxModel",
      "state": {
       "_dom_classes": [
        "widget-interact"
       ],
       "children": [
        "IPY_MODEL_3a16eb4ddb884b1898b11a8c07663c5c",
        "IPY_MODEL_dbdf9970df19416aa90c0f2ad5002439"
       ],
       "layout": "IPY_MODEL_7a3bd5bf818545a6bfa93c631c83bf86"
      }
     },
     "6b95c001dcd84a80887148d764ab6796": {
      "model_module": "@jupyter-widgets/controls",
      "model_module_version": "1.0.0",
      "model_name": "IntSliderModel",
      "state": {
       "description": "b",
       "layout": "IPY_MODEL_8c9a73f1bb254d138fdbaf039a9a3709",
       "max": 60,
       "min": -20,
       "style": "IPY_MODEL_5c208ddb1af5415c8a07e7018373a2a0",
       "value": 20
      }
     },
     "6c5d7129a4354a32813eda5fe0210493": {
      "model_module": "@jupyter-widgets/base",
      "model_module_version": "1.0.0",
      "model_name": "LayoutModel",
      "state": {}
     },
     "6cb9c3b7996d4c73905c65bfaea9e2e5": {
      "model_module": "@jupyter-widgets/base",
      "model_module_version": "1.0.0",
      "model_name": "LayoutModel",
      "state": {}
     },
     "6cd2945bce3b4e7bbf24a5a9ec11883e": {
      "model_module": "@jupyter-widgets/controls",
      "model_module_version": "1.0.0",
      "model_name": "DescriptionStyleModel",
      "state": {
       "description_width": ""
      }
     },
     "6cfca2e55ed6408fa3e910a86cb8b13e": {
      "model_module": "@jupyter-widgets/base",
      "model_module_version": "1.0.0",
      "model_name": "LayoutModel",
      "state": {}
     },
     "6e34dd8e410a4f5ab8f04ff28c9e0821": {
      "model_module": "@jupyter-widgets/controls",
      "model_module_version": "1.0.0",
      "model_name": "FloatSliderModel",
      "state": {
       "description": "y",
       "layout": "IPY_MODEL_266153fb80644eecb6ca729afa58ff5c",
       "max": 10,
       "min": 0.5,
       "step": 0.05,
       "style": "IPY_MODEL_9b5290f66bb442fc8a29200b4ccc000f",
       "value": 10
      }
     },
     "6e623da620354d9fa811ec07712808cd": {
      "model_module": "@jupyter-widgets/base",
      "model_module_version": "1.0.0",
      "model_name": "LayoutModel",
      "state": {}
     },
     "6e79df7313894d2fad3fcdd88af08237": {
      "model_module": "@jupyter-widgets/controls",
      "model_module_version": "1.0.0",
      "model_name": "DescriptionStyleModel",
      "state": {
       "description_width": ""
      }
     },
     "6ef4fbc3ff9a4ae083f30dbe4dcd9641": {
      "model_module": "@jupyter-widgets/output",
      "model_module_version": "1.0.0",
      "model_name": "OutputModel",
      "state": {
       "layout": "IPY_MODEL_1755a32a47b04b7291c26c71607d1ac0",
       "outputs": [
        {
         "ename": "NameError",
         "evalue": "name 'np' is not defined",
         "output_type": "error",
         "traceback": [
          "\u001b[1;31m---------------------------------------------------------------------------\u001b[0m",
          "\u001b[1;31mNameError\u001b[0m                                 Traceback (most recent call last)",
          "\u001b[1;32mD:\\Programs\\Anaconda3\\lib\\site-packages\\ipywidgets\\widgets\\interaction.py\u001b[0m in \u001b[0;36mupdate\u001b[1;34m(self, *args)\u001b[0m\n\u001b[0;32m    248\u001b[0m                     \u001b[0mvalue\u001b[0m \u001b[1;33m=\u001b[0m \u001b[0mwidget\u001b[0m\u001b[1;33m.\u001b[0m\u001b[0mget_interact_value\u001b[0m\u001b[1;33m(\u001b[0m\u001b[1;33m)\u001b[0m\u001b[1;33m\u001b[0m\u001b[0m\n\u001b[0;32m    249\u001b[0m                     \u001b[0mself\u001b[0m\u001b[1;33m.\u001b[0m\u001b[0mkwargs\u001b[0m\u001b[1;33m[\u001b[0m\u001b[0mwidget\u001b[0m\u001b[1;33m.\u001b[0m\u001b[0m_kwarg\u001b[0m\u001b[1;33m]\u001b[0m \u001b[1;33m=\u001b[0m \u001b[0mvalue\u001b[0m\u001b[1;33m\u001b[0m\u001b[0m\n\u001b[1;32m--> 250\u001b[1;33m                 \u001b[0mself\u001b[0m\u001b[1;33m.\u001b[0m\u001b[0mresult\u001b[0m \u001b[1;33m=\u001b[0m \u001b[0mself\u001b[0m\u001b[1;33m.\u001b[0m\u001b[0mf\u001b[0m\u001b[1;33m(\u001b[0m\u001b[1;33m**\u001b[0m\u001b[0mself\u001b[0m\u001b[1;33m.\u001b[0m\u001b[0mkwargs\u001b[0m\u001b[1;33m)\u001b[0m\u001b[1;33m\u001b[0m\u001b[0m\n\u001b[0m\u001b[0;32m    251\u001b[0m                 \u001b[0mshow_inline_matplotlib_plots\u001b[0m\u001b[1;33m(\u001b[0m\u001b[1;33m)\u001b[0m\u001b[1;33m\u001b[0m\u001b[0m\n\u001b[0;32m    252\u001b[0m                 \u001b[1;32mif\u001b[0m \u001b[0mself\u001b[0m\u001b[1;33m.\u001b[0m\u001b[0mauto_display\u001b[0m \u001b[1;32mand\u001b[0m \u001b[0mself\u001b[0m\u001b[1;33m.\u001b[0m\u001b[0mresult\u001b[0m \u001b[1;32mis\u001b[0m \u001b[1;32mnot\u001b[0m \u001b[1;32mNone\u001b[0m\u001b[1;33m:\u001b[0m\u001b[1;33m\u001b[0m\u001b[0m\n",
          "\u001b[1;32m<ipython-input-33-a9bc97e1561c>\u001b[0m in \u001b[0;36mh\u001b[1;34m(n)\u001b[0m\n\u001b[0;32m      1\u001b[0m \u001b[1;32mdef\u001b[0m \u001b[0mh\u001b[0m\u001b[1;33m(\u001b[0m\u001b[0mn\u001b[0m\u001b[1;33m)\u001b[0m\u001b[1;33m:\u001b[0m\u001b[1;33m\u001b[0m\u001b[0m\n\u001b[1;32m----> 2\u001b[1;33m     \u001b[0mx\u001b[0m \u001b[1;33m=\u001b[0m \u001b[0mnp\u001b[0m\u001b[1;33m.\u001b[0m\u001b[0mlinspace\u001b[0m\u001b[1;33m(\u001b[0m\u001b[1;36m0\u001b[0m\u001b[1;33m,\u001b[0m \u001b[1;36m5\u001b[0m\u001b[1;33m,\u001b[0m \u001b[1;36m10\u001b[0m\u001b[1;33m)\u001b[0m\u001b[1;33m\u001b[0m\u001b[0m\n\u001b[0m\u001b[0;32m      3\u001b[0m     \u001b[0mfig\u001b[0m\u001b[1;33m,\u001b[0m \u001b[0max1\u001b[0m \u001b[1;33m=\u001b[0m \u001b[0mplt\u001b[0m\u001b[1;33m.\u001b[0m\u001b[0msubplots\u001b[0m\u001b[1;33m(\u001b[0m\u001b[1;33m)\u001b[0m\u001b[1;33m\u001b[0m\u001b[0m\n\u001b[0;32m      4\u001b[0m \u001b[1;33m\u001b[0m\u001b[0m\n\u001b[0;32m      5\u001b[0m     \u001b[0max1\u001b[0m\u001b[1;33m.\u001b[0m\u001b[0mplot\u001b[0m\u001b[1;33m(\u001b[0m\u001b[0mx\u001b[0m\u001b[1;33m,\u001b[0m \u001b[1;33m(\u001b[0m\u001b[1;33m-\u001b[0m\u001b[0mx\u001b[0m\u001b[1;33m**\u001b[0m\u001b[0mn\u001b[0m \u001b[1;33m+\u001b[0m \u001b[0mx\u001b[0m\u001b[1;33m**\u001b[0m\u001b[1;33m(\u001b[0m\u001b[0mn\u001b[0m\u001b[1;33m-\u001b[0m\u001b[1;36m1\u001b[0m\u001b[1;33m)\u001b[0m \u001b[1;33m+\u001b[0m \u001b[0mx\u001b[0m \u001b[1;33m**\u001b[0m\u001b[1;33m(\u001b[0m\u001b[0mn\u001b[0m\u001b[1;33m-\u001b[0m\u001b[1;36m2\u001b[0m\u001b[1;33m)\u001b[0m\u001b[1;33m)\u001b[0m \u001b[1;33m/\u001b[0m \u001b[0mn\u001b[0m \u001b[1;33m-\u001b[0m \u001b[0mn\u001b[0m \u001b[1;33m*\u001b[0m \u001b[0mnp\u001b[0m\u001b[1;33m.\u001b[0m\u001b[0mlog\u001b[0m\u001b[1;33m(\u001b[0m\u001b[0mn\u001b[0m\u001b[1;33m)\u001b[0m \u001b[1;33m+\u001b[0m \u001b[0mn\u001b[0m \u001b[1;33m*\u001b[0m \u001b[0mnp\u001b[0m\u001b[1;33m.\u001b[0m\u001b[0mexp\u001b[0m\u001b[1;33m(\u001b[0m\u001b[0mn\u001b[0m\u001b[1;33m)\u001b[0m\u001b[1;33m,\u001b[0m \u001b[0mlw\u001b[0m\u001b[1;33m=\u001b[0m\u001b[1;36m2\u001b[0m\u001b[1;33m,\u001b[0m \u001b[0mcolor\u001b[0m\u001b[1;33m=\u001b[0m\u001b[1;34m\"blue\"\u001b[0m\u001b[1;33m)\u001b[0m\u001b[1;33m\u001b[0m\u001b[0m\n",
          "\u001b[1;31mNameError\u001b[0m: name 'np' is not defined"
         ]
        }
       ]
      }
     },
     "6f2449811606481588636a967dd0c5f4": {
      "model_module": "@jupyter-widgets/controls",
      "model_module_version": "1.0.0",
      "model_name": "SliderStyleModel",
      "state": {
       "description_width": ""
      }
     },
     "6f6ad61793ba42cf8c4792181c36ad01": {
      "model_module": "@jupyter-widgets/controls",
      "model_module_version": "1.0.0",
      "model_name": "TabModel",
      "state": {
       "_titles": {
        "0": "Заказ:",
        "1": "Доставка:"
       },
       "children": [
        "IPY_MODEL_788f363494bc4a2989f2b8c917802ecf",
        "IPY_MODEL_7a11864597304c12a331e08faa8555e1"
       ],
       "layout": "IPY_MODEL_f24d29be724a462ca9c63c13ffe9d9b9",
       "selected_index": 1
      }
     },
     "7054529333f3412788a58446db5e83cf": {
      "model_module": "@jupyter-widgets/controls",
      "model_module_version": "1.0.0",
      "model_name": "ButtonStyleModel",
      "state": {}
     },
     "7078859d5f2a446da4c4103d2e627ce5": {
      "model_module": "@jupyter-widgets/controls",
      "model_module_version": "1.0.0",
      "model_name": "AccordionModel",
      "state": {
       "_titles": {
        "0": "Способ доставки:",
        "1": "Способ оплаты:",
        "2": "Дата доставки:",
        "3": "Время доставки:",
        "4": "Комментарий:",
        "5": "Адрес доставки:"
       },
       "children": [
        "IPY_MODEL_384e06ec64fd42daa665bab20af958af",
        "IPY_MODEL_3b85f44ad166465bb6e674685b039995",
        "IPY_MODEL_58772eef478d47f6865b33fa460e8c41",
        "IPY_MODEL_98e768c147614a649a896675d0035430",
        "IPY_MODEL_97faf941d1d44d578181995dce139e8a",
        "IPY_MODEL_327a68e001944cc2b231099ed4f84be7"
       ],
       "layout": "IPY_MODEL_4304723eaa3b49cbadab0c30f9ac2560",
       "selected_index": 2
      }
     },
     "70f052690b594a38a7cfbaf07e4ca115": {
      "model_module": "@jupyter-widgets/controls",
      "model_module_version": "1.0.0",
      "model_name": "LabelModel",
      "state": {
       "layout": "IPY_MODEL_a085b85ba44343088a624736b6c004e7",
       "style": "IPY_MODEL_cb0cb8510e424c76b88a894c6657d9c4",
       "value": "The values of range1 and range2 are synchronized"
      }
     },
     "710c6b8d0a484bf28722f152c91b4bd0": {
      "model_module": "@jupyter-widgets/controls",
      "model_module_version": "1.0.0",
      "model_name": "CheckboxModel",
      "state": {
       "description": "x",
       "disabled": false,
       "layout": "IPY_MODEL_a6fa8c8978e4405cbff0cb986bfb2792",
       "style": "IPY_MODEL_e27c6dd845b9438e9b99e37a2ee2c5a3",
       "value": true
      }
     },
     "71ab0bb41feb453ba30060601fde7bc9": {
      "model_module": "@jupyter-widgets/base",
      "model_module_version": "1.0.0",
      "model_name": "LayoutModel",
      "state": {}
     },
     "7248fd4d31d84522bcaa27186683e986": {
      "model_module": "@jupyter-widgets/base",
      "model_module_version": "1.0.0",
      "model_name": "LayoutModel",
      "state": {}
     },
     "72e9745c83a242ff94e1d636dfca22e3": {
      "model_module": "@jupyter-widgets/controls",
      "model_module_version": "1.0.0",
      "model_name": "SliderStyleModel",
      "state": {
       "description_width": ""
      }
     },
     "7364cb8a095f4d07bcfdc4c286a848ab": {
      "model_module": "@jupyter-widgets/controls",
      "model_module_version": "1.0.0",
      "model_name": "IntSliderModel",
      "state": {
       "description": "Continuous",
       "layout": "IPY_MODEL_b6d202a5b7d8481cb07194052b9db5e3",
       "style": "IPY_MODEL_4871038a501b4f59bf7c3dcf028b8221"
      }
     },
     "74399538e7ad4ea8899594bb563e2ed8": {
      "model_module": "@jupyter-widgets/base",
      "model_module_version": "1.0.0",
      "model_name": "LayoutModel",
      "state": {}
     },
     "743a61176e714c2496c24ed0c9624b6c": {
      "model_module": "@jupyter-widgets/controls",
      "model_module_version": "1.0.0",
      "model_name": "VBoxModel",
      "state": {
       "_dom_classes": [
        "widget-interact"
       ],
       "children": [
        "IPY_MODEL_f039aab6eb8c44ddb44bf21500cad909",
        "IPY_MODEL_6e34dd8e410a4f5ab8f04ff28c9e0821",
        "IPY_MODEL_e74257fcf6734c87a8c068a95ec593b4"
       ],
       "layout": "IPY_MODEL_3a0bac39377e4a3e80594a7f0d1e2d3d"
      }
     },
     "75a8d27014d74126ab36c0e238531c7a": {
      "model_module": "@jupyter-widgets/base",
      "model_module_version": "1.0.0",
      "model_name": "LayoutModel",
      "state": {}
     },
     "765ac2896c9b4ff4830e2f178bd677aa": {
      "model_module": "@jupyter-widgets/controls",
      "model_module_version": "1.0.0",
      "model_name": "SliderStyleModel",
      "state": {
       "description_width": ""
      }
     },
     "76813e2eda7643acb38e167e815b814c": {
      "model_module": "@jupyter-widgets/controls",
      "model_module_version": "1.0.0",
      "model_name": "IntTextModel",
      "state": {
       "continuous_update": true,
       "description": "Continuous",
       "layout": "IPY_MODEL_15ea744343d14fd696b1083385edc023",
       "step": 1,
       "style": "IPY_MODEL_cafe3135fd9442f588d73992d7bbcd4c"
      }
     },
     "76b2bb8930254a779442386ec4606778": {
      "model_module": "@jupyter-widgets/base",
      "model_module_version": "1.0.0",
      "model_name": "LayoutModel",
      "state": {}
     },
     "788dfe7addaf4bd3abaa95d502c8e4a4": {
      "model_module": "@jupyter-widgets/base",
      "model_module_version": "1.0.0",
      "model_name": "LayoutModel",
      "state": {}
     },
     "788f363494bc4a2989f2b8c917802ecf": {
      "model_module": "@jupyter-widgets/controls",
      "model_module_version": "1.0.0",
      "model_name": "AccordionModel",
      "state": {
       "_titles": {
        "0": "Товар:",
        "1": "Количество:",
        "2": "Мощность:",
        "3": "Бонус:"
       },
       "children": [
        "IPY_MODEL_51a2f891e07f4b1491dd11ae5a69d0d2",
        "IPY_MODEL_05a0f6b47d254999b7eb9b0efaa58e44",
        "IPY_MODEL_07fd67c053df4a40ba170341b629a0ac",
        "IPY_MODEL_f647006475884da38741de8aeaf0d881"
       ],
       "layout": "IPY_MODEL_ba33897d2bad4ba0bcbc033bd8e84215"
      }
     },
     "78ad67288a4b40bf8799074fac4e4050": {
      "model_module": "@jupyter-widgets/controls",
      "model_module_version": "1.0.0",
      "model_name": "VBoxModel",
      "state": {
       "_dom_classes": [
        "widget-interact"
       ],
       "children": [
        "IPY_MODEL_3a4bdd7e6a5c4f789632a09c6051c523",
        "IPY_MODEL_82ad8d57922547159c774efd613131b1"
       ],
       "layout": "IPY_MODEL_a1f03327b4b642a7b6eddabbbc0ef9f7"
      }
     },
     "78b4cd67065b467e88795c4857e82ff2": {
      "model_module": "@jupyter-widgets/base",
      "model_module_version": "1.0.0",
      "model_name": "LayoutModel",
      "state": {}
     },
     "79134655d43246298fce0ababeead88b": {
      "model_module": "@jupyter-widgets/base",
      "model_module_version": "1.0.0",
      "model_name": "LayoutModel",
      "state": {}
     },
     "799625d176244fc89982e80a69c9503b": {
      "model_module": "@jupyter-widgets/controls",
      "model_module_version": "1.0.0",
      "model_name": "ButtonModel",
      "state": {
       "description": "Custom color",
       "layout": "IPY_MODEL_584f6f8057f44b9a89c6be9819bd92ec",
       "style": "IPY_MODEL_96a25b7c1d1e469a83c86b13fc6f9ddf"
      }
     },
     "7a03115fc1c34165ae8f29b4f4cec146": {
      "model_module": "@jupyter-widgets/base",
      "model_module_version": "1.0.0",
      "model_name": "LayoutModel",
      "state": {
       "width": "40%"
      }
     },
     "7a11864597304c12a331e08faa8555e1": {
      "model_module": "@jupyter-widgets/controls",
      "model_module_version": "1.0.0",
      "model_name": "AccordionModel",
      "state": {
       "_titles": {
        "0": "Способ доставки:",
        "1": "Способ оплаты:",
        "2": "Дата доставки:",
        "3": "Время доставки:",
        "4": "Комментарий:",
        "5": "Адрес доставки:"
       },
       "children": [
        "IPY_MODEL_892d69a6d5254bf59c0fa9625567f108",
        "IPY_MODEL_3b85f44ad166465bb6e674685b039995",
        "IPY_MODEL_50f5c111acc741c2bf387aa8f6a49d17",
        "IPY_MODEL_c2f3459f5dfc410895243c39217bc69d",
        "IPY_MODEL_97faf941d1d44d578181995dce139e8a",
        "IPY_MODEL_dba3fff4da1a4bd8bba245d47f79177a"
       ],
       "layout": "IPY_MODEL_2955616332b244a496c93f1a17c41252",
       "selected_index": 5
      }
     },
     "7a3bd5bf818545a6bfa93c631c83bf86": {
      "model_module": "@jupyter-widgets/base",
      "model_module_version": "1.0.0",
      "model_name": "LayoutModel",
      "state": {}
     },
     "7a485d6adc5947a2a6c555607e98a548": {
      "model_module": "@jupyter-widgets/base",
      "model_module_version": "1.0.0",
      "model_name": "LayoutModel",
      "state": {}
     },
     "7af49cd2cb2a464fadd57339a54277d1": {
      "model_module": "@jupyter-widgets/controls",
      "model_module_version": "1.0.0",
      "model_name": "DescriptionStyleModel",
      "state": {
       "description_width": ""
      }
     },
     "7b0ee22c160d49eabb8ba462b4c10622": {
      "model_module": "@jupyter-widgets/controls",
      "model_module_version": "1.0.0",
      "model_name": "CheckboxModel",
      "state": {
       "description": "Check me",
       "disabled": false,
       "layout": "IPY_MODEL_b5d7850555a9455ba3a4ebab5f8bf114",
       "style": "IPY_MODEL_2eb71b32d9f7473194d3db5de219f2b9",
       "value": false
      }
     },
     "7ba86d9222bf405ea22aa529343c533e": {
      "model_module": "@jupyter-widgets/controls",
      "model_module_version": "1.0.0",
      "model_name": "DescriptionStyleModel",
      "state": {
       "description_width": ""
      }
     },
     "7bd5758e6ae44420904c495125907447": {
      "model_module": "@jupyter-widgets/controls",
      "model_module_version": "1.0.0",
      "model_name": "SliderStyleModel",
      "state": {
       "description_width": ""
      }
     },
     "7c4fcaec5802414899f66f67d2b38f36": {
      "model_module": "@jupyter-widgets/base",
      "model_module_version": "1.0.0",
      "model_name": "LayoutModel",
      "state": {}
     },
     "7c6ce49dc856478f9be3ef3b050d91a9": {
      "model_module": "@jupyter-widgets/controls",
      "model_module_version": "1.0.0",
      "model_name": "IntProgressModel",
      "state": {
       "bar_style": "success",
       "layout": "IPY_MODEL_237fcd745b844f1ca57e4a341aa28616",
       "max": 10,
       "style": "IPY_MODEL_b3899e30637a445b9771229f6289958e",
       "value": 10
      }
     },
     "7ca1c0261fa84d36b4f25546ef642db6": {
      "model_module": "@jupyter-widgets/output",
      "model_module_version": "1.0.0",
      "model_name": "OutputModel",
      "state": {
       "layout": "IPY_MODEL_503282a1b9ce463eba39a959dbfa11c1"
      }
     },
     "7d41838f1aae47a695ec99ad1d918c6e": {
      "model_module": "@jupyter-widgets/controls",
      "model_module_version": "1.0.0",
      "model_name": "DescriptionStyleModel",
      "state": {
       "description_width": ""
      }
     },
     "7d53dd224fcd4cf8864ee931285fad6f": {
      "model_module": "@jupyter-widgets/controls",
      "model_module_version": "1.0.0",
      "model_name": "DescriptionStyleModel",
      "state": {
       "description_width": ""
      }
     },
     "7d673c91c75a4ca3aaacff71625972aa": {
      "model_module": "@jupyter-widgets/controls",
      "model_module_version": "1.0.0",
      "model_name": "DescriptionStyleModel",
      "state": {
       "description_width": "200px"
      }
     },
     "7d750013c3c644b0ab03e8c76efa4736": {
      "model_module": "@jupyter-widgets/controls",
      "model_module_version": "1.0.0",
      "model_name": "TextModel",
      "state": {
       "description": "P3",
       "layout": "IPY_MODEL_e873fc274b5c4774b8b259aa19f636c3",
       "style": "IPY_MODEL_4367b93580654a56abc82005ca43e96c"
      }
     },
     "7e026bb6e03b44c5bb480c9055bf8061": {
      "model_module": "@jupyter-widgets/base",
      "model_module_version": "1.0.0",
      "model_name": "LayoutModel",
      "state": {}
     },
     "7f897abbddd048d2a81e7ee0510d39e3": {
      "model_module": "@jupyter-widgets/base",
      "model_module_version": "1.0.0",
      "model_name": "LayoutModel",
      "state": {}
     },
     "7fdc4e19470741f3814560f4c622e37d": {
      "model_module": "@jupyter-widgets/base",
      "model_module_version": "1.0.0",
      "model_name": "LayoutModel",
      "state": {}
     },
     "7fe3d4dcd9d9408aa1acdc91d8f2ee43": {
      "model_module": "@jupyter-widgets/controls",
      "model_module_version": "1.0.0",
      "model_name": "SliderStyleModel",
      "state": {
       "description_width": ""
      }
     },
     "80bc66c9564c47b0a03ea45a5962d3e1": {
      "model_module": "@jupyter-widgets/base",
      "model_module_version": "1.0.0",
      "model_name": "LayoutModel",
      "state": {}
     },
     "80fe6d6a43ef438ab138bdf6b13fbf5c": {
      "model_module": "@jupyter-widgets/controls",
      "model_module_version": "1.0.0",
      "model_name": "IntSliderModel",
      "state": {
       "description": "Target 1",
       "layout": "IPY_MODEL_b31f3548297d42d89856e347f92d370d",
       "style": "IPY_MODEL_7bd5758e6ae44420904c495125907447"
      }
     },
     "81072c9ce86845438c33235f44b06b10": {
      "model_module": "@jupyter-widgets/controls",
      "model_module_version": "1.0.0",
      "model_name": "LabelModel",
      "state": {
       "layout": "IPY_MODEL_470cb103447741ed9afaf0c182727941",
       "style": "IPY_MODEL_c42fac88b0514decbbf5c613c2bdf4bc",
       "value": "Проверка информации  заказе:"
      }
     },
     "810a7884ab2d44659a58162b37b4feba": {
      "model_module": "@jupyter-widgets/controls",
      "model_module_version": "1.0.0",
      "model_name": "DescriptionStyleModel",
      "state": {
       "description_width": ""
      }
     },
     "812b656bf36849e2906e8725d01632e0": {
      "model_module": "@jupyter-widgets/controls",
      "model_module_version": "1.0.0",
      "model_name": "FloatSliderModel",
      "state": {
       "description": "i",
       "layout": "IPY_MODEL_caf9879bcbe34394bb2605dea7eb45b1",
       "max": 10000000,
       "min": 100000,
       "step": 100000,
       "style": "IPY_MODEL_9cb643663f154e4ea7e51da4db532ac3",
       "value": 2300000
      }
     },
     "81425c9caf2a4fa4b914da0af2db95e3": {
      "model_module": "@jupyter-widgets/base",
      "model_module_version": "1.0.0",
      "model_name": "LayoutModel",
      "state": {}
     },
     "818be7f810944fe6a0277aeba00439c0": {
      "model_module": "@jupyter-widgets/base",
      "model_module_version": "1.0.0",
      "model_name": "LayoutModel",
      "state": {}
     },
     "820967e69fbb4f6eabacd5ee30e26578": {
      "model_module": "@jupyter-widgets/base",
      "model_module_version": "1.0.0",
      "model_name": "LayoutModel",
      "state": {}
     },
     "82ad8d57922547159c774efd613131b1": {
      "model_module": "@jupyter-widgets/output",
      "model_module_version": "1.0.0",
      "model_name": "OutputModel",
      "state": {
       "layout": "IPY_MODEL_7a485d6adc5947a2a6c555607e98a548",
       "outputs": [
        {
         "data": {
          "text/plain": "'Hi there!вфыв'"
         },
         "metadata": {},
         "output_type": "display_data"
        }
       ]
      }
     },
     "82dca6c941fe42bf9afb8b2aca096dc0": {
      "model_module": "@jupyter-widgets/base",
      "model_module_version": "1.0.0",
      "model_name": "LayoutModel",
      "state": {}
     },
     "83ac57d677444969b08c75c547174a82": {
      "model_module": "@jupyter-widgets/controls",
      "model_module_version": "1.0.0",
      "model_name": "DescriptionStyleModel",
      "state": {
       "description_width": ""
      }
     },
     "83ad608ca5fe44588c02727669182e90": {
      "model_module": "@jupyter-widgets/base",
      "model_module_version": "1.0.0",
      "model_name": "LayoutModel",
      "state": {}
     },
     "83be19866b354b368c17b38e1169eaad": {
      "model_module": "@jupyter-widgets/controls",
      "model_module_version": "1.0.0",
      "model_name": "SliderStyleModel",
      "state": {
       "description_width": ""
      }
     },
     "84f2e292eadc4d3881bc3cc55601947b": {
      "model_module": "@jupyter-widgets/controls",
      "model_module_version": "1.0.0",
      "model_name": "DropdownModel",
      "state": {
       "_options_labels": [
        "one",
        "two"
       ],
       "description": "x",
       "index": 0,
       "layout": "IPY_MODEL_d2b6e086c3f04fd6853a72e249814a5d",
       "style": "IPY_MODEL_e2478cfd7c144473a22020c10a70d54c"
      }
     },
     "84f85346e60a4301bd9561d6a3105f80": {
      "model_module": "@jupyter-widgets/controls",
      "model_module_version": "1.0.0",
      "model_name": "DropdownModel",
      "state": {
       "_options_labels": [
        "лопата",
        "солнце"
       ],
       "description": "x",
       "index": 0,
       "layout": "IPY_MODEL_40db9e678c504fa4bd6e175fb3a0a72b",
       "style": "IPY_MODEL_8efbcf8b1c9041d5bf71539f7d5c31b8"
      }
     },
     "8517111cc12c4a709eae37a2636af41b": {
      "model_module": "@jupyter-widgets/controls",
      "model_module_version": "1.0.0",
      "model_name": "TabModel",
      "state": {
       "_titles": {
        "0": "0",
        "1": "1",
        "2": "2",
        "3": "3",
        "4": "4"
       },
       "children": [
        "IPY_MODEL_3774f1b8ce0b4612bad1258e2a297863",
        "IPY_MODEL_f6d5da9922934042842e19676599ea8e",
        "IPY_MODEL_625792f7586d4c9f89082629c76bc8e7",
        "IPY_MODEL_7d750013c3c644b0ab03e8c76efa4736",
        "IPY_MODEL_879bbc797e544f6496cc27d956b871ff"
       ],
       "layout": "IPY_MODEL_0fe7aaa625774b68b5de1f6f35526cbd"
      }
     },
     "8693b3edf70746b6816a3ebbcac6e3c5": {
      "model_module": "@jupyter-widgets/base",
      "model_module_version": "1.0.0",
      "model_name": "LayoutModel",
      "state": {}
     },
     "86f35c678aaa4dfbab866b6af304106d": {
      "model_module": "@jupyter-widgets/controls",
      "model_module_version": "1.0.0",
      "model_name": "VBoxModel",
      "state": {
       "_dom_classes": [
        "widget-interact"
       ],
       "children": [
        "IPY_MODEL_3a48822d77e84aa58f890211991b6d5c",
        "IPY_MODEL_535917a9b5544b0086fd60927a58a90d"
       ],
       "layout": "IPY_MODEL_e66361bfbf904abd84e1f626e2cc835e"
      }
     },
     "8722fc430a83409fb03ebb2a4abfd6d7": {
      "model_module": "@jupyter-widgets/controls",
      "model_module_version": "1.0.0",
      "model_name": "ProgressStyleModel",
      "state": {
       "description_width": ""
      }
     },
     "879bbc797e544f6496cc27d956b871ff": {
      "model_module": "@jupyter-widgets/controls",
      "model_module_version": "1.0.0",
      "model_name": "TextModel",
      "state": {
       "description": "P4",
       "layout": "IPY_MODEL_25be4e6b5c5645f780d6ccb615505430",
       "style": "IPY_MODEL_cf4109ffeae242c0bde456ca983bb088"
      }
     },
     "8804bdfd5e7c401badeb9b3958c37eb6": {
      "model_module": "@jupyter-widgets/base",
      "model_module_version": "1.0.0",
      "model_name": "LayoutModel",
      "state": {}
     },
     "882df82b227146a38da77f35a94f2882": {
      "model_module": "@jupyter-widgets/output",
      "model_module_version": "1.0.0",
      "model_name": "OutputModel",
      "state": {
       "layout": "IPY_MODEL_5a179237dc1b4403b4aa0ee3e0b5be2d",
       "outputs": [
        {
         "data": {
          "image/png": "iVBORw0KGgoAAAANSUhEUgAAAXQAAAD8CAYAAABn919SAAAABHNCSVQICAgIfAhkiAAAAAlwSFlz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\nML+35BsMaAAAAABJRU5ErkJggg==\n",
          "text/plain": "<matplotlib.figure.Figure at 0x7fc53cb30f60>"
         },
         "metadata": {},
         "output_type": "display_data"
        }
       ]
      }
     },
     "88f4b94a210c40e280878fbaaf563407": {
      "model_module": "@jupyter-widgets/controls",
      "model_module_version": "1.0.0",
      "model_name": "IntSliderModel",
      "state": {
       "continuous_update": false,
       "description": "Delayed",
       "layout": "IPY_MODEL_65f0549f97bb423f94fc24ee4b9bf553",
       "style": "IPY_MODEL_54b77928e1e3488493738d37fbe0aa5f",
       "value": 50
      }
     },
     "892d69a6d5254bf59c0fa9625567f108": {
      "model_module": "@jupyter-widgets/controls",
      "model_module_version": "1.0.0",
      "model_name": "HBoxModel",
      "state": {
       "children": [
        "IPY_MODEL_d1633e762e0f4b83a34ac3a28b26ad65",
        "IPY_MODEL_4ce9f4cdd06d4dc482ab0f2f670efe52"
       ],
       "layout": "IPY_MODEL_998fa32ccac54b4eba15108aae8aa708"
      }
     },
     "8af1eed8a6e240c79c2ca377978b2114": {
      "model_module": "@jupyter-widgets/controls",
      "model_module_version": "1.0.0",
      "model_name": "DescriptionStyleModel",
      "state": {
       "description_width": ""
      }
     },
     "8bc3f9bd7afe4625baf4e043aae4c62a": {
      "model_module": "@jupyter-widgets/base",
      "model_module_version": "1.0.0",
      "model_name": "LayoutModel",
      "state": {}
     },
     "8c9a73f1bb254d138fdbaf039a9a3709": {
      "model_module": "@jupyter-widgets/base",
      "model_module_version": "1.0.0",
      "model_name": "LayoutModel",
      "state": {}
     },
     "8cbf2ab52d7843b2a553540f4114eb71": {
      "model_module": "@jupyter-widgets/controls",
      "model_module_version": "1.0.0",
      "model_name": "IntSliderModel",
      "state": {
       "layout": "IPY_MODEL_8ebf6b44f58344eaa73206778e371bb7",
       "style": "IPY_MODEL_3a3ff73b475e4bd690cd5768f8772cb4"
      }
     },
     "8d19a5bbdced462199d0ba1315121989": {
      "model_module": "@jupyter-widgets/base",
      "model_module_version": "1.0.0",
      "model_name": "LayoutModel",
      "state": {}
     },
     "8deddf5554fb4c78ae50ca2bfd318544": {
      "model_module": "@jupyter-widgets/controls",
      "model_module_version": "1.0.0",
      "model_name": "LabelModel",
      "state": {
       "layout": "IPY_MODEL_7e026bb6e03b44c5bb480c9055bf8061",
       "style": "IPY_MODEL_1b3599e0f2154d84bc41dd19b1627564",
       "value": "The values of slider1 and slider2 are synchronized"
      }
     },
     "8e143d813206476f89a05ea7073985e3": {
      "model_module": "@jupyter-widgets/controls",
      "model_module_version": "1.0.0",
      "model_name": "AccordionModel",
      "state": {
       "_titles": {
        "0": "Slider",
        "1": "Text"
       },
       "children": [
        "IPY_MODEL_8cbf2ab52d7843b2a553540f4114eb71",
        "IPY_MODEL_4e66cf2410bd48d6b08eb54b5491d2f0"
       ],
       "layout": "IPY_MODEL_78b4cd67065b467e88795c4857e82ff2",
       "selected_index": null
      }
     },
     "8eae5131cf764db0ac2e38a70f1c3420": {
      "model_module": "@jupyter-widgets/controls",
      "model_module_version": "1.0.0",
      "model_name": "SliderStyleModel",
      "state": {
       "description_width": ""
      }
     },
     "8ebf6b44f58344eaa73206778e371bb7": {
      "model_module": "@jupyter-widgets/base",
      "model_module_version": "1.0.0",
      "model_name": "LayoutModel",
      "state": {}
     },
     "8edad9f0803c4a7d8b2966835da96a81": {
      "model_module": "@jupyter-widgets/controls",
      "model_module_version": "1.0.0",
      "model_name": "DescriptionStyleModel",
      "state": {
       "description_width": ""
      }
     },
     "8efbcf8b1c9041d5bf71539f7d5c31b8": {
      "model_module": "@jupyter-widgets/controls",
      "model_module_version": "1.0.0",
      "model_name": "DescriptionStyleModel",
      "state": {
       "description_width": ""
      }
     },
     "8f604d629c0f48eab67b85a7f761b538": {
      "model_module": "@jupyter-widgets/controls",
      "model_module_version": "1.0.0",
      "model_name": "VBoxModel",
      "state": {
       "_dom_classes": [
        "widget-interact"
       ],
       "children": [
        "IPY_MODEL_29ad399ffbaa4b90bc68b236166df6ec",
        "IPY_MODEL_af671f1769964cc1a324a6afde7f6735"
       ],
       "layout": "IPY_MODEL_5d14338d8f3041469c66af4e16c6bf5c"
      }
     },
     "90e2f02c83724a4da42c97f6e04179e5": {
      "model_module": "@jupyter-widgets/controls",
      "model_module_version": "1.0.0",
      "model_name": "IntProgressModel",
      "state": {
       "description": "Loading:",
       "layout": "IPY_MODEL_62b835ad133146179d868b4c59b4b740",
       "max": 10,
       "style": "IPY_MODEL_8722fc430a83409fb03ebb2a4abfd6d7",
       "value": 7
      }
     },
     "91095c414954429fa887d5dffad0d3fb": {
      "model_module": "@jupyter-widgets/controls",
      "model_module_version": "1.0.0",
      "model_name": "DropdownModel",
      "state": {
       "_options_labels": [
        "sepal length (cm)",
        "sepal width (cm)",
        "petal length (cm)",
        "petal width (cm)"
       ],
       "description": "x",
       "index": 0,
       "layout": "IPY_MODEL_0d8c059c1b8a497db3526b2493617a62",
       "style": "IPY_MODEL_7ba86d9222bf405ea22aa529343c533e"
      }
     },
     "91ad49f0f2004c70b1cca977df2c9736": {
      "model_module": "@jupyter-widgets/controls",
      "model_module_version": "1.0.0",
      "model_name": "ButtonModel",
      "state": {
       "description": "Проверить дату",
       "layout": "IPY_MODEL_7a03115fc1c34165ae8f29b4f4cec146",
       "style": "IPY_MODEL_7054529333f3412788a58446db5e83cf"
      }
     },
     "91c9d1f6f600416388fa1e41efadb91f": {
      "model_module": "@jupyter-widgets/controls",
      "model_module_version": "1.0.0",
      "model_name": "ButtonStyleModel",
      "state": {}
     },
     "9264f440bcaf48ff96034f1524b97cde": {
      "model_module": "@jupyter-widgets/controls",
      "model_module_version": "1.0.0",
      "model_name": "AccordionModel",
      "state": {
       "_titles": {
        "0": "Товар:",
        "1": "Количество:",
        "2": "Мощность:",
        "3": "Бонус:"
       },
       "children": [
        "IPY_MODEL_51a2f891e07f4b1491dd11ae5a69d0d2",
        "IPY_MODEL_b276014fdc2441c58a9192a57b7dfc87",
        "IPY_MODEL_07fd67c053df4a40ba170341b629a0ac",
        "IPY_MODEL_f647006475884da38741de8aeaf0d881"
       ],
       "layout": "IPY_MODEL_ddeed80b21ab49bbb4b3d3cec980ba68"
      }
     },
     "9274c11365e64b299efc8d9801f446d7": {
      "model_module": "@jupyter-widgets/base",
      "model_module_version": "1.0.0",
      "model_name": "LayoutModel",
      "state": {}
     },
     "92e82c886bf54fc397e5fe7241d290e2": {
      "model_module": "@jupyter-widgets/base",
      "model_module_version": "1.0.0",
      "model_name": "LayoutModel",
      "state": {}
     },
     "92ef48d5c1254f90a7c874a7a4051785": {
      "model_module": "@jupyter-widgets/base",
      "model_module_version": "1.0.0",
      "model_name": "LayoutModel",
      "state": {}
     },
     "93b2079702644b27967a61b9b8414c61": {
      "model_module": "@jupyter-widgets/controls",
      "model_module_version": "1.0.0",
      "model_name": "DescriptionStyleModel",
      "state": {
       "description_width": ""
      }
     },
     "94154b8595814518be7a19ef10f65589": {
      "model_module": "@jupyter-widgets/base",
      "model_module_version": "1.0.0",
      "model_name": "LayoutModel",
      "state": {}
     },
     "949670dca130480d8fd6102c5728800a": {
      "model_module": "@jupyter-widgets/base",
      "model_module_version": "1.0.0",
      "model_name": "LayoutModel",
      "state": {}
     },
     "9546c627422d476f8a696ddf7baf216e": {
      "model_module": "@jupyter-widgets/base",
      "model_module_version": "1.0.0",
      "model_name": "LayoutModel",
      "state": {}
     },
     "954e84ed6c804506ade28b46fcb4511f": {
      "model_module": "@jupyter-widgets/controls",
      "model_module_version": "1.0.0",
      "model_name": "SliderStyleModel",
      "state": {
       "description_width": ""
      }
     },
     "95f3ca7a0c594c179b97f92bd40e6e45": {
      "model_module": "@jupyter-widgets/base",
      "model_module_version": "1.0.0",
      "model_name": "LayoutModel",
      "state": {}
     },
     "96a25b7c1d1e469a83c86b13fc6f9ddf": {
      "model_module": "@jupyter-widgets/controls",
      "model_module_version": "1.0.0",
      "model_name": "ButtonStyleModel",
      "state": {
       "button_color": "lightgreen"
      }
     },
     "973dd4a59d924386a268232c4a790f01": {
      "model_module": "@jupyter-widgets/base",
      "model_module_version": "1.0.0",
      "model_name": "LayoutModel",
      "state": {}
     },
     "97faf941d1d44d578181995dce139e8a": {
      "model_module": "@jupyter-widgets/controls",
      "model_module_version": "1.0.0",
      "model_name": "TextModel",
      "state": {
       "description": "Комментарий к доставке:",
       "layout": "IPY_MODEL_da66096a106d4280b26ba15e3107be17",
       "style": "IPY_MODEL_7d673c91c75a4ca3aaacff71625972aa",
       "value": " апаып"
      }
     },
     "98007f811aca41bba5702b00438d811c": {
      "model_module": "@jupyter-widgets/base",
      "model_module_version": "1.0.0",
      "model_name": "LayoutModel",
      "state": {}
     },
     "9812ee5573c8415b9369123505ffac85": {
      "model_module": "@jupyter-widgets/controls",
      "model_module_version": "1.0.0",
      "model_name": "DropdownModel",
      "state": {
       "_options_labels": [
        "лопата",
        "солнце"
       ],
       "description": "x",
       "index": 0,
       "layout": "IPY_MODEL_c37881d1cffc4b0681db886050c8e598",
       "style": "IPY_MODEL_c27ae8e00e524112a31db793896cc17c"
      }
     },
     "9819dffd7d39466a99a9f794a7b65cf6": {
      "model_module": "@jupyter-widgets/base",
      "model_module_version": "1.0.0",
      "model_name": "LayoutModel",
      "state": {}
     },
     "98847fa9e0544d1d966d71c482a65c94": {
      "model_module": "@jupyter-widgets/output",
      "model_module_version": "1.0.0",
      "model_name": "OutputModel",
      "state": {
       "layout": "IPY_MODEL_165328468a784cf1b992dc591550b9df",
       "outputs": [
        {
         "data": {
          "text/plain": "('sepal length (cm)', 'sepal length (cm)sepal length (cm)')"
         },
         "metadata": {},
         "output_type": "display_data"
        }
       ]
      }
     },
     "98e768c147614a649a896675d0035430": {
      "model_module": "@jupyter-widgets/controls",
      "model_module_version": "1.0.0",
      "model_name": "IntRangeSliderModel",
      "state": {
       "_model_name": "IntRangeSliderModel",
       "_view_name": "IntRangeSliderView",
       "continuous_update": false,
       "description": "Время:",
       "layout": "IPY_MODEL_92ef48d5c1254f90a7c874a7a4051785",
       "max": 22,
       "min": 7,
       "readout_format": "",
       "style": "IPY_MODEL_2f7b48179ca84515bfbf38368219be5a",
       "value": [
        9,
        18
       ]
      }
     },
     "998fa32ccac54b4eba15108aae8aa708": {
      "model_module": "@jupyter-widgets/base",
      "model_module_version": "1.0.0",
      "model_name": "LayoutModel",
      "state": {}
     },
     "9a8ba7acf72a43a3a503fdd775f9e5fe": {
      "model_module": "@jupyter-widgets/controls",
      "model_module_version": "1.0.0",
      "model_name": "SliderStyleModel",
      "state": {
       "description_width": ""
      }
     },
     "9ac7e25071f849a088e23cab98c59516": {
      "model_module": "@jupyter-widgets/base",
      "model_module_version": "1.0.0",
      "model_name": "LayoutModel",
      "state": {}
     },
     "9b4ecf2e50fc4071a60241377a15d378": {
      "model_module": "@jupyter-widgets/base",
      "model_module_version": "1.0.0",
      "model_name": "LayoutModel",
      "state": {}
     },
     "9b5290f66bb442fc8a29200b4ccc000f": {
      "model_module": "@jupyter-widgets/controls",
      "model_module_version": "1.0.0",
      "model_name": "SliderStyleModel",
      "state": {
       "description_width": ""
      }
     },
     "9b65f7f717ae454b8c07631b7f986a48": {
      "model_module": "@jupyter-widgets/base",
      "model_module_version": "1.0.0",
      "model_name": "LayoutModel",
      "state": {}
     },
     "9c1492994c6842c2b5c31674fad87515": {
      "model_module": "@jupyter-widgets/base",
      "model_module_version": "1.0.0",
      "model_name": "LayoutModel",
      "state": {}
     },
     "9c310a1858834553a17e339bb39b192c": {
      "model_module": "@jupyter-widgets/base",
      "model_module_version": "1.0.0",
      "model_name": "LayoutModel",
      "state": {}
     },
     "9c364a684dfa495c8916e8ab5dfd132d": {
      "model_module": "@jupyter-widgets/base",
      "model_module_version": "1.0.0",
      "model_name": "LayoutModel",
      "state": {}
     },
     "9cb643663f154e4ea7e51da4db532ac3": {
      "model_module": "@jupyter-widgets/controls",
      "model_module_version": "1.0.0",
      "model_name": "SliderStyleModel",
      "state": {
       "description_width": ""
      }
     },
     "9cd2e73f574048b9ac3b2d4147567c34": {
      "model_module": "@jupyter-widgets/base",
      "model_module_version": "1.0.0",
      "model_name": "LayoutModel",
      "state": {}
     },
     "a085b85ba44343088a624736b6c004e7": {
      "model_module": "@jupyter-widgets/base",
      "model_module_version": "1.0.0",
      "model_name": "LayoutModel",
      "state": {}
     },
     "a0f2426a2cc140a4812eb55d05635d78": {
      "model_module": "@jupyter-widgets/controls",
      "model_module_version": "1.0.0",
      "model_name": "HBoxModel",
      "state": {
       "children": [
        "IPY_MODEL_5f7ff6e4c1fc4bc792fe7c1d879f0a8b",
        "IPY_MODEL_4ce9f4cdd06d4dc482ab0f2f670efe52"
       ],
       "layout": "IPY_MODEL_af1d68ae06ac44a0887f8a300cf9cf97"
      }
     },
     "a0fb14a1ddad4e5e8be242a69f20b63a": {
      "model_module": "@jupyter-widgets/controls",
      "model_module_version": "1.0.0",
      "model_name": "AccordionModel",
      "state": {
       "_titles": {
        "0": "Товар:",
        "1": "Количество:",
        "2": "Мощность:",
        "3": "Бонус:"
       },
       "children": [
        "IPY_MODEL_51a2f891e07f4b1491dd11ae5a69d0d2",
        "IPY_MODEL_b276014fdc2441c58a9192a57b7dfc87",
        "IPY_MODEL_07fd67c053df4a40ba170341b629a0ac",
        "IPY_MODEL_f647006475884da38741de8aeaf0d881"
       ],
       "layout": "IPY_MODEL_949670dca130480d8fd6102c5728800a"
      }
     },
     "a102d544c31b460e810b2e03dcbab3cd": {
      "model_module": "@jupyter-widgets/output",
      "model_module_version": "1.0.0",
      "model_name": "OutputModel",
      "state": {
       "layout": "IPY_MODEL_8804bdfd5e7c401badeb9b3958c37eb6",
       "outputs": [
        {
         "data": {
          "text/plain": "(10, '1010')"
         },
         "metadata": {},
         "output_type": "display_data"
        }
       ]
      }
     },
     "a140a9c30f8043f6a6115a246ffc8222": {
      "model_module": "@jupyter-widgets/controls",
      "model_module_version": "1.0.0",
      "model_name": "IntSliderModel",
      "state": {
       "description": "Высота",
       "layout": "IPY_MODEL_d1e0b94ba8c8461a8b2bc588370efa0b",
       "max": 40,
       "min": 2,
       "step": 2,
       "style": "IPY_MODEL_8eae5131cf764db0ac2e38a70f1c3420",
       "value": 2
      }
     },
     "a153460e967441c1b05d8dcc1e71286f": {
      "model_module": "@jupyter-widgets/controls",
      "model_module_version": "1.0.0",
      "model_name": "DropdownModel",
      "state": {
       "_options_labels": [
        "2",
        "3",
        "4",
        "5"
       ],
       "description": "n",
       "index": 1,
       "layout": "IPY_MODEL_c0689f24ad30449aade592868030833a",
       "style": "IPY_MODEL_ad902de8cc734ac988556159c1eb6354"
      }
     },
     "a18f77415d324d199d36bb7e0a5553f3": {
      "model_module": "@jupyter-widgets/controls",
      "model_module_version": "1.0.0",
      "model_name": "DropdownModel",
      "state": {
       "_options_labels": [
        "0",
        "1",
        "2",
        "3",
        "4",
        "5"
       ],
       "description": "n",
       "index": 0,
       "layout": "IPY_MODEL_7f897abbddd048d2a81e7ee0510d39e3",
       "style": "IPY_MODEL_ddf6607012214ff4895d93d3662cf952"
      }
     },
     "a1f03327b4b642a7b6eddabbbc0ef9f7": {
      "model_module": "@jupyter-widgets/base",
      "model_module_version": "1.0.0",
      "model_name": "LayoutModel",
      "state": {}
     },
     "a32456be52674164a058d079ac207b88": {
      "model_module": "@jupyter-widgets/controls",
      "model_module_version": "1.0.0",
      "model_name": "IntProgressModel",
      "state": {
       "description": "Loading:",
       "layout": "IPY_MODEL_4cc5b43686384c5b9138c225d56abb4b",
       "max": 10,
       "style": "IPY_MODEL_2e6d54d881e340749e28beccc708cef1",
       "value": 10
      }
     },
     "a5059ff4c1de4600bd2853cf5478af95": {
      "model_module": "@jupyter-widgets/output",
      "model_module_version": "1.0.0",
      "model_name": "OutputModel",
      "state": {
       "layout": "IPY_MODEL_098b9a906ded476584f8c0186f725a6c",
       "outputs": [
        {
         "data": {
          "text/plain": "64"
         },
         "metadata": {},
         "output_type": "display_data"
        }
       ]
      }
     },
     "a56d1acc75cf4db3a3fe1af402495777": {
      "model_module": "@jupyter-widgets/controls",
      "model_module_version": "1.0.0",
      "model_name": "SliderStyleModel",
      "state": {
       "description_width": ""
      }
     },
     "a67e6b40d470415cb70485289f7a9d5a": {
      "model_module": "@jupyter-widgets/controls",
      "model_module_version": "1.0.0",
      "model_name": "FloatSliderModel",
      "state": {
       "description": "x",
       "layout": "IPY_MODEL_09e5db62bb374cccb2ef25f747d2ed69",
       "max": 3,
       "min": -1,
       "step": 0.1,
       "style": "IPY_MODEL_c13ad89c704746b294e14cb83ef09799",
       "value": 1
      }
     },
     "a6c7ea7053ac4250a137cabda6fd8d17": {
      "model_module": "@jupyter-widgets/controls",
      "model_module_version": "1.0.0",
      "model_name": "DescriptionStyleModel",
      "state": {
       "description_width": ""
      }
     },
     "a6fa8c8978e4405cbff0cb986bfb2792": {
      "model_module": "@jupyter-widgets/base",
      "model_module_version": "1.0.0",
      "model_name": "LayoutModel",
      "state": {}
     },
     "a7e337d9221c4e5db6c2387b4802a2b7": {
      "model_module": "@jupyter-widgets/controls",
      "model_module_version": "1.0.0",
      "model_name": "SliderStyleModel",
      "state": {
       "description_width": "initial"
      }
     },
     "a90807ce2a0245e7a1c20b8434f2604b": {
      "model_module": "@jupyter-widgets/controls",
      "model_module_version": "1.0.0",
      "model_name": "DescriptionStyleModel",
      "state": {
       "description_width": ""
      }
     },
     "a9dc7794f53c4ee69c5cb31fdaf37956": {
      "model_module": "@jupyter-widgets/controls",
      "model_module_version": "1.0.0",
      "model_name": "ButtonModel",
      "state": {
       "description": "horse",
       "layout": "IPY_MODEL_0c16370174f146eea70fc16b8c3b29e6",
       "style": "IPY_MODEL_b6b60da09c9e4f94aac924b8c0eff178"
      }
     },
     "a9ff4efbe637445987a0921da957d73a": {
      "model_module": "@jupyter-widgets/controls",
      "model_module_version": "1.0.0",
      "model_name": "IntSliderModel",
      "state": {
       "layout": "IPY_MODEL_d7eda8ea9b5348a699c24e5986205b82",
       "style": "IPY_MODEL_f8b53306ee764e6282fcc2f61c5f403f"
      }
     },
     "aad69ae83b574585b38d9ac2f1314db1": {
      "model_module": "@jupyter-widgets/controls",
      "model_module_version": "1.0.0",
      "model_name": "IntSliderModel",
      "state": {
       "description": "a",
       "layout": "IPY_MODEL_d8c822644bfb4386b603a998f10498ca",
       "max": 30,
       "min": -10,
       "style": "IPY_MODEL_5b433563822f48c8919f922974685730",
       "value": 5
      }
     },
     "ab667f95c0c841cd9de4b3fc9692ba61": {
      "model_module": "@jupyter-widgets/controls",
      "model_module_version": "1.0.0",
      "model_name": "LabelModel",
      "state": {
       "layout": "IPY_MODEL_52c6d9ea85e2436bafa712e09f3e8323",
       "style": "IPY_MODEL_6cd2945bce3b4e7bbf24a5a9ec11883e",
       "value": "Проверка информации  заказе:"
      }
     },
     "aba3899d6acc4dcc93e369d4326aa45f": {
      "model_module": "@jupyter-widgets/base",
      "model_module_version": "1.0.0",
      "model_name": "LayoutModel",
      "state": {}
     },
     "ac17d41431eb4d0bbf2600ff12614809": {
      "model_module": "@jupyter-widgets/controls",
      "model_module_version": "1.0.0",
      "model_name": "ButtonModel",
      "state": {
       "description": "staple",
       "layout": "IPY_MODEL_b4b3ff6182a24ec98b8524f64ef3ac5a",
       "style": "IPY_MODEL_5dfdffc213424829a4ec205aa06a5805"
      }
     },
     "ac1980778e2448658906c97c747d4970": {
      "model_module": "@jupyter-widgets/output",
      "model_module_version": "1.0.0",
      "model_name": "OutputModel",
      "state": {
       "layout": "IPY_MODEL_d364fd5833274e8db7ecfe464b6ebe31",
       "outputs": [
        {
         "data": {
          "application/vnd.jupyter.widget-view+json": {
           "model_id": "d1ebe7bd9d8a44819448f56cd7b374b2",
           "version_major": 2,
           "version_minor": 0
          },
          "text/plain": "A Jupyter Widget"
         },
         "metadata": {},
         "output_type": "display_data"
        },
        {
         "name": "stdout",
         "output_type": "stream",
         "text": "Информация о заказе:\nТовар: Планшет\nКоличество: 0\nМощность: хороший\nБонус: Стикер\nСпособ доставки: Самовывоз\nСпособ оплаты: Карта\nДата доставки: None\nВремя доставки: (9, 18)\nКомментарий:  апаып\nАдрес доставки: Адрес\n"
        }
       ]
      }
     },
     "ad902de8cc734ac988556159c1eb6354": {
      "model_module": "@jupyter-widgets/controls",
      "model_module_version": "1.0.0",
      "model_name": "DescriptionStyleModel",
      "state": {
       "description_width": ""
      }
     },
     "add7a75ecf694a978940402468451d48": {
      "model_module": "@jupyter-widgets/output",
      "model_module_version": "1.0.0",
      "model_name": "OutputModel",
      "state": {
       "layout": "IPY_MODEL_788dfe7addaf4bd3abaa95d502c8e4a4",
       "outputs": [
        {
         "name": "stdout",
         "output_type": "stream",
         "text": "2300000 [0, 1, 2, 3, 11, 22, 101, 111, 121, 202, 212, 1001, 1111, 2002, 10001, 10101, 10201, 11011, 11111, 11211, 20002, 20102, 100001, 101101, 110011, 111111, 200002, 1000001, 1001001, 1002001, 1010101, 1011101, 1012101, 1100011, 1101011, 1102011, 1110111, 1111111, 2000002, 2001002]\n"
        }
       ]
      }
     },
     "ade7fdb38e0b4f89b3edd480a3d6406e": {
      "model_module": "@jupyter-widgets/controls",
      "model_module_version": "1.0.0",
      "model_name": "IntSliderModel",
      "state": {
       "description": "x",
       "layout": "IPY_MODEL_c8db69417f544970bae01f28fa4aaf89",
       "max": 30,
       "min": -10,
       "style": "IPY_MODEL_6f2449811606481588636a967dd0c5f4",
       "value": 3
      }
     },
     "ae2eefc4c33e4a91ac951b1ff52dcc27": {
      "model_module": "@jupyter-widgets/controls",
      "model_module_version": "1.0.0",
      "model_name": "IntProgressModel",
      "state": {
       "description": "Loading:",
       "layout": "IPY_MODEL_0740c8e51ed5427f8a657c6532db8ef2",
       "max": 10,
       "style": "IPY_MODEL_d3bc6bd549fb4071b35a365a7dfca2be",
       "value": 10
      }
     },
     "af1d68ae06ac44a0887f8a300cf9cf97": {
      "model_module": "@jupyter-widgets/base",
      "model_module_version": "1.0.0",
      "model_name": "LayoutModel",
      "state": {}
     },
     "af671f1769964cc1a324a6afde7f6735": {
      "model_module": "@jupyter-widgets/output",
      "model_module_version": "1.0.0",
      "model_name": "OutputModel",
      "state": {
       "layout": "IPY_MODEL_9274c11365e64b299efc8d9801f446d7",
       "outputs": [
        {
         "data": {
          "text/plain": "(True, 'TrueTrue')"
         },
         "metadata": {},
         "output_type": "display_data"
        }
       ]
      }
     },
     "af7e72edb90345fb8c367baaf673928b": {
      "model_module": "@jupyter-widgets/output",
      "model_module_version": "1.0.0",
      "model_name": "OutputModel",
      "state": {
       "layout": "IPY_MODEL_c73bea6b28bf4af7b4fbfc4af82e6970",
       "outputs": [
        {
         "ename": "NameError",
         "evalue": "name 'progress' is not defined",
         "output_type": "error",
         "traceback": [
          "\u001b[0;31m---------------------------------------------------------------------------\u001b[0m",
          "\u001b[0;31mNameError\u001b[0m                                 Traceback (most recent call last)",
          "\u001b[0;32m<ipython-input-36-ec85aaf56b62>\u001b[0m in \u001b[0;36m<module>\u001b[0;34m()\u001b[0m\n\u001b[1;32m      1\u001b[0m \u001b[0;32mwith\u001b[0m \u001b[0mout\u001b[0m\u001b[0;34m:\u001b[0m\u001b[0;34m\u001b[0m\u001b[0m\n\u001b[0;32m----> 2\u001b[0;31m     \u001b[0mdisplay\u001b[0m\u001b[0;34m(\u001b[0m\u001b[0mprogress\u001b[0m\u001b[0;34m)\u001b[0m\u001b[0;34m\u001b[0m\u001b[0m\n\u001b[0m\u001b[1;32m      3\u001b[0m     \u001b[0mprint\u001b[0m\u001b[0;34m(\u001b[0m\u001b[0;34m'Информация о заказе:'\u001b[0m\u001b[0;34m)\u001b[0m\u001b[0;34m\u001b[0m\u001b[0m\n\u001b[1;32m      4\u001b[0m     \u001b[0;32mfor\u001b[0m \u001b[0mi\u001b[0m \u001b[0;32min\u001b[0m \u001b[0mrange\u001b[0m\u001b[0;34m(\u001b[0m\u001b[0mlen\u001b[0m\u001b[0;34m(\u001b[0m\u001b[0maccordion1\u001b[0m\u001b[0;34m.\u001b[0m\u001b[0mchildren\u001b[0m\u001b[0;34m)\u001b[0m\u001b[0;34m)\u001b[0m\u001b[0;34m:\u001b[0m\u001b[0;34m\u001b[0m\u001b[0m\n\u001b[1;32m      5\u001b[0m         \u001b[0;32mif\u001b[0m \u001b[0mtype\u001b[0m\u001b[0;34m(\u001b[0m\u001b[0maccordion1\u001b[0m\u001b[0;34m.\u001b[0m\u001b[0mchildren\u001b[0m\u001b[0;34m[\u001b[0m\u001b[0mi\u001b[0m\u001b[0;34m]\u001b[0m\u001b[0;34m.\u001b[0m\u001b[0mvalue\u001b[0m\u001b[0;34m)\u001b[0m \u001b[0;34m!=\u001b[0m \u001b[0mtuple\u001b[0m\u001b[0;34m:\u001b[0m\u001b[0;34m\u001b[0m\u001b[0m\n",
          "\u001b[0;31mNameError\u001b[0m: name 'progress' is not defined"
         ]
        }
       ]
      }
     },
     "af91d4c017c84c4398d24b335d755b80": {
      "model_module": "@jupyter-widgets/controls",
      "model_module_version": "1.0.0",
      "model_name": "VBoxModel",
      "state": {
       "_dom_classes": [
        "widget-interact"
       ],
       "children": [
        "IPY_MODEL_91095c414954429fa887d5dffad0d3fb",
        "IPY_MODEL_98847fa9e0544d1d966d71c482a65c94"
       ],
       "layout": "IPY_MODEL_eaa4e4cf48c641ada0bd184a7d392c58"
      }
     },
     "b0a2fc3ca69c4b1397c1b4beac00611c": {
      "model_module": "@jupyter-widgets/controls",
      "model_module_version": "1.0.0",
      "model_name": "TextareaModel",
      "state": {
       "description": "Адрес:",
       "layout": "IPY_MODEL_6cb9c3b7996d4c73905c65bfaea9e2e5",
       "placeholder": "Не дом и не улица",
       "style": "IPY_MODEL_ce75208d09584a8ab7193236069ebbab",
       "value": "Адрес"
      }
     },
     "b276014fdc2441c58a9192a57b7dfc87": {
      "model_module": "@jupyter-widgets/controls",
      "model_module_version": "1.0.0",
      "model_name": "IntTextModel",
      "state": {
       "description": "Delayed",
       "layout": "IPY_MODEL_e1a11a94083444d0b307e2c2d1b8c2ee",
       "step": 1,
       "style": "IPY_MODEL_3dea2564ae4e495c9ebcc3821027d591"
      }
     },
     "b27cf1f4fe6547e292402c7b5928873d": {
      "model_module": "@jupyter-widgets/base",
      "model_module_version": "1.0.0",
      "model_name": "LayoutModel",
      "state": {}
     },
     "b31f3548297d42d89856e347f92d370d": {
      "model_module": "@jupyter-widgets/base",
      "model_module_version": "1.0.0",
      "model_name": "LayoutModel",
      "state": {}
     },
     "b35cf35d2f5c47b9b2f0855856c2d964": {
      "model_module": "@jupyter-widgets/controls",
      "model_module_version": "1.0.0",
      "model_name": "IntSliderModel",
      "state": {
       "description": "Blue handle",
       "layout": "IPY_MODEL_5adedd9842b143a498eefb3c2ba44d14",
       "style": "IPY_MODEL_5ddc1e4921a34d8f86c091ae8a68a1fd",
       "value": 70
      }
     },
     "b3899e30637a445b9771229f6289958e": {
      "model_module": "@jupyter-widgets/controls",
      "model_module_version": "1.0.0",
      "model_name": "ProgressStyleModel",
      "state": {
       "description_width": ""
      }
     },
     "b4a6f451edaf40be87731a10501f5710": {
      "model_module": "@jupyter-widgets/controls",
      "model_module_version": "1.0.0",
      "model_name": "DescriptionStyleModel",
      "state": {
       "description_width": ""
      }
     },
     "b4b3ff6182a24ec98b8524f64ef3ac5a": {
      "model_module": "@jupyter-widgets/base",
      "model_module_version": "1.0.0",
      "model_name": "LayoutModel",
      "state": {}
     },
     "b4b52ab7c67247cebed395d88765f2f7": {
      "model_module": "@jupyter-widgets/controls",
      "model_module_version": "1.0.0",
      "model_name": "VBoxModel",
      "state": {
       "_dom_classes": [
        "widget-interact"
       ],
       "children": [
        "IPY_MODEL_3a988dfff9ae48549fc3456d02a956ab",
        "IPY_MODEL_e242f8055a954bf38a62cb8a679052af"
       ],
       "layout": "IPY_MODEL_71ab0bb41feb453ba30060601fde7bc9"
      }
     },
     "b583378aba8643118edfc90c01aa04b8": {
      "model_module": "@jupyter-widgets/base",
      "model_module_version": "1.0.0",
      "model_name": "LayoutModel",
      "state": {}
     },
     "b592d15cb998442b830a790bd1e5e7b8": {
      "model_module": "@jupyter-widgets/controls",
      "model_module_version": "1.0.0",
      "model_name": "DropdownModel",
      "state": {
       "_options_labels": [
        "Сумма",
        "Произведение"
       ],
       "description": "z",
       "index": 0,
       "layout": "IPY_MODEL_2d74ad6e864541bf8a071b672c735d5d",
       "style": "IPY_MODEL_2bda2198114848c2afe9f9e5a86f29cb"
      }
     },
     "b5d7850555a9455ba3a4ebab5f8bf114": {
      "model_module": "@jupyter-widgets/base",
      "model_module_version": "1.0.0",
      "model_name": "LayoutModel",
      "state": {}
     },
     "b65b4f870e714337829e97c4c3d7487e": {
      "model_module": "@jupyter-widgets/base",
      "model_module_version": "1.0.0",
      "model_name": "LayoutModel",
      "state": {}
     },
     "b6950fe3f94741d1b15afcdca2d73171": {
      "model_module": "@jupyter-widgets/base",
      "model_module_version": "1.0.0",
      "model_name": "LayoutModel",
      "state": {}
     },
     "b6b60da09c9e4f94aac924b8c0eff178": {
      "model_module": "@jupyter-widgets/controls",
      "model_module_version": "1.0.0",
      "model_name": "ButtonStyleModel",
      "state": {}
     },
     "b6d202a5b7d8481cb07194052b9db5e3": {
      "model_module": "@jupyter-widgets/base",
      "model_module_version": "1.0.0",
      "model_name": "LayoutModel",
      "state": {}
     },
     "b85797e83a784593a170bc8d2ec44070": {
      "model_module": "@jupyter-widgets/controls",
      "model_module_version": "1.0.0",
      "model_name": "VBoxModel",
      "state": {
       "_dom_classes": [
        "widget-interact"
       ],
       "children": [
        "IPY_MODEL_84f85346e60a4301bd9561d6a3105f80",
        "IPY_MODEL_e75f50d8feeb4855b339bb2728c4b08b"
       ],
       "layout": "IPY_MODEL_48715afbc5e444a4a6f33d3fdd9289da"
      }
     },
     "b863e85059d64e5b87d27c917dd27289": {
      "model_module": "@jupyter-widgets/controls",
      "model_module_version": "1.0.0",
      "model_name": "IntSliderModel",
      "state": {
       "description": "x",
       "layout": "IPY_MODEL_d96841c74f2f43c98c3dc415b6565c82",
       "max": 30,
       "min": -10,
       "style": "IPY_MODEL_0055641df6e5451e94eb942dfdab2f71",
       "value": 10
      }
     },
     "ba1952e1ae824f92bddb6198ef3e3165": {
      "model_module": "@jupyter-widgets/base",
      "model_module_version": "1.0.0",
      "model_name": "LayoutModel",
      "state": {}
     },
     "ba2682ef919a4f9896b653f6bdb1e07d": {
      "model_module": "@jupyter-widgets/base",
      "model_module_version": "1.0.0",
      "model_name": "LayoutModel",
      "state": {}
     },
     "ba33897d2bad4ba0bcbc033bd8e84215": {
      "model_module": "@jupyter-widgets/base",
      "model_module_version": "1.0.0",
      "model_name": "LayoutModel",
      "state": {}
     },
     "ba46e28f214140558870ddb97461b7b5": {
      "model_module": "@jupyter-widgets/controls",
      "model_module_version": "1.0.0",
      "model_name": "DescriptionStyleModel",
      "state": {
       "description_width": ""
      }
     },
     "bb657623cdda48218b0758662966e32e": {
      "model_module": "@jupyter-widgets/controls",
      "model_module_version": "1.0.0",
      "model_name": "IntSliderModel",
      "state": {
       "layout": "IPY_MODEL_30ccb20192fb40c5abedc91b24ab9bbe",
       "style": "IPY_MODEL_41ed4a7eb0714875a290228eda511fad"
      }
     },
     "bb7f65536f384b7980b3c913225dce0a": {
      "model_module": "@jupyter-widgets/controls",
      "model_module_version": "1.0.0",
      "model_name": "IntSliderModel",
      "state": {
       "description": "x",
       "layout": "IPY_MODEL_2a94e048da8a4c91a7debd5fa182dbd6",
       "max": 30,
       "min": -10,
       "style": "IPY_MODEL_62a82063aff547aa8f02030e1e4fa587",
       "value": 10
      }
     },
     "bb9e79a5c35d40da8398f7fb2464363b": {
      "model_module": "@jupyter-widgets/base",
      "model_module_version": "1.0.0",
      "model_name": "LayoutModel",
      "state": {}
     },
     "be1eef1e587f49718b300002416932d5": {
      "model_module": "@jupyter-widgets/controls",
      "model_module_version": "1.0.0",
      "model_name": "LabelModel",
      "state": {
       "layout": "IPY_MODEL_0dbb7ea79f364b3eaed6148b34d5d25c",
       "style": "IPY_MODEL_272552fcd1604aea93cf808b3c519bd2",
       "value": "Дата доставки:"
      }
     },
     "bf189c80483145b5b4dde133669c1a5d": {
      "model_module": "@jupyter-widgets/output",
      "model_module_version": "1.0.0",
      "model_name": "OutputModel",
      "state": {
       "layout": "IPY_MODEL_0926cb936aa74ee6958416c0e739635b",
       "outputs": [
        {
         "ename": "TypeError",
         "evalue": "unsupported operand type(s) for ** or pow(): 'str' and 'int'",
         "output_type": "error",
         "traceback": [
          "\u001b[1;31m---------------------------------------------------------------------------\u001b[0m",
          "\u001b[1;31mTypeError\u001b[0m                                 Traceback (most recent call last)",
          "\u001b[1;32mD:\\Programs\\Anaconda3\\lib\\site-packages\\ipywidgets\\widgets\\interaction.py\u001b[0m in \u001b[0;36mupdate\u001b[1;34m(self, *args)\u001b[0m\n\u001b[0;32m    248\u001b[0m                     \u001b[0mvalue\u001b[0m \u001b[1;33m=\u001b[0m \u001b[0mwidget\u001b[0m\u001b[1;33m.\u001b[0m\u001b[0mget_interact_value\u001b[0m\u001b[1;33m(\u001b[0m\u001b[1;33m)\u001b[0m\u001b[1;33m\u001b[0m\u001b[0m\n\u001b[0;32m    249\u001b[0m                     \u001b[0mself\u001b[0m\u001b[1;33m.\u001b[0m\u001b[0mkwargs\u001b[0m\u001b[1;33m[\u001b[0m\u001b[0mwidget\u001b[0m\u001b[1;33m.\u001b[0m\u001b[0m_kwarg\u001b[0m\u001b[1;33m]\u001b[0m \u001b[1;33m=\u001b[0m \u001b[0mvalue\u001b[0m\u001b[1;33m\u001b[0m\u001b[0m\n\u001b[1;32m--> 250\u001b[1;33m                 \u001b[0mself\u001b[0m\u001b[1;33m.\u001b[0m\u001b[0mresult\u001b[0m \u001b[1;33m=\u001b[0m \u001b[0mself\u001b[0m\u001b[1;33m.\u001b[0m\u001b[0mf\u001b[0m\u001b[1;33m(\u001b[0m\u001b[1;33m**\u001b[0m\u001b[0mself\u001b[0m\u001b[1;33m.\u001b[0m\u001b[0mkwargs\u001b[0m\u001b[1;33m)\u001b[0m\u001b[1;33m\u001b[0m\u001b[0m\n\u001b[0m\u001b[0;32m    251\u001b[0m                 \u001b[0mshow_inline_matplotlib_plots\u001b[0m\u001b[1;33m(\u001b[0m\u001b[1;33m)\u001b[0m\u001b[1;33m\u001b[0m\u001b[0m\n\u001b[0;32m    252\u001b[0m                 \u001b[1;32mif\u001b[0m \u001b[0mself\u001b[0m\u001b[1;33m.\u001b[0m\u001b[0mauto_display\u001b[0m \u001b[1;32mand\u001b[0m \u001b[0mself\u001b[0m\u001b[1;33m.\u001b[0m\u001b[0mresult\u001b[0m \u001b[1;32mis\u001b[0m \u001b[1;32mnot\u001b[0m \u001b[1;32mNone\u001b[0m\u001b[1;33m:\u001b[0m\u001b[1;33m\u001b[0m\u001b[0m\n",
          "\u001b[1;32m<ipython-input-4-167b2a7eb255>\u001b[0m in \u001b[0;36mf\u001b[1;34m(x)\u001b[0m\n\u001b[0;32m      1\u001b[0m \u001b[1;32mdef\u001b[0m \u001b[0mf\u001b[0m\u001b[1;33m(\u001b[0m\u001b[0mx\u001b[0m\u001b[1;33m)\u001b[0m\u001b[1;33m:\u001b[0m\u001b[1;33m\u001b[0m\u001b[0m\n\u001b[1;32m----> 2\u001b[1;33m     \u001b[1;32mreturn\u001b[0m \u001b[0mx\u001b[0m\u001b[1;33m**\u001b[0m \u001b[1;36m3\u001b[0m\u001b[1;33m\u001b[0m\u001b[0m\n\u001b[0m",
          "\u001b[1;31mTypeError\u001b[0m: unsupported operand type(s) for ** or pow(): 'str' and 'int'"
         ]
        }
       ]
      }
     },
     "bf9e69dc98ac4e24961df94200b066c2": {
      "model_module": "@jupyter-widgets/base",
      "model_module_version": "1.0.0",
      "model_name": "LayoutModel",
      "state": {}
     },
     "c0010e9cabd2460c9c10bf68b57b1269": {
      "model_module": "@jupyter-widgets/controls",
      "model_module_version": "1.0.0",
      "model_name": "SliderStyleModel",
      "state": {
       "description_width": ""
      }
     },
     "c0689f24ad30449aade592868030833a": {
      "model_module": "@jupyter-widgets/base",
      "model_module_version": "1.0.0",
      "model_name": "LayoutModel",
      "state": {}
     },
     "c13ad89c704746b294e14cb83ef09799": {
      "model_module": "@jupyter-widgets/controls",
      "model_module_version": "1.0.0",
      "model_name": "SliderStyleModel",
      "state": {
       "description_width": ""
      }
     },
     "c1c3ec64a7a54f63b6c17da096ab03d5": {
      "model_module": "@jupyter-widgets/output",
      "model_module_version": "1.0.0",
      "model_name": "OutputModel",
      "state": {
       "layout": "IPY_MODEL_5e28aab208fb479b9813542b2ba25eb7"
      }
     },
     "c1f4ad062f784cfc8c51471af8dae01f": {
      "model_module": "@jupyter-widgets/base",
      "model_module_version": "1.0.0",
      "model_name": "LayoutModel",
      "state": {}
     },
     "c21cd2ee1ef44608b47d85c02d346d4d": {
      "model_module": "@jupyter-widgets/base",
      "model_module_version": "1.0.0",
      "model_name": "LayoutModel",
      "state": {}
     },
     "c27ae8e00e524112a31db793896cc17c": {
      "model_module": "@jupyter-widgets/controls",
      "model_module_version": "1.0.0",
      "model_name": "DescriptionStyleModel",
      "state": {
       "description_width": ""
      }
     },
     "c2d3e9d7594341a6a218cd1dc0a0879e": {
      "model_module": "@jupyter-widgets/controls",
      "model_module_version": "1.0.0",
      "model_name": "SliderStyleModel",
      "state": {
       "description_width": ""
      }
     },
     "c2f3459f5dfc410895243c39217bc69d": {
      "model_module": "@jupyter-widgets/controls",
      "model_module_version": "1.0.0",
      "model_name": "IntRangeSliderModel",
      "state": {
       "_model_name": "IntRangeSliderModel",
       "_view_name": "IntRangeSliderView",
       "continuous_update": false,
       "description": "Время:",
       "layout": "IPY_MODEL_32e1e2b0227c49c9b56504b25983db3f",
       "max": 22,
       "min": 7,
       "readout_format": "",
       "style": "IPY_MODEL_954e84ed6c804506ade28b46fcb4511f",
       "value": [
        9,
        18
       ]
      }
     },
     "c37881d1cffc4b0681db886050c8e598": {
      "model_module": "@jupyter-widgets/base",
      "model_module_version": "1.0.0",
      "model_name": "LayoutModel",
      "state": {}
     },
     "c42fac88b0514decbbf5c613c2bdf4bc": {
      "model_module": "@jupyter-widgets/controls",
      "model_module_version": "1.0.0",
      "model_name": "DescriptionStyleModel",
      "state": {
       "description_width": ""
      }
     },
     "c522378fc07249fbad005f7e993db299": {
      "model_module": "@jupyter-widgets/base",
      "model_module_version": "1.0.0",
      "model_name": "LayoutModel",
      "state": {}
     },
     "c6ceeea8b64245dc84b63d01d7ef72a8": {
      "model_module": "@jupyter-widgets/controls",
      "model_module_version": "1.0.0",
      "model_name": "DescriptionStyleModel",
      "state": {
       "description_width": ""
      }
     },
     "c6d1d2d0cbb043cfb902e1347bd27c4f": {
      "model_module": "@jupyter-widgets/base",
      "model_module_version": "1.0.0",
      "model_name": "LayoutModel",
      "state": {}
     },
     "c73bea6b28bf4af7b4fbfc4af82e6970": {
      "model_module": "@jupyter-widgets/base",
      "model_module_version": "1.0.0",
      "model_name": "LayoutModel",
      "state": {}
     },
     "c77b30bd38b24b1aa2143826245fddef": {
      "model_module": "@jupyter-widgets/base",
      "model_module_version": "1.0.0",
      "model_name": "LayoutModel",
      "state": {}
     },
     "c86106f2c7804241905d8467dcca1b94": {
      "model_module": "@jupyter-widgets/base",
      "model_module_version": "1.0.0",
      "model_name": "LayoutModel",
      "state": {}
     },
     "c8db69417f544970bae01f28fa4aaf89": {
      "model_module": "@jupyter-widgets/base",
      "model_module_version": "1.0.0",
      "model_name": "LayoutModel",
      "state": {}
     },
     "c8f50ef0146343ad9c5597854b41dcbc": {
      "model_module": "@jupyter-widgets/controls",
      "model_module_version": "1.0.0",
      "model_name": "VBoxModel",
      "state": {
       "_dom_classes": [
        "widget-interact"
       ],
       "children": [
        "IPY_MODEL_241d4a285cae49aaa0c7ba77792e6ad7",
        "IPY_MODEL_6b95c001dcd84a80887148d764ab6796",
        "IPY_MODEL_7ca1c0261fa84d36b4f25546ef642db6"
       ],
       "layout": "IPY_MODEL_9b4ecf2e50fc4071a60241377a15d378"
      }
     },
     "c8fd04bc7b0d41389ee3e497b3ebdd86": {
      "model_module": "@jupyter-widgets/controls",
      "model_module_version": "1.0.0",
      "model_name": "VBoxModel",
      "state": {
       "_dom_classes": [
        "widget-interact"
       ],
       "children": [
        "IPY_MODEL_812b656bf36849e2906e8725d01632e0",
        "IPY_MODEL_add7a75ecf694a978940402468451d48"
       ],
       "layout": "IPY_MODEL_eac8a4b8ea2a4cb1a1712b2ec869e68e"
      }
     },
     "caf9879bcbe34394bb2605dea7eb45b1": {
      "model_module": "@jupyter-widgets/base",
      "model_module_version": "1.0.0",
      "model_name": "LayoutModel",
      "state": {}
     },
     "cafe3135fd9442f588d73992d7bbcd4c": {
      "model_module": "@jupyter-widgets/controls",
      "model_module_version": "1.0.0",
      "model_name": "DescriptionStyleModel",
      "state": {
       "description_width": ""
      }
     },
     "cb0cb8510e424c76b88a894c6657d9c4": {
      "model_module": "@jupyter-widgets/controls",
      "model_module_version": "1.0.0",
      "model_name": "DescriptionStyleModel",
      "state": {
       "description_width": ""
      }
     },
     "cc9432b5f816465a831c853d1e6280ae": {
      "model_module": "@jupyter-widgets/controls",
      "model_module_version": "1.0.0",
      "model_name": "ButtonModel",
      "state": {
       "description": "Нажмите, чтобы посчитать площадь прямоугольника!",
       "layout": "IPY_MODEL_53858ba6b34949798afca8f8f4f227a0",
       "style": "IPY_MODEL_91c9d1f6f600416388fa1e41efadb91f"
      }
     },
     "ccf2db60d7b94a76996ef72f7a689b5c": {
      "model_module": "@jupyter-widgets/controls",
      "model_module_version": "1.0.0",
      "model_name": "IntSliderModel",
      "state": {
       "description": "Source",
       "layout": "IPY_MODEL_5fe1ae9abe134e93aaf085227d23db35",
       "style": "IPY_MODEL_7fe3d4dcd9d9408aa1acdc91d8f2ee43"
      }
     },
     "cd10bddab0e142078b644d373c91a513": {
      "model_module": "@jupyter-widgets/base",
      "model_module_version": "1.0.0",
      "model_name": "LayoutModel",
      "state": {}
     },
     "cda3743d15eb4623a189d172d6207244": {
      "model_module": "@jupyter-widgets/base",
      "model_module_version": "1.0.0",
      "model_name": "LayoutModel",
      "state": {}
     },
     "cdcfe19684db4f08879dab5905118c5b": {
      "model_module": "@jupyter-widgets/controls",
      "model_module_version": "1.0.0",
      "model_name": "IntSliderModel",
      "state": {
       "description": "x",
       "layout": "IPY_MODEL_49a481d460124f7fb1298f7949b7054a",
       "max": 3,
       "min": -1,
       "style": "IPY_MODEL_c0010e9cabd2460c9c10bf68b57b1269",
       "value": 1
      }
     },
     "ce61e2b7c3814e22bd7f6c5f9818b629": {
      "model_module": "@jupyter-widgets/controls",
      "model_module_version": "1.0.0",
      "model_name": "VBoxModel",
      "state": {
       "children": [
        "IPY_MODEL_be1eef1e587f49718b300002416932d5",
        "IPY_MODEL_1b2114ec275f4c16929131523748843d"
       ],
       "layout": "IPY_MODEL_f87ecf0b3a3a462e8a81c9da9d1e88a9"
      }
     },
     "ce75208d09584a8ab7193236069ebbab": {
      "model_module": "@jupyter-widgets/controls",
      "model_module_version": "1.0.0",
      "model_name": "DescriptionStyleModel",
      "state": {
       "description_width": ""
      }
     },
     "ce9657abbdf941b89fa8cd6882262ac6": {
      "model_module": "@jupyter-widgets/base",
      "model_module_version": "1.0.0",
      "model_name": "LayoutModel",
      "state": {}
     },
     "cf0a86c046aa429787ddaefc406dc3cc": {
      "model_module": "@jupyter-widgets/controls",
      "model_module_version": "1.0.0",
      "model_name": "LabelModel",
      "state": {
       "layout": "IPY_MODEL_612ad3e153e044d2b839c22657f7c07a",
       "style": "IPY_MODEL_ba46e28f214140558870ddb97461b7b5",
       "value": "A too long description"
      }
     },
     "cf4109ffeae242c0bde456ca983bb088": {
      "model_module": "@jupyter-widgets/controls",
      "model_module_version": "1.0.0",
      "model_name": "DescriptionStyleModel",
      "state": {
       "description_width": ""
      }
     },
     "d1633e762e0f4b83a34ac3a28b26ad65": {
      "model_module": "@jupyter-widgets/controls",
      "model_module_version": "1.0.0",
      "model_name": "LabelModel",
      "state": {
       "layout": "IPY_MODEL_2180455634f148a78dd8bc49fc5d6f5c",
       "style": "IPY_MODEL_93b2079702644b27967a61b9b8414c61",
       "value": "Способ доставки:"
      }
     },
     "d1a584c8dcc84f73981ef35370ccbdac": {
      "model_module": "@jupyter-widgets/base",
      "model_module_version": "1.0.0",
      "model_name": "LayoutModel",
      "state": {}
     },
     "d1e0b94ba8c8461a8b2bc588370efa0b": {
      "model_module": "@jupyter-widgets/base",
      "model_module_version": "1.0.0",
      "model_name": "LayoutModel",
      "state": {}
     },
     "d1ebe7bd9d8a44819448f56cd7b374b2": {
      "model_module": "@jupyter-widgets/controls",
      "model_module_version": "1.0.0",
      "model_name": "VBoxModel",
      "state": {
       "children": [
        "IPY_MODEL_81072c9ce86845438c33235f44b06b10",
        "IPY_MODEL_7c6ce49dc856478f9be3ef3b050d91a9"
       ],
       "layout": "IPY_MODEL_fa712110b6fe45a5bd93b43986546f9d"
      }
     },
     "d2b6e086c3f04fd6853a72e249814a5d": {
      "model_module": "@jupyter-widgets/base",
      "model_module_version": "1.0.0",
      "model_name": "LayoutModel",
      "state": {}
     },
     "d2cb3c92078c42e7aecdabbe0042c864": {
      "model_module": "@jupyter-widgets/base",
      "model_module_version": "1.0.0",
      "model_name": "LayoutModel",
      "state": {}
     },
     "d364fd5833274e8db7ecfe464b6ebe31": {
      "model_module": "@jupyter-widgets/base",
      "model_module_version": "1.0.0",
      "model_name": "LayoutModel",
      "state": {}
     },
     "d3aa0c41b5b646c8afb4d09849ecd30a": {
      "model_module": "@jupyter-widgets/base",
      "model_module_version": "1.0.0",
      "model_name": "LayoutModel",
      "state": {}
     },
     "d3bc6bd549fb4071b35a365a7dfca2be": {
      "model_module": "@jupyter-widgets/controls",
      "model_module_version": "1.0.0",
      "model_name": "ProgressStyleModel",
      "state": {
       "description_width": ""
      }
     },
     "d3d8a3dcc46f4c77ab6f284db1eb0175": {
      "model_module": "@jupyter-widgets/base",
      "model_module_version": "1.0.0",
      "model_name": "LayoutModel",
      "state": {}
     },
     "d4479fe12909433fae3baf93c59f50b7": {
      "model_module": "@jupyter-widgets/controls",
      "model_module_version": "1.0.0",
      "model_name": "LinkModel",
      "state": {
       "source": [
        "IPY_MODEL_19d13010a9344b8aad45925cbf2d6a6c",
        "value"
       ],
       "target": [
        "IPY_MODEL_05a0f6b47d254999b7eb9b0efaa58e44",
        "value"
       ]
      }
     },
     "d4a6d2d4fb814bb1aa0151f3e93d2f07": {
      "model_module": "@jupyter-widgets/controls",
      "model_module_version": "1.0.0",
      "model_name": "VBoxModel",
      "state": {
       "_dom_classes": [
        "widget-interact"
       ],
       "children": [
        "IPY_MODEL_4aae43d905114764aac866b93e5905e0",
        "IPY_MODEL_4800777b08c04929a2a2ad295875eb9c"
       ],
       "layout": "IPY_MODEL_973dd4a59d924386a268232c4a790f01"
      }
     },
     "d54f6b3cba2344408d85732566a239ef": {
      "model_module": "@jupyter-widgets/controls",
      "model_module_version": "1.0.0",
      "model_name": "VBoxModel",
      "state": {
       "_dom_classes": [
        "widget-interact"
       ],
       "children": [
        "IPY_MODEL_d659d779e2f14c8d91a4330b577e5b9a",
        "IPY_MODEL_599929fe44dc496fa988c31b6a2d8cfa"
       ],
       "layout": "IPY_MODEL_82dca6c941fe42bf9afb8b2aca096dc0"
      }
     },
     "d61c46222e124114bc3644463003a736": {
      "model_module": "@jupyter-widgets/output",
      "model_module_version": "1.0.0",
      "model_name": "OutputModel",
      "state": {
       "layout": "IPY_MODEL_4c23f4b16aca443b877d7e396dc66be5",
       "outputs": [
        {
         "data": {
          "text/plain": "('лопата', 'лопаталопата')"
         },
         "metadata": {},
         "output_type": "display_data"
        }
       ]
      }
     },
     "d64a16b0e14c479ca2fe7af86fe9d002": {
      "model_module": "@jupyter-widgets/controls",
      "model_module_version": "1.0.0",
      "model_name": "SliderStyleModel",
      "state": {
       "description_width": ""
      }
     },
     "d659d779e2f14c8d91a4330b577e5b9a": {
      "model_module": "@jupyter-widgets/controls",
      "model_module_version": "1.0.0",
      "model_name": "DropdownModel",
      "state": {
       "_options_labels": [
        "orange",
        "apple"
       ],
       "description": "x",
       "index": 0,
       "layout": "IPY_MODEL_2a5aba8581c848b9a7e669f275c2b6d9",
       "style": "IPY_MODEL_f9bb2f41f4084f58b54be8b4b0e45a03"
      }
     },
     "d6ca18d572774861b28cd396151b88d1": {
      "model_module": "@jupyter-widgets/base",
      "model_module_version": "1.0.0",
      "model_name": "LayoutModel",
      "state": {}
     },
     "d6ed8f92b3754fc8bbecff4cf089fa92": {
      "model_module": "@jupyter-widgets/output",
      "model_module_version": "1.0.0",
      "model_name": "OutputModel",
      "state": {
       "layout": "IPY_MODEL_aba3899d6acc4dcc93e369d4326aa45f",
       "outputs": [
        {
         "ename": "NameError",
         "evalue": "name 'plt' is not defined",
         "output_type": "error",
         "traceback": [
          "\u001b[1;31m---------------------------------------------------------------------------\u001b[0m",
          "\u001b[1;31mNameError\u001b[0m                                 Traceback (most recent call last)",
          "\u001b[1;32mD:\\Programs\\Anaconda3\\lib\\site-packages\\ipywidgets\\widgets\\interaction.py\u001b[0m in \u001b[0;36mupdate\u001b[1;34m(self, *args)\u001b[0m\n\u001b[0;32m    248\u001b[0m                     \u001b[0mvalue\u001b[0m \u001b[1;33m=\u001b[0m \u001b[0mwidget\u001b[0m\u001b[1;33m.\u001b[0m\u001b[0mget_interact_value\u001b[0m\u001b[1;33m(\u001b[0m\u001b[1;33m)\u001b[0m\u001b[1;33m\u001b[0m\u001b[0m\n\u001b[0;32m    249\u001b[0m                     \u001b[0mself\u001b[0m\u001b[1;33m.\u001b[0m\u001b[0mkwargs\u001b[0m\u001b[1;33m[\u001b[0m\u001b[0mwidget\u001b[0m\u001b[1;33m.\u001b[0m\u001b[0m_kwarg\u001b[0m\u001b[1;33m]\u001b[0m \u001b[1;33m=\u001b[0m \u001b[0mvalue\u001b[0m\u001b[1;33m\u001b[0m\u001b[0m\n\u001b[1;32m--> 250\u001b[1;33m                 \u001b[0mself\u001b[0m\u001b[1;33m.\u001b[0m\u001b[0mresult\u001b[0m \u001b[1;33m=\u001b[0m \u001b[0mself\u001b[0m\u001b[1;33m.\u001b[0m\u001b[0mf\u001b[0m\u001b[1;33m(\u001b[0m\u001b[1;33m**\u001b[0m\u001b[0mself\u001b[0m\u001b[1;33m.\u001b[0m\u001b[0mkwargs\u001b[0m\u001b[1;33m)\u001b[0m\u001b[1;33m\u001b[0m\u001b[0m\n\u001b[0m\u001b[0;32m    251\u001b[0m                 \u001b[0mshow_inline_matplotlib_plots\u001b[0m\u001b[1;33m(\u001b[0m\u001b[1;33m)\u001b[0m\u001b[1;33m\u001b[0m\u001b[0m\n\u001b[0;32m    252\u001b[0m                 \u001b[1;32mif\u001b[0m \u001b[0mself\u001b[0m\u001b[1;33m.\u001b[0m\u001b[0mauto_display\u001b[0m \u001b[1;32mand\u001b[0m \u001b[0mself\u001b[0m\u001b[1;33m.\u001b[0m\u001b[0mresult\u001b[0m \u001b[1;32mis\u001b[0m \u001b[1;32mnot\u001b[0m \u001b[1;32mNone\u001b[0m\u001b[1;33m:\u001b[0m\u001b[1;33m\u001b[0m\u001b[0m\n",
          "\u001b[1;32m<ipython-input-33-a9bc97e1561c>\u001b[0m in \u001b[0;36mh\u001b[1;34m(n)\u001b[0m\n\u001b[0;32m      1\u001b[0m \u001b[1;32mdef\u001b[0m \u001b[0mh\u001b[0m\u001b[1;33m(\u001b[0m\u001b[0mn\u001b[0m\u001b[1;33m)\u001b[0m\u001b[1;33m:\u001b[0m\u001b[1;33m\u001b[0m\u001b[0m\n\u001b[0;32m      2\u001b[0m     \u001b[0mx\u001b[0m \u001b[1;33m=\u001b[0m \u001b[0mnp\u001b[0m\u001b[1;33m.\u001b[0m\u001b[0mlinspace\u001b[0m\u001b[1;33m(\u001b[0m\u001b[1;36m0\u001b[0m\u001b[1;33m,\u001b[0m \u001b[1;36m5\u001b[0m\u001b[1;33m,\u001b[0m \u001b[1;36m10\u001b[0m\u001b[1;33m)\u001b[0m\u001b[1;33m\u001b[0m\u001b[0m\n\u001b[1;32m----> 3\u001b[1;33m     \u001b[0mfig\u001b[0m\u001b[1;33m,\u001b[0m \u001b[0max1\u001b[0m \u001b[1;33m=\u001b[0m \u001b[0mplt\u001b[0m\u001b[1;33m.\u001b[0m\u001b[0msubplots\u001b[0m\u001b[1;33m(\u001b[0m\u001b[1;33m)\u001b[0m\u001b[1;33m\u001b[0m\u001b[0m\n\u001b[0m\u001b[0;32m      4\u001b[0m \u001b[1;33m\u001b[0m\u001b[0m\n\u001b[0;32m      5\u001b[0m     \u001b[0max1\u001b[0m\u001b[1;33m.\u001b[0m\u001b[0mplot\u001b[0m\u001b[1;33m(\u001b[0m\u001b[0mx\u001b[0m\u001b[1;33m,\u001b[0m \u001b[1;33m(\u001b[0m\u001b[1;33m-\u001b[0m\u001b[0mx\u001b[0m\u001b[1;33m**\u001b[0m\u001b[0mn\u001b[0m \u001b[1;33m+\u001b[0m \u001b[0mx\u001b[0m\u001b[1;33m**\u001b[0m\u001b[1;33m(\u001b[0m\u001b[0mn\u001b[0m\u001b[1;33m-\u001b[0m\u001b[1;36m1\u001b[0m\u001b[1;33m)\u001b[0m \u001b[1;33m+\u001b[0m \u001b[0mx\u001b[0m \u001b[1;33m**\u001b[0m\u001b[1;33m(\u001b[0m\u001b[0mn\u001b[0m\u001b[1;33m-\u001b[0m\u001b[1;36m2\u001b[0m\u001b[1;33m)\u001b[0m\u001b[1;33m)\u001b[0m \u001b[1;33m/\u001b[0m \u001b[0mn\u001b[0m \u001b[1;33m-\u001b[0m \u001b[0mn\u001b[0m \u001b[1;33m*\u001b[0m \u001b[0mnp\u001b[0m\u001b[1;33m.\u001b[0m\u001b[0mlog\u001b[0m\u001b[1;33m(\u001b[0m\u001b[0mn\u001b[0m\u001b[1;33m)\u001b[0m \u001b[1;33m+\u001b[0m \u001b[0mn\u001b[0m \u001b[1;33m*\u001b[0m \u001b[0mnp\u001b[0m\u001b[1;33m.\u001b[0m\u001b[0mexp\u001b[0m\u001b[1;33m(\u001b[0m\u001b[0mn\u001b[0m\u001b[1;33m)\u001b[0m\u001b[1;33m,\u001b[0m \u001b[0mlw\u001b[0m\u001b[1;33m=\u001b[0m\u001b[1;36m2\u001b[0m\u001b[1;33m,\u001b[0m \u001b[0mcolor\u001b[0m\u001b[1;33m=\u001b[0m\u001b[1;34m\"blue\"\u001b[0m\u001b[1;33m)\u001b[0m\u001b[1;33m\u001b[0m\u001b[0m\n",
          "\u001b[1;31mNameError\u001b[0m: name 'plt' is not defined"
         ]
        }
       ]
      }
     },
     "d7eda8ea9b5348a699c24e5986205b82": {
      "model_module": "@jupyter-widgets/base",
      "model_module_version": "1.0.0",
      "model_name": "LayoutModel",
      "state": {}
     },
     "d8c822644bfb4386b603a998f10498ca": {
      "model_module": "@jupyter-widgets/base",
      "model_module_version": "1.0.0",
      "model_name": "LayoutModel",
      "state": {}
     },
     "d96841c74f2f43c98c3dc415b6565c82": {
      "model_module": "@jupyter-widgets/base",
      "model_module_version": "1.0.0",
      "model_name": "LayoutModel",
      "state": {}
     },
     "da66096a106d4280b26ba15e3107be17": {
      "model_module": "@jupyter-widgets/base",
      "model_module_version": "1.0.0",
      "model_name": "LayoutModel",
      "state": {}
     },
     "db57438f5d6840a6b83f427218ca01e8": {
      "model_module": "@jupyter-widgets/controls",
      "model_module_version": "1.0.0",
      "model_name": "DescriptionStyleModel",
      "state": {
       "description_width": ""
      }
     },
     "dba3fff4da1a4bd8bba245d47f79177a": {
      "model_module": "@jupyter-widgets/controls",
      "model_module_version": "1.0.0",
      "model_name": "TextModel",
      "state": {
       "description": "Адрес:",
       "layout": "IPY_MODEL_25c9543827f04c99a58697dc4af1b20b",
       "placeholder": "Не дом и не улица",
       "style": "IPY_MODEL_4c62de0582bf4400a812e752023a8e12",
       "value": "Адресававыаывававаыавыаваывав"
      }
     },
     "dbdf9970df19416aa90c0f2ad5002439": {
      "model_module": "@jupyter-widgets/output",
      "model_module_version": "1.0.0",
      "model_name": "OutputModel",
      "state": {
       "layout": "IPY_MODEL_7c4fcaec5802414899f66f67d2b38f36",
       "outputs": [
        {
         "data": {
          "text/plain": "('Текст', 'ТекстТекст')"
         },
         "metadata": {},
         "output_type": "display_data"
        }
       ]
      }
     },
     "dbe91b156ba0471fba39710670e14198": {
      "model_module": "@jupyter-widgets/base",
      "model_module_version": "1.0.0",
      "model_name": "LayoutModel",
      "state": {}
     },
     "dc06e91732b34045a9a5324950619572": {
      "model_module": "@jupyter-widgets/base",
      "model_module_version": "1.0.0",
      "model_name": "LayoutModel",
      "state": {}
     },
     "dc3e92d6a50544dbae42eec915939d6c": {
      "model_module": "@jupyter-widgets/base",
      "model_module_version": "1.0.0",
      "model_name": "LayoutModel",
      "state": {}
     },
     "dc7cfa728bdc425eb413d74dfe501fdf": {
      "model_module": "@jupyter-widgets/base",
      "model_module_version": "1.0.0",
      "model_name": "LayoutModel",
      "state": {}
     },
     "dd698359051d493fbd1434d6d68a1d9f": {
      "model_module": "@jupyter-widgets/output",
      "model_module_version": "1.0.0",
      "model_name": "OutputModel",
      "state": {
       "layout": "IPY_MODEL_cda3743d15eb4623a189d172d6207244",
       "outputs": [
        {
         "data": {
          "text/plain": "(10, '1010')"
         },
         "metadata": {},
         "output_type": "display_data"
        }
       ]
      }
     },
     "ddeed80b21ab49bbb4b3d3cec980ba68": {
      "model_module": "@jupyter-widgets/base",
      "model_module_version": "1.0.0",
      "model_name": "LayoutModel",
      "state": {}
     },
     "ddf6607012214ff4895d93d3662cf952": {
      "model_module": "@jupyter-widgets/controls",
      "model_module_version": "1.0.0",
      "model_name": "DescriptionStyleModel",
      "state": {
       "description_width": ""
      }
     },
     "df17830816224d7e8e5830ec751d8ae8": {
      "model_module": "@jupyter-widgets/controls",
      "model_module_version": "1.0.0",
      "model_name": "VBoxModel",
      "state": {
       "_dom_classes": [
        "widget-interact"
       ],
       "children": [
        "IPY_MODEL_ade7fdb38e0b4f89b3edd480a3d6406e",
        "IPY_MODEL_e464e905eacd4f789e4722e068d66eba"
       ],
       "layout": "IPY_MODEL_ecbfdb4e882d4ab4baa6db6c6cb0f215"
      }
     },
     "e0d86ea67cfe41898512d10c6decb81c": {
      "model_module": "@jupyter-widgets/controls",
      "model_module_version": "1.0.0",
      "model_name": "DropdownModel",
      "state": {
       "_options_labels": [
        "orange",
        "apple"
       ],
       "description": "x",
       "index": 0,
       "layout": "IPY_MODEL_513b01011b764536be7d2e8647813f49",
       "style": "IPY_MODEL_652c08484ba34c119c0dbb3f50c03663"
      }
     },
     "e11119172e4b4dcdbe7e87ebb9972861": {
      "model_module": "@jupyter-widgets/base",
      "model_module_version": "1.0.0",
      "model_name": "LayoutModel",
      "state": {
       "width": "40%"
      }
     },
     "e1a11a94083444d0b307e2c2d1b8c2ee": {
      "model_module": "@jupyter-widgets/base",
      "model_module_version": "1.0.0",
      "model_name": "LayoutModel",
      "state": {}
     },
     "e1bc77724f5b4ae09f2a23fce3d60c17": {
      "model_module": "@jupyter-widgets/controls",
      "model_module_version": "1.0.0",
      "model_name": "ProgressStyleModel",
      "state": {
       "description_width": ""
      }
     },
     "e21e28b817274d5f9c43b81ea3b067b1": {
      "model_module": "@jupyter-widgets/controls",
      "model_module_version": "1.0.0",
      "model_name": "IntSliderModel",
      "state": {
       "description": "x",
       "layout": "IPY_MODEL_322f7807919f4c31b33245e0f1a5abaf",
       "max": 300,
       "min": -40,
       "step": 5,
       "style": "IPY_MODEL_9a8ba7acf72a43a3a503fdd775f9e5fe",
       "value": 110
      }
     },
     "e242f8055a954bf38a62cb8a679052af": {
      "model_module": "@jupyter-widgets/output",
      "model_module_version": "1.0.0",
      "model_name": "OutputModel",
      "state": {
       "layout": "IPY_MODEL_392091beb5024deab14971b61842163e",
       "outputs": [
        {
         "data": {
          "text/plain": "10"
         },
         "metadata": {},
         "output_type": "display_data"
        }
       ]
      }
     },
     "e2478cfd7c144473a22020c10a70d54c": {
      "model_module": "@jupyter-widgets/controls",
      "model_module_version": "1.0.0",
      "model_name": "DescriptionStyleModel",
      "state": {
       "description_width": ""
      }
     },
     "e27c6dd845b9438e9b99e37a2ee2c5a3": {
      "model_module": "@jupyter-widgets/controls",
      "model_module_version": "1.0.0",
      "model_name": "DescriptionStyleModel",
      "state": {
       "description_width": ""
      }
     },
     "e34f515cec12429db50b12e8bcd4f436": {
      "model_module": "@jupyter-widgets/base",
      "model_module_version": "1.0.0",
      "model_name": "LayoutModel",
      "state": {}
     },
     "e393a86a39ac4ebab85f5aaae5cc9a5c": {
      "model_module": "@jupyter-widgets/base",
      "model_module_version": "1.0.0",
      "model_name": "LayoutModel",
      "state": {}
     },
     "e3ceaa1f3ebd481893cedf2d75175f86": {
      "model_module": "@jupyter-widgets/controls",
      "model_module_version": "1.0.0",
      "model_name": "VBoxModel",
      "state": {
       "children": [
        "IPY_MODEL_46af46ccac4443e6ae4218d55b048fed",
        "IPY_MODEL_a9dc7794f53c4ee69c5cb31fdaf37956"
       ],
       "layout": "IPY_MODEL_9ac7e25071f849a088e23cab98c59516"
      }
     },
     "e464e905eacd4f789e4722e068d66eba": {
      "model_module": "@jupyter-widgets/output",
      "model_module_version": "1.0.0",
      "model_name": "OutputModel",
      "state": {
       "layout": "IPY_MODEL_d1a584c8dcc84f73981ef35370ccbdac",
       "outputs": [
        {
         "data": {
          "text/plain": "3"
         },
         "metadata": {},
         "output_type": "display_data"
        }
       ]
      }
     },
     "e4dc2d954ec846ab853c9b674b3dade6": {
      "model_module": "@jupyter-widgets/controls",
      "model_module_version": "1.0.0",
      "model_name": "VBoxModel",
      "state": {
       "_dom_classes": [
        "widget-interact"
       ],
       "children": [
        "IPY_MODEL_710c6b8d0a484bf28722f152c91b4bd0",
        "IPY_MODEL_f17f5efa57764f498819426e5635e5ca"
       ],
       "layout": "IPY_MODEL_0137e7043d8242e493579be3ca832cd5"
      }
     },
     "e64d640cdc7a448a8a25d44a7fa70065": {
      "model_module": "@jupyter-widgets/base",
      "model_module_version": "1.0.0",
      "model_name": "LayoutModel",
      "state": {}
     },
     "e66361bfbf904abd84e1f626e2cc835e": {
      "model_module": "@jupyter-widgets/base",
      "model_module_version": "1.0.0",
      "model_name": "LayoutModel",
      "state": {}
     },
     "e67f03a64fe0449f83127adb44afde28": {
      "model_module": "@jupyter-widgets/controls",
      "model_module_version": "1.0.0",
      "model_name": "DescriptionStyleModel",
      "state": {
       "description_width": ""
      }
     },
     "e6d7e64d7d434b1a9c582b412807f6c2": {
      "model_module": "@jupyter-widgets/base",
      "model_module_version": "1.0.0",
      "model_name": "LayoutModel",
      "state": {}
     },
     "e74257fcf6734c87a8c068a95ec593b4": {
      "model_module": "@jupyter-widgets/output",
      "model_module_version": "1.0.0",
      "model_name": "OutputModel",
      "state": {
       "layout": "IPY_MODEL_119f6a533e8d462aa9a5844cba0ecfdf",
       "outputs": [
        {
         "name": "stdout",
         "output_type": "stream",
         "text": "20.0 10.0\n"
        }
       ]
      }
     },
     "e75f50d8feeb4855b339bb2728c4b08b": {
      "model_module": "@jupyter-widgets/output",
      "model_module_version": "1.0.0",
      "model_name": "OutputModel",
      "state": {
       "layout": "IPY_MODEL_46e3ccc6253846cc8c4db2d3ef7fa1a4",
       "outputs": [
        {
         "data": {
          "text/plain": "('лопата', 'лопаталопата')"
         },
         "metadata": {},
         "output_type": "display_data"
        }
       ]
      }
     },
     "e847bd35573f4a72a6f90c44fd08e137": {
      "model_module": "@jupyter-widgets/base",
      "model_module_version": "1.0.0",
      "model_name": "LayoutModel",
      "state": {}
     },
     "e86e723046f14653b8c4ccde019afe41": {
      "model_module": "@jupyter-widgets/output",
      "model_module_version": "1.0.0",
      "model_name": "OutputModel",
      "state": {
       "layout": "IPY_MODEL_42a0bb7644314dcf8bfcaf14749bb5f1",
       "outputs": [
        {
         "name": "stdout",
         "output_type": "stream",
         "text": "Высота: 2. Ширина: 5.0.\n"
        }
       ]
      }
     },
     "e873fc274b5c4774b8b259aa19f636c3": {
      "model_module": "@jupyter-widgets/base",
      "model_module_version": "1.0.0",
      "model_name": "LayoutModel",
      "state": {}
     },
     "e88f2a34dcc843c6b09d849678028363": {
      "model_module": "@jupyter-widgets/controls",
      "model_module_version": "1.0.0",
      "model_name": "HBoxModel",
      "state": {
       "children": [
        "IPY_MODEL_4ea6826839244838a4bb643429c01fe7",
        "IPY_MODEL_4ce9f4cdd06d4dc482ab0f2f670efe52"
       ],
       "layout": "IPY_MODEL_d6ca18d572774861b28cd396151b88d1"
      }
     },
     "e8cb89175732457f95768cc4f596b942": {
      "model_module": "@jupyter-widgets/controls",
      "model_module_version": "1.0.0",
      "model_name": "SliderStyleModel",
      "state": {
       "description_width": ""
      }
     },
     "e8dd53df63d04166bb7b39d3877c15aa": {
      "model_module": "@jupyter-widgets/base",
      "model_module_version": "1.0.0",
      "model_name": "LayoutModel",
      "state": {}
     },
     "ea55c271a7dd4bacbb8198ae64015602": {
      "model_module": "@jupyter-widgets/controls",
      "model_module_version": "1.0.0",
      "model_name": "VBoxModel",
      "state": {
       "_dom_classes": [
        "widget-interact"
       ],
       "children": [
        "IPY_MODEL_a153460e967441c1b05d8dcc1e71286f",
        "IPY_MODEL_3be770a1b3fb4997894c8cbf083d9a65",
        "IPY_MODEL_882df82b227146a38da77f35a94f2882"
       ],
       "layout": "IPY_MODEL_625f2cd5aec9477fb79f55434b11b1ff"
      }
     },
     "ea71c3d1fec84fe495fa3a476af0256d": {
      "model_module": "@jupyter-widgets/base",
      "model_module_version": "1.0.0",
      "model_name": "LayoutModel",
      "state": {}
     },
     "eaa4e4cf48c641ada0bd184a7d392c58": {
      "model_module": "@jupyter-widgets/base",
      "model_module_version": "1.0.0",
      "model_name": "LayoutModel",
      "state": {}
     },
     "eabc90cd127e41278b3b96110d554947": {
      "model_module": "@jupyter-widgets/controls",
      "model_module_version": "1.0.0",
      "model_name": "SliderStyleModel",
      "state": {
       "description_width": ""
      }
     },
     "eac8a4b8ea2a4cb1a1712b2ec869e68e": {
      "model_module": "@jupyter-widgets/base",
      "model_module_version": "1.0.0",
      "model_name": "LayoutModel",
      "state": {}
     },
     "eb9f22744ada418288fe9799a76062c0": {
      "model_module": "@jupyter-widgets/controls",
      "model_module_version": "1.0.0",
      "model_name": "LabelModel",
      "state": {
       "layout": "IPY_MODEL_00ab934b6b77497a9cf8007ac0fcd529",
       "style": "IPY_MODEL_3476c8d12ec943358f06bd6a0e77bef1",
       "value": "Дата доставки:"
      }
     },
     "ec3622111b4d439d88eacc3ade3bc04a": {
      "model_module": "@jupyter-widgets/base",
      "model_module_version": "1.0.0",
      "model_name": "LayoutModel",
      "state": {}
     },
     "ec9920d8894841e4851088247fd2459f": {
      "model_module": "@jupyter-widgets/controls",
      "model_module_version": "1.0.0",
      "model_name": "DescriptionStyleModel",
      "state": {
       "description_width": ""
      }
     },
     "ecae6e886b994c31a1f1cbfa6ef40441": {
      "model_module": "@jupyter-widgets/controls",
      "model_module_version": "1.0.0",
      "model_name": "IntSliderModel",
      "state": {
       "description": "Slider",
       "layout": "IPY_MODEL_fd1e15525e6644b9be98f157d19efd0d",
       "max": 5,
       "min": -5,
       "style": "IPY_MODEL_404ee9d1415b4fd5bea6e271243d0e69",
       "value": 1
      }
     },
     "ecbbe0ac5d0943979d9006dad156266f": {
      "model_module": "@jupyter-widgets/base",
      "model_module_version": "1.0.0",
      "model_name": "LayoutModel",
      "state": {}
     },
     "ecbfdb4e882d4ab4baa6db6c6cb0f215": {
      "model_module": "@jupyter-widgets/base",
      "model_module_version": "1.0.0",
      "model_name": "LayoutModel",
      "state": {}
     },
     "ecff00b8a5374f8dbadb8537299ba842": {
      "model_module": "@jupyter-widgets/controls",
      "model_module_version": "1.0.0",
      "model_name": "FloatSliderModel",
      "state": {
       "description": "Ширина",
       "layout": "IPY_MODEL_dc3e92d6a50544dbae42eec915939d6c",
       "max": 80,
       "min": 2,
       "step": 0.5,
       "style": "IPY_MODEL_a56d1acc75cf4db3a3fe1af402495777",
       "value": 5
      }
     },
     "ed85d6f0c4804e75941e8fade934e4ee": {
      "model_module": "@jupyter-widgets/base",
      "model_module_version": "1.0.0",
      "model_name": "LayoutModel",
      "state": {}
     },
     "ee37d851a5e04bf99b4935312a20531c": {
      "model_module": "@jupyter-widgets/base",
      "model_module_version": "1.0.0",
      "model_name": "LayoutModel",
      "state": {}
     },
     "eefd0d573c8a4066b098b83d8e4ff94c": {
      "model_module": "@jupyter-widgets/controls",
      "model_module_version": "1.0.0",
      "model_name": "VBoxModel",
      "state": {
       "children": [
        "IPY_MODEL_ab667f95c0c841cd9de4b3fc9692ba61",
        "IPY_MODEL_ae2eefc4c33e4a91ac951b1ff52dcc27"
       ],
       "layout": "IPY_MODEL_c77b30bd38b24b1aa2143826245fddef"
      }
     },
     "ef321fcfb6174ff0b36dd02b010726c8": {
      "model_module": "@jupyter-widgets/base",
      "model_module_version": "1.0.0",
      "model_name": "LayoutModel",
      "state": {}
     },
     "efb9d05be584450f9ef06727848d33b9": {
      "model_module": "@jupyter-widgets/output",
      "model_module_version": "1.0.0",
      "model_name": "OutputModel",
      "state": {
       "layout": "IPY_MODEL_e6d7e64d7d434b1a9c582b412807f6c2",
       "outputs": [
        {
         "data": {
          "text/plain": "1000"
         },
         "metadata": {},
         "output_type": "display_data"
        }
       ]
      }
     },
     "f039aab6eb8c44ddb44bf21500cad909": {
      "model_module": "@jupyter-widgets/controls",
      "model_module_version": "1.0.0",
      "model_name": "FloatSliderModel",
      "state": {
       "description": "x",
       "layout": "IPY_MODEL_46515e7c19b04e30884c51ec54ebe489",
       "max": 20,
       "step": 0.05,
       "style": "IPY_MODEL_06719a6a6fed49348f84ceaa4455d955",
       "value": 20
      }
     },
     "f10edac12c484ba79fcd2da3d6ee5b5f": {
      "model_module": "@jupyter-widgets/controls",
      "model_module_version": "1.0.0",
      "model_name": "IntSliderModel",
      "state": {
       "layout": "IPY_MODEL_8bc3f9bd7afe4625baf4e043aae4c62a",
       "style": "IPY_MODEL_51156fa447424cba950c78ab3bfbd420",
       "value": 21
      }
     },
     "f1601002ee5544f798228295fc558876": {
      "model_module": "@jupyter-widgets/base",
      "model_module_version": "1.0.0",
      "model_name": "LayoutModel",
      "state": {}
     },
     "f17f5efa57764f498819426e5635e5ca": {
      "model_module": "@jupyter-widgets/output",
      "model_module_version": "1.0.0",
      "model_name": "OutputModel",
      "state": {
       "layout": "IPY_MODEL_ba2682ef919a4f9896b653f6bdb1e07d",
       "outputs": [
        {
         "data": {
          "text/plain": "(True, 'TrueTrue')"
         },
         "metadata": {},
         "output_type": "display_data"
        }
       ]
      }
     },
     "f19a346b51224874b5b614be58c49d1e": {
      "model_module": "@jupyter-widgets/base",
      "model_module_version": "1.0.0",
      "model_name": "LayoutModel",
      "state": {}
     },
     "f24d29be724a462ca9c63c13ffe9d9b9": {
      "model_module": "@jupyter-widgets/base",
      "model_module_version": "1.0.0",
      "model_name": "LayoutModel",
      "state": {}
     },
     "f29a70ffeffb4cefba8db6ce91de01ad": {
      "model_module": "@jupyter-widgets/base",
      "model_module_version": "1.0.0",
      "model_name": "LayoutModel",
      "state": {}
     },
     "f3252bc9d1cc4dc0bd7dd8e23c22f6e3": {
      "model_module": "@jupyter-widgets/controls",
      "model_module_version": "1.0.0",
      "model_name": "IntSliderModel",
      "state": {
       "description": "Continuous",
       "layout": "IPY_MODEL_92e82c886bf54fc397e5fe7241d290e2",
       "style": "IPY_MODEL_0aa6b3416e4b40a0a06f25ab73cf75ef",
       "value": 50
      }
     },
     "f4931a8660994e36955b761fcd7a10b4": {
      "model_module": "@jupyter-widgets/controls",
      "model_module_version": "1.0.0",
      "model_name": "VBoxModel",
      "state": {
       "children": [
        "IPY_MODEL_053a15fca25e41dfa9bee8521254f256",
        "IPY_MODEL_1b9332f586594a4584c57f7fed76c6dc"
       ],
       "layout": "IPY_MODEL_f56d1af713ac41338f360e117012cb54"
      }
     },
     "f4b03a73e6cb4ae785efec877b42504a": {
      "model_module": "@jupyter-widgets/controls",
      "model_module_version": "1.0.0",
      "model_name": "LabelModel",
      "state": {
       "layout": "IPY_MODEL_ea71c3d1fec84fe495fa3a476af0256d",
       "style": "IPY_MODEL_33b5178d842d43a4b13295dc23141346",
       "value": "Дата доставки:"
      }
     },
     "f5234e7941344aa0a3ba98a39f355e56": {
      "model_module": "@jupyter-widgets/controls",
      "model_module_version": "1.0.0",
      "model_name": "IntTextModel",
      "state": {
       "continuous_update": true,
       "description": "Continuous",
       "layout": "IPY_MODEL_5a113809455a4934942387fa662c1bec",
       "step": 1,
       "style": "IPY_MODEL_a6c7ea7053ac4250a137cabda6fd8d17",
       "value": 50
      }
     },
     "f56d1af713ac41338f360e117012cb54": {
      "model_module": "@jupyter-widgets/base",
      "model_module_version": "1.0.0",
      "model_name": "LayoutModel",
      "state": {}
     },
     "f5721be567c34dd5815cd888c4abc0d1": {
      "model_module": "@jupyter-widgets/controls",
      "model_module_version": "1.0.0",
      "model_name": "DescriptionStyleModel",
      "state": {
       "description_width": ""
      }
     },
     "f5e470c4615f4fb8a12b1c9a5bf489c9": {
      "model_module": "@jupyter-widgets/controls",
      "model_module_version": "1.0.0",
      "model_name": "HBoxModel",
      "state": {
       "children": [
        "IPY_MODEL_cf0a86c046aa429787ddaefc406dc3cc",
        "IPY_MODEL_09b7e4f5592a4c4f9e1cdd4e347e038c"
       ],
       "layout": "IPY_MODEL_41b83451a3cd421788a2a64ce8dcfa22"
      }
     },
     "f647006475884da38741de8aeaf0d881": {
      "model_module": "@jupyter-widgets/controls",
      "model_module_version": "1.0.0",
      "model_name": "SelectMultipleModel",
      "state": {
       "_options_labels": [
        "Ручка",
        "Стикер",
        "Скидка"
       ],
       "description": "Бонусы",
       "index": [
        1
       ],
       "layout": "IPY_MODEL_ec3622111b4d439d88eacc3ade3bc04a",
       "rows": 5,
       "style": "IPY_MODEL_7d53dd224fcd4cf8864ee931285fad6f"
      }
     },
     "f670279f5cf14a2da6e9111ebd2d5a11": {
      "model_module": "@jupyter-widgets/controls",
      "model_module_version": "1.0.0",
      "model_name": "IntProgressModel",
      "state": {
       "description": "Loading:",
       "layout": "IPY_MODEL_34f49018b605498692b209c2de946436",
       "max": 10,
       "style": "IPY_MODEL_1d3a1f77eb2643bdb205ffdbd782c188",
       "value": 1
      }
     },
     "f6d5da9922934042842e19676599ea8e": {
      "model_module": "@jupyter-widgets/controls",
      "model_module_version": "1.0.0",
      "model_name": "TextModel",
      "state": {
       "description": "P1",
       "layout": "IPY_MODEL_b583378aba8643118edfc90c01aa04b8",
       "style": "IPY_MODEL_07f478cc400542cb8a8396cad68865fc"
      }
     },
     "f7321cc7c52b4aa19473330dcfe68c3c": {
      "model_module": "@jupyter-widgets/base",
      "model_module_version": "1.0.0",
      "model_name": "LayoutModel",
      "state": {}
     },
     "f80ceeb8b3c042f7a1033a72e7ec675b": {
      "model_module": "@jupyter-widgets/controls",
      "model_module_version": "1.0.0",
      "model_name": "ButtonStyleModel",
      "state": {}
     },
     "f87ecf0b3a3a462e8a81c9da9d1e88a9": {
      "model_module": "@jupyter-widgets/base",
      "model_module_version": "1.0.0",
      "model_name": "LayoutModel",
      "state": {}
     },
     "f8b53306ee764e6282fcc2f61c5f403f": {
      "model_module": "@jupyter-widgets/controls",
      "model_module_version": "1.0.0",
      "model_name": "SliderStyleModel",
      "state": {
       "description_width": ""
      }
     },
     "f9b147d3970f4386b050e58b2987e5da": {
      "model_module": "@jupyter-widgets/base",
      "model_module_version": "1.0.0",
      "model_name": "LayoutModel",
      "state": {}
     },
     "f9bb2f41f4084f58b54be8b4b0e45a03": {
      "model_module": "@jupyter-widgets/controls",
      "model_module_version": "1.0.0",
      "model_name": "DescriptionStyleModel",
      "state": {
       "description_width": ""
      }
     },
     "f9bb4e587fb244ce83efb4e1d2d85bef": {
      "model_module": "@jupyter-widgets/controls",
      "model_module_version": "1.0.0",
      "model_name": "VBoxModel",
      "state": {
       "_dom_classes": [
        "widget-interact"
       ],
       "children": [
        "IPY_MODEL_e21e28b817274d5f9c43b81ea3b067b1",
        "IPY_MODEL_42f9eccc6db54fc89496e2c973e01639"
       ],
       "layout": "IPY_MODEL_76b2bb8930254a779442386ec4606778"
      }
     },
     "fa15e826a9f843f9b3b60c325480a2fa": {
      "model_module": "@jupyter-widgets/controls",
      "model_module_version": "1.0.0",
      "model_name": "AccordionModel",
      "state": {
       "_titles": {
        "0": "Способ доставки:",
        "1": "Способ оплаты:",
        "2": "Дата доставки:",
        "3": "Время доставки:",
        "4": "Комментарий:",
        "5": "Адрес доставки:"
       },
       "children": [
        "IPY_MODEL_56f2da83c6d2473e8844f54f54f9c3c1",
        "IPY_MODEL_3b85f44ad166465bb6e674685b039995",
        "IPY_MODEL_04d448be457846cba0b90d9b5026da07",
        "IPY_MODEL_98e768c147614a649a896675d0035430",
        "IPY_MODEL_97faf941d1d44d578181995dce139e8a",
        "IPY_MODEL_b0a2fc3ca69c4b1397c1b4beac00611c"
       ],
       "layout": "IPY_MODEL_6e623da620354d9fa811ec07712808cd"
      }
     },
     "fa712110b6fe45a5bd93b43986546f9d": {
      "model_module": "@jupyter-widgets/base",
      "model_module_version": "1.0.0",
      "model_name": "LayoutModel",
      "state": {}
     },
     "facb72a7f4a048d89a110b80345d5714": {
      "model_module": "@jupyter-widgets/controls",
      "model_module_version": "1.0.0",
      "model_name": "LabelModel",
      "state": {
       "layout": "IPY_MODEL_657644943ca94dcfa317ec1fb2aeba2b",
       "style": "IPY_MODEL_560dc780abad44a3880319d043d6ec00",
       "value": "Способ доставки:"
      }
     },
     "fc00d966e59a476eaf87a5a1ba44f47a": {
      "model_module": "@jupyter-widgets/base",
      "model_module_version": "1.0.0",
      "model_name": "LayoutModel",
      "state": {}
     },
     "fd1e15525e6644b9be98f157d19efd0d": {
      "model_module": "@jupyter-widgets/base",
      "model_module_version": "1.0.0",
      "model_name": "LayoutModel",
      "state": {}
     },
     "fd51a8cff1ae4c84a2350ae25ad348d3": {
      "model_module": "@jupyter-widgets/controls",
      "model_module_version": "1.0.0",
      "model_name": "SliderStyleModel",
      "state": {
       "description_width": ""
      }
     },
     "ff77a72c5756467387369428f86f9328": {
      "model_module": "@jupyter-widgets/base",
      "model_module_version": "1.0.0",
      "model_name": "LayoutModel",
      "state": {}
     }
    },
    "version_major": 2,
    "version_minor": 0
   }
  }
 },
 "nbformat": 4,
 "nbformat_minor": 2
}
