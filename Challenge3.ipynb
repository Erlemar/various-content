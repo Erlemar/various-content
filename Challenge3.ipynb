{
 "cells": [
  {
   "cell_type": "code",
   "execution_count": 1,
   "metadata": {
    "collapsed": true
   },
   "outputs": [],
   "source": [
    "import pandas as pd"
   ]
  },
  {
   "cell_type": "code",
   "execution_count": 2,
   "metadata": {
    "collapsed": false
   },
   "outputs": [],
   "source": [
    "data = pd.read_excel('UCI/default of credit card clients.xls', skiprows=1)"
   ]
  },
  {
   "cell_type": "code",
   "execution_count": 13,
   "metadata": {
    "collapsed": false
   },
   "outputs": [
    {
     "data": {
      "text/plain": [
       "140000.0"
      ]
     },
     "execution_count": 13,
     "metadata": {},
     "output_type": "execute_result"
    }
   ],
   "source": [
    "data.LIMIT_BAL.median()"
   ]
  },
  {
   "cell_type": "code",
   "execution_count": 14,
   "metadata": {
    "collapsed": false
   },
   "outputs": [
    {
     "name": "stdout",
     "output_type": "stream",
     "text": [
      "SEX\n",
      "Female    0.2212\n",
      "Name: default payment next month, dtype: float64\n"
     ]
    }
   ],
   "source": [
    "data['SEX'] = data['SEX'].apply(lambda x: 'Male' if x == 1 else 'Female')\n",
    "print(data.groupby(['SEX'])['default payment next month'].mean())"
   ]
  },
  {
   "cell_type": "code",
   "execution_count": 15,
   "metadata": {
    "collapsed": false
   },
   "outputs": [
    {
     "name": "stdout",
     "output_type": "stream",
     "text": [
      "Education\n",
      "High school    0.251576\n",
      "Other          0.215245\n",
      "Name: default payment next month, dtype: float64\n"
     ]
    }
   ],
   "source": [
    "data['Education'] = data['EDUCATION'].apply(lambda x: 'High school' if x == 3 else 'Other')\n",
    "print(data.groupby(['Education'])['default payment next month'].mean())"
   ]
  },
  {
   "cell_type": "code",
   "execution_count": 16,
   "metadata": {
    "collapsed": false
   },
   "outputs": [
    {
     "name": "stdout",
     "output_type": "stream",
     "text": [
      "Age\n",
      "30-39    0.202527\n",
      "45-55    0.240882\n",
      "other    0.229749\n",
      "Name: default payment next month, dtype: float64\n"
     ]
    }
   ],
   "source": [
    "def Age(x):\n",
    "    if x>=30 and x<=39:\n",
    "        return '30-39'\n",
    "    elif x>=45 and x<=55:\n",
    "        return '45-55'\n",
    "    else:\n",
    "        return 'other'\n",
    "#Applying it\n",
    "data['Age'] = data['AGE'].apply(lambda x : Age(x))\n",
    "print(data.groupby(['Age'])['default payment next month'].mean())"
   ]
  },
  {
   "cell_type": "code",
   "execution_count": 17,
   "metadata": {
    "collapsed": false
   },
   "outputs": [
    {
     "name": "stdout",
     "output_type": "stream",
     "text": [
      "SEX     Education    Age  \n",
      "Female  High school  30-39    0.227273\n",
      "                     45-55    0.257586\n",
      "                     other    0.262743\n",
      "        Other        30-39    0.199171\n",
      "                     45-55    0.233058\n",
      "                     other    0.223894\n",
      "Name: default payment next month, dtype: float64\n"
     ]
    }
   ],
   "source": [
    "print(data.groupby(['SEX', 'Education', 'Age'])['default payment next month'].mean())"
   ]
  },
  {
   "cell_type": "code",
   "execution_count": 18,
   "metadata": {
    "collapsed": false
   },
   "outputs": [
    {
     "name": "stdout",
     "output_type": "stream",
     "text": [
      "SEX     Education    Age  \n",
      "Female  High school  30-39    120000\n",
      "                     45-55     80000\n",
      "                     other     80000\n",
      "        Other        30-39    190000\n",
      "                     45-55    170000\n",
      "                     other    120000\n",
      "Name: LIMIT_BAL, dtype: int64\n"
     ]
    }
   ],
   "source": [
    "print(data.groupby(['SEX', 'Education', 'Age'])['LIMIT_BAL'].median())"
   ]
  }
 ],
 "metadata": {
  "kernelspec": {
   "display_name": "Python [Root]",
   "language": "python",
   "name": "Python [Root]"
  },
  "language_info": {
   "codemirror_mode": {
    "name": "ipython",
    "version": 3
   },
   "file_extension": ".py",
   "mimetype": "text/x-python",
   "name": "python",
   "nbconvert_exporter": "python",
   "pygments_lexer": "ipython3",
   "version": "3.5.2"
  }
 },
 "nbformat": 4,
 "nbformat_minor": 0
}
